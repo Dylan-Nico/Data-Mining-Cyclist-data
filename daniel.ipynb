{
 "cells": [
  {
   "cell_type": "markdown",
   "metadata": {},
   "source": [
    "**Table of contents**<a id='toc0_'></a>    \n",
    "- [Table of Contents](#toc1_)    \n",
    "- [Prepare the notebook](#toc2_)    \n",
    "  - [Import necessary libraries](#toc2_1_)    \n",
    "  - [Import the datasets](#toc2_2_)    \n",
    "- [Task 1: Data understanding](#toc3_)    \n",
    "  - [Assessing Data Quality](#toc3_1_)    \n",
    "    - [Verify the datatypes make intuitive sense](#toc3_1_1_)    \n",
    "    - [Check for missing values](#toc3_1_2_)    \n",
    "    - [Check for possible placeholder values](#toc3_1_3_)    \n",
    "    - [Check for duplicates](#toc3_1_4_)    \n",
    "    - [Check for races with more than one road type (cobble, tarmac, gravel)](#toc3_1_5_)    \n",
    "    - [TODO: Check for Inconsistent Values in Categorical Columns?](#toc3_1_6_)    \n",
    "    - [Check Numeric Ranges](#toc3_1_7_)    \n",
    "  - [Data Distribution](#toc3_2_)    \n",
    "    - [Identify outliers using IQR](#toc3_2_1_)    \n",
    "    - [Histograms](#toc3_2_2_)    \n",
    "- [Task 2: Data Transformation](#toc4_)    \n",
    "\n",
    "<!-- vscode-jupyter-toc-config\n",
    "\tnumbering=false\n",
    "\tanchor=true\n",
    "\tflat=false\n",
    "\tminLevel=1\n",
    "\tmaxLevel=6\n",
    "\t/vscode-jupyter-toc-config -->\n",
    "<!-- THIS CELL WILL BE REPLACED ON TOC UPDATE. DO NOT WRITE YOUR TEXT IN THIS CELL -->"
   ]
  },
  {
   "cell_type": "markdown",
   "metadata": {},
   "source": [
    "# <a id='toc2_'></a>[Prepare the notebook](#toc0_)"
   ]
  },
  {
   "cell_type": "markdown",
   "metadata": {},
   "source": [
    "## <a id='toc2_1_'></a>[Import necessary libraries](#toc0_)"
   ]
  },
  {
   "cell_type": "code",
   "execution_count": 31,
   "metadata": {},
   "outputs": [
    {
     "name": "stdout",
     "output_type": "stream",
     "text": [
      "Requirement already satisfied: pandas in c:\\users\\danie\\appdata\\local\\programs\\python\\python311\\lib\\site-packages (2.1.1)\n",
      "Requirement already satisfied: numpy>=1.23.2 in c:\\users\\danie\\appdata\\local\\programs\\python\\python311\\lib\\site-packages (from pandas) (1.25.2)\n",
      "Requirement already satisfied: python-dateutil>=2.8.2 in c:\\users\\danie\\appdata\\local\\programs\\python\\python311\\lib\\site-packages (from pandas) (2.8.2)\n",
      "Requirement already satisfied: pytz>=2020.1 in c:\\users\\danie\\appdata\\local\\programs\\python\\python311\\lib\\site-packages (from pandas) (2023.3.post1)\n",
      "Requirement already satisfied: tzdata>=2022.1 in c:\\users\\danie\\appdata\\local\\programs\\python\\python311\\lib\\site-packages (from pandas) (2023.3)\n",
      "Requirement already satisfied: six>=1.5 in c:\\users\\danie\\appdata\\local\\programs\\python\\python311\\lib\\site-packages (from python-dateutil>=2.8.2->pandas) (1.16.0)\n"
     ]
    },
    {
     "name": "stderr",
     "output_type": "stream",
     "text": [
      "\n",
      "[notice] A new release of pip is available: 23.2.1 -> 24.2\n",
      "[notice] To update, run: python.exe -m pip install --upgrade pip\n"
     ]
    },
    {
     "name": "stdout",
     "output_type": "stream",
     "text": [
      "Requirement already satisfied: numpy in c:\\users\\danie\\appdata\\local\\programs\\python\\python311\\lib\\site-packages (1.25.2)\n"
     ]
    },
    {
     "name": "stderr",
     "output_type": "stream",
     "text": [
      "\n",
      "[notice] A new release of pip is available: 23.2.1 -> 24.2\n",
      "[notice] To update, run: python.exe -m pip install --upgrade pip\n"
     ]
    },
    {
     "name": "stdout",
     "output_type": "stream",
     "text": [
      "Requirement already satisfied: matplotlib in c:\\users\\danie\\appdata\\local\\programs\\python\\python311\\lib\\site-packages (3.8.0)\n",
      "Requirement already satisfied: contourpy>=1.0.1 in c:\\users\\danie\\appdata\\local\\programs\\python\\python311\\lib\\site-packages (from matplotlib) (1.1.1)\n",
      "Requirement already satisfied: cycler>=0.10 in c:\\users\\danie\\appdata\\local\\programs\\python\\python311\\lib\\site-packages (from matplotlib) (0.12.0)\n",
      "Requirement already satisfied: fonttools>=4.22.0 in c:\\users\\danie\\appdata\\local\\programs\\python\\python311\\lib\\site-packages (from matplotlib) (4.43.0)\n",
      "Requirement already satisfied: kiwisolver>=1.0.1 in c:\\users\\danie\\appdata\\local\\programs\\python\\python311\\lib\\site-packages (from matplotlib) (1.4.5)\n",
      "Requirement already satisfied: numpy<2,>=1.21 in c:\\users\\danie\\appdata\\local\\programs\\python\\python311\\lib\\site-packages (from matplotlib) (1.25.2)\n",
      "Requirement already satisfied: packaging>=20.0 in c:\\users\\danie\\appdata\\local\\programs\\python\\python311\\lib\\site-packages (from matplotlib) (23.1)\n",
      "Requirement already satisfied: pillow>=6.2.0 in c:\\users\\danie\\appdata\\local\\programs\\python\\python311\\lib\\site-packages (from matplotlib) (9.2.0)\n",
      "Requirement already satisfied: pyparsing>=2.3.1 in c:\\users\\danie\\appdata\\local\\programs\\python\\python311\\lib\\site-packages (from matplotlib) (3.1.1)\n",
      "Requirement already satisfied: python-dateutil>=2.7 in c:\\users\\danie\\appdata\\local\\programs\\python\\python311\\lib\\site-packages (from matplotlib) (2.8.2)\n",
      "Requirement already satisfied: six>=1.5 in c:\\users\\danie\\appdata\\local\\programs\\python\\python311\\lib\\site-packages (from python-dateutil>=2.7->matplotlib) (1.16.0)\n"
     ]
    },
    {
     "name": "stderr",
     "output_type": "stream",
     "text": [
      "\n",
      "[notice] A new release of pip is available: 23.2.1 -> 24.2\n",
      "[notice] To update, run: python.exe -m pip install --upgrade pip\n"
     ]
    },
    {
     "name": "stdout",
     "output_type": "stream",
     "text": [
      "Requirement already satisfied: seaborn in c:\\users\\danie\\appdata\\local\\programs\\python\\python311\\lib\\site-packages (0.13.0)\n",
      "Requirement already satisfied: numpy!=1.24.0,>=1.20 in c:\\users\\danie\\appdata\\local\\programs\\python\\python311\\lib\\site-packages (from seaborn) (1.25.2)\n",
      "Requirement already satisfied: pandas>=1.2 in c:\\users\\danie\\appdata\\local\\programs\\python\\python311\\lib\\site-packages (from seaborn) (2.1.1)\n",
      "Requirement already satisfied: matplotlib!=3.6.1,>=3.3 in c:\\users\\danie\\appdata\\local\\programs\\python\\python311\\lib\\site-packages (from seaborn) (3.8.0)\n",
      "Requirement already satisfied: contourpy>=1.0.1 in c:\\users\\danie\\appdata\\local\\programs\\python\\python311\\lib\\site-packages (from matplotlib!=3.6.1,>=3.3->seaborn) (1.1.1)\n",
      "Requirement already satisfied: cycler>=0.10 in c:\\users\\danie\\appdata\\local\\programs\\python\\python311\\lib\\site-packages (from matplotlib!=3.6.1,>=3.3->seaborn) (0.12.0)\n",
      "Requirement already satisfied: fonttools>=4.22.0 in c:\\users\\danie\\appdata\\local\\programs\\python\\python311\\lib\\site-packages (from matplotlib!=3.6.1,>=3.3->seaborn) (4.43.0)\n",
      "Requirement already satisfied: kiwisolver>=1.0.1 in c:\\users\\danie\\appdata\\local\\programs\\python\\python311\\lib\\site-packages (from matplotlib!=3.6.1,>=3.3->seaborn) (1.4.5)\n",
      "Requirement already satisfied: packaging>=20.0 in c:\\users\\danie\\appdata\\local\\programs\\python\\python311\\lib\\site-packages (from matplotlib!=3.6.1,>=3.3->seaborn) (23.1)\n",
      "Requirement already satisfied: pillow>=6.2.0 in c:\\users\\danie\\appdata\\local\\programs\\python\\python311\\lib\\site-packages (from matplotlib!=3.6.1,>=3.3->seaborn) (9.2.0)\n",
      "Requirement already satisfied: pyparsing>=2.3.1 in c:\\users\\danie\\appdata\\local\\programs\\python\\python311\\lib\\site-packages (from matplotlib!=3.6.1,>=3.3->seaborn) (3.1.1)\n",
      "Requirement already satisfied: python-dateutil>=2.7 in c:\\users\\danie\\appdata\\local\\programs\\python\\python311\\lib\\site-packages (from matplotlib!=3.6.1,>=3.3->seaborn) (2.8.2)\n",
      "Requirement already satisfied: pytz>=2020.1 in c:\\users\\danie\\appdata\\local\\programs\\python\\python311\\lib\\site-packages (from pandas>=1.2->seaborn) (2023.3.post1)\n",
      "Requirement already satisfied: tzdata>=2022.1 in c:\\users\\danie\\appdata\\local\\programs\\python\\python311\\lib\\site-packages (from pandas>=1.2->seaborn) (2023.3)\n",
      "Requirement already satisfied: six>=1.5 in c:\\users\\danie\\appdata\\local\\programs\\python\\python311\\lib\\site-packages (from python-dateutil>=2.7->matplotlib!=3.6.1,>=3.3->seaborn) (1.16.0)\n"
     ]
    },
    {
     "name": "stderr",
     "output_type": "stream",
     "text": [
      "\n",
      "[notice] A new release of pip is available: 23.2.1 -> 24.2\n",
      "[notice] To update, run: python.exe -m pip install --upgrade pip\n"
     ]
    }
   ],
   "source": [
    "!pip install pandas\n",
    "!pip install numpy\n",
    "!pip install matplotlib\n",
    "!pip install seaborn"
   ]
  },
  {
   "cell_type": "code",
   "execution_count": null,
   "metadata": {},
   "outputs": [],
   "source": [
    "import pandas as pd\n",
    "import matplotlib.pyplot as plt\n",
    "import seaborn as sns"
   ]
  },
  {
   "cell_type": "markdown",
   "metadata": {},
   "source": [
    "## <a id='toc2_2_'></a>[Import the datasets](#toc0_)"
   ]
  },
  {
   "cell_type": "code",
   "execution_count": null,
   "metadata": {},
   "outputs": [],
   "source": [
    "# Load the dataset\n",
    "df_races = pd.read_csv('dataset/races.csv')\n",
    "df_cyclists = pd.read_csv('dataset/cyclists.csv')"
   ]
  },
  {
   "cell_type": "markdown",
   "metadata": {},
   "source": [
    "# <a id='toc3_'></a>[Task 1: Data understanding](#toc0_)"
   ]
  },
  {
   "cell_type": "markdown",
   "metadata": {},
   "source": [
    "## <a id='toc3_1_'></a>[Assessing Data Quality](#toc0_)"
   ]
  },
  {
   "cell_type": "markdown",
   "metadata": {},
   "source": [
    "### <a id='toc3_1_1_'></a>[Verify the datatypes make intuitive sense](#toc0_)\n",
    "\n",
    "We'll start by making sure the datatypes make intuitive sense with the data we're seeing. This allows us to catch obvious logical mistakes, such as a numeric value (e.g height or weight) stored as a string."
   ]
  },
  {
   "cell_type": "code",
   "execution_count": 34,
   "metadata": {},
   "outputs": [
    {
     "data": {
      "text/plain": [
       "_url                    object\n",
       "name                    object\n",
       "points                 float64\n",
       "uci_points             float64\n",
       "length                 float64\n",
       "climb_total            float64\n",
       "profile                float64\n",
       "startlist_quality        int64\n",
       "average_temperature    float64\n",
       "date                    object\n",
       "position                 int64\n",
       "cyclist                 object\n",
       "cyclist_age            float64\n",
       "is_tarmac                 bool\n",
       "is_cobbled                bool\n",
       "is_gravel                 bool\n",
       "cyclist_team            object\n",
       "delta                  float64\n",
       "dtype: object"
      ]
     },
     "execution_count": 34,
     "metadata": {},
     "output_type": "execute_result"
    }
   ],
   "source": [
    "df_races.dtypes"
   ]
  },
  {
   "cell_type": "markdown",
   "metadata": {},
   "source": [
    "The datatypes seem to make sense for these columns. This is my understanding of what each column represents:\n",
    "\n",
    "| Column               | Description                                                                                     | Data Type    |\n",
    "|----------------------|-------------------------------------------------------------------------------------------------|--------------|\n",
    "| _url                 | The URL of the stage.                                                                           | object       |\n",
    "| name                 | The name of the event or race.                                                                  | object       |\n",
    "| points               | Points awarded to cyclists for the... stage?                                                    | float64      |\n",
    "| uci_points           | UCI points awarded for the... stage?                                                            | float64      |\n",
    "| length               | The total length the race stage in meters.                                                      | float64      |\n",
    "| climb_total          | The total elevation climbed in the stage in meters.                                             | float64      |\n",
    "| profile              | The terrain profile of the stage? Seems encoded in some magic numeric value                     | float64      |\n",
    "| startlist_quality    | A numeric value representing the quality of the riders at the start of the stage                | float64      |\n",
    "| average_temperature  | The average temperature during the stage.                                                       | float64      |\n",
    "| date                 | The date and time when the race stage occurred.                                                 | object       |\n",
    "| position             | The final position of the cyclist in the race stage.                                            | int64        |\n",
    "| cyclist              | The name of the cyclist competing in the race stage.                                            | object       |\n",
    "| cyclist_age          | The age of the cyclist at the time of the race stage.                                           | float64      |\n",
    "| is_tarmac            | True if race was on tarmac.                                                                     | bool         |\n",
    "| is_cobbled           | True if race was on cobblestone.                                                                | bool         |\n",
    "| is_gravel            | True if race was on gravel.                                                                     | bool         |\n",
    "| cyclist_team         | The name of the cyclist's team.                                                                 | object       |\n",
    "| delta                | Time difference between the cyclist and the winner of the stage, in seconds.                    | float64      |\n"
   ]
  },
  {
   "cell_type": "code",
   "execution_count": 35,
   "metadata": {},
   "outputs": [
    {
     "data": {
      "text/plain": [
       "_url            object\n",
       "name            object\n",
       "birth_year     float64\n",
       "weight         float64\n",
       "height         float64\n",
       "nationality     object\n",
       "dtype: object"
      ]
     },
     "execution_count": 35,
     "metadata": {},
     "output_type": "execute_result"
    }
   ],
   "source": [
    "df_cyclists.dtypes"
   ]
  },
  {
   "cell_type": "markdown",
   "metadata": {},
   "source": [
    "| Column       | Description                                                      | Data Type |\n",
    "|--------------|------------------------------------------------------------------|-----------|\n",
    "| _url         | The URL or of the cyclist                                        | object    |\n",
    "| name         | The full name of the cyclist.                                    | object    |\n",
    "| birth_year   | The birth year of the cyclist.                                   | float64   |\n",
    "| weight       | The weight of the cyclist in kilograms.                          | float64   |\n",
    "| height       | The height of the cyclist in meters.                             | float64   |\n",
    "| nationality  | The nationality of the cyclist.                                  | object    |"
   ]
  },
  {
   "cell_type": "markdown",
   "metadata": {},
   "source": [
    "### <a id='toc3_1_2_'></a>[Check for missing values](#toc0_)"
   ]
  },
  {
   "cell_type": "code",
   "execution_count": 36,
   "metadata": {},
   "outputs": [
    {
     "name": "stdout",
     "output_type": "stream",
     "text": [
      "_url                        0\n",
      "name                        0\n",
      "points                    477\n",
      "uci_points             338779\n",
      "length                      0\n",
      "climb_total            147045\n",
      "profile                148194\n",
      "startlist_quality           0\n",
      "average_temperature    559932\n",
      "date                        0\n",
      "position                    0\n",
      "cyclist                     0\n",
      "cyclist_age               113\n",
      "is_tarmac                   0\n",
      "is_cobbled                  0\n",
      "is_gravel                   0\n",
      "cyclist_team           159161\n",
      "delta                       0\n",
      "dtype: int64\n"
     ]
    }
   ],
   "source": [
    "# Check for missing values in each column\n",
    "missing_values = df_races.isna().sum()\n",
    "\n",
    "# Display the result\n",
    "print(missing_values)"
   ]
  },
  {
   "cell_type": "code",
   "execution_count": null,
   "metadata": {},
   "outputs": [
    {
     "name": "stdout",
     "output_type": "stream",
     "text": [
      "_url              0\n",
      "name              0\n",
      "birth_year       13\n",
      "weight         3056\n",
      "height         2991\n",
      "nationality       1\n",
      "dtype: int64\n"
     ]
    }
   ],
   "source": [
    "# Check for missing values in each column\n",
    "missing_values = df_cyclists.isna().sum()\n",
    "\n",
    "# Display the result\n",
    "print(missing_values)"
   ]
  },
  {
   "cell_type": "markdown",
   "metadata": {},
   "source": [
    "### <a id='toc3_1_3_'></a>[Check for possible placeholder values](#toc0_)"
   ]
  },
  {
   "cell_type": "code",
   "execution_count": null,
   "metadata": {},
   "outputs": [
    {
     "name": "stdout",
     "output_type": "stream",
     "text": [
      "_url                   0\n",
      "name                   0\n",
      "points                 0\n",
      "uci_points             0\n",
      "length                 0\n",
      "climb_total            0\n",
      "profile                0\n",
      "startlist_quality      0\n",
      "average_temperature    0\n",
      "date                   0\n",
      "position               0\n",
      "cyclist                0\n",
      "cyclist_age            0\n",
      "is_tarmac              0\n",
      "is_cobbled             0\n",
      "is_gravel              0\n",
      "cyclist_team           0\n",
      "delta                  0\n",
      "dtype: int64\n"
     ]
    }
   ],
   "source": [
    "# List of potential \"placeholders\"\n",
    "unknown_values = [\"unknown\", \"N/A\", \"none\", \"missing\", \"na\", \"null\", \"\", \"other\"]\n",
    "\n",
    "# Check each column for occurrences of these values (case-insensitive)\n",
    "unknown_counts = df_races.apply(lambda col: col.astype(str).str.lower().isin(unknown_values).sum())\n",
    "\n",
    "# Display the counts of \"placeholder\" values for each column\n",
    "print(unknown_counts)"
   ]
  },
  {
   "cell_type": "markdown",
   "metadata": {},
   "source": [
    "### <a id='toc3_1_4_'></a>[Check for duplicates](#toc0_)"
   ]
  },
  {
   "cell_type": "code",
   "execution_count": null,
   "metadata": {},
   "outputs": [
    {
     "name": "stdout",
     "output_type": "stream",
     "text": [
      "Number of duplicate rows: 0\n"
     ]
    }
   ],
   "source": [
    "# Find duplicate rows\n",
    "duplicate_rows = df_races[df_races.duplicated()]\n",
    "\n",
    "# Count the number of duplicate rows\n",
    "num_duplicate_rows = duplicate_rows.shape[0]\n",
    "\n",
    "# Display the number of duplicate rows (and the rows themselves if count > 0)\n",
    "print(f\"Number of duplicate rows: {num_duplicate_rows}\")\n",
    "if num_duplicate_rows:\n",
    "    print(\"Duplicate rows:\")\n",
    "    print(duplicate_rows)"
   ]
  },
  {
   "cell_type": "markdown",
   "metadata": {},
   "source": [
    "### <a id='toc3_1_5_'></a>[Check for races with more than one road type (cobble, tarmac, gravel)](#toc0_)"
   ]
  },
  {
   "cell_type": "code",
   "execution_count": null,
   "metadata": {},
   "outputs": [
    {
     "name": "stdout",
     "output_type": "stream",
     "text": [
      "Empty DataFrame\n",
      "Columns: [_url, name, points, uci_points, length, climb_total, profile, startlist_quality, average_temperature, date, position, cyclist, cyclist_age, is_tarmac, is_cobbled, is_gravel, cyclist_team, delta]\n",
      "Index: []\n"
     ]
    }
   ],
   "source": [
    "# Checking if more than one road type is True for any record (we don't expect this to happen)\n",
    "multiple_road_types = df_races[(df_races['is_tarmac'] & df_races['is_cobbled']) | \n",
    "                         (df_races['is_tarmac'] & df_races['is_gravel']) | \n",
    "                         (df_races['is_cobbled'] & df_races['is_gravel']) | \n",
    "                         (df_races['is_tarmac'] & df_races['is_gravel'] & df_races['is_cobbled'])]\n",
    "\n",
    "print(multiple_road_types)"
   ]
  },
  {
   "cell_type": "markdown",
   "metadata": {},
   "source": [
    "### <a id='toc3_1_6_'></a>[TODO: Check for Inconsistent Values in Categorical Columns?](#toc0_)"
   ]
  },
  {
   "cell_type": "markdown",
   "metadata": {},
   "source": [
    "### <a id='toc3_1_7_'></a>[Check Numeric Ranges](#toc0_)\n",
    "\n",
    "Make sure numeric values fall within realistic ranges (e.g. length cannot be negative)"
   ]
  },
  {
   "cell_type": "code",
   "execution_count": 41,
   "metadata": {},
   "outputs": [
    {
     "name": "stdout",
     "output_type": "stream",
     "text": [
      "Number of races with negative or zero length: 0\n",
      "Number of races with negative or zero climb total: 0\n",
      "Number of races with negative points: 0\n",
      "Number of races with negative positions: 0\n",
      "Number of races with negative delta times: 86\n"
     ]
    }
   ],
   "source": [
    "negative_lengths = df_races[df_races['length'] <= 0]\n",
    "print(f\"Number of races with negative or zero length: {len(negative_lengths)}\")\n",
    "\n",
    "negative_climbs = df_races[df_races['climb_total'] <= 0]\n",
    "print(f\"Number of races with negative or zero climb total: {len(negative_climbs)}\")\n",
    "\n",
    "negative_points = df_races[(df_races['points'] < 0) | (df_races['uci_points'] < 0)]\n",
    "print(f\"Number of races with negative points: {len(negative_points)}\")\n",
    "\n",
    "negative_positions = df_races[df_races['position'] < 0]\n",
    "print(f\"Number of races with negative positions: {len(negative_positions)}\")\n",
    "\n",
    "negative_delta = df_races[df_races['delta'] < 0]\n",
    "print(f\"Number of races with negative delta times: {len(negative_delta)}\")\n"
   ]
  },
  {
   "cell_type": "code",
   "execution_count": null,
   "metadata": {},
   "outputs": [
    {
     "name": "stdout",
     "output_type": "stream",
     "text": [
      "Number of cyclists with negative or zero weight: 0\n",
      "Number of races with negative or zero height: 0\n"
     ]
    }
   ],
   "source": [
    "negative_weights = df_cyclists[df_cyclists['weight'] <= 0]\n",
    "print(f\"Number of cyclists with negative or zero weight: {len(negative_weights)}\")\n",
    "\n",
    "negative_heights = df_cyclists[df_cyclists['height'] <= 0]\n",
    "print(f\"Number of races with negative or zero height: {len(negative_heights)}\")"
   ]
  },
  {
   "cell_type": "markdown",
   "metadata": {},
   "source": [
    "## <a id='toc3_2_'></a>[Data Distribution](#toc0_)"
   ]
  },
  {
   "cell_type": "markdown",
   "metadata": {},
   "source": [
    "### <a id='toc3_2_1_'></a>[Identify outliers using IQR](#toc0_)"
   ]
  },
  {
   "cell_type": "code",
   "execution_count": 43,
   "metadata": {},
   "outputs": [],
   "source": [
    "def iqr(df: pd.DataFrame, column_name: str) -> pd.DataFrame:\n",
    "    # Use the IQR to find outliers for the column\n",
    "    Q1 = df[column_name].quantile(0.25)\n",
    "    Q3 = df[column_name].quantile(0.75)\n",
    "    IQR = Q3 - Q1\n",
    "\n",
    "    lower_bound = Q1 - 1.5 * IQR\n",
    "    upper_bound = Q3 + 1.5 * IQR\n",
    "    outliers = df[(df[column_name] < lower_bound) | (df[column_name] > upper_bound)]\n",
    "\n",
    "    print(f\"Number of outliers: {len(outliers)}\")\n",
    "\n",
    "    # Plot the data using a boxplot\n",
    "    plt.figure(figsize=(10, 6))\n",
    "    sns.boxplot(x=df[column_name])\n",
    "    plt.title(f'Boxplot of Average {column_name} with IQR Outlier Detection')\n",
    "    plt.xlabel(f'Value for column {column_name}')\n",
    "    plt.show()\n",
    "\n",
    "    return outliers"
   ]
  },
  {
   "cell_type": "code",
   "execution_count": null,
   "metadata": {},
   "outputs": [
    {
     "name": "stdout",
     "output_type": "stream",
     "text": [
      "Number of outliers: 0\n"
     ]
    },
    {
     "data": {
      "image/png": "[encoded data removed]",
      "text/plain": [
       "<Figure size 1000x600 with 1 Axes>"
      ]
     },
     "metadata": {},
     "output_type": "display_data"
    },
    {
     "name": "stdout",
     "output_type": "stream",
     "text": [
      "Number of outliers: 81960\n"
     ]
    },
    {
     "data": {
      "image/png": "[encoded data removed]",
      "text/plain": [
       "<Figure size 1000x600 with 1 Axes>"
      ]
     },
     "metadata": {},
     "output_type": "display_data"
    },
    {
     "name": "stdout",
     "output_type": "stream",
     "text": [
      "                                _url                        name  points  \\\n",
      "426  volta-a-catalunya/1999/prologue  Volta Ciclista a Catalunya    50.0   \n",
      "427  volta-a-catalunya/1999/prologue  Volta Ciclista a Catalunya    50.0   \n",
      "428  volta-a-catalunya/1999/prologue  Volta Ciclista a Catalunya    50.0   \n",
      "429  volta-a-catalunya/1999/prologue  Volta Ciclista a Catalunya    50.0   \n",
      "430  volta-a-catalunya/1999/prologue  Volta Ciclista a Catalunya    50.0   \n",
      "431  volta-a-catalunya/1999/prologue  Volta Ciclista a Catalunya    50.0   \n",
      "432  volta-a-catalunya/1999/prologue  Volta Ciclista a Catalunya    50.0   \n",
      "433  volta-a-catalunya/1999/prologue  Volta Ciclista a Catalunya    50.0   \n",
      "434  volta-a-catalunya/1999/prologue  Volta Ciclista a Catalunya    50.0   \n",
      "435  volta-a-catalunya/1999/prologue  Volta Ciclista a Catalunya    50.0   \n",
      "\n",
      "     uci_points  length  climb_total  profile  startlist_quality  \\\n",
      "426         NaN  8100.0          NaN      NaN                804   \n",
      "427         NaN  8100.0          NaN      NaN                804   \n",
      "428         NaN  8100.0          NaN      NaN                804   \n",
      "429         NaN  8100.0          NaN      NaN                804   \n",
      "430         NaN  8100.0          NaN      NaN                804   \n",
      "431         NaN  8100.0          NaN      NaN                804   \n",
      "432         NaN  8100.0          NaN      NaN                804   \n",
      "433         NaN  8100.0          NaN      NaN                804   \n",
      "434         NaN  8100.0          NaN      NaN                804   \n",
      "435         NaN  8100.0          NaN      NaN                804   \n",
      "\n",
      "     average_temperature                 date  position  \\\n",
      "426                  NaN  1999-06-17 00:10:12         0   \n",
      "427                  NaN  1999-06-17 00:10:15         1   \n",
      "428                  NaN  1999-06-17 00:10:16         2   \n",
      "429                  NaN  1999-06-17 00:10:20         3   \n",
      "430                  NaN  1999-06-17 00:10:23         4   \n",
      "431                  NaN  1999-06-17 00:10:28         5   \n",
      "432                  NaN  1999-06-17 00:10:28         6   \n",
      "433                  NaN  1999-06-17 00:10:30         7   \n",
      "434                  NaN  1999-06-17 00:10:30         8   \n",
      "435                  NaN  1999-06-17 00:10:35         9   \n",
      "\n",
      "                   cyclist  cyclist_age  is_tarmac  is_cobbled  is_gravel  \\\n",
      "426      angel-luis-casero         27.0       True       False      False   \n",
      "427         andrea-peron-1         28.0       True       False      False   \n",
      "428  abraham-olano-manzano         29.0       True       False      False   \n",
      "429        george-hincapie         26.0       True       False      False   \n",
      "430        santos-gonzalez         26.0       True       False      False   \n",
      "431        alvaro-gonzalez         29.0       True       False      False   \n",
      "432       paolo-savoldelli         26.0       True       False      False   \n",
      "433         manuel-beltran         28.0       True       False      False   \n",
      "434          sergei-ivanov         24.0       True       False      False   \n",
      "435       david-etxebarria         26.0       True       False      False   \n",
      "\n",
      "                         cyclist_team  delta  \n",
      "426            euskaltel-euskadi-2010    0.0  \n",
      "427                               NaN    3.0  \n",
      "428                   luxembourg-2013    4.0  \n",
      "429                      ireland-2005    8.0  \n",
      "430                               NaN   11.0  \n",
      "431                               NaN   16.0  \n",
      "432                      denmark-1991   16.0  \n",
      "433  team-saxo-bank-tinkoff-bank-2012   18.0  \n",
      "434            euskaltel-euskadi-2012   18.0  \n",
      "435                   luxembourg-2013   23.0  \n"
     ]
    }
   ],
   "source": [
    "outliers = iqr(df_races, \"average_temperature\")\n",
    "\n",
    "outliers = iqr(df_races, 'length')\n",
    "\n",
    "# Print the first 10 outliers since we actually HAVE outliers here...\n",
    "print(outliers.head(10))"
   ]
  },
  {
   "cell_type": "markdown",
   "metadata": {},
   "source": [
    "### <a id='toc3_2_2_'></a>[Histograms](#toc0_)"
   ]
  },
  {
   "cell_type": "code",
   "execution_count": 45,
   "metadata": {},
   "outputs": [
    {
     "data": {
      "image/png": "[encoded data removed]",
      "text/plain": [
       "<Figure size 1000x600 with 1 Axes>"
      ]
     },
     "metadata": {},
     "output_type": "display_data"
    }
   ],
   "source": [
    "# Cyclist heights\n",
    "\n",
    "plt.figure(figsize=(10, 6))\n",
    "\n",
    "sns.histplot(df_cyclists['height'].dropna(), kde=False, bins=50, color='blue')\n",
    "\n",
    "plt.title('Distribution of heights of cyclists', fontsize=16)\n",
    "plt.xlabel('Height', fontsize=14)\n",
    "plt.ylabel('Frequency', fontsize=14)\n",
    "\n",
    "plt.show()\n"
   ]
  },
  {
   "cell_type": "code",
   "execution_count": null,
   "metadata": {},
   "outputs": [
    {
     "data": {
      "image/png": "[encoded data removed]",
      "text/plain": [
       "<Figure size 1000x600 with 1 Axes>"
      ]
     },
     "metadata": {},
     "output_type": "display_data"
    }
   ],
   "source": [
    "# Cyclist weights\n",
    "\n",
    "plt.figure(figsize=(10, 6))\n",
    "\n",
    "sns.histplot(df_cyclists['weight'].dropna(), kde=False, bins=50, color='blue')\n",
    "\n",
    "plt.title('Distribution of weight of cyclists', fontsize=16)\n",
    "plt.xlabel('Height', fontsize=14)\n",
    "plt.ylabel('Frequency', fontsize=14)\n",
    "\n",
    "plt.show()"
   ]
  },
  {
   "cell_type": "markdown",
   "metadata": {},
   "source": [
    "# <a id='toc4_'></a>[Task 2: Data Transformation](#toc0_)"
   ]
  }
 ],
 "metadata": {
  "kernelspec": {
   "display_name": "Python 3",
   "language": "python",
   "name": "python3"
  },
  "language_info": {
   "codemirror_mode": {
    "name": "ipython",
    "version": 3
   },
   "file_extension": ".py",
   "mimetype": "text/x-python",
   "name": "python",
   "nbconvert_exporter": "python",
   "pygments_lexer": "ipython3",
   "version": "3.11.5"
  }
 },
 "nbformat": 4,
 "nbformat_minor": 2
}
