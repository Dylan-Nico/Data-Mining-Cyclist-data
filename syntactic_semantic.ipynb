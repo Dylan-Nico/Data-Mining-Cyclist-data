{
 "cells": [
  {
   "cell_type": "markdown",
   "metadata": {},
   "source": [
    "## Import library and datasets"
   ]
  },
  {
   "cell_type": "code",
   "execution_count": 3,
   "metadata": {},
   "outputs": [],
   "source": [
    "import pandas as pd\n",
    "import matplotlib.pyplot as plt\n",
    "import seaborn as sns\n",
    "import scipy.stats as stats\n",
    "import numpy as np\n",
    "import re\n",
    "import unicodedata\n",
    "import pycountry\n",
    "import pycountry_convert as pc"
   ]
  },
  {
   "cell_type": "code",
   "execution_count": 4,
   "metadata": {},
   "outputs": [],
   "source": [
    "df_races = pd.read_csv('dataset/races.csv')\n",
    "df_cyclists = pd.read_csv('dataset/cyclists.csv')"
   ]
  },
  {
   "cell_type": "markdown",
   "metadata": {},
   "source": [
    "## Races - Syntactic and Semantic accuracy + info and descriptive statistic"
   ]
  },
  {
   "cell_type": "code",
   "execution_count": 5,
   "metadata": {},
   "outputs": [
    {
     "data": {
      "text/html": [
       "<div>\n",
       "<style scoped>\n",
       "    .dataframe tbody tr th:only-of-type {\n",
       "        vertical-align: middle;\n",
       "    }\n",
       "\n",
       "    .dataframe tbody tr th {\n",
       "        vertical-align: top;\n",
       "    }\n",
       "\n",
       "    .dataframe thead th {\n",
       "        text-align: right;\n",
       "    }\n",
       "</style>\n",
       "<table border=\"1\" class=\"dataframe\">\n",
       "  <thead>\n",
       "    <tr style=\"text-align: right;\">\n",
       "      <th></th>\n",
       "      <th>_url</th>\n",
       "      <th>name</th>\n",
       "      <th>points</th>\n",
       "      <th>uci_points</th>\n",
       "      <th>length</th>\n",
       "      <th>climb_total</th>\n",
       "      <th>profile</th>\n",
       "      <th>startlist_quality</th>\n",
       "      <th>average_temperature</th>\n",
       "      <th>date</th>\n",
       "      <th>position</th>\n",
       "      <th>cyclist</th>\n",
       "      <th>cyclist_age</th>\n",
       "      <th>is_tarmac</th>\n",
       "      <th>is_cobbled</th>\n",
       "      <th>is_gravel</th>\n",
       "      <th>cyclist_team</th>\n",
       "      <th>delta</th>\n",
       "    </tr>\n",
       "  </thead>\n",
       "  <tbody>\n",
       "    <tr>\n",
       "      <th>0</th>\n",
       "      <td>tour-de-france/1978/stage-6</td>\n",
       "      <td>Tour de France</td>\n",
       "      <td>100.0</td>\n",
       "      <td>NaN</td>\n",
       "      <td>162000.0</td>\n",
       "      <td>1101.0</td>\n",
       "      <td>1.0</td>\n",
       "      <td>1241</td>\n",
       "      <td>NaN</td>\n",
       "      <td>1978-07-05 04:02:24</td>\n",
       "      <td>0</td>\n",
       "      <td>sean-kelly</td>\n",
       "      <td>22.0</td>\n",
       "      <td>True</td>\n",
       "      <td>False</td>\n",
       "      <td>False</td>\n",
       "      <td>vini-ricordi-pinarello-sidermec-1986</td>\n",
       "      <td>0.0</td>\n",
       "    </tr>\n",
       "    <tr>\n",
       "      <th>1</th>\n",
       "      <td>tour-de-france/1978/stage-6</td>\n",
       "      <td>Tour de France</td>\n",
       "      <td>100.0</td>\n",
       "      <td>NaN</td>\n",
       "      <td>162000.0</td>\n",
       "      <td>1101.0</td>\n",
       "      <td>1.0</td>\n",
       "      <td>1241</td>\n",
       "      <td>NaN</td>\n",
       "      <td>1978-07-05 04:02:24</td>\n",
       "      <td>1</td>\n",
       "      <td>gerrie-knetemann</td>\n",
       "      <td>27.0</td>\n",
       "      <td>True</td>\n",
       "      <td>False</td>\n",
       "      <td>False</td>\n",
       "      <td>norway-1987</td>\n",
       "      <td>0.0</td>\n",
       "    </tr>\n",
       "    <tr>\n",
       "      <th>2</th>\n",
       "      <td>tour-de-france/1978/stage-6</td>\n",
       "      <td>Tour de France</td>\n",
       "      <td>100.0</td>\n",
       "      <td>NaN</td>\n",
       "      <td>162000.0</td>\n",
       "      <td>1101.0</td>\n",
       "      <td>1.0</td>\n",
       "      <td>1241</td>\n",
       "      <td>NaN</td>\n",
       "      <td>1978-07-05 04:02:24</td>\n",
       "      <td>2</td>\n",
       "      <td>rene-bittinger</td>\n",
       "      <td>24.0</td>\n",
       "      <td>True</td>\n",
       "      <td>False</td>\n",
       "      <td>False</td>\n",
       "      <td>NaN</td>\n",
       "      <td>0.0</td>\n",
       "    </tr>\n",
       "    <tr>\n",
       "      <th>3</th>\n",
       "      <td>tour-de-france/1978/stage-6</td>\n",
       "      <td>Tour de France</td>\n",
       "      <td>100.0</td>\n",
       "      <td>NaN</td>\n",
       "      <td>162000.0</td>\n",
       "      <td>1101.0</td>\n",
       "      <td>1.0</td>\n",
       "      <td>1241</td>\n",
       "      <td>NaN</td>\n",
       "      <td>1978-07-05 04:02:24</td>\n",
       "      <td>3</td>\n",
       "      <td>joseph-bruyere</td>\n",
       "      <td>30.0</td>\n",
       "      <td>True</td>\n",
       "      <td>False</td>\n",
       "      <td>False</td>\n",
       "      <td>navigare-blue-storm-1993</td>\n",
       "      <td>0.0</td>\n",
       "    </tr>\n",
       "    <tr>\n",
       "      <th>4</th>\n",
       "      <td>tour-de-france/1978/stage-6</td>\n",
       "      <td>Tour de France</td>\n",
       "      <td>100.0</td>\n",
       "      <td>NaN</td>\n",
       "      <td>162000.0</td>\n",
       "      <td>1101.0</td>\n",
       "      <td>1.0</td>\n",
       "      <td>1241</td>\n",
       "      <td>NaN</td>\n",
       "      <td>1978-07-05 04:02:24</td>\n",
       "      <td>4</td>\n",
       "      <td>sven-ake-nilsson</td>\n",
       "      <td>27.0</td>\n",
       "      <td>True</td>\n",
       "      <td>False</td>\n",
       "      <td>False</td>\n",
       "      <td>spain-1991</td>\n",
       "      <td>0.0</td>\n",
       "    </tr>\n",
       "  </tbody>\n",
       "</table>\n",
       "</div>"
      ],
      "text/plain": [
       "                          _url            name  points  uci_points    length  \\\n",
       "0  tour-de-france/1978/stage-6  Tour de France   100.0         NaN  162000.0   \n",
       "1  tour-de-france/1978/stage-6  Tour de France   100.0         NaN  162000.0   \n",
       "2  tour-de-france/1978/stage-6  Tour de France   100.0         NaN  162000.0   \n",
       "3  tour-de-france/1978/stage-6  Tour de France   100.0         NaN  162000.0   \n",
       "4  tour-de-france/1978/stage-6  Tour de France   100.0         NaN  162000.0   \n",
       "\n",
       "   climb_total  profile  startlist_quality  average_temperature  \\\n",
       "0       1101.0      1.0               1241                  NaN   \n",
       "1       1101.0      1.0               1241                  NaN   \n",
       "2       1101.0      1.0               1241                  NaN   \n",
       "3       1101.0      1.0               1241                  NaN   \n",
       "4       1101.0      1.0               1241                  NaN   \n",
       "\n",
       "                  date  position           cyclist  cyclist_age  is_tarmac  \\\n",
       "0  1978-07-05 04:02:24         0        sean-kelly         22.0       True   \n",
       "1  1978-07-05 04:02:24         1  gerrie-knetemann         27.0       True   \n",
       "2  1978-07-05 04:02:24         2    rene-bittinger         24.0       True   \n",
       "3  1978-07-05 04:02:24         3    joseph-bruyere         30.0       True   \n",
       "4  1978-07-05 04:02:24         4  sven-ake-nilsson         27.0       True   \n",
       "\n",
       "   is_cobbled  is_gravel                          cyclist_team  delta  \n",
       "0       False      False  vini-ricordi-pinarello-sidermec-1986    0.0  \n",
       "1       False      False                           norway-1987    0.0  \n",
       "2       False      False                                   NaN    0.0  \n",
       "3       False      False              navigare-blue-storm-1993    0.0  \n",
       "4       False      False                            spain-1991    0.0  "
      ]
     },
     "execution_count": 5,
     "metadata": {},
     "output_type": "execute_result"
    }
   ],
   "source": [
    "df_races.head()"
   ]
  },
  {
   "cell_type": "code",
   "execution_count": 6,
   "metadata": {},
   "outputs": [
    {
     "name": "stdout",
     "output_type": "stream",
     "text": [
      "<class 'pandas.core.frame.DataFrame'>\n",
      "RangeIndex: 589865 entries, 0 to 589864\n",
      "Data columns (total 18 columns):\n",
      " #   Column               Non-Null Count   Dtype  \n",
      "---  ------               --------------   -----  \n",
      " 0   _url                 589865 non-null  object \n",
      " 1   name                 589865 non-null  object \n",
      " 2   points               589388 non-null  float64\n",
      " 3   uci_points           251086 non-null  float64\n",
      " 4   length               589865 non-null  float64\n",
      " 5   climb_total          442820 non-null  float64\n",
      " 6   profile              441671 non-null  float64\n",
      " 7   startlist_quality    589865 non-null  int64  \n",
      " 8   average_temperature  29933 non-null   float64\n",
      " 9   date                 589865 non-null  object \n",
      " 10  position             589865 non-null  int64  \n",
      " 11  cyclist              589865 non-null  object \n",
      " 12  cyclist_age          589752 non-null  float64\n",
      " 13  is_tarmac            589865 non-null  bool   \n",
      " 14  is_cobbled           589865 non-null  bool   \n",
      " 15  is_gravel            589865 non-null  bool   \n",
      " 16  cyclist_team         430704 non-null  object \n",
      " 17  delta                589865 non-null  float64\n",
      "dtypes: bool(3), float64(8), int64(2), object(5)\n",
      "memory usage: 69.2+ MB\n"
     ]
    }
   ],
   "source": [
    "df_races.info()"
   ]
  },
  {
   "cell_type": "code",
   "execution_count": 7,
   "metadata": {},
   "outputs": [
    {
     "data": {
      "text/plain": [
       "(589865, 18)"
      ]
     },
     "execution_count": 7,
     "metadata": {},
     "output_type": "execute_result"
    }
   ],
   "source": [
    "df_races.shape"
   ]
  },
  {
   "cell_type": "code",
   "execution_count": 8,
   "metadata": {},
   "outputs": [
    {
     "data": {
      "text/html": [
       "<div>\n",
       "<style scoped>\n",
       "    .dataframe tbody tr th:only-of-type {\n",
       "        vertical-align: middle;\n",
       "    }\n",
       "\n",
       "    .dataframe tbody tr th {\n",
       "        vertical-align: top;\n",
       "    }\n",
       "\n",
       "    .dataframe thead th {\n",
       "        text-align: right;\n",
       "    }\n",
       "</style>\n",
       "<table border=\"1\" class=\"dataframe\">\n",
       "  <thead>\n",
       "    <tr style=\"text-align: right;\">\n",
       "      <th></th>\n",
       "      <th>points</th>\n",
       "      <th>uci_points</th>\n",
       "      <th>length</th>\n",
       "      <th>climb_total</th>\n",
       "      <th>profile</th>\n",
       "      <th>startlist_quality</th>\n",
       "      <th>average_temperature</th>\n",
       "      <th>position</th>\n",
       "      <th>cyclist_age</th>\n",
       "      <th>delta</th>\n",
       "    </tr>\n",
       "  </thead>\n",
       "  <tbody>\n",
       "    <tr>\n",
       "      <th>count</th>\n",
       "      <td>589388.000000</td>\n",
       "      <td>251086.000000</td>\n",
       "      <td>589865.000000</td>\n",
       "      <td>442820.000000</td>\n",
       "      <td>441671.000000</td>\n",
       "      <td>589865.000000</td>\n",
       "      <td>29933.000000</td>\n",
       "      <td>589865.000000</td>\n",
       "      <td>589752.000000</td>\n",
       "      <td>589865.000000</td>\n",
       "    </tr>\n",
       "    <tr>\n",
       "      <th>mean</th>\n",
       "      <td>89.221635</td>\n",
       "      <td>74.601547</td>\n",
       "      <td>166776.180584</td>\n",
       "      <td>2330.469215</td>\n",
       "      <td>2.611611</td>\n",
       "      <td>1101.161178</td>\n",
       "      <td>21.731768</td>\n",
       "      <td>74.219491</td>\n",
       "      <td>28.486208</td>\n",
       "      <td>418.292794</td>\n",
       "    </tr>\n",
       "    <tr>\n",
       "      <th>std</th>\n",
       "      <td>54.435330</td>\n",
       "      <td>100.947962</td>\n",
       "      <td>64545.605664</td>\n",
       "      <td>1375.710722</td>\n",
       "      <td>1.491741</td>\n",
       "      <td>380.586928</td>\n",
       "      <td>5.884761</td>\n",
       "      <td>48.404023</td>\n",
       "      <td>3.855631</td>\n",
       "      <td>842.961596</td>\n",
       "    </tr>\n",
       "    <tr>\n",
       "      <th>min</th>\n",
       "      <td>18.000000</td>\n",
       "      <td>6.000000</td>\n",
       "      <td>1000.000000</td>\n",
       "      <td>2.000000</td>\n",
       "      <td>1.000000</td>\n",
       "      <td>115.000000</td>\n",
       "      <td>10.000000</td>\n",
       "      <td>0.000000</td>\n",
       "      <td>13.000000</td>\n",
       "      <td>-6906.000000</td>\n",
       "    </tr>\n",
       "    <tr>\n",
       "      <th>25%</th>\n",
       "      <td>50.000000</td>\n",
       "      <td>16.000000</td>\n",
       "      <td>152500.000000</td>\n",
       "      <td>1309.000000</td>\n",
       "      <td>1.000000</td>\n",
       "      <td>844.000000</td>\n",
       "      <td>17.000000</td>\n",
       "      <td>32.000000</td>\n",
       "      <td>26.000000</td>\n",
       "      <td>10.000000</td>\n",
       "    </tr>\n",
       "    <tr>\n",
       "      <th>50%</th>\n",
       "      <td>80.000000</td>\n",
       "      <td>60.000000</td>\n",
       "      <td>178200.000000</td>\n",
       "      <td>2255.000000</td>\n",
       "      <td>2.000000</td>\n",
       "      <td>988.000000</td>\n",
       "      <td>22.000000</td>\n",
       "      <td>70.000000</td>\n",
       "      <td>28.000000</td>\n",
       "      <td>156.000000</td>\n",
       "    </tr>\n",
       "    <tr>\n",
       "      <th>75%</th>\n",
       "      <td>100.000000</td>\n",
       "      <td>100.000000</td>\n",
       "      <td>203500.000000</td>\n",
       "      <td>3273.000000</td>\n",
       "      <td>4.000000</td>\n",
       "      <td>1309.000000</td>\n",
       "      <td>26.000000</td>\n",
       "      <td>112.000000</td>\n",
       "      <td>31.000000</td>\n",
       "      <td>624.000000</td>\n",
       "    </tr>\n",
       "    <tr>\n",
       "      <th>max</th>\n",
       "      <td>350.000000</td>\n",
       "      <td>800.000000</td>\n",
       "      <td>338000.000000</td>\n",
       "      <td>6974.000000</td>\n",
       "      <td>5.000000</td>\n",
       "      <td>2047.000000</td>\n",
       "      <td>36.000000</td>\n",
       "      <td>209.000000</td>\n",
       "      <td>56.000000</td>\n",
       "      <td>61547.000000</td>\n",
       "    </tr>\n",
       "  </tbody>\n",
       "</table>\n",
       "</div>"
      ],
      "text/plain": [
       "              points     uci_points         length    climb_total  \\\n",
       "count  589388.000000  251086.000000  589865.000000  442820.000000   \n",
       "mean       89.221635      74.601547  166776.180584    2330.469215   \n",
       "std        54.435330     100.947962   64545.605664    1375.710722   \n",
       "min        18.000000       6.000000    1000.000000       2.000000   \n",
       "25%        50.000000      16.000000  152500.000000    1309.000000   \n",
       "50%        80.000000      60.000000  178200.000000    2255.000000   \n",
       "75%       100.000000     100.000000  203500.000000    3273.000000   \n",
       "max       350.000000     800.000000  338000.000000    6974.000000   \n",
       "\n",
       "             profile  startlist_quality  average_temperature       position  \\\n",
       "count  441671.000000      589865.000000         29933.000000  589865.000000   \n",
       "mean        2.611611        1101.161178            21.731768      74.219491   \n",
       "std         1.491741         380.586928             5.884761      48.404023   \n",
       "min         1.000000         115.000000            10.000000       0.000000   \n",
       "25%         1.000000         844.000000            17.000000      32.000000   \n",
       "50%         2.000000         988.000000            22.000000      70.000000   \n",
       "75%         4.000000        1309.000000            26.000000     112.000000   \n",
       "max         5.000000        2047.000000            36.000000     209.000000   \n",
       "\n",
       "         cyclist_age          delta  \n",
       "count  589752.000000  589865.000000  \n",
       "mean       28.486208     418.292794  \n",
       "std         3.855631     842.961596  \n",
       "min        13.000000   -6906.000000  \n",
       "25%        26.000000      10.000000  \n",
       "50%        28.000000     156.000000  \n",
       "75%        31.000000     624.000000  \n",
       "max        56.000000   61547.000000  "
      ]
     },
     "execution_count": 8,
     "metadata": {},
     "output_type": "execute_result"
    }
   ],
   "source": [
    "df_races.describe()"
   ]
  },
  {
   "cell_type": "markdown",
   "metadata": {},
   "source": [
    "### Duplictaes"
   ]
  },
  {
   "cell_type": "code",
   "execution_count": 9,
   "metadata": {},
   "outputs": [
    {
     "name": "stdout",
     "output_type": "stream",
     "text": [
      "Number of duplicate rows: 0\n"
     ]
    }
   ],
   "source": [
    "df_races = df_races = pd.read_csv('dataset/races.csv')\n",
    "\n",
    "num_duplicates = df_races.duplicated().sum()\n",
    "print(f'Number of duplicate rows: {num_duplicates}')"
   ]
  },
  {
   "cell_type": "markdown",
   "metadata": {},
   "source": [
    "### _url - syntactic accuracy"
   ]
  },
  {
   "cell_type": "code",
   "execution_count": 10,
   "metadata": {},
   "outputs": [
    {
     "data": {
      "text/plain": [
       "{'Total Invalid URLs': 0, 'Sample of Invalid URLs (if any)': 'None'}"
      ]
     },
     "execution_count": 10,
     "metadata": {},
     "output_type": "execute_result"
    }
   ],
   "source": [
    "url_pattern = re.compile(r'^[a-zA-Z0-9-]+/\\d{4}/(stage-[a-zA-Z0-9-]+|prologue|results|result)$')\n",
    "url_syntax_validity = df_races['_url'].apply(lambda x: bool(url_pattern.match(x)))\n",
    "\n",
    "final_invalid_urls = df_races.loc[~url_syntax_validity, '_url']\n",
    "\n",
    "final_invalid_url_details = final_invalid_urls.value_counts()\n",
    "\n",
    "final_syntax_analysis_results = {\n",
    "    \"Total Invalid URLs\": final_invalid_urls.size,\n",
    "    \"Sample of Invalid URLs (if any)\": final_invalid_url_details.head(10).to_dict() if final_invalid_urls.size > 0 else \"None\"\n",
    "}\n",
    "\n",
    "final_syntax_analysis_results"
   ]
  },
  {
   "cell_type": "markdown",
   "metadata": {},
   "source": [
    "### _url - semantic accuracy"
   ]
  },
  {
   "cell_type": "code",
   "execution_count": 11,
   "metadata": {},
   "outputs": [],
   "source": [
    "def remove_accents(input_str):\n",
    "    nfkd_form = unicodedata.normalize('NFKD', input_str)\n",
    "    return ''.join([c for c in nfkd_form if not unicodedata.combining(c)])\n",
    "\n",
    "def extract_keywords(text):\n",
    "    text = remove_accents(text)\n",
    "    return set(re.findall(r'\\b\\w+\\b', text))\n",
    "\n",
    "url_parts = df_races['_url'].str.extract(r'(?P<event>[\\w-]+)/(?P<year>\\d{4})/(?P<stage>[\\w-]+)')\n",
    "\n",
    "df_races['normalized_name'] = df_races['name'].str.lower().apply(remove_accents).str.replace(' ', '-').str.replace(r'[^a-zA-Z0-9-]', '', regex=True)\n",
    "df_races['event_keywords'] = url_parts['event'].str.lower().apply(remove_accents).apply(extract_keywords)\n",
    "df_races['name_keywords'] = df_races['normalized_name'].apply(extract_keywords)\n",
    "\n",
    "keyword_match = df_races.apply(lambda row: bool(row['event_keywords'] & row['name_keywords']), axis=1)\n",
    "\n",
    "keyword_match_summary = {\n",
    "    \"Keyword Match Consistency\": keyword_match.value_counts().to_dict()\n",
    "}\n"
   ]
  },
  {
   "cell_type": "code",
   "execution_count": 12,
   "metadata": {},
   "outputs": [
    {
     "name": "stdout",
     "output_type": "stream",
     "text": [
      "Sample Rows with Remaining Event Inconsistencies (After Keyword Matching)\n"
     ]
    },
    {
     "data": {
      "text/html": [
       "<div>\n",
       "<style scoped>\n",
       "    .dataframe tbody tr th:only-of-type {\n",
       "        vertical-align: middle;\n",
       "    }\n",
       "\n",
       "    .dataframe tbody tr th {\n",
       "        vertical-align: top;\n",
       "    }\n",
       "\n",
       "    .dataframe thead th {\n",
       "        text-align: right;\n",
       "    }\n",
       "</style>\n",
       "<table border=\"1\" class=\"dataframe\">\n",
       "  <thead>\n",
       "    <tr style=\"text-align: right;\">\n",
       "      <th></th>\n",
       "      <th>_url</th>\n",
       "      <th>name</th>\n",
       "      <th>normalized_name</th>\n",
       "      <th>event_keywords</th>\n",
       "      <th>name_keywords</th>\n",
       "    </tr>\n",
       "  </thead>\n",
       "  <tbody>\n",
       "    <tr>\n",
       "      <th>6541</th>\n",
       "      <td>itzulia-basque-country/2007/stage-3</td>\n",
       "      <td>Vuelta al País Vasco</td>\n",
       "      <td>vuelta-al-pais-vasco</td>\n",
       "      <td>{itzulia, basque, country}</td>\n",
       "      <td>{pais, vuelta, al, vasco}</td>\n",
       "    </tr>\n",
       "    <tr>\n",
       "      <th>6542</th>\n",
       "      <td>itzulia-basque-country/2007/stage-3</td>\n",
       "      <td>Vuelta al País Vasco</td>\n",
       "      <td>vuelta-al-pais-vasco</td>\n",
       "      <td>{itzulia, basque, country}</td>\n",
       "      <td>{pais, vuelta, al, vasco}</td>\n",
       "    </tr>\n",
       "    <tr>\n",
       "      <th>6543</th>\n",
       "      <td>itzulia-basque-country/2007/stage-3</td>\n",
       "      <td>Vuelta al País Vasco</td>\n",
       "      <td>vuelta-al-pais-vasco</td>\n",
       "      <td>{itzulia, basque, country}</td>\n",
       "      <td>{pais, vuelta, al, vasco}</td>\n",
       "    </tr>\n",
       "    <tr>\n",
       "      <th>6544</th>\n",
       "      <td>itzulia-basque-country/2007/stage-3</td>\n",
       "      <td>Vuelta al País Vasco</td>\n",
       "      <td>vuelta-al-pais-vasco</td>\n",
       "      <td>{itzulia, basque, country}</td>\n",
       "      <td>{pais, vuelta, al, vasco}</td>\n",
       "    </tr>\n",
       "    <tr>\n",
       "      <th>6545</th>\n",
       "      <td>itzulia-basque-country/2007/stage-3</td>\n",
       "      <td>Vuelta al País Vasco</td>\n",
       "      <td>vuelta-al-pais-vasco</td>\n",
       "      <td>{itzulia, basque, country}</td>\n",
       "      <td>{pais, vuelta, al, vasco}</td>\n",
       "    </tr>\n",
       "    <tr>\n",
       "      <th>6546</th>\n",
       "      <td>itzulia-basque-country/2007/stage-3</td>\n",
       "      <td>Vuelta al País Vasco</td>\n",
       "      <td>vuelta-al-pais-vasco</td>\n",
       "      <td>{itzulia, basque, country}</td>\n",
       "      <td>{pais, vuelta, al, vasco}</td>\n",
       "    </tr>\n",
       "    <tr>\n",
       "      <th>6547</th>\n",
       "      <td>itzulia-basque-country/2007/stage-3</td>\n",
       "      <td>Vuelta al País Vasco</td>\n",
       "      <td>vuelta-al-pais-vasco</td>\n",
       "      <td>{itzulia, basque, country}</td>\n",
       "      <td>{pais, vuelta, al, vasco}</td>\n",
       "    </tr>\n",
       "    <tr>\n",
       "      <th>6548</th>\n",
       "      <td>itzulia-basque-country/2007/stage-3</td>\n",
       "      <td>Vuelta al País Vasco</td>\n",
       "      <td>vuelta-al-pais-vasco</td>\n",
       "      <td>{itzulia, basque, country}</td>\n",
       "      <td>{pais, vuelta, al, vasco}</td>\n",
       "    </tr>\n",
       "    <tr>\n",
       "      <th>6549</th>\n",
       "      <td>itzulia-basque-country/2007/stage-3</td>\n",
       "      <td>Vuelta al País Vasco</td>\n",
       "      <td>vuelta-al-pais-vasco</td>\n",
       "      <td>{itzulia, basque, country}</td>\n",
       "      <td>{pais, vuelta, al, vasco}</td>\n",
       "    </tr>\n",
       "    <tr>\n",
       "      <th>6550</th>\n",
       "      <td>itzulia-basque-country/2007/stage-3</td>\n",
       "      <td>Vuelta al País Vasco</td>\n",
       "      <td>vuelta-al-pais-vasco</td>\n",
       "      <td>{itzulia, basque, country}</td>\n",
       "      <td>{pais, vuelta, al, vasco}</td>\n",
       "    </tr>\n",
       "  </tbody>\n",
       "</table>\n",
       "</div>"
      ],
      "text/plain": [
       "                                     _url                  name  \\\n",
       "6541  itzulia-basque-country/2007/stage-3  Vuelta al País Vasco   \n",
       "6542  itzulia-basque-country/2007/stage-3  Vuelta al País Vasco   \n",
       "6543  itzulia-basque-country/2007/stage-3  Vuelta al País Vasco   \n",
       "6544  itzulia-basque-country/2007/stage-3  Vuelta al País Vasco   \n",
       "6545  itzulia-basque-country/2007/stage-3  Vuelta al País Vasco   \n",
       "6546  itzulia-basque-country/2007/stage-3  Vuelta al País Vasco   \n",
       "6547  itzulia-basque-country/2007/stage-3  Vuelta al País Vasco   \n",
       "6548  itzulia-basque-country/2007/stage-3  Vuelta al País Vasco   \n",
       "6549  itzulia-basque-country/2007/stage-3  Vuelta al País Vasco   \n",
       "6550  itzulia-basque-country/2007/stage-3  Vuelta al País Vasco   \n",
       "\n",
       "           normalized_name              event_keywords  \\\n",
       "6541  vuelta-al-pais-vasco  {itzulia, basque, country}   \n",
       "6542  vuelta-al-pais-vasco  {itzulia, basque, country}   \n",
       "6543  vuelta-al-pais-vasco  {itzulia, basque, country}   \n",
       "6544  vuelta-al-pais-vasco  {itzulia, basque, country}   \n",
       "6545  vuelta-al-pais-vasco  {itzulia, basque, country}   \n",
       "6546  vuelta-al-pais-vasco  {itzulia, basque, country}   \n",
       "6547  vuelta-al-pais-vasco  {itzulia, basque, country}   \n",
       "6548  vuelta-al-pais-vasco  {itzulia, basque, country}   \n",
       "6549  vuelta-al-pais-vasco  {itzulia, basque, country}   \n",
       "6550  vuelta-al-pais-vasco  {itzulia, basque, country}   \n",
       "\n",
       "                  name_keywords  \n",
       "6541  {pais, vuelta, al, vasco}  \n",
       "6542  {pais, vuelta, al, vasco}  \n",
       "6543  {pais, vuelta, al, vasco}  \n",
       "6544  {pais, vuelta, al, vasco}  \n",
       "6545  {pais, vuelta, al, vasco}  \n",
       "6546  {pais, vuelta, al, vasco}  \n",
       "6547  {pais, vuelta, al, vasco}  \n",
       "6548  {pais, vuelta, al, vasco}  \n",
       "6549  {pais, vuelta, al, vasco}  \n",
       "6550  {pais, vuelta, al, vasco}  "
      ]
     },
     "metadata": {},
     "output_type": "display_data"
    }
   ],
   "source": [
    "remaining_inconsistent_rows_keyword_match = df_races.loc[~keyword_match, ['_url', 'name', 'normalized_name', 'event_keywords', 'name_keywords']].head(10)\n",
    "\n",
    "print(\"Sample Rows with Remaining Event Inconsistencies (After Keyword Matching)\")\n",
    "display(remaining_inconsistent_rows_keyword_match) "
   ]
  },
  {
   "cell_type": "code",
   "execution_count": 13,
   "metadata": {},
   "outputs": [
    {
     "name": "stdout",
     "output_type": "stream",
     "text": [
      "10\n"
     ]
    }
   ],
   "source": [
    "print(len(remaining_inconsistent_rows_keyword_match))"
   ]
  },
  {
   "cell_type": "code",
   "execution_count": 14,
   "metadata": {},
   "outputs": [
    {
     "data": {
      "text/plain": [
       "{'Year Consistency between _url and date': True,\n",
       " 'Year Consistency Details': {True: 589865}}"
      ]
     },
     "execution_count": 14,
     "metadata": {},
     "output_type": "execute_result"
    }
   ],
   "source": [
    "df_races['year_from_date'] = pd.to_datetime(df_races['date'], errors='coerce').dt.year\n",
    "year_match = url_parts['year'].astype(float) == df_races['year_from_date']\n",
    "\n",
    "semantic_validity_summary = {\n",
    "    \"Year Consistency between _url and date\": year_match.all(),\n",
    "    \"Year Consistency Details\": year_match.value_counts().to_dict(),\n",
    "}\n",
    "\n",
    "semantic_validity_summary"
   ]
  },
  {
   "cell_type": "markdown",
   "metadata": {},
   "source": [
    "### Points - syntactic and semantic accuracy"
   ]
  },
  {
   "cell_type": "code",
   "execution_count": 15,
   "metadata": {},
   "outputs": [
    {
     "data": {
      "text/plain": [
       "{'Data Type': dtype('float64'), 'Negative Values Count': 0}"
      ]
     },
     "execution_count": 15,
     "metadata": {},
     "output_type": "execute_result"
    }
   ],
   "source": [
    "points_dtype = df_races['points'].dtype\n",
    "points_negative = (df_races['points'] < 0).sum()\n",
    "\n",
    "points_analysis_summary = {\n",
    "    \"Data Type\": points_dtype,\n",
    "    \"Negative Values Count\": points_negative\n",
    "}\n",
    "\n",
    "points_analysis_summary"
   ]
  },
  {
   "cell_type": "markdown",
   "metadata": {},
   "source": [
    "### Uci_points - syntactic and semantic accuracy"
   ]
  },
  {
   "cell_type": "code",
   "execution_count": 16,
   "metadata": {},
   "outputs": [
    {
     "data": {
      "text/plain": [
       "{'Data Type': dtype('float64'), 'Negative Values Count': 0}"
      ]
     },
     "execution_count": 16,
     "metadata": {},
     "output_type": "execute_result"
    }
   ],
   "source": [
    "points_dtype = df_races['uci_points'].dtype\n",
    "points_negative = (df_races['uci_points'] < 0).sum()\n",
    "\n",
    "\n",
    "points_analysis_summary = {\n",
    "    \"Data Type\": points_dtype,\n",
    "    \"Negative Values Count\": points_negative\n",
    "}\n",
    "\n",
    "points_analysis_summary"
   ]
  },
  {
   "cell_type": "markdown",
   "metadata": {},
   "source": [
    "### Length - syntactic and semantic accuracy"
   ]
  },
  {
   "cell_type": "code",
   "execution_count": 17,
   "metadata": {},
   "outputs": [
    {
     "data": {
      "text/plain": [
       "{'Data Type': dtype('float64'), 'Negative Values Count': 0}"
      ]
     },
     "execution_count": 17,
     "metadata": {},
     "output_type": "execute_result"
    }
   ],
   "source": [
    "length_dtype = df_races['length'].dtype\n",
    "length_negative = (df_races['length'] < 0).sum()\n",
    "\n",
    "\n",
    "length_analysis_summary = {\n",
    "    \"Data Type\": length_dtype,\n",
    "    \"Negative Values Count\": length_negative,\n",
    "}\n",
    "\n",
    "length_analysis_summary\n"
   ]
  },
  {
   "cell_type": "markdown",
   "metadata": {},
   "source": [
    "### Climb_total - syntactic and semantic accuracy"
   ]
  },
  {
   "cell_type": "code",
   "execution_count": 18,
   "metadata": {},
   "outputs": [
    {
     "data": {
      "text/plain": [
       "{'Data Type': dtype('float64'), 'Negative Values Count': 0}"
      ]
     },
     "execution_count": 18,
     "metadata": {},
     "output_type": "execute_result"
    }
   ],
   "source": [
    "climb_total_dtype = df_races['climb_total'].dtype\n",
    "climb_total_negative = (df_races['climb_total'] < 0).sum()\n",
    "\n",
    "\n",
    "climb_total_analysis_summary = {\n",
    "    \"Data Type\": climb_total_dtype,\n",
    "    \"Negative Values Count\": climb_total_negative\n",
    "}\n",
    "\n",
    "climb_total_analysis_summary\n",
    "\n"
   ]
  },
  {
   "cell_type": "markdown",
   "metadata": {},
   "source": [
    "### Ensure the climb_total increases with the profile\n",
    "\n",
    "Given that the profile says how mountainous the stage's terrain is (the five profile values probably correspond to the 5 icons explained here: https://www.procyclingstats.com/info/profile-score-explained), we'd expect higher values of profile to have higher average climb_totals. This is indeed what we observe."
   ]
  },
  {
   "cell_type": "code",
   "execution_count": 19,
   "metadata": {},
   "outputs": [
    {
     "data": {
      "text/html": [
       "<div>\n",
       "<style scoped>\n",
       "    .dataframe tbody tr th:only-of-type {\n",
       "        vertical-align: middle;\n",
       "    }\n",
       "\n",
       "    .dataframe tbody tr th {\n",
       "        vertical-align: top;\n",
       "    }\n",
       "\n",
       "    .dataframe thead th {\n",
       "        text-align: right;\n",
       "    }\n",
       "</style>\n",
       "<table border=\"1\" class=\"dataframe\">\n",
       "  <thead>\n",
       "    <tr style=\"text-align: right;\">\n",
       "      <th></th>\n",
       "      <th>profile</th>\n",
       "      <th>climb_total</th>\n",
       "    </tr>\n",
       "  </thead>\n",
       "  <tbody>\n",
       "    <tr>\n",
       "      <th>0</th>\n",
       "      <td>1.0</td>\n",
       "      <td>1115.032447</td>\n",
       "    </tr>\n",
       "    <tr>\n",
       "      <th>1</th>\n",
       "      <td>2.0</td>\n",
       "      <td>2216.014574</td>\n",
       "    </tr>\n",
       "    <tr>\n",
       "      <th>2</th>\n",
       "      <td>3.0</td>\n",
       "      <td>2417.451732</td>\n",
       "    </tr>\n",
       "    <tr>\n",
       "      <th>3</th>\n",
       "      <td>4.0</td>\n",
       "      <td>3493.641104</td>\n",
       "    </tr>\n",
       "    <tr>\n",
       "      <th>4</th>\n",
       "      <td>5.0</td>\n",
       "      <td>3737.367327</td>\n",
       "    </tr>\n",
       "  </tbody>\n",
       "</table>\n",
       "</div>"
      ],
      "text/plain": [
       "   profile  climb_total\n",
       "0      1.0  1115.032447\n",
       "1      2.0  2216.014574\n",
       "2      3.0  2417.451732\n",
       "3      4.0  3493.641104\n",
       "4      5.0  3737.367327"
      ]
     },
     "execution_count": 19,
     "metadata": {},
     "output_type": "execute_result"
    }
   ],
   "source": [
    "average_climb_total_per_profile = df_races.groupby('profile')['climb_total'].mean().reset_index()\n",
    "\n",
    "average_climb_total_per_profile"
   ]
  },
  {
   "cell_type": "markdown",
   "metadata": {},
   "source": [
    "### Profile - syntactic and semantic accuracy"
   ]
  },
  {
   "cell_type": "code",
   "execution_count": 20,
   "metadata": {},
   "outputs": [
    {
     "data": {
      "text/plain": [
       "{'Data Type': dtype('float64'),\n",
       " 'Non-Integer Values Count': 0,\n",
       " 'Values Out of Range (1-5)': 0}"
      ]
     },
     "execution_count": 20,
     "metadata": {},
     "output_type": "execute_result"
    }
   ],
   "source": [
    "profile_dtype = df_races['profile'].dtype\n",
    "profile_non_integer = df_races['profile'].dropna().apply(lambda x: not float(x).is_integer()).sum()\n",
    "\n",
    "profile_out_of_range = df_races['profile'].dropna().apply(lambda x: x < 1 or x > 5).sum()\n",
    "\n",
    "profile_analysis_summary = {\n",
    "    \"Data Type\": profile_dtype,\n",
    "    \"Non-Integer Values Count\": profile_non_integer,\n",
    "    \"Values Out of Range (1-5)\": profile_out_of_range,\n",
    "}\n",
    "\n",
    "profile_analysis_summary\n",
    "\n"
   ]
  },
  {
   "cell_type": "markdown",
   "metadata": {},
   "source": [
    "### Startlist_quality - syntactic and semantic accuracy"
   ]
  },
  {
   "cell_type": "code",
   "execution_count": 21,
   "metadata": {},
   "outputs": [
    {
     "data": {
      "text/plain": [
       "{'Data Type': dtype('int64'), 'Negative Values Count': 0}"
      ]
     },
     "execution_count": 21,
     "metadata": {},
     "output_type": "execute_result"
    }
   ],
   "source": [
    "sl_dtype = df_races['startlist_quality'].dtype\n",
    "sl_negative = (df_races['startlist_quality'] < 0).sum()\n",
    "\n",
    "\n",
    "sl_analysis_summary = {\n",
    "    \"Data Type\": sl_dtype,\n",
    "    \"Negative Values Count\": sl_negative\n",
    "}\n",
    "\n",
    "sl_analysis_summary"
   ]
  },
  {
   "cell_type": "markdown",
   "metadata": {},
   "source": [
    "### Make sure the startlist_quality is realistic\n",
    "\n",
    "According to procycliststats, the theoretical maximum limit of startlist_quality for a 150-person race is 2275 points (https://www.procyclingstats.com/calendar/uci/startlist-quality)"
   ]
  },
  {
   "cell_type": "code",
   "execution_count": 22,
   "metadata": {},
   "outputs": [
    {
     "name": "stdout",
     "output_type": "stream",
     "text": [
      "Empty DataFrame\n",
      "Columns: [_url, name, points, uci_points, length, climb_total, profile, startlist_quality, average_temperature, date, position, cyclist, cyclist_age, is_tarmac, is_cobbled, is_gravel, cyclist_team, delta, normalized_name, event_keywords, name_keywords, year_from_date, startlist_quality_issue]\n",
      "Index: []\n",
      "\n",
      "[0 rows x 23 columns]\n"
     ]
    }
   ],
   "source": [
    "df_races['startlist_quality_issue'] = ~df_races['startlist_quality'].between(0, 2275, inclusive=\"both\").fillna(False)\n",
    "\n",
    "invalid_startlist_quality_records = df_races[df_races['startlist_quality_issue'] == True]\n",
    "print(invalid_startlist_quality_records)"
   ]
  },
  {
   "cell_type": "markdown",
   "metadata": {},
   "source": [
    "### Average_temperature - syntactic and semantic accuracy"
   ]
  },
  {
   "cell_type": "code",
   "execution_count": 23,
   "metadata": {},
   "outputs": [
    {
     "data": {
      "text/plain": [
       "{'Data Type': dtype('float64'), 'Negative Values Count': 0}"
      ]
     },
     "execution_count": 23,
     "metadata": {},
     "output_type": "execute_result"
    }
   ],
   "source": [
    "temperature_dtype = df_races['average_temperature'].dtype\n",
    "temperature_negative = (df_races['average_temperature'] < 0).sum()\n",
    "\n",
    "temperature_analysis_summary = {\n",
    "    \"Data Type\": temperature_dtype,\n",
    "    \"Negative Values Count\": temperature_negative,\n",
    "}\n",
    "\n",
    "temperature_analysis_summary"
   ]
  },
  {
   "cell_type": "code",
   "execution_count": 24,
   "metadata": {},
   "outputs": [
    {
     "name": "stdout",
     "output_type": "stream",
     "text": [
      "Empty DataFrame\n",
      "Columns: [_url, name, points, uci_points, length, climb_total, profile, startlist_quality, average_temperature, date, position, cyclist, cyclist_age, is_tarmac, is_cobbled, is_gravel, cyclist_team, delta, normalized_name, event_keywords, name_keywords, year_from_date, startlist_quality_issue, average_temperature_issue]\n",
      "Index: []\n",
      "\n",
      "[0 rows x 24 columns]\n"
     ]
    }
   ],
   "source": [
    "df_races['average_temperature_issue'] = ~df_races['average_temperature'].between(-43, 43, inclusive=\"both\").fillna(False)\n",
    "\n",
    "invalid_temperature_records = df_races[df_races['average_temperature'] == True]\n",
    "print(invalid_temperature_records)"
   ]
  },
  {
   "cell_type": "markdown",
   "metadata": {},
   "source": [
    "### Date - syntactic and semantic accuracy\n",
    "\n",
    "La coerenza dell'anno è stata fatta analizzando _url, non importa farla nuovamente"
   ]
  },
  {
   "cell_type": "code",
   "execution_count": 25,
   "metadata": {},
   "outputs": [
    {
     "data": {
      "text/plain": [
       "{'All Dates Valid': True, 'Count of Future Dates': 0}"
      ]
     },
     "execution_count": 25,
     "metadata": {},
     "output_type": "execute_result"
    }
   ],
   "source": [
    "date_validity = pd.to_datetime(df_races['date'], errors='coerce').notnull().all() \n",
    "date_parsed = pd.to_datetime(df_races['date'], errors='coerce')  \n",
    "\n",
    "future_dates = (date_parsed > pd.Timestamp.now()).sum() \n",
    "\n",
    "date_analysis_summary = {\n",
    "    \"All Dates Valid\": date_validity,\n",
    "    \"Count of Future Dates\": future_dates,\n",
    "}\n",
    "\n",
    "date_analysis_summary\n"
   ]
  },
  {
   "cell_type": "markdown",
   "metadata": {},
   "source": [
    "### Position - syntactic accuracy"
   ]
  },
  {
   "cell_type": "code",
   "execution_count": 26,
   "metadata": {},
   "outputs": [
    {
     "data": {
      "text/plain": [
       "{'Data Type': dtype('int64'), 'Negative Values Count': 0}"
      ]
     },
     "execution_count": 26,
     "metadata": {},
     "output_type": "execute_result"
    }
   ],
   "source": [
    "position_dtype = df_races['position'].dtype\n",
    "position_negative = (df_races['position'] < 0).sum()\n",
    "\n",
    "position_analysis_summary = {\n",
    "    \"Data Type\": position_dtype,\n",
    "    \"Negative Values Count\": position_negative\n",
    "}\n",
    "\n",
    "position_analysis_summary"
   ]
  },
  {
   "cell_type": "markdown",
   "metadata": {},
   "source": [
    "### Position and date - semantic accuracy"
   ]
  },
  {
   "cell_type": "code",
   "execution_count": 27,
   "metadata": {},
   "outputs": [
    {
     "name": "stderr",
     "output_type": "stream",
     "text": [
      "/tmp/ipykernel_18832/3636021410.py:11: DeprecationWarning: DataFrameGroupBy.apply operated on the grouping columns. This behavior is deprecated, and in a future version of pandas the grouping columns will be excluded from the operation. Either pass `include_groups=False` to exclude the groupings or explicitly select the grouping columns after groupby to silence this warning.\n",
      "  chronological_order_check = grouped_data.groupby(['event', 'year', 'stage']).apply(\n",
      "/tmp/ipykernel_18832/3636021410.py:17: DeprecationWarning: DataFrameGroupBy.apply operated on the grouping columns. This behavior is deprecated, and in a future version of pandas the grouping columns will be excluded from the operation. Either pass `include_groups=False` to exclude the groupings or explicitly select the grouping columns after groupby to silence this warning.\n",
      "  position_order_check = sorted_by_position.groupby(['event', 'year', 'stage']).apply(\n"
     ]
    },
    {
     "data": {
      "text/plain": [
       "{'Dates in Chronological Order for All Groups': True,\n",
       " 'Positions in Ascending Order for All Groups': True}"
      ]
     },
     "execution_count": 27,
     "metadata": {},
     "output_type": "execute_result"
    }
   ],
   "source": [
    "url_parts = df_races['_url'].str.extract(r'(?P<event>[\\w-]+)/(?P<year>\\d{4})/(?P<stage>[\\w-]+)')\n",
    "df_races['event'] = url_parts['event']\n",
    "df_races['year'] = url_parts['year'].astype(float, errors='ignore')\n",
    "df_races['stage'] = url_parts['stage']\n",
    "\n",
    "df_races['date_parsed'] = date_parsed\n",
    "\n",
    "grouped_data = df_races.sort_values(by=['event', 'year', 'stage', 'date_parsed'])\n",
    "\n",
    "# Sorting by position within each group before checking\n",
    "chronological_order_check = grouped_data.groupby(['event', 'year', 'stage']).apply(\n",
    "    lambda df: df['date_parsed'].is_monotonic_increasing\n",
    ").all()\n",
    "\n",
    "# Sorting by position before checking\n",
    "sorted_by_position = grouped_data.sort_values(by=['event', 'year', 'stage', 'position'])\n",
    "position_order_check = sorted_by_position.groupby(['event', 'year', 'stage']).apply(\n",
    "    lambda df: df['position'].is_monotonic_increasing\n",
    ").all()\n",
    "\n",
    "semantic_order_summary = {\n",
    "    \"Dates in Chronological Order for All Groups\": chronological_order_check,\n",
    "    \"Positions in Ascending Order for All Groups\": position_order_check\n",
    "}\n",
    "\n",
    "semantic_order_summary\n"
   ]
  },
  {
   "cell_type": "markdown",
   "metadata": {},
   "source": [
    "### is_tarmac/is_cobbled/is_gravel - syntactic and semantic accuracy"
   ]
  },
  {
   "cell_type": "code",
   "execution_count": 28,
   "metadata": {},
   "outputs": [
    {
     "data": {
      "text/plain": [
       "{'Syntactic Summary': {'is_tarmac Type': dtype('bool'),\n",
       "  'is_cobbled Type': dtype('bool'),\n",
       "  'is_gravel Type': dtype('bool')},\n",
       " 'Semantic Summary': {'Total Rows with All Three Surfaces as True': 0,\n",
       "  'At Least One Surface True for All Rows': False}}"
      ]
     },
     "execution_count": 28,
     "metadata": {},
     "output_type": "execute_result"
    }
   ],
   "source": [
    "syntactic_summary = {\n",
    "    \"is_tarmac Type\": df_races['is_tarmac'].dtype,\n",
    "    \"is_cobbled Type\": df_races['is_cobbled'].dtype,\n",
    "    \"is_gravel Type\": df_races['is_gravel'].dtype,\n",
    "}\n",
    "inconsistent_rows = df_races[(df_races['is_tarmac'] == True) & \n",
    "                             (df_races['is_cobbled'] == True) & \n",
    "                             (df_races['is_gravel'] == True)]\n",
    "\n",
    "at_least_one_true = df_races[['is_tarmac', 'is_cobbled', 'is_gravel']].any(axis=1).all()\n",
    "\n",
    "semantic_summary = {\n",
    "    \"Total Rows with All Three Surfaces as True\": inconsistent_rows.shape[0],\n",
    "    \"At Least One Surface True for All Rows\": at_least_one_true\n",
    "}\n",
    "\n",
    "# Combining results\n",
    "analysis_summary = {\n",
    "    \"Syntactic Summary\": syntactic_summary,\n",
    "    \"Semantic Summary\": semantic_summary\n",
    "}\n",
    "\n",
    "analysis_summary"
   ]
  },
  {
   "cell_type": "markdown",
   "metadata": {},
   "source": [
    "I risultati riguardo la presenza di almeno un valore impostato a True danno esito negativo però possono essere visti come \"terreno misto\"?"
   ]
  },
  {
   "cell_type": "markdown",
   "metadata": {},
   "source": [
    "### cyclist_team - syntactic accuracy -> not very useful"
   ]
  },
  {
   "cell_type": "markdown",
   "metadata": {},
   "source": [
    "### cyclist and cyclist age - syntactic and semantic accuracy -> wait until the analysis on cyclists dataset"
   ]
  },
  {
   "cell_type": "markdown",
   "metadata": {},
   "source": [
    "### delta - syntactic and semantic accuracy"
   ]
  },
  {
   "cell_type": "code",
   "execution_count": 29,
   "metadata": {},
   "outputs": [
    {
     "data": {
      "text/plain": [
       "{'Data Type': dtype('float64'), 'Negative Values Count': 86}"
      ]
     },
     "execution_count": 29,
     "metadata": {},
     "output_type": "execute_result"
    }
   ],
   "source": [
    "delta_dtype = df_races['delta'].dtype\n",
    "delta_negative = (df_races['delta'] < 0).sum()\n",
    "\n",
    "\n",
    "delta_analysis_summary = {\n",
    "    \"Data Type\": delta_dtype,\n",
    "    \"Negative Values Count\": delta_negative,\n",
    "}\n",
    "\n",
    "delta_analysis_summary"
   ]
  },
  {
   "cell_type": "code",
   "execution_count": 30,
   "metadata": {},
   "outputs": [],
   "source": [
    "delta_zeroes = (df_races['delta'] == 0).sum()"
   ]
  },
  {
   "cell_type": "markdown",
   "metadata": {},
   "source": [
    "da imputare a partecipanti penalizzati/squalificati?"
   ]
  },
  {
   "cell_type": "code",
   "execution_count": 31,
   "metadata": {},
   "outputs": [
    {
     "data": {
      "text/plain": [
       "{'Approximate Matches Count': 147475,\n",
       " 'Total Comparable Rows': 589865,\n",
       " 'Approximate Match Percentage': 25.001483390267264}"
      ]
     },
     "execution_count": 31,
     "metadata": {},
     "output_type": "execute_result"
    }
   ],
   "source": [
    "df_races['date_parsed'] = pd.to_datetime(df_races['date'], errors='coerce')\n",
    "\n",
    "df_races = df_races.sort_values(by=['event', 'year', 'stage', 'date_parsed'])\n",
    "df_races['time_difference'] = df_races.groupby(['event', 'year', 'stage'])['date_parsed'].diff().dt.total_seconds()\n",
    "\n",
    "tolerance = 10  # seconds\n",
    "approximate_matches = (df_races['delta'].notnull()) & (df_races['time_difference'].notnull()) & (\n",
    "    abs(df_races['delta'] - df_races['time_difference']) <= tolerance\n",
    ")\n",
    "\n",
    "approximate_match_count = approximate_matches.sum()\n",
    "total_comparable_rows = df_races['delta'].notnull().sum()\n",
    "mismatched_rows = df_races[~approximate_matches & df_races['delta'].notnull() & df_races['time_difference'].notnull()]\n",
    "\n",
    "match_summary = {\n",
    "    \"Approximate Matches Count\": approximate_match_count,\n",
    "    \"Total Comparable Rows\": total_comparable_rows,\n",
    "    \"Approximate Match Percentage\": (approximate_match_count / total_comparable_rows) * 100 if total_comparable_rows > 0 else 0\n",
    "}\n",
    "\n",
    "match_summary\n",
    "\n"
   ]
  },
  {
   "cell_type": "markdown",
   "metadata": {},
   "source": [
    "#### Fixing the delta"
   ]
  },
  {
   "cell_type": "code",
   "execution_count": 32,
   "metadata": {},
   "outputs": [],
   "source": [
    "df_races.loc[~approximate_matches & df_races['delta'].notnull() & df_races['time_difference'].notnull(), 'delta'] = df_races['time_difference']"
   ]
  },
  {
   "cell_type": "markdown",
   "metadata": {},
   "source": [
    "#### Redo th check"
   ]
  },
  {
   "cell_type": "code",
   "execution_count": 33,
   "metadata": {},
   "outputs": [
    {
     "data": {
      "text/plain": [
       "{'Approximate Matches Count': 584584,\n",
       " 'Total Comparable Rows': 589865,\n",
       " 'Approximate Match Percentage': 99.10471039983724}"
      ]
     },
     "execution_count": 33,
     "metadata": {},
     "output_type": "execute_result"
    }
   ],
   "source": [
    "df_races['date_parsed'] = pd.to_datetime(df_races['date'], errors='coerce')\n",
    "\n",
    "df_races = df_races.sort_values(by=['event', 'year', 'stage', 'date_parsed'])\n",
    "df_races['time_difference'] = df_races.groupby(['event', 'year', 'stage'])['date_parsed'].diff().dt.total_seconds()\n",
    "\n",
    "tolerance = 10  # seconds\n",
    "approximate_matches = (df_races['delta'].notnull()) & (df_races['time_difference'].notnull()) & (\n",
    "    abs(df_races['delta'] - df_races['time_difference']) <= tolerance\n",
    ")\n",
    "\n",
    "approximate_match_count = approximate_matches.sum()\n",
    "total_comparable_rows = df_races['delta'].notnull().sum()\n",
    "mismatched_rows = df_races[~approximate_matches & df_races['delta'].notnull() & df_races['time_difference'].notnull()]\n",
    "\n",
    "match_summary = {\n",
    "    \"Approximate Matches Count\": approximate_match_count,\n",
    "    \"Total Comparable Rows\": total_comparable_rows,\n",
    "    \"Approximate Match Percentage\": (approximate_match_count / total_comparable_rows) * 100 if total_comparable_rows > 0 else 0\n",
    "}\n",
    "\n",
    "match_summary"
   ]
  },
  {
   "cell_type": "markdown",
   "metadata": {},
   "source": [
    "## Cyclists - Syntactic and Semantic accuracy + info and descriptive statistics"
   ]
  },
  {
   "cell_type": "code",
   "execution_count": 34,
   "metadata": {},
   "outputs": [
    {
     "data": {
      "text/html": [
       "<div>\n",
       "<style scoped>\n",
       "    .dataframe tbody tr th:only-of-type {\n",
       "        vertical-align: middle;\n",
       "    }\n",
       "\n",
       "    .dataframe tbody tr th {\n",
       "        vertical-align: top;\n",
       "    }\n",
       "\n",
       "    .dataframe thead th {\n",
       "        text-align: right;\n",
       "    }\n",
       "</style>\n",
       "<table border=\"1\" class=\"dataframe\">\n",
       "  <thead>\n",
       "    <tr style=\"text-align: right;\">\n",
       "      <th></th>\n",
       "      <th>_url</th>\n",
       "      <th>name</th>\n",
       "      <th>birth_year</th>\n",
       "      <th>weight</th>\n",
       "      <th>height</th>\n",
       "      <th>nationality</th>\n",
       "    </tr>\n",
       "  </thead>\n",
       "  <tbody>\n",
       "    <tr>\n",
       "      <th>0</th>\n",
       "      <td>bruno-surra</td>\n",
       "      <td>Bruno  Surra</td>\n",
       "      <td>1964.0</td>\n",
       "      <td>NaN</td>\n",
       "      <td>NaN</td>\n",
       "      <td>Italy</td>\n",
       "    </tr>\n",
       "    <tr>\n",
       "      <th>1</th>\n",
       "      <td>gerard-rue</td>\n",
       "      <td>Gérard  Rué</td>\n",
       "      <td>1965.0</td>\n",
       "      <td>74.0</td>\n",
       "      <td>182.0</td>\n",
       "      <td>France</td>\n",
       "    </tr>\n",
       "    <tr>\n",
       "      <th>2</th>\n",
       "      <td>jan-maas</td>\n",
       "      <td>Jan  Maas</td>\n",
       "      <td>1996.0</td>\n",
       "      <td>69.0</td>\n",
       "      <td>189.0</td>\n",
       "      <td>Netherlands</td>\n",
       "    </tr>\n",
       "    <tr>\n",
       "      <th>3</th>\n",
       "      <td>nathan-van-hooydonck</td>\n",
       "      <td>Nathan Van Hooydonck</td>\n",
       "      <td>1995.0</td>\n",
       "      <td>78.0</td>\n",
       "      <td>192.0</td>\n",
       "      <td>Belgium</td>\n",
       "    </tr>\n",
       "    <tr>\n",
       "      <th>4</th>\n",
       "      <td>jose-felix-parra</td>\n",
       "      <td>José Félix  Parra</td>\n",
       "      <td>1997.0</td>\n",
       "      <td>55.0</td>\n",
       "      <td>171.0</td>\n",
       "      <td>Spain</td>\n",
       "    </tr>\n",
       "  </tbody>\n",
       "</table>\n",
       "</div>"
      ],
      "text/plain": [
       "                   _url                  name  birth_year  weight  height  \\\n",
       "0           bruno-surra          Bruno  Surra      1964.0     NaN     NaN   \n",
       "1            gerard-rue           Gérard  Rué      1965.0    74.0   182.0   \n",
       "2              jan-maas             Jan  Maas      1996.0    69.0   189.0   \n",
       "3  nathan-van-hooydonck  Nathan Van Hooydonck      1995.0    78.0   192.0   \n",
       "4      jose-felix-parra     José Félix  Parra      1997.0    55.0   171.0   \n",
       "\n",
       "   nationality  \n",
       "0        Italy  \n",
       "1       France  \n",
       "2  Netherlands  \n",
       "3      Belgium  \n",
       "4        Spain  "
      ]
     },
     "execution_count": 34,
     "metadata": {},
     "output_type": "execute_result"
    }
   ],
   "source": [
    "df_cyclists.head()"
   ]
  },
  {
   "cell_type": "code",
   "execution_count": 35,
   "metadata": {},
   "outputs": [
    {
     "name": "stdout",
     "output_type": "stream",
     "text": [
      "<class 'pandas.core.frame.DataFrame'>\n",
      "RangeIndex: 6134 entries, 0 to 6133\n",
      "Data columns (total 6 columns):\n",
      " #   Column       Non-Null Count  Dtype  \n",
      "---  ------       --------------  -----  \n",
      " 0   _url         6134 non-null   object \n",
      " 1   name         6134 non-null   object \n",
      " 2   birth_year   6121 non-null   float64\n",
      " 3   weight       3078 non-null   float64\n",
      " 4   height       3143 non-null   float64\n",
      " 5   nationality  6133 non-null   object \n",
      "dtypes: float64(3), object(3)\n",
      "memory usage: 287.7+ KB\n"
     ]
    }
   ],
   "source": [
    "df_cyclists.info()"
   ]
  },
  {
   "cell_type": "code",
   "execution_count": 36,
   "metadata": {},
   "outputs": [
    {
     "data": {
      "text/plain": [
       "(6134, 6)"
      ]
     },
     "execution_count": 36,
     "metadata": {},
     "output_type": "execute_result"
    }
   ],
   "source": [
    "df_cyclists.shape"
   ]
  },
  {
   "cell_type": "code",
   "execution_count": 37,
   "metadata": {},
   "outputs": [
    {
     "data": {
      "text/html": [
       "<div>\n",
       "<style scoped>\n",
       "    .dataframe tbody tr th:only-of-type {\n",
       "        vertical-align: middle;\n",
       "    }\n",
       "\n",
       "    .dataframe tbody tr th {\n",
       "        vertical-align: top;\n",
       "    }\n",
       "\n",
       "    .dataframe thead th {\n",
       "        text-align: right;\n",
       "    }\n",
       "</style>\n",
       "<table border=\"1\" class=\"dataframe\">\n",
       "  <thead>\n",
       "    <tr style=\"text-align: right;\">\n",
       "      <th></th>\n",
       "      <th>birth_year</th>\n",
       "      <th>weight</th>\n",
       "      <th>height</th>\n",
       "    </tr>\n",
       "  </thead>\n",
       "  <tbody>\n",
       "    <tr>\n",
       "      <th>count</th>\n",
       "      <td>6121.000000</td>\n",
       "      <td>3078.000000</td>\n",
       "      <td>3143.000000</td>\n",
       "    </tr>\n",
       "    <tr>\n",
       "      <th>mean</th>\n",
       "      <td>1974.071884</td>\n",
       "      <td>68.658739</td>\n",
       "      <td>179.815145</td>\n",
       "    </tr>\n",
       "    <tr>\n",
       "      <th>std</th>\n",
       "      <td>15.535834</td>\n",
       "      <td>6.348183</td>\n",
       "      <td>6.443447</td>\n",
       "    </tr>\n",
       "    <tr>\n",
       "      <th>min</th>\n",
       "      <td>1933.000000</td>\n",
       "      <td>48.000000</td>\n",
       "      <td>154.000000</td>\n",
       "    </tr>\n",
       "    <tr>\n",
       "      <th>25%</th>\n",
       "      <td>1962.000000</td>\n",
       "      <td>64.000000</td>\n",
       "      <td>175.000000</td>\n",
       "    </tr>\n",
       "    <tr>\n",
       "      <th>50%</th>\n",
       "      <td>1974.000000</td>\n",
       "      <td>69.000000</td>\n",
       "      <td>180.000000</td>\n",
       "    </tr>\n",
       "    <tr>\n",
       "      <th>75%</th>\n",
       "      <td>1987.000000</td>\n",
       "      <td>73.000000</td>\n",
       "      <td>184.000000</td>\n",
       "    </tr>\n",
       "    <tr>\n",
       "      <th>max</th>\n",
       "      <td>2004.000000</td>\n",
       "      <td>94.000000</td>\n",
       "      <td>204.000000</td>\n",
       "    </tr>\n",
       "  </tbody>\n",
       "</table>\n",
       "</div>"
      ],
      "text/plain": [
       "        birth_year       weight       height\n",
       "count  6121.000000  3078.000000  3143.000000\n",
       "mean   1974.071884    68.658739   179.815145\n",
       "std      15.535834     6.348183     6.443447\n",
       "min    1933.000000    48.000000   154.000000\n",
       "25%    1962.000000    64.000000   175.000000\n",
       "50%    1974.000000    69.000000   180.000000\n",
       "75%    1987.000000    73.000000   184.000000\n",
       "max    2004.000000    94.000000   204.000000"
      ]
     },
     "execution_count": 37,
     "metadata": {},
     "output_type": "execute_result"
    }
   ],
   "source": [
    "df_cyclists.describe()"
   ]
  },
  {
   "cell_type": "markdown",
   "metadata": {},
   "source": [
    "### Duplicates"
   ]
  },
  {
   "cell_type": "code",
   "execution_count": 38,
   "metadata": {},
   "outputs": [
    {
     "name": "stdout",
     "output_type": "stream",
     "text": [
      "Number of duplicate rows: 0\n"
     ]
    }
   ],
   "source": [
    "num_duplicates = df_cyclists.duplicated().sum()\n",
    "print(f'Number of duplicate rows: {num_duplicates}')"
   ]
  },
  {
   "cell_type": "markdown",
   "metadata": {},
   "source": [
    "### birth_year - syntactic and semantic accuracy"
   ]
  },
  {
   "cell_type": "code",
   "execution_count": 39,
   "metadata": {},
   "outputs": [
    {
     "name": "stdout",
     "output_type": "stream",
     "text": [
      "Empty DataFrame\n",
      "Columns: [_url, name, birth_year, weight, height, nationality]\n",
      "Index: []\n",
      "{'Total Rows': 6134, 'Valid Birth Years Count': 6121, 'Invalid Birth Years Count': 13}\n",
      "Missing values: 13\n"
     ]
    }
   ],
   "source": [
    "df_cyclists['birth_year'] = pd.to_numeric(df_cyclists['birth_year'], errors='coerce').astype('Int64')\n",
    "\n",
    "min_valid_year = df_cyclists['birth_year'].min()\n",
    "max_valid_year = df_cyclists['birth_year'].max()\n",
    "\n",
    "valid_years = df_cyclists['birth_year'].between(min_valid_year, max_valid_year, inclusive='both')\n",
    "invalid_birth_years = df_cyclists[~valid_years]\n",
    "\n",
    "# Count of valid and invalid years\n",
    "valid_years_count = valid_years.sum()\n",
    "total_rows = df_cyclists.shape[0]\n",
    "\n",
    "invalid_birth_years = df_cyclists[~df_cyclists['birth_year'].between(min_valid_year, max_valid_year, inclusive='both')]\n",
    "print(invalid_birth_years)\n",
    "\n",
    "# Summary of results\n",
    "year_summary = {\n",
    "    \"Total Rows\": total_rows,\n",
    "    \"Valid Birth Years Count\": valid_years_count,\n",
    "    \"Invalid Birth Years Count\": total_rows - valid_years_count\n",
    "}\n",
    "\n",
    "print(year_summary)\n",
    "\n",
    "print(\"Missing values:\" ,df_cyclists['birth_year'].isnull().sum())\n",
    "\n"
   ]
  },
  {
   "cell_type": "markdown",
   "metadata": {},
   "source": [
    "### weight and height - syntactic and semantic accuracy"
   ]
  },
  {
   "cell_type": "code",
   "execution_count": 40,
   "metadata": {},
   "outputs": [
    {
     "name": "stdout",
     "output_type": "stream",
     "text": [
      "{'Weight Summary': {'Valid Weight Count': 3078, 'Invalid Weight Count': 3056}}\n",
      "{'Height Summary': {'Valid Height Count': 3143, 'Invalid Height Count': 2991}}\n",
      "Missing values: 3056\n",
      "Missing values: 2991\n"
     ]
    }
   ],
   "source": [
    "\n",
    "min_valid_weight = df_cyclists['weight'].min() \n",
    "max_valid_weight = df_cyclists['weight'].max()\n",
    "min_valid_height = df_cyclists['height'].min()  \n",
    "max_valid_height = df_cyclists['height'].max()  \n",
    "\n",
    "invalid_weight = df_cyclists[~df_cyclists['weight'].between(min_valid_weight, max_valid_weight, inclusive='both')]\n",
    "invalid_height = df_cyclists[~df_cyclists['height'].between(min_valid_height, max_valid_height, inclusive='both')]\n",
    "\n",
    "weight_summary = {\n",
    "    \"Valid Weight Count\": df_cyclists['weight'].between(min_valid_weight, max_valid_weight, inclusive='both').sum(),\n",
    "    \"Invalid Weight Count\": invalid_weight.shape[0]\n",
    "}\n",
    "\n",
    "height_summary = {\n",
    "    \"Valid Height Count\": df_cyclists['height'].between(min_valid_height, max_valid_height, inclusive='both').sum(),\n",
    "    \"Invalid Height Count\": invalid_height.shape[0]\n",
    "}\n",
    "\n",
    "print({\"Weight Summary\": weight_summary})\n",
    "print({\"Height Summary\": height_summary})\n",
    "\n",
    "print(\"Missing values:\" ,df_cyclists['weight'].isnull().sum())\n",
    "print(\"Missing values:\" ,df_cyclists['height'].isnull().sum())\n"
   ]
  },
  {
   "cell_type": "markdown",
   "metadata": {},
   "source": [
    "### nationality - syntactic and semantic accuracy"
   ]
  },
  {
   "cell_type": "code",
   "execution_count": 41,
   "metadata": {},
   "outputs": [
    {
     "name": "stdout",
     "output_type": "stream",
     "text": [
      "{'Data Type': dtype('O'), 'Unique Nationalities Count': 73}\n",
      "               name nationality standardized_nationality  valid_nationality\n",
      "9     Scott  Davies         NaN                     None              False\n",
      "102   Primož  Čerin  Yugoslavia                     None              False\n",
      "6100   Kam-Po  Wong    Hongkong                     None              False\n"
     ]
    }
   ],
   "source": [
    "nationality_type = df_cyclists['nationality'].dtype\n",
    "unique_nationalities = df_cyclists['nationality'].unique()\n",
    "\n",
    "nationality_summary = {\n",
    "    \"Data Type\": nationality_type,\n",
    "    \"Unique Nationalities Count\": len(unique_nationalities),\n",
    "}\n",
    "\n",
    "print(nationality_summary)\n",
    "\n",
    "df_cyclists = pd.read_csv('dataset/cyclists.csv')\n",
    "\n",
    "# Helper function to standardize country names\n",
    "def standardize_country_name(country_name):\n",
    "    if pd.isna(country_name):  # Check for NaN (missing) values\n",
    "        return None\n",
    "    try:\n",
    "        # Try to get the alpha-2 code from the name\n",
    "        country_code = pc.country_name_to_country_alpha2(country_name, cn_name_format=\"default\")\n",
    "        # Get the country name from the alpha-2 code\n",
    "        return pycountry.countries.get(alpha_2=country_code).name\n",
    "    except KeyError:\n",
    "        # Return None if no match is found\n",
    "        return None\n",
    "\n",
    "# Apply the standardization function and validate\n",
    "df_cyclists['standardized_nationality'] = df_cyclists['nationality'].apply(standardize_country_name)\n",
    "df_cyclists['valid_nationality'] = df_cyclists['standardized_nationality'].notna()\n",
    "\n",
    "# Filter and output records where valid_nationality is False\n",
    "invalid_nationality_records = df_cyclists[df_cyclists['valid_nationality'] == False]\n",
    "print(invalid_nationality_records[['name', 'nationality', 'standardized_nationality', 'valid_nationality']])\n"
   ]
  },
  {
   "cell_type": "markdown",
   "metadata": {},
   "source": [
    "### cyclist (see races dataset section) and name (cyclists dataset section) - syntactic and semantic accuracy"
   ]
  },
  {
   "cell_type": "code",
   "execution_count": 42,
   "metadata": {},
   "outputs": [
    {
     "data": {
      "text/plain": [
       "{'Total Unique Cyclists in Races': 6095,\n",
       " 'Missing Cyclists Count': 0,\n",
       " 'All Cyclists Present': True}"
      ]
     },
     "execution_count": 42,
     "metadata": {},
     "output_type": "execute_result"
    }
   ],
   "source": [
    "unique_race_cyclists = df_races['cyclist'].unique()\n",
    "\n",
    "missing_cyclists = [cyclist for cyclist in unique_race_cyclists if cyclist not in df_cyclists['_url'].values]\n",
    "\n",
    "cyclist_check_summary = {\n",
    "    \"Total Unique Cyclists in Races\": len(unique_race_cyclists),\n",
    "    \"Missing Cyclists Count\": len(missing_cyclists),\n",
    "    \"All Cyclists Present\": len(missing_cyclists) == 0\n",
    "}\n",
    "\n",
    "cyclist_check_summary\n",
    "\n"
   ]
  },
  {
   "cell_type": "code",
   "execution_count": 43,
   "metadata": {},
   "outputs": [
    {
     "data": {
      "text/plain": [
       "{'Total Unique Cyclists in Cyclists Dataset': 6134,\n",
       " 'Missing Cyclists in Races Count': 39,\n",
       " 'All Cyclists in Races': False}"
      ]
     },
     "execution_count": 43,
     "metadata": {},
     "output_type": "execute_result"
    }
   ],
   "source": [
    "unique_cyclist_urls = df_cyclists['_url'].unique()\n",
    "missing_cyclists_in_races = [cyclist for cyclist in unique_cyclist_urls if cyclist not in df_races['cyclist'].values]\n",
    "\n",
    "reverse_cyclist_check_summary = {\n",
    "    \"Total Unique Cyclists in Cyclists Dataset\": len(unique_cyclist_urls),\n",
    "    \"Missing Cyclists in Races Count\": len(missing_cyclists_in_races),\n",
    "    \"All Cyclists in Races\": len(missing_cyclists_in_races) == 0\n",
    "}\n",
    "\n",
    "reverse_cyclist_check_summary"
   ]
  },
  {
   "cell_type": "code",
   "execution_count": 44,
   "metadata": {},
   "outputs": [
    {
     "data": {
      "text/html": [
       "<div>\n",
       "<style scoped>\n",
       "    .dataframe tbody tr th:only-of-type {\n",
       "        vertical-align: middle;\n",
       "    }\n",
       "\n",
       "    .dataframe tbody tr th {\n",
       "        vertical-align: top;\n",
       "    }\n",
       "\n",
       "    .dataframe thead th {\n",
       "        text-align: right;\n",
       "    }\n",
       "</style>\n",
       "<table border=\"1\" class=\"dataframe\">\n",
       "  <thead>\n",
       "    <tr style=\"text-align: right;\">\n",
       "      <th></th>\n",
       "      <th>_url</th>\n",
       "      <th>name</th>\n",
       "      <th>birth_year</th>\n",
       "      <th>weight</th>\n",
       "      <th>height</th>\n",
       "      <th>nationality</th>\n",
       "      <th>standardized_nationality</th>\n",
       "      <th>valid_nationality</th>\n",
       "    </tr>\n",
       "  </thead>\n",
       "  <tbody>\n",
       "    <tr>\n",
       "      <th>0</th>\n",
       "      <td>bruno-surra</td>\n",
       "      <td>Bruno  Surra</td>\n",
       "      <td>1964.0</td>\n",
       "      <td>NaN</td>\n",
       "      <td>NaN</td>\n",
       "      <td>Italy</td>\n",
       "      <td>Italy</td>\n",
       "      <td>True</td>\n",
       "    </tr>\n",
       "    <tr>\n",
       "      <th>1</th>\n",
       "      <td>gerard-rue</td>\n",
       "      <td>Gérard  Rué</td>\n",
       "      <td>1965.0</td>\n",
       "      <td>74.0</td>\n",
       "      <td>182.0</td>\n",
       "      <td>France</td>\n",
       "      <td>France</td>\n",
       "      <td>True</td>\n",
       "    </tr>\n",
       "    <tr>\n",
       "      <th>2</th>\n",
       "      <td>jan-maas</td>\n",
       "      <td>Jan  Maas</td>\n",
       "      <td>1996.0</td>\n",
       "      <td>69.0</td>\n",
       "      <td>189.0</td>\n",
       "      <td>Netherlands</td>\n",
       "      <td>Netherlands</td>\n",
       "      <td>True</td>\n",
       "    </tr>\n",
       "    <tr>\n",
       "      <th>3</th>\n",
       "      <td>nathan-van-hooydonck</td>\n",
       "      <td>Nathan Van Hooydonck</td>\n",
       "      <td>1995.0</td>\n",
       "      <td>78.0</td>\n",
       "      <td>192.0</td>\n",
       "      <td>Belgium</td>\n",
       "      <td>Belgium</td>\n",
       "      <td>True</td>\n",
       "    </tr>\n",
       "    <tr>\n",
       "      <th>4</th>\n",
       "      <td>jose-felix-parra</td>\n",
       "      <td>José Félix  Parra</td>\n",
       "      <td>1997.0</td>\n",
       "      <td>55.0</td>\n",
       "      <td>171.0</td>\n",
       "      <td>Spain</td>\n",
       "      <td>Spain</td>\n",
       "      <td>True</td>\n",
       "    </tr>\n",
       "  </tbody>\n",
       "</table>\n",
       "</div>"
      ],
      "text/plain": [
       "                   _url                  name  birth_year  weight  height  \\\n",
       "0           bruno-surra          Bruno  Surra      1964.0     NaN     NaN   \n",
       "1            gerard-rue           Gérard  Rué      1965.0    74.0   182.0   \n",
       "2              jan-maas             Jan  Maas      1996.0    69.0   189.0   \n",
       "3  nathan-van-hooydonck  Nathan Van Hooydonck      1995.0    78.0   192.0   \n",
       "4      jose-felix-parra     José Félix  Parra      1997.0    55.0   171.0   \n",
       "\n",
       "   nationality standardized_nationality  valid_nationality  \n",
       "0        Italy                    Italy               True  \n",
       "1       France                   France               True  \n",
       "2  Netherlands              Netherlands               True  \n",
       "3      Belgium                  Belgium               True  \n",
       "4        Spain                    Spain               True  "
      ]
     },
     "execution_count": 44,
     "metadata": {},
     "output_type": "execute_result"
    }
   ],
   "source": [
    "# Get the unique cyclist URLs from the races dataframe\n",
    "unique_race_cyclists = df_races['cyclist'].unique()\n",
    "\n",
    "# Filter the cyclists dataframe to keep only rows where the cyclist is present in the races dataframe\n",
    "df_cyclists = df_cyclists[df_cyclists['_url'].isin(unique_race_cyclists)]\n",
    "\n",
    "# Display the updated cyclists dataframe\n",
    "df_cyclists.head()"
   ]
  },
  {
   "cell_type": "code",
   "execution_count": 45,
   "metadata": {},
   "outputs": [
    {
     "data": {
      "text/plain": [
       "{'Total Unique Cyclists in Cyclists Dataset': 6095,\n",
       " 'Missing Cyclists in Races Count': 0,\n",
       " 'All Cyclists in Races': True}"
      ]
     },
     "execution_count": 45,
     "metadata": {},
     "output_type": "execute_result"
    }
   ],
   "source": [
    "unique_cyclist_urls = df_cyclists['_url'].unique()\n",
    "missing_cyclists_in_races = [cyclist for cyclist in unique_cyclist_urls if cyclist not in df_races['cyclist'].values]\n",
    "\n",
    "reverse_cyclist_check_summary = {\n",
    "    \"Total Unique Cyclists in Cyclists Dataset\": len(unique_cyclist_urls),\n",
    "    \"Missing Cyclists in Races Count\": len(missing_cyclists_in_races),\n",
    "    \"All Cyclists in Races\": len(missing_cyclists_in_races) == 0\n",
    "}\n",
    "\n",
    "reverse_cyclist_check_summary"
   ]
  },
  {
   "cell_type": "markdown",
   "metadata": {},
   "source": [
    "### cyclist_age (see races dataset section)"
   ]
  },
  {
   "cell_type": "code",
   "execution_count": 46,
   "metadata": {},
   "outputs": [
    {
     "data": {
      "text/plain": [
       "{'Total Rows Compared': 589752, 'Mismatched Age Count': 0}"
      ]
     },
     "execution_count": 46,
     "metadata": {},
     "output_type": "execute_result"
    }
   ],
   "source": [
    "df_cyclists['birth_year'] = pd.to_numeric(df_cyclists['birth_year'], errors='coerce')\n",
    "df_races['date_parsed'] = pd.to_datetime(df_races['date'], errors='coerce')\n",
    "df_races['race_year'] = df_races['date_parsed'].dt.year\n",
    "\n",
    "df_merged = df_races.merge(df_cyclists, left_on='cyclist', right_on='_url', how='left')\n",
    "\n",
    "df_merged['calculated_age'] = df_merged['race_year'] - df_merged['birth_year']\n",
    "\n",
    "df_merged['age_difference'] = df_merged['calculated_age'] - df_merged['cyclist_age']\n",
    "\n",
    "age_mismatch = df_merged[df_merged['age_difference'].notnull() & (df_merged['age_difference'] != 0)]\n",
    "\n",
    "age_mismatch_summary = {\n",
    "    \"Total Rows Compared\": df_merged['age_difference'].notnull().sum(),\n",
    "    \"Mismatched Age Count\": age_mismatch.shape[0]\n",
    "}\n",
    "\n",
    "age_mismatch_summary"
   ]
  },
  {
   "cell_type": "markdown",
   "metadata": {},
   "source": [
    "#### Extracting the correct dataset with fixed delta is races"
   ]
  },
  {
   "cell_type": "code",
   "execution_count": 47,
   "metadata": {},
   "outputs": [],
   "source": [
    "# Races\n",
    "df_races.to_csv('df_races_cleaned.csv', index=False)\n",
    "\n",
    "# Cyclists\n",
    "df_cyclists.to_csv('df_cyclists_cleaned.csv', index=False)"
   ]
  }
 ],
 "metadata": {
  "kernelspec": {
   "display_name": "Python 3",
   "language": "python",
   "name": "python3"
  },
  "language_info": {
   "codemirror_mode": {
    "name": "ipython",
    "version": 3
   },
   "file_extension": ".py",
   "mimetype": "text/x-python",
   "name": "python",
   "nbconvert_exporter": "python",
   "pygments_lexer": "ipython3",
   "version": "3.10.12"
  }
 },
 "nbformat": 4,
 "nbformat_minor": 2
}
