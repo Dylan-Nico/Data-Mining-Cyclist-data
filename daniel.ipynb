{
 "cells": [
  {
   "cell_type": "markdown",
   "metadata": {},
   "source": [
    "# Import necessary libraries"
   ]
  },
  {
   "cell_type": "code",
   "execution_count": null,
   "metadata": {},
   "outputs": [],
   "source": [
    "!pip install pandas\n",
    "!pip install numpy\n",
    "!pip install matplotlib"
   ]
  },
  {
   "cell_type": "code",
   "execution_count": 32,
   "metadata": {},
   "outputs": [],
   "source": [
    "import pandas as pd\n",
    "import matplotlib.pyplot as plt\n",
    "import seaborn as sns"
   ]
  },
  {
   "cell_type": "markdown",
   "metadata": {},
   "source": [
    "## Import the dataset"
   ]
  },
  {
   "cell_type": "code",
   "execution_count": 6,
   "metadata": {},
   "outputs": [],
   "source": [
    "# Load the dataset\n",
    "df = pd.read_csv('dataset/races.csv')"
   ]
  },
  {
   "cell_type": "markdown",
   "metadata": {},
   "source": [
    "## Assessing Data Quality"
   ]
  },
  {
   "cell_type": "markdown",
   "metadata": {},
   "source": [
    "### Verify the datatypes make intuitive sense"
   ]
  },
  {
   "cell_type": "code",
   "execution_count": 27,
   "metadata": {},
   "outputs": [
    {
     "data": {
      "text/plain": [
       "_url                    object\n",
       "name                    object\n",
       "points                 float64\n",
       "uci_points             float64\n",
       "length                 float64\n",
       "climb_total            float64\n",
       "profile                float64\n",
       "startlist_quality        int64\n",
       "average_temperature    float64\n",
       "date                    object\n",
       "position                 int64\n",
       "cyclist                 object\n",
       "cyclist_age            float64\n",
       "is_tarmac                 bool\n",
       "is_cobbled                bool\n",
       "is_gravel                 bool\n",
       "cyclist_team            object\n",
       "delta                  float64\n",
       "dtype: object"
      ]
     },
     "execution_count": 27,
     "metadata": {},
     "output_type": "execute_result"
    }
   ],
   "source": [
    "df.dtypes"
   ]
  },
  {
   "cell_type": "markdown",
   "metadata": {},
   "source": [
    "### Check for missing values"
   ]
  },
  {
   "cell_type": "code",
   "execution_count": 7,
   "metadata": {},
   "outputs": [
    {
     "name": "stdout",
     "output_type": "stream",
     "text": [
      "_url                        0\n",
      "name                        0\n",
      "points                    477\n",
      "uci_points             338779\n",
      "length                      0\n",
      "climb_total            147045\n",
      "profile                148194\n",
      "startlist_quality           0\n",
      "average_temperature    559932\n",
      "date                        0\n",
      "position                    0\n",
      "cyclist                     0\n",
      "cyclist_age               113\n",
      "is_tarmac                   0\n",
      "is_cobbled                  0\n",
      "is_gravel                   0\n",
      "cyclist_team           159161\n",
      "delta                       0\n",
      "dtype: int64\n"
     ]
    }
   ],
   "source": [
    "# Check for missing values in each column\n",
    "missing_values = df.isna().sum()\n",
    "\n",
    "# Display the result\n",
    "print(missing_values)"
   ]
  },
  {
   "cell_type": "markdown",
   "metadata": {},
   "source": [
    "### Check for possible placeholder values"
   ]
  },
  {
   "cell_type": "code",
   "execution_count": 9,
   "metadata": {},
   "outputs": [
    {
     "name": "stdout",
     "output_type": "stream",
     "text": [
      "_url                   0\n",
      "name                   0\n",
      "points                 0\n",
      "uci_points             0\n",
      "length                 0\n",
      "climb_total            0\n",
      "profile                0\n",
      "startlist_quality      0\n",
      "average_temperature    0\n",
      "date                   0\n",
      "position               0\n",
      "cyclist                0\n",
      "cyclist_age            0\n",
      "is_tarmac              0\n",
      "is_cobbled             0\n",
      "is_gravel              0\n",
      "cyclist_team           0\n",
      "delta                  0\n",
      "dtype: int64\n"
     ]
    }
   ],
   "source": [
    "# List of potential \"placeholders\"\n",
    "unknown_values = [\"unknown\", \"N/A\", \"none\", \"missing\", \"na\", \"null\", \"\", \"other\"]\n",
    "\n",
    "# Check each column for occurrences of these values (case-insensitive)\n",
    "unknown_counts = df.apply(lambda col: col.astype(str).str.lower().isin(unknown_values).sum())\n",
    "\n",
    "# Display the counts of \"placeholder\" values for each column\n",
    "print(unknown_counts)"
   ]
  },
  {
   "cell_type": "markdown",
   "metadata": {},
   "source": [
    "### Check for duplicates"
   ]
  },
  {
   "cell_type": "code",
   "execution_count": 13,
   "metadata": {},
   "outputs": [
    {
     "name": "stdout",
     "output_type": "stream",
     "text": [
      "Number of duplicate rows: 0\n"
     ]
    }
   ],
   "source": [
    "# Find duplicate rows\n",
    "duplicate_rows = df[df.duplicated()]\n",
    "\n",
    "# Count the number of duplicate rows\n",
    "num_duplicate_rows = duplicate_rows.shape[0]\n",
    "\n",
    "# Display the number of duplicate rows (and the rows themselves if count > 0)\n",
    "print(f\"Number of duplicate rows: {num_duplicate_rows}\")\n",
    "if num_duplicate_rows:\n",
    "    print(\"Duplicate rows:\")\n",
    "    print(duplicate_rows)"
   ]
  },
  {
   "cell_type": "markdown",
   "metadata": {},
   "source": [
    "### Check for Inconsistent Values in Categorical Columns"
   ]
  },
  {
   "cell_type": "markdown",
   "metadata": {},
   "source": [
    "### Check Numeric Ranges\n",
    "\n",
    "Make sure numeric values fall within realistic ranges (e.g. length cannot be negative)"
   ]
  },
  {
   "cell_type": "code",
   "execution_count": 28,
   "metadata": {},
   "outputs": [
    {
     "name": "stdout",
     "output_type": "stream",
     "text": [
      "Number of races with negative or zero length: 0\n",
      "Number of races with negative or zero climb total: 0\n",
      "Number of races with negative points: 0\n",
      "Number of races with negative positions: 0\n",
      "Number of races with negative delta times: 86\n"
     ]
    }
   ],
   "source": [
    "negative_lengths = df[df['length'] <= 0]\n",
    "print(f\"Number of races with negative or zero length: {len(negative_lengths)}\")\n",
    "\n",
    "negative_climbs = df[df['climb_total'] <= 0]\n",
    "print(f\"Number of races with negative or zero climb total: {len(negative_climbs)}\")\n",
    "\n",
    "negative_points = df[(df['points'] < 0) | (df['uci_points'] < 0)]\n",
    "print(f\"Number of races with negative points: {len(negative_points)}\")\n",
    "\n",
    "negative_positions = df[df['position'] < 0]\n",
    "print(f\"Number of races with negative positions: {len(negative_positions)}\")\n",
    "\n",
    "negative_delta = df[df['delta'] < 0]\n",
    "print(f\"Number of races with negative delta times: {len(negative_delta)}\")\n",
    "\n"
   ]
  },
  {
   "cell_type": "markdown",
   "metadata": {},
   "source": [
    "### Identify outliers (IQR?)"
   ]
  },
  {
   "cell_type": "code",
   "execution_count": 35,
   "metadata": {},
   "outputs": [
    {
     "name": "stdout",
     "output_type": "stream",
     "text": [
      "Number of outliers in average temperature: 0\n"
     ]
    },
    {
     "data": {
      "image/png": "[encoded data removed]",
      "text/plain": [
       "<Figure size 1000x600 with 1 Axes>"
      ]
     },
     "metadata": {},
     "output_type": "display_data"
    },
    {
     "name": "stdout",
     "output_type": "stream",
     "text": [
      "Number of outliers in race length: 81960\n"
     ]
    },
    {
     "data": {
      "image/png": "[encoded data removed]",
      "text/plain": [
       "<Figure size 1000x600 with 1 Axes>"
      ]
     },
     "metadata": {},
     "output_type": "display_data"
    },
    {
     "name": "stdout",
     "output_type": "stream",
     "text": [
      "                                _url                        name  points  \\\n",
      "426  volta-a-catalunya/1999/prologue  Volta Ciclista a Catalunya    50.0   \n",
      "427  volta-a-catalunya/1999/prologue  Volta Ciclista a Catalunya    50.0   \n",
      "428  volta-a-catalunya/1999/prologue  Volta Ciclista a Catalunya    50.0   \n",
      "429  volta-a-catalunya/1999/prologue  Volta Ciclista a Catalunya    50.0   \n",
      "430  volta-a-catalunya/1999/prologue  Volta Ciclista a Catalunya    50.0   \n",
      "431  volta-a-catalunya/1999/prologue  Volta Ciclista a Catalunya    50.0   \n",
      "432  volta-a-catalunya/1999/prologue  Volta Ciclista a Catalunya    50.0   \n",
      "433  volta-a-catalunya/1999/prologue  Volta Ciclista a Catalunya    50.0   \n",
      "434  volta-a-catalunya/1999/prologue  Volta Ciclista a Catalunya    50.0   \n",
      "435  volta-a-catalunya/1999/prologue  Volta Ciclista a Catalunya    50.0   \n",
      "\n",
      "     uci_points  length  climb_total  profile  startlist_quality  \\\n",
      "426         NaN  8100.0          NaN      NaN                804   \n",
      "427         NaN  8100.0          NaN      NaN                804   \n",
      "428         NaN  8100.0          NaN      NaN                804   \n",
      "429         NaN  8100.0          NaN      NaN                804   \n",
      "430         NaN  8100.0          NaN      NaN                804   \n",
      "431         NaN  8100.0          NaN      NaN                804   \n",
      "432         NaN  8100.0          NaN      NaN                804   \n",
      "433         NaN  8100.0          NaN      NaN                804   \n",
      "434         NaN  8100.0          NaN      NaN                804   \n",
      "435         NaN  8100.0          NaN      NaN                804   \n",
      "\n",
      "     average_temperature                 date  position  \\\n",
      "426                  NaN  1999-06-17 00:10:12         0   \n",
      "427                  NaN  1999-06-17 00:10:15         1   \n",
      "428                  NaN  1999-06-17 00:10:16         2   \n",
      "429                  NaN  1999-06-17 00:10:20         3   \n",
      "430                  NaN  1999-06-17 00:10:23         4   \n",
      "431                  NaN  1999-06-17 00:10:28         5   \n",
      "432                  NaN  1999-06-17 00:10:28         6   \n",
      "433                  NaN  1999-06-17 00:10:30         7   \n",
      "434                  NaN  1999-06-17 00:10:30         8   \n",
      "435                  NaN  1999-06-17 00:10:35         9   \n",
      "\n",
      "                   cyclist  cyclist_age  is_tarmac  is_cobbled  is_gravel  \\\n",
      "426      angel-luis-casero         27.0       True       False      False   \n",
      "427         andrea-peron-1         28.0       True       False      False   \n",
      "428  abraham-olano-manzano         29.0       True       False      False   \n",
      "429        george-hincapie         26.0       True       False      False   \n",
      "430        santos-gonzalez         26.0       True       False      False   \n",
      "431        alvaro-gonzalez         29.0       True       False      False   \n",
      "432       paolo-savoldelli         26.0       True       False      False   \n",
      "433         manuel-beltran         28.0       True       False      False   \n",
      "434          sergei-ivanov         24.0       True       False      False   \n",
      "435       david-etxebarria         26.0       True       False      False   \n",
      "\n",
      "                         cyclist_team  delta  \n",
      "426            euskaltel-euskadi-2010    0.0  \n",
      "427                               NaN    3.0  \n",
      "428                   luxembourg-2013    4.0  \n",
      "429                      ireland-2005    8.0  \n",
      "430                               NaN   11.0  \n",
      "431                               NaN   16.0  \n",
      "432                      denmark-1991   16.0  \n",
      "433  team-saxo-bank-tinkoff-bank-2012   18.0  \n",
      "434            euskaltel-euskadi-2012   18.0  \n",
      "435                   luxembourg-2013   23.0  \n"
     ]
    }
   ],
   "source": [
    "# Use the IQR to find outliers for the average_temperature\n",
    "Q1 = df['average_temperature'].quantile(0.25)\n",
    "Q3 = df['average_temperature'].quantile(0.75)\n",
    "IQR = Q3 - Q1\n",
    "\n",
    "lower_bound = Q1 - 1.5 * IQR\n",
    "upper_bound = Q3 + 1.5 * IQR\n",
    "outliers = df[(df['average_temperature'] < lower_bound) | (df['average_temperature'] > upper_bound)]\n",
    "\n",
    "print(f\"Number of outliers in average temperature: {len(outliers)}\")\n",
    "\n",
    "# Plot the data using a boxplot\n",
    "plt.figure(figsize=(10, 6))\n",
    "sns.boxplot(x=df['average_temperature'])\n",
    "plt.title('Boxplot of Average Temperature with IQR Outlier Detection')\n",
    "plt.xlabel('Average Temperature (°C)')\n",
    "plt.show()\n",
    "\n",
    "\n",
    "# TODO this is repetitive, create a function instead\n",
    "# Use the IQR to find outliers for the race length \n",
    "Q1 = df['length'].quantile(0.25)\n",
    "Q3 = df['length'].quantile(0.75)\n",
    "IQR = Q3 - Q1\n",
    "\n",
    "lower_bound = Q1 - 1.5 * IQR\n",
    "upper_bound = Q3 + 1.5 * IQR\n",
    "outliers = df[(df['length'] < lower_bound) | (df['length'] > upper_bound)]\n",
    "\n",
    "print(f\"Number of outliers in race length: {len(outliers)}\")\n",
    "\n",
    "plt.figure(figsize=(10, 6))\n",
    "sns.boxplot(x=df['length'])\n",
    "plt.title('Boxplot of Race Length with IQR Outlier Detection')\n",
    "plt.xlabel('Race Length (meters)')\n",
    "plt.show()\n",
    "\n",
    "# Print the first 10 outliers since we actually HAVE outliers here...\n",
    "print(outliers.head(10))"
   ]
  },
  {
   "cell_type": "markdown",
   "metadata": {},
   "source": []
  }
 ],
 "metadata": {
  "kernelspec": {
   "display_name": "Python 3",
   "language": "python",
   "name": "python3"
  },
  "language_info": {
   "codemirror_mode": {
    "name": "ipython",
    "version": 3
   },
   "file_extension": ".py",
   "mimetype": "text/x-python",
   "name": "python",
   "nbconvert_exporter": "python",
   "pygments_lexer": "ipython3",
   "version": "3.11.5"
  }
 },
 "nbformat": 4,
 "nbformat_minor": 2
}
