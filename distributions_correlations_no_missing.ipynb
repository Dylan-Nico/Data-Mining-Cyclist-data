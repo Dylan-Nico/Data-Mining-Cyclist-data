{
 "cells": [
  {
   "cell_type": "markdown",
   "metadata": {},
   "source": [
    "## Importazione librerie e caricamento dataset"
   ]
  },
  {
   "cell_type": "code",
   "execution_count": null,
   "metadata": {},
   "outputs": [],
   "source": [
    "import pandas as pd\n",
    "import seaborn as sns\n",
    "import matplotlib.pyplot as plt\n",
    "from sklearn.preprocessing import MinMaxScaler, StandardScaler\n",
    "import numpy as np"
   ]
  },
  {
   "cell_type": "code",
   "execution_count": null,
   "metadata": {},
   "outputs": [],
   "source": [
    "df_cyclists = pd.read_csv('../dataset/df_cyclists_no_missing.csv')\n",
    "df_races = pd.read_csv('../dataset/df_races_no_missing.csv')"
   ]
  },
  {
   "cell_type": "markdown",
   "metadata": {},
   "source": [
    "## Cyclists"
   ]
  },
  {
   "cell_type": "code",
   "execution_count": null,
   "metadata": {},
   "outputs": [],
   "source": [
    "df_cyclists.head()"
   ]
  },
  {
   "cell_type": "code",
   "execution_count": null,
   "id": "f667f7f7",
   "metadata": {},
   "outputs": [],
   "source": [
    "df_cyclists.info()"
   ]
  },
  {
   "cell_type": "markdown",
   "metadata": {},
   "source": [
    "### Informazioni statistiche di base"
   ]
  },
  {
   "cell_type": "code",
   "execution_count": null,
   "metadata": {},
   "outputs": [],
   "source": [
    "df_cyclists.describe()"
   ]
  },
  {
   "cell_type": "markdown",
   "metadata": {},
   "source": [
    "### Checking for duplicates"
   ]
  },
  {
   "cell_type": "code",
   "execution_count": null,
   "metadata": {},
   "outputs": [],
   "source": [
    "num_duplicates = df_cyclists.duplicated().sum()\n",
    "print(f'Number of duplicate rows: {num_duplicates}')"
   ]
  },
  {
   "cell_type": "markdown",
   "metadata": {},
   "source": [
    "## Data Distribution - Cylists"
   ]
  },
  {
   "cell_type": "markdown",
   "metadata": {},
   "source": [
    "### Birth Year"
   ]
  },
  {
   "cell_type": "code",
   "execution_count": null,
   "metadata": {},
   "outputs": [],
   "source": [
    "\n",
    "df_cyclists['birth_year'].value_counts()"
   ]
  },
  {
   "cell_type": "code",
   "execution_count": null,
   "metadata": {},
   "outputs": [],
   "source": [
    "df_cyclists['birth_year'].describe()"
   ]
  },
  {
   "cell_type": "code",
   "execution_count": null,
   "metadata": {},
   "outputs": [],
   "source": [
    "def sturges_bin_count(df):\n",
    "    \"\"\"Calculate optimal number of bins based on Sturges' rule\"\"\"\n",
    "    return int(np.ceil(np.log2(len(df)) + 1))"
   ]
  },
  {
   "cell_type": "code",
   "execution_count": null,
   "metadata": {},
   "outputs": [],
   "source": [
    "bins = sturges_bin_count(df_cyclists[\"birth_year\"])\n",
    "print(f\"Recommended number of bins: {bins}\")"
   ]
  },
  {
   "cell_type": "code",
   "execution_count": null,
   "metadata": {},
   "outputs": [],
   "source": [
    "sns.displot(df_cyclists, x=\"birth_year\", kind=\"hist\", row_order=\"desc\", bins=bins)"
   ]
  },
  {
   "cell_type": "code",
   "execution_count": null,
   "metadata": {},
   "outputs": [],
   "source": [
    "sns.boxplot(x='birth_year', data=df_cyclists)"
   ]
  },
  {
   "cell_type": "markdown",
   "metadata": {},
   "source": [
    "### Weight"
   ]
  },
  {
   "cell_type": "code",
   "execution_count": null,
   "metadata": {},
   "outputs": [],
   "source": [
    "df_cyclists['weight'].value_counts()"
   ]
  },
  {
   "cell_type": "code",
   "execution_count": null,
   "metadata": {},
   "outputs": [],
   "source": [
    "df_cyclists['weight'].describe()"
   ]
  },
  {
   "cell_type": "code",
   "execution_count": null,
   "metadata": {},
   "outputs": [],
   "source": [
    "bins = sturges_bin_count(df_cyclists[\"weight\"])\n",
    "print(f\"Recommended number of bins: {bins}\")"
   ]
  },
  {
   "cell_type": "code",
   "execution_count": null,
   "metadata": {},
   "outputs": [],
   "source": [
    "sns.displot(df_cyclists, x=\"weight\", kind=\"hist\", row_order=\"desc\", bins=bins)"
   ]
  },
  {
   "cell_type": "code",
   "execution_count": null,
   "metadata": {},
   "outputs": [],
   "source": [
    "sns.boxplot(x='weight', data=df_cyclists)"
   ]
  },
  {
   "cell_type": "markdown",
   "metadata": {},
   "source": [
    "### Height"
   ]
  },
  {
   "cell_type": "code",
   "execution_count": null,
   "metadata": {},
   "outputs": [],
   "source": [
    "df_cyclists['height'].value_counts()"
   ]
  },
  {
   "cell_type": "code",
   "execution_count": null,
   "metadata": {},
   "outputs": [],
   "source": [
    "df_cyclists['height'].describe()"
   ]
  },
  {
   "cell_type": "code",
   "execution_count": null,
   "metadata": {},
   "outputs": [],
   "source": [
    "bins = sturges_bin_count(df_cyclists[\"height\"])\n",
    "print(f\"Recommended number of bins: {bins}\")"
   ]
  },
  {
   "cell_type": "code",
   "execution_count": null,
   "metadata": {},
   "outputs": [],
   "source": [
    "sns.displot(df_cyclists, x=\"height\", kind=\"hist\", row_order=\"desc\", bins=bins)"
   ]
  },
  {
   "cell_type": "code",
   "execution_count": null,
   "metadata": {},
   "outputs": [],
   "source": [
    "sns.boxplot(x='height', data=df_cyclists)"
   ]
  },
  {
   "cell_type": "markdown",
   "metadata": {},
   "source": [
    "### Nationality"
   ]
  },
  {
   "cell_type": "code",
   "execution_count": null,
   "metadata": {},
   "outputs": [],
   "source": [
    "df_cyclists['nationality'].value_counts()"
   ]
  },
  {
   "cell_type": "code",
   "execution_count": null,
   "metadata": {},
   "outputs": [],
   "source": [
    "sns.displot(df_cyclists, x=\"nationality\", kind=\"hist\", row_order=\"desc\", bins=len(df_cyclists['nationality'].unique()), aspect=2)\n",
    "plt.xticks(rotation=90);"
   ]
  },
  {
   "cell_type": "markdown",
   "metadata": {},
   "source": [
    "### Height distribution by nationality"
   ]
  },
  {
   "cell_type": "code",
   "execution_count": null,
   "metadata": {},
   "outputs": [],
   "source": [
    "plt.figure(figsize=(20, 10))\n",
    "sns.boxplot(data=df_cyclists, x='height', y='nationality')\n",
    "plt.title('Height Distribution by Nationality')\n",
    "plt.xlabel('Height (cm)')\n",
    "plt.ylabel('Nationality')\n",
    "plt.show()"
   ]
  },
  {
   "cell_type": "markdown",
   "metadata": {},
   "source": [
    "### Height Vs. Weight (By Nationality)"
   ]
  },
  {
   "cell_type": "code",
   "execution_count": null,
   "metadata": {},
   "outputs": [],
   "source": [
    "plt.figure(figsize=(10, 6))\n",
    "sns.scatterplot(data=df_cyclists, x='weight', y='height', hue='nationality', alpha=0.6, legend=False)\n",
    "plt.title('Height vs. Weight (by Nationality)')\n",
    "plt.xlabel('Weight (kg)')\n",
    "plt.ylabel('Height (cm)')\n",
    "plt.show()"
   ]
  },
  {
   "cell_type": "markdown",
   "metadata": {},
   "source": [
    "### Height trends by decade"
   ]
  },
  {
   "cell_type": "code",
   "execution_count": null,
   "metadata": {},
   "outputs": [],
   "source": [
    "df_cyclists['decade'] = (df_cyclists['birth_year'] // 10) * 10\n",
    "\n",
    "height_trends = df_cyclists.groupby('decade')['height'].mean().reset_index()\n",
    "\n",
    "plt.figure(figsize=(10, 6))\n",
    "sns.lineplot(data=height_trends, x='decade', y='height', marker='o')\n",
    "plt.title('Average Height Trends Over Decades')\n",
    "plt.xlabel('Decade')\n",
    "plt.ylabel('Average Height (cm)')\n",
    "plt.xticks(rotation=45)\n",
    "plt.grid(True)\n",
    "plt.show()\n",
    "\n",
    "height_trends"
   ]
  },
  {
   "cell_type": "markdown",
   "metadata": {},
   "source": [
    "### Weight trends by decade"
   ]
  },
  {
   "cell_type": "code",
   "execution_count": null,
   "metadata": {},
   "outputs": [],
   "source": [
    "weight_trends = df_cyclists.groupby('decade')['weight'].mean().reset_index()\n",
    "\n",
    "plt.figure(figsize=(10, 6))\n",
    "sns.lineplot(data=weight_trends, x='decade', y='weight', marker='o')\n",
    "plt.title('Average Weight Trends Over Decades')\n",
    "plt.xlabel('Decade')\n",
    "plt.ylabel('Average Weight (kg)')\n",
    "plt.xticks(rotation=45)\n",
    "plt.grid(True)\n",
    "plt.show()\n",
    "\n",
    "weight_trends"
   ]
  },
  {
   "cell_type": "markdown",
   "metadata": {},
   "source": [
    "## Races"
   ]
  },
  {
   "cell_type": "code",
   "execution_count": null,
   "metadata": {},
   "outputs": [],
   "source": [
    "df_races.head()"
   ]
  },
  {
   "cell_type": "code",
   "execution_count": null,
   "metadata": {},
   "outputs": [],
   "source": [
    "df_races.info()"
   ]
  },
  {
   "cell_type": "markdown",
   "metadata": {},
   "source": [
    "### Informazioni statistiche di base"
   ]
  },
  {
   "cell_type": "code",
   "execution_count": null,
   "metadata": {},
   "outputs": [],
   "source": [
    "df_races.describe()"
   ]
  },
  {
   "cell_type": "markdown",
   "metadata": {},
   "source": [
    "### Checking for duplicates"
   ]
  },
  {
   "cell_type": "code",
   "execution_count": null,
   "metadata": {},
   "outputs": [],
   "source": [
    "num_duplicates = df_races.duplicated().sum()\n",
    "print(f'Number of duplicate rows: {num_duplicates}')"
   ]
  },
  {
   "cell_type": "markdown",
   "metadata": {},
   "source": [
    "## Data Distribution - Races"
   ]
  },
  {
   "cell_type": "code",
   "execution_count": null,
   "metadata": {},
   "outputs": [],
   "source": [
    "numeric_columns = df_races.select_dtypes(include=['int64', 'float64']).columns\n",
    "categorical_columns = df_races.select_dtypes(include=['object', 'category', 'bool']).columns\n"
   ]
  },
  {
   "cell_type": "markdown",
   "metadata": {},
   "source": [
    "### Numerical columns"
   ]
  },
  {
   "cell_type": "code",
   "execution_count": null,
   "metadata": {},
   "outputs": [],
   "source": [
    "for col in numeric_columns:\n",
    "    bins = sturges_bin_count(df_races[col])\n",
    "    sns.displot(df_races, x=col, kind=\"hist\", row_order=\"desc\", bins=bins)"
   ]
  },
  {
   "cell_type": "code",
   "execution_count": null,
   "metadata": {},
   "outputs": [],
   "source": [
    "for col in numeric_columns:\n",
    "    plt.figure(figsize=(10, 5))\n",
    "    sns.boxplot(data=df_races, x=col)\n",
    "    plt.title(f'Boxplot for {col}')\n",
    "    plt.xlabel(col)\n",
    "    plt.show()"
   ]
  },
  {
   "cell_type": "code",
   "execution_count": null,
   "metadata": {},
   "outputs": [],
   "source": [
    "df_races.head()"
   ]
  },
  {
   "cell_type": "markdown",
   "metadata": {},
   "source": [
    "### Non numerical columns (only the most important ones)"
   ]
  },
  {
   "cell_type": "code",
   "execution_count": null,
   "metadata": {},
   "outputs": [],
   "source": [
    "frequences = df_races['name'].value_counts()\n",
    "\n",
    "plt.figure(figsize=(8, 5))\n",
    "frequences.plot(kind='bar')\n",
    "plt.title('Grafico delle Frequenze')\n",
    "plt.xlabel('Race name')\n",
    "plt.ylabel('count')\n",
    "plt.xticks(rotation=90)\n",
    "plt.show()"
   ]
  },
  {
   "cell_type": "code",
   "execution_count": null,
   "metadata": {},
   "outputs": [],
   "source": [
    "frequences = df_races['cyclist_team'].value_counts()\n",
    "\n",
    "plt.figure(figsize=(15, 12))\n",
    "frequences.plot(kind='bar')\n",
    "plt.title('Grafico delle Frequenze')\n",
    "plt.xlabel('Cyclist Team')\n",
    "plt.ylabel('count')\n",
    "plt.xticks(rotation=90)\n",
    "plt.show()"
   ]
  },
  {
   "cell_type": "code",
   "execution_count": null,
   "metadata": {},
   "outputs": [],
   "source": [
    "frequences = df_races['cyclist'].value_counts()\n",
    "filtered_frequences = frequences[frequences > 500]\n",
    "\n",
    "plt.figure(figsize=(15, 12))\n",
    "filtered_frequences.plot(kind='bar')\n",
    "plt.title('Grafico delle Frequenze')\n",
    "plt.xlabel('Cyclist')\n",
    "plt.ylabel('count')\n",
    "plt.xticks(rotation=90)\n",
    "plt.show()"
   ]
  },
  {
   "cell_type": "markdown",
   "metadata": {},
   "source": [
    "### Lenght vs climb_total (by profile)"
   ]
  },
  {
   "cell_type": "code",
   "execution_count": null,
   "metadata": {},
   "outputs": [],
   "source": [
    "plt.figure(figsize=(10, 6))\n",
    "sns.scatterplot(data=df_races, x='length', y='climb_total', hue='profile')\n",
    "plt.title('Lunghezza della corsa vs Metri totali di salita')\n",
    "plt.xlabel('Lunghezza della corsa')\n",
    "plt.ylabel('Metri totali di salita')\n",
    "plt.show()"
   ]
  },
  {
   "cell_type": "markdown",
   "metadata": {},
   "source": [
    "### Profile vs Position/Delta"
   ]
  },
  {
   "cell_type": "code",
   "execution_count": null,
   "metadata": {},
   "outputs": [],
   "source": [
    "plt.figure(figsize=(12, 6))\n",
    "sns.boxplot(data=df_races, x='profile', y='delta')\n",
    "plt.title('Profilo della corsa vs Delta')\n",
    "plt.xlabel('Profilo della corsa')\n",
    "plt.ylabel('Delta (s)')\n",
    "plt.show()\n",
    "\n",
    "plt.figure(figsize=(12, 6))\n",
    "sns.boxplot(data=df_races, x='profile', y='position')\n",
    "plt.title('Profilo della corsa vs Posizione')\n",
    "plt.xlabel('Profilo della corsa')\n",
    "plt.ylabel('Posizione finale')\n",
    "plt.show()"
   ]
  },
  {
   "cell_type": "markdown",
   "metadata": {},
   "source": [
    "### Surfaces analysis"
   ]
  },
  {
   "cell_type": "code",
   "execution_count": null,
   "metadata": {},
   "outputs": [],
   "source": [
    "plt.figure(figsize=(10, 6))\n",
    "sns.boxplot(data=df_races, x='is_tarmac', y='delta')\n",
    "plt.title('Prestazioni su superfici diverse (is_X) vs Delta')\n",
    "plt.xlabel('Tipo di superficie')\n",
    "plt.ylabel('Delta (s)')\n",
    "plt.show()"
   ]
  },
  {
   "cell_type": "code",
   "execution_count": null,
   "metadata": {},
   "outputs": [],
   "source": [
    "plt.figure(figsize=(10, 6))\n",
    "sns.boxplot(data=df_races, x='is_cobbled', y='delta')\n",
    "plt.title('Prestazioni su superfici diverse (is_X) vs Delta')\n",
    "plt.xlabel('Tipo di superficie')\n",
    "plt.ylabel('Delta (s)')\n",
    "plt.show()"
   ]
  },
  {
   "cell_type": "code",
   "execution_count": null,
   "metadata": {},
   "outputs": [],
   "source": [
    "plt.figure(figsize=(10, 6))\n",
    "sns.boxplot(data=df_races, x='is_gravel', y='delta')\n",
    "plt.title('Prestazioni su superfici diverse (is_X) vs Delta')\n",
    "plt.xlabel('Tipo di superficie')\n",
    "plt.ylabel('Delta (s)')\n",
    "plt.show()"
   ]
  },
  {
   "cell_type": "markdown",
   "metadata": {},
   "source": [
    "### Startlist_quality vs delta"
   ]
  },
  {
   "cell_type": "code",
   "execution_count": null,
   "metadata": {},
   "outputs": [],
   "source": [
    "df_races['startlist_quality'].value_counts()"
   ]
  },
  {
   "cell_type": "markdown",
   "metadata": {},
   "source": [
    "## Combination of the two - Data Distribution"
   ]
  },
  {
   "cell_type": "code",
   "execution_count": null,
   "metadata": {},
   "outputs": [],
   "source": [
    "df_merged = pd.merge(df_races, df_cyclists, left_on='cyclist', right_on='_url', how='inner')"
   ]
  },
  {
   "cell_type": "code",
   "execution_count": null,
   "metadata": {},
   "outputs": [],
   "source": [
    "plt.figure(figsize=(10, 6))\n",
    "sns.scatterplot(data=df_merged, x='cyclist_age', y='weight', alpha=0.6)\n",
    "plt.title('Age vs. Weight')\n",
    "plt.xlabel('Age (years)')\n",
    "plt.ylabel('Weight (kg)')\n",
    "plt.show()"
   ]
  },
  {
   "cell_type": "code",
   "execution_count": null,
   "metadata": {},
   "outputs": [],
   "source": [
    "plt.figure(figsize=(10, 6))\n",
    "sns.scatterplot(data=df_merged, x='cyclist_age', y='height', alpha=0.6)\n",
    "plt.title('Age vs. Height')\n",
    "plt.xlabel('Age (years)')\n",
    "plt.ylabel('Height (cm)')\n",
    "plt.show()"
   ]
  },
  {
   "cell_type": "code",
   "execution_count": null,
   "metadata": {},
   "outputs": [],
   "source": [
    "df_merged['age_group'] = pd.cut(df_merged['cyclist_age'], bins=[0, 20, 30, 40, 50, 60, 100], labels=['0-20', '21-30', '31-40', '41-50', '51-60', '60+'])\n",
    "\n",
    "plt.figure(figsize=(12, 8))\n",
    "sns.scatterplot(data=df_merged, x='weight', y='height', hue='age_group', alpha=0.7)\n",
    "plt.title('Height vs. Weight Distribution by Age Group')\n",
    "plt.xlabel('Weight (kg)')\n",
    "plt.ylabel('Height (cm)')\n",
    "plt.legend(title='Age Group')\n",
    "plt.show()"
   ]
  },
  {
   "cell_type": "code",
   "execution_count": null,
   "metadata": {},
   "outputs": [],
   "source": [
    "plt.figure(figsize=(12, 6))\n",
    "sns.boxplot(data=df_merged, x='nationality', y='position')\n",
    "plt.title('Distribuzione della Posizione Finale per Nazionalità')\n",
    "plt.xlabel('Nazionalità')\n",
    "plt.ylabel('Posizione Finale')\n",
    "plt.xticks(rotation=90)\n",
    "plt.show()"
   ]
  },
  {
   "cell_type": "code",
   "execution_count": null,
   "metadata": {},
   "outputs": [],
   "source": [
    "plt.figure(figsize=(12, 6))\n",
    "sns.scatterplot(data=df_merged, x='cyclist_age', y='position')\n",
    "plt.title('Posizione Finale in funzione dell\\'Età del Ciclista')\n",
    "plt.xlabel('Età del Ciclista')\n",
    "plt.ylabel('Posizione Finale')\n",
    "plt.show()"
   ]
  },
  {
   "cell_type": "code",
   "execution_count": null,
   "metadata": {},
   "outputs": [],
   "source": [
    "plt.figure(figsize=(12, 6))\n",
    "sns.scatterplot(data=df_merged, x='weight', y='delta', hue='position', palette='viridis')\n",
    "plt.title('Peso del Ciclista vs Delta')\n",
    "plt.xlabel('Peso del Ciclista (kg)')\n",
    "plt.ylabel('Delta (s)')\n",
    "plt.show()"
   ]
  },
  {
   "cell_type": "code",
   "execution_count": null,
   "metadata": {},
   "outputs": [],
   "source": [
    "plt.figure(figsize=(12, 6))\n",
    "sns.scatterplot(data=df_merged, x='height', y='delta', hue='position', palette='viridis')\n",
    "plt.title('Altezza del Ciclista vs Delta')\n",
    "plt.xlabel('Altezza del Ciclista (cm)')\n",
    "plt.ylabel('Delta (s)')\n",
    "plt.show()"
   ]
  },
  {
   "cell_type": "code",
   "execution_count": null,
   "metadata": {},
   "outputs": [],
   "source": [
    "df_merged['height_category'] = pd.cut(df_merged['height'], bins=[140, 160, 180, 200], labels=['Short', 'Medium', 'Tall'])\n",
    "plt.figure(figsize=(12, 6))\n",
    "sns.boxplot(data=df_merged, x='profile', y='position', hue='height_category')\n",
    "plt.title('Profilo della Corsa vs Posizione per Categorie di Altezza')\n",
    "plt.xlabel('Profilo della Corsa')\n",
    "plt.ylabel('Posizione Finale')\n",
    "plt.legend(title='Categoria di Altezza')\n",
    "plt.show()"
   ]
  },
  {
   "cell_type": "code",
   "execution_count": null,
   "metadata": {},
   "outputs": [],
   "source": [
    "df_merged['weight_category'] = pd.cut(df_merged['weight'], bins=[0, 60, 75, 90, 120], labels=['Light', 'Medium', 'Heavy', 'Very Heavy'])\n",
    "plt.figure(figsize=(12, 6))\n",
    "sns.boxplot(data=df_merged, x='profile', y='position', hue='weight_category')\n",
    "plt.title('Profilo della Corsa vs Posizione per Categorie di Peso')\n",
    "plt.xlabel('Profilo della Corsa')\n",
    "plt.ylabel('Posizione Finale')\n",
    "plt.legend(title='Categoria di Altezza')\n",
    "plt.show()"
   ]
  },
  {
   "cell_type": "code",
   "execution_count": null,
   "metadata": {},
   "outputs": [],
   "source": [
    "df_merged['weight_category'] = pd.cut(df_merged['weight'], bins=[0, 60, 75, 90, 120], labels=['Light', 'Medium', 'Heavy', 'Very Heavy'])\n",
    "plt.figure(figsize=(12, 6))\n",
    "sns.boxplot(data=df_merged, x='weight_category', y='position')\n",
    "plt.title('Distribuzione della Posizione Finale per Categorie di Peso')\n",
    "plt.xlabel('Categoria di Peso')\n",
    "plt.ylabel('Posizione Finale')\n",
    "plt.show()"
   ]
  },
  {
   "cell_type": "code",
   "execution_count": null,
   "metadata": {},
   "outputs": [],
   "source": [
    "df_merged['height_category'] = pd.cut(df_merged['height'], bins=[140, 160, 180, 200], labels=['Short', 'Medium', 'Tall'])\n",
    "plt.figure(figsize=(10, 6))\n",
    "sns.boxplot(data=df_merged, x='height_category', y='position')\n",
    "plt.title('Distribuzione del Delta per Altezza del Ciclista')\n",
    "plt.xlabel('Categoria di Altezza')\n",
    "plt.ylabel('Posizione')\n",
    "plt.show()"
   ]
  },
  {
   "cell_type": "code",
   "execution_count": null,
   "metadata": {},
   "outputs": [],
   "source": [
    "plt.figure(figsize=(12, 6))\n",
    "sns.boxplot(data=df_merged, x='profile', y='delta', hue='weight_category')\n",
    "plt.title('Profilo della Corsa vs Delta per Categorie di Peso')\n",
    "plt.xlabel('Profilo della Corsa')\n",
    "plt.ylabel('Delta (s)')\n",
    "plt.legend(title='Categoria di Peso')\n",
    "plt.show()"
   ]
  },
  {
   "cell_type": "code",
   "execution_count": null,
   "metadata": {},
   "outputs": [],
   "source": [
    "plt.figure(figsize=(12, 6))\n",
    "sns.boxplot(data=df_merged, x='profile', y='delta', hue='height_category')\n",
    "plt.title('Profilo della Corsa vs Delta per Categorie di Altezza')\n",
    "plt.xlabel('Profilo della Corsa')\n",
    "plt.ylabel('Delta (s)')\n",
    "plt.legend(title='Categoria di Altezza')\n",
    "plt.show()"
   ]
  },
  {
   "cell_type": "code",
   "execution_count": null,
   "metadata": {},
   "outputs": [],
   "source": [
    "stratified_sample = df_merged.groupby('nationality', group_keys=False).apply(lambda x: x.sample(min(len(x), 50))) \n",
    "plt.figure(figsize=(12, 9))\n",
    "sns.boxplot(data=stratified_sample, x='nationality', y='position')\n",
    "plt.title('Distribuzione della Posizione per Nazionalità')\n",
    "plt.xlabel('Nazionalità')\n",
    "plt.ylabel('Posizione Finale')\n",
    "plt.xticks(rotation=90)\n",
    "plt.show()"
   ]
  },
  {
   "cell_type": "code",
   "execution_count": null,
   "metadata": {},
   "outputs": [],
   "source": [
    "stratified_sample = df_merged.groupby('profile', group_keys=False).apply(lambda x: x.sample(min(len(x), 30)))\n",
    "plt.figure(figsize=(12, 6))\n",
    "sns.scatterplot(data=stratified_sample, x='weight', y='delta', hue='profile')\n",
    "plt.title('Peso vs Delta per Profili di Corsa (Campionamento Stratificato)')\n",
    "plt.xlabel('Peso del Ciclista (kg)')\n",
    "plt.ylabel('Delta (s)')\n",
    "plt.legend(title='Profilo della Corsa')\n",
    "plt.show()"
   ]
  },
  {
   "cell_type": "code",
   "execution_count": null,
   "metadata": {},
   "outputs": [],
   "source": [
    "stratified_sample = df_merged.groupby('profile', group_keys=False).apply(lambda x: x.sample(min(len(x), 30)))\n",
    "plt.figure(figsize=(12, 6))\n",
    "sns.scatterplot(data=stratified_sample, x='height', y='delta', hue='profile')\n",
    "plt.title('Altezza vs Delta(s) per Profilo di Corsa (Campionamento Stratificato)')\n",
    "plt.xlabel('Altezza del Ciclista (cm)')\n",
    "plt.ylabel('Delta(s)')\n",
    "plt.legend(title='Profilo della Corsa')\n",
    "plt.show()"
   ]
  },
  {
   "cell_type": "code",
   "execution_count": null,
   "metadata": {},
   "outputs": [],
   "source": [
    "stratified_sample_age = df_merged.groupby('cyclist_age', group_keys=False).apply(lambda x: x.sample(min(len(x), 30)))\n",
    "plt.figure(figsize=(12, 6))\n",
    "sns.boxplot(data=stratified_sample_age, x='profile', y='position', hue='cyclist_age')\n",
    "plt.title('Profilo della Corsa vs Position per Età del Ciclista alla Gara (Campionamento Stratificato)')\n",
    "plt.xlabel('Profilo della Corsa')\n",
    "plt.ylabel('Position')\n",
    "plt.legend(title='Età del Ciclista alla Gara')\n",
    "plt.show()\n"
   ]
  },
  {
   "cell_type": "code",
   "execution_count": null,
   "metadata": {},
   "outputs": [],
   "source": [
    "mountain_races = df_merged[df_merged['profile'] == 4 | 5]\n",
    "plt.figure(figsize=(12, 6))\n",
    "sns.boxplot(data=mountain_races, x='weight_category', y='position')\n",
    "plt.title('Prestazioni dei Ciclisti in Gare di Montagna per Categoria di Peso')\n",
    "plt.xlabel('Categoria di Peso')\n",
    "plt.ylabel('Posizione Finale')\n",
    "plt.show()"
   ]
  },
  {
   "cell_type": "code",
   "execution_count": null,
   "metadata": {},
   "outputs": [],
   "source": [
    "\n",
    "mountain_races = df_merged[df_merged['profile'] == 4 | 5]\n",
    "plt.figure(figsize=(12, 6))\n",
    "sns.boxplot(data=mountain_races, x='height_category', y='position')\n",
    "plt.title('Prestazioni dei Ciclisti in Gare di Montagna per Categoria di Altezza')\n",
    "plt.xlabel('Categoria di Altezza')\n",
    "plt.ylabel('Posizione Finale')\n",
    "plt.show()"
   ]
  },
  {
   "cell_type": "code",
   "execution_count": null,
   "metadata": {},
   "outputs": [],
   "source": [
    "flat_races = df_merged[df_merged['profile'] == 1]\n",
    "plt.figure(figsize=(12, 6))\n",
    "sns.boxplot(data=flat_races, x='height_category', y='position')\n",
    "plt.title('Prestazioni dei Ciclisti in Gare Pianeggianti per Categoria di Altezza')\n",
    "plt.xlabel('Categoria di Altezza')\n",
    "plt.ylabel('Posizione Finale')\n",
    "plt.show()"
   ]
  },
  {
   "cell_type": "code",
   "execution_count": null,
   "metadata": {},
   "outputs": [],
   "source": [
    "flat_races = df_merged[df_merged['profile'] == 1]\n",
    "plt.figure(figsize=(12, 6))\n",
    "sns.boxplot(data=flat_races, x='weight_category', y='position')\n",
    "plt.title('Prestazioni dei Ciclisti in Gare Pianeggianti per Categoria di Peso')\n",
    "plt.xlabel('Categoria di Peso')\n",
    "plt.ylabel('Posizione Finale')\n",
    "plt.show()"
   ]
  },
  {
   "cell_type": "code",
   "execution_count": null,
   "metadata": {},
   "outputs": [],
   "source": [
    "plt.figure(figsize=(12, 6))\n",
    "sns.boxplot(data=df_merged, x='profile', y='delta')\n",
    "plt.title('Distribuzione del Delta per Differenti Profili di Gara')\n",
    "plt.xlabel('Profilo della Gara')\n",
    "plt.ylabel('Delta (s)')\n",
    "plt.show()"
   ]
  },
  {
   "cell_type": "code",
   "execution_count": null,
   "metadata": {},
   "outputs": [],
   "source": [
    "plt.figure(figsize=(12, 6))\n",
    "sns.scatterplot(data=df_merged, x='weight', y='delta', hue='profile', palette='viridis')\n",
    "plt.title('Peso vs Delta con Differenti Profili di Gara')\n",
    "plt.xlabel('Peso del Ciclista (kg)')\n",
    "plt.ylabel('Delta (s)')\n",
    "plt.legend(title='Profilo della Gara')\n",
    "plt.show()"
   ]
  },
  {
   "cell_type": "code",
   "execution_count": null,
   "metadata": {},
   "outputs": [],
   "source": [
    "# Identificazione dei leader basata su posizioni medie e delta\n",
    "df_merged['leader_candidate'] = (df_merged['position'] <= 5) & (df_merged['delta'] < df_merged['delta'].quantile(0.25))\n",
    "\n",
    "# Visualizza il conteggio dei leader identificati\n",
    "plt.figure(figsize=(6, 6))\n",
    "sns.countplot(data=df_merged, x='leader_candidate')\n",
    "plt.title('Distribuzione dei Ciclisti Leader Identificati')\n",
    "plt.xlabel('Leader Identificato')\n",
    "plt.ylabel('Conteggio')\n",
    "plt.show()"
   ]
  },
  {
   "cell_type": "code",
   "execution_count": null,
   "metadata": {},
   "outputs": [],
   "source": [
    "puncheur_races = df_merged[df_merged['profile'] == 3 | 2]\n",
    "plt.figure(figsize=(12, 6))\n",
    "sns.boxplot(data=puncheur_races, x='weight_category', y='position')\n",
    "plt.title('Prestazioni dei Puncheur in Gare Collinari')\n",
    "plt.xlabel('Categoria di Peso')\n",
    "plt.ylabel('Posizione Finale')\n",
    "plt.show()"
   ]
  },
  {
   "cell_type": "markdown",
   "metadata": {},
   "source": [
    "## Correlation Analysis - Cyclists"
   ]
  },
  {
   "cell_type": "code",
   "execution_count": null,
   "metadata": {},
   "outputs": [],
   "source": [
    "from typing import Tuple, Dict, Any\n",
    "\n",
    "def __transform_single_features(dataset: pd.DataFrame, transformation: str) -> Tuple[\n",
    "    pd.DataFrame, Dict[str, Any]]:\n",
    "    match transformation:\n",
    "        case \"standard\":\n",
    "            transformed_dataset = dataset.copy().select_dtypes(exclude=[\"object\", \"category\", \"bool\", \"datetime64\"])\n",
    "            transformations = dict()\n",
    "\n",
    "            for feature in transformed_dataset.columns:\n",
    "                transformations[feature] = StandardScaler()\n",
    "                transformed_feature = transformations[feature].fit_transform(transformed_dataset[[feature]]).squeeze()\n",
    "                transformed_dataset = transformed_dataset.astype({feature: transformed_feature.dtype})\n",
    "                transformed_dataset.loc[:, feature] = transformed_feature\n",
    "        case _:\n",
    "            raise ValueError(f\"Unknown transformation: {transformation}\")\n",
    "\n",
    "    return transformed_dataset, transformations\n",
    "\n",
    "\n",
    "def center_and_scale(dataset: pd.DataFrame) -> Tuple[pd.DataFrame, Dict[str, Any]]:\n",
    "    \"\"\"Shifts data to the origin: removes mean and scales by standard deviation all numeric features. Returns a copy of the dataset.\"\"\"\n",
    "    return __transform_single_features(dataset, \"standard\")\n",
    "\n",
    "def correlations(dataset: pd.DataFrame) -> pd.DataFrame:\n",
    "    correlations_dictionary = {\n",
    "        correlation_type: dataset.corr(numeric_only=True, method=correlation_type)\n",
    "        for correlation_type in (\"kendall\", \"pearson\", \"spearman\")\n",
    "    }\n",
    "    for i, k in enumerate(correlations_dictionary.keys()):\n",
    "        correlations_dictionary[k].loc[:, \"correlation_type\"] = k\n",
    "    correlations_matrix = pd.concat(correlations_dictionary.values())\n",
    "\n",
    "    return correlations_matrix"
   ]
  },
  {
   "cell_type": "code",
   "execution_count": null,
   "metadata": {},
   "outputs": [],
   "source": [
    "normalized_dataset, normalization_scalers_dataset = center_and_scale(df_cyclists)\n",
    "correlations = correlations(normalized_dataset)\n",
    "correlations"
   ]
  },
  {
   "cell_type": "code",
   "execution_count": null,
   "metadata": {},
   "outputs": [],
   "source": [
    "g = sns.FacetGrid(correlations, col=\"correlation_type\")\n",
    "g.map_dataframe(\n",
    "    lambda data, color: sns.heatmap(\n",
    "        data[data.columns[:-1]], \n",
    "        cmap=\"viridis\",  \n",
    "        cbar_kws={'label': 'Correlazione'} \n",
    "    )\n",
    ")\n",
    "\n",
    "plt.show()"
   ]
  },
  {
   "cell_type": "code",
   "execution_count": null,
   "metadata": {},
   "outputs": [],
   "source": [
    "numerical_features = df_cyclists.select_dtypes(include=['int64', 'float64']).columns\n",
    "\n",
    "sns.pairplot(df_cyclists[numerical_features])\n",
    "plt.show()"
   ]
  },
  {
   "cell_type": "markdown",
   "metadata": {},
   "source": [
    "## Correlation analysis - Races"
   ]
  },
  {
   "cell_type": "code",
   "execution_count": null,
   "metadata": {},
   "outputs": [],
   "source": [
    "df_races = pd.read_csv('../dataset/df_races_no_missing.csv')\n",
    "normalized_dataset, normalization_scalers_dataset = center_and_scale(df_races)\n",
    "correlation_results = correlations(normalized_dataset) \n",
    "correlation_results\n"
   ]
  },
  {
   "cell_type": "code",
   "execution_count": null,
   "metadata": {},
   "outputs": [],
   "source": [
    "g = sns.FacetGrid(correlation_results, col=\"correlation_type\")\n",
    "g.map_dataframe(\n",
    "    lambda data, color: sns.heatmap(\n",
    "        data[data.columns[:-1]], \n",
    "        cmap=\"viridis\",  \n",
    "        cbar_kws={'label': 'Correlazione'} \n",
    "    )\n",
    ")\n",
    "\n",
    "plt.show()"
   ]
  },
  {
   "cell_type": "code",
   "execution_count": null,
   "metadata": {},
   "outputs": [],
   "source": [
    "numerical_features = df_races.select_dtypes(include=['int64', 'float64']).columns\n",
    "\n",
    "sns.pairplot(df_races[numerical_features])\n",
    "plt.show()"
   ]
  },
  {
   "cell_type": "markdown",
   "metadata": {},
   "source": [
    "## Combination of the two - Correlation Analysis"
   ]
  },
  {
   "cell_type": "code",
   "execution_count": null,
   "metadata": {},
   "outputs": [],
   "source": [
    "normalized_dataset, normalization_scalers_dataset = center_and_scale(df_merged)\n",
    "correlations = correlations(normalized_dataset)\n",
    "correlations"
   ]
  },
  {
   "cell_type": "code",
   "execution_count": null,
   "metadata": {},
   "outputs": [],
   "source": [
    "g = sns.FacetGrid(correlations, col=\"correlation_type\")\n",
    "g.map_dataframe(\n",
    "    lambda data, color: sns.heatmap(\n",
    "        data[data.columns[:-1]], \n",
    "        cmap=\"viridis\",  \n",
    "        cbar_kws={'label': 'Correlazione'} \n",
    "    )\n",
    ")\n",
    "\n",
    "plt.show()"
   ]
  },
  {
   "cell_type": "code",
   "execution_count": null,
   "metadata": {},
   "outputs": [],
   "source": [
    "df_cyclists = pd.read_csv('../dataset/df_cyclists_no_missing.csv')\n",
    "df_races = pd.read_csv('../dataset/df_races_no_missing.csv')\n",
    "df_merged = pd.merge(df_races, df_cyclists, left_on='cyclist', right_on='_url', how='inner')\n",
    "\n",
    "numerical_features = df_merged.select_dtypes(include=['int64', 'float64']).columns\n",
    "\n",
    "sns.pairplot(df_merged[numerical_features])\n",
    "plt.show()"
   ]
  }
 ],
 "metadata": {
  "kernelspec": {
   "display_name": "Python 3",
   "language": "python",
   "name": "python3"
  },
  "language_info": {
   "codemirror_mode": {
    "name": "ipython",
    "version": 3
   },
   "file_extension": ".py",
   "mimetype": "text/x-python",
   "name": "python",
   "nbconvert_exporter": "python",
   "pygments_lexer": "ipython3",
   "version": "3.10.12"
  }
 },
 "nbformat": 4,
 "nbformat_minor": 2
}
