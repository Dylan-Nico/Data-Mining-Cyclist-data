{
 "cells": [
  {
   "cell_type": "markdown",
   "metadata": {},
   "source": [
    "### Importazione librerie e caricamento dataset"
   ]
  },
  {
   "cell_type": "code",
   "execution_count": null,
   "metadata": {},
   "outputs": [],
   "source": [
    "import pandas as pd\n",
    "import seaborn as sns\n",
    "import matplotlib.pyplot as plt\n",
    "from sklearn.preprocessing import MinMaxScaler, StandardScaler\n",
    "from scipy.stats import pearsonr, spearmanr, chi2_contingency\n",
    "from sklearn.preprocessing import LabelEncoder\n",
    "import numpy as np"
   ]
  },
  {
   "cell_type": "code",
   "execution_count": null,
   "metadata": {},
   "outputs": [],
   "source": [
    "#MODIFICARE CON DATASET CON IMPUTATIONS\n",
    "\n",
    "df = pd.read_csv('../dataset/cyclists.csv')\n",
    "\n",
    "# Separa le variabili numeriche e categoriche\n",
    "numerical_features = df.select_dtypes(include=['float64', 'int64']).columns\n",
    "categorical_features = df.select_dtypes(include=['object', 'category']).columns\n",
    "\n",
    "# One-Hot Encoding per variabili categoriche nominali\n",
    "df_encoded = pd.get_dummies(df, columns=categorical_features, drop_first=True)\n",
    "df.head()"
   ]
  },
  {
   "cell_type": "code",
   "execution_count": null,
   "id": "f667f7f7",
   "metadata": {},
   "outputs": [],
   "source": [
    "# Separazione delle variabili numeriche e categoriche\n",
    "numerical_features = df.select_dtypes(include=['float64', 'int64']).columns\n",
    "categorical_features = df.select_dtypes(include=['object', 'category']).columns\n",
    "print(\"Numerical Features:\", numerical_features)\n",
    "print(\"Categorical Features:\", categorical_features)"
   ]
  },
  {
   "cell_type": "markdown",
   "metadata": {},
   "source": [
    "### Informazioni statistiche di base"
   ]
  },
  {
   "cell_type": "code",
   "execution_count": null,
   "metadata": {},
   "outputs": [],
   "source": [
    "df.describe()"
   ]
  },
  {
   "cell_type": "markdown",
   "metadata": {},
   "source": [
    "### Distribuzione variabili numeriche"
   ]
  },
  {
   "cell_type": "code",
   "execution_count": null,
   "metadata": {},
   "outputs": [],
   "source": [
    "for col in numerical_features:\n",
    "    plt.figure(figsize=(8, 6))\n",
    "    sns.histplot(df[col], kde=True, bins=30)\n",
    "    plt.title(f'Distribuzione di {col}')\n",
    "    plt.xlabel(col)\n",
    "    plt.ylabel('Frequenza')\n",
    "    plt.show()\n",
    "\n",
    "for col in numerical_features:\n",
    "    plt.figure(figsize=(8, 6))\n",
    "    sns.boxplot(x=df[col])\n",
    "    plt.title(f'Boxplot della Variabile Numerica: {col}')\n",
    "    plt.xlabel(col)\n",
    "    plt.show()"
   ]
  },
  {
   "cell_type": "markdown",
   "metadata": {},
   "source": [
    "### Distribuzione variabili categoriche"
   ]
  },
  {
   "cell_type": "code",
   "execution_count": null,
   "metadata": {},
   "outputs": [],
   "source": [
    "for cat in categorical_features:\n",
    "    plt.figure(figsize=(8, 6))\n",
    "    sns.countplot(x=df[cat])\n",
    "    plt.title(f'Frequenza delle Categorie per {cat}')\n",
    "    plt.xlabel(cat)\n",
    "    plt.ylabel('Conteggio')\n",
    "    plt.xticks(rotation=45)\n",
    "    plt.show()\n",
    "\n",
    "# Boxplot e Violin Plot per variabili numeriche suddivise per categorie\n",
    "for cat in categorical_features:\n",
    "    if df[cat].nunique() <= 10:  # Limita ai grafici solo le variabili categoriche con meno di 10 categorie\n",
    "        for num in numerical_features:\n",
    "            plt.figure(figsize=(8, 6))\n",
    "            sns.boxplot(x=df[cat], y=df[num])\n",
    "            plt.title(f'Distribuzione di {num} per i livelli di {cat} (Boxplot)')\n",
    "            plt.show()\n",
    "\n",
    "            plt.figure(figsize=(8, 6))\n",
    "            sns.violinplot(x=df[cat], y=df[num])\n",
    "            plt.title(f'Distribuzione di {num} per i livelli di {cat} (Violin Plot)')\n",
    "            plt.show()\n"
   ]
  },
  {
   "cell_type": "markdown",
   "metadata": {},
   "source": [
    "### Normalizzazione"
   ]
  },
  {
   "cell_type": "code",
   "execution_count": null,
   "metadata": {},
   "outputs": [],
   "source": [
    "scaler = MinMaxScaler()\n",
    "numeric_columns = df.select_dtypes(include='number').columns\n",
    "normalized_df = pd.DataFrame(scaler.fit_transform(df[numeric_columns]), columns=numeric_columns)\n",
    "print(\"DataFrame Normalizzato:\")\n",
    "print(normalized_df)"
   ]
  },
  {
   "cell_type": "markdown",
   "metadata": {},
   "source": [
    "### Nuove distribuzioni"
   ]
  },
  {
   "cell_type": "code",
   "execution_count": null,
   "metadata": {},
   "outputs": [],
   "source": [
    "numeric_columns = normalized_df.select_dtypes(include='number').columns\n",
    "for col in numeric_columns:\n",
    "    plt.figure(figsize=(8, 6))\n",
    "    sns.histplot(normalized_df[col], kde=True, bins=30)\n",
    "    plt.title(f'Distribuzione di {col}')\n",
    "    plt.show()"
   ]
  },
  {
   "cell_type": "markdown",
   "metadata": {},
   "source": [
    "### Standardizzazione"
   ]
  },
  {
   "cell_type": "code",
   "execution_count": null,
   "metadata": {},
   "outputs": [],
   "source": [
    "scaler = StandardScaler()\n",
    "numeric_columns = df.select_dtypes(include='number').columns\n",
    "standardized_df = pd.DataFrame(scaler.fit_transform(df[numeric_columns]), columns=numeric_columns)\n",
    "print(\"\\nDataFrame Standardizzato:\")\n",
    "print(standardized_df)"
   ]
  },
  {
   "cell_type": "markdown",
   "metadata": {},
   "source": [
    "\n",
    "### Nuove distribuzioni"
   ]
  },
  {
   "cell_type": "code",
   "execution_count": null,
   "metadata": {},
   "outputs": [],
   "source": [
    "numeric_columns = standardized_df.select_dtypes(include='number').columns\n",
    "for col in numeric_columns:\n",
    "    plt.figure(figsize=(8, 6))\n",
    "    sns.histplot(standardized_df[col], kde=True, bins=30)\n",
    "    plt.title(f'Distribuzione di {col}')\n",
    "    plt.show()"
   ]
  },
  {
   "cell_type": "markdown",
   "metadata": {},
   "source": [
    "### Correlazioni tra variabili numeriche"
   ]
  },
  {
   "cell_type": "code",
   "execution_count": null,
   "metadata": {},
   "outputs": [],
   "source": [
    "methods = ['pearson', 'spearman', 'kendall']\n",
    "for method in methods:\n",
    "    correlation_matrix = df[numerical_features].corr(method=method)\n",
    "    plt.figure(figsize=(12, 8))\n",
    "    sns.heatmap(correlation_matrix, annot=True, cmap='coolwarm', linewidths=0.5, fmt='.2f')\n",
    "    plt.title(f'Heatmap delle correlazioni ({method.capitalize()})')\n",
    "    plt.show()"
   ]
  },
  {
   "cell_type": "markdown",
   "metadata": {},
   "source": [
    "### Correlazioni tra variabili categoriche"
   ]
  },
  {
   "cell_type": "code",
   "execution_count": null,
   "metadata": {},
   "outputs": [],
   "source": [
    "# Funzione per calcolare il Cramér's V\n",
    "def cramers_v(x, y):\n",
    "    confusion_matrix = pd.crosstab(x, y)\n",
    "    chi2 = chi2_contingency(confusion_matrix)[0]\n",
    "    n = confusion_matrix.sum().sum()\n",
    "    r, k = confusion_matrix.shape\n",
    "    return np.sqrt(chi2 / (n * (min(r, k) - 1)))\n",
    "\n",
    "# Calcola la correlazione tra tutte le coppie di variabili categoriche\n",
    "categorical_corr = pd.DataFrame(index=categorical_features, columns=categorical_features)\n",
    "for col1 in categorical_features:\n",
    "    for col2 in categorical_features:\n",
    "        if col1 == col2:\n",
    "            categorical_corr.loc[col1, col2] = 1\n",
    "        else:\n",
    "            categorical_corr.loc[col1, col2] = cramers_v(df[col1], df[col2])\n",
    "\n",
    "# Visualizza la matrice di correlazione categorica\n",
    "plt.figure(figsize=(10, 8))\n",
    "sns.heatmap(categorical_corr.astype(float), annot=True, cmap='coolwarm')\n",
    "plt.title('Matrice di Correlazione per Variabili Categoriali (Cramér\\'s V)')\n",
    "plt.show()\n"
   ]
  },
  {
   "cell_type": "markdown",
   "metadata": {},
   "source": [
    "### Pair plot (relazioni tra variabili numeriche)"
   ]
  },
  {
   "cell_type": "code",
   "execution_count": null,
   "metadata": {},
   "outputs": [],
   "source": [
    "sns.pairplot(df[numerical_features])\n",
    "plt.show()"
   ]
  },
  {
   "cell_type": "code",
   "execution_count": null,
   "id": "09eb6a71",
   "metadata": {},
   "outputs": [],
   "source": [
    "# Analisi delle distribuzioni\n",
    "\n",
    "# Istogrammi per le variabili numeriche\n",
    "for num in numerical_features:\n",
    "    plt.figure(figsize=(8, 6))\n",
    "    sns.histplot(df[num].dropna(), kde=True)\n",
    "    plt.title(f'Distribuzione della Variabile Numerica: {num}')\n",
    "    plt.xlabel(num)\n",
    "    plt.ylabel('Frequenza')\n",
    "    plt.show()\n",
    "\n",
    "# Boxplot per le variabili numeriche\n",
    "for num in numerical_features:\n",
    "    plt.figure(figsize=(8, 6))\n",
    "    sns.boxplot(x=df[num])\n",
    "    plt.title(f'Boxplot della Variabile Numerica: {num}')\n",
    "    plt.xlabel(num)\n",
    "    plt.show()\n",
    "\n",
    "# Grafici a barre per le variabili categoriche\n",
    "for cat in categorical_features:\n",
    "    plt.figure(figsize=(8, 6))\n",
    "    sns.countplot(x=df[cat])\n",
    "    plt.title(f'Frequenza delle Categorie per {cat}')\n",
    "    plt.xlabel(cat)\n",
    "    plt.ylabel('Conteggio')\n",
    "    plt.xticks(rotation=45)\n",
    "    plt.show()"
   ]
  },
  {
   "cell_type": "code",
   "execution_count": null,
   "id": "fa6b3959",
   "metadata": {},
   "outputs": [],
   "source": [
    "# Standardizzazione e Normalizzazione delle Variabili Numeriche\n",
    "\n",
    "# Standardizzazione (media 0, deviazione standard 1)\n",
    "scaler = StandardScaler()\n",
    "df[numerical_features] = scaler.fit_transform(df[numerical_features])\n",
    "\n",
    "# Normalizzazione (range [0,1]) per confronto\n",
    "normalizer = MinMaxScaler()\n",
    "df_normalized = df.copy()\n",
    "df_normalized[numerical_features] = normalizer.fit_transform(df[numerical_features])\n",
    "\n",
    "df.head()  # Visualizza i dati trasformati"
   ]
  },
  {
   "cell_type": "code",
   "execution_count": null,
   "id": "5cb48cc6",
   "metadata": {},
   "outputs": [],
   "source": [
    "# Analisi della Correlazione Completa con Variabili Codificate\n",
    "\n",
    "# Esegue One-Hot Encoding per le variabili categoriche nominali\n",
    "df_encoded = pd.get_dummies(df, columns=categorical_features, drop_first=True)\n",
    "\n",
    "# Calcola la matrice di correlazione completa\n",
    "encoded_features = df_encoded.select_dtypes(include=['float64', 'int64']).columns\n",
    "corr_matrix = df_encoded[encoded_features].corr()\n",
    "\n",
    "# Visualizza la matrice di correlazione\n",
    "plt.figure(figsize=(12, 10))\n",
    "sns.heatmap(corr_matrix, annot=True, cmap='coolwarm')\n",
    "plt.title('Matrice di Correlazione Completa con Variabili Codificate')\n",
    "plt.show()"
   ]
  }
 ],
 "metadata": {
  "kernelspec": {
   "display_name": "Python 3",
   "language": "python",
   "name": "python3"
  },
  "language_info": {
   "codemirror_mode": {
    "name": "ipython",
    "version": 3
   },
   "file_extension": ".py",
   "mimetype": "text/x-python",
   "name": "python",
   "nbconvert_exporter": "python",
   "pygments_lexer": "ipython3",
   "version": "3.10.12"
  }
 },
 "nbformat": 4,
 "nbformat_minor": 2
}
