{
 "cells": [
  {
   "cell_type": "markdown",
   "metadata": {},
   "source": [
    "**Table of contents**<a id='toc0_'></a>    \n",
    "- [Prepare the notebook](#toc1_)    \n",
    "  - [Import necessary libraries](#toc1_1_)    \n",
    "  - [Import the datasets](#toc1_2_)    \n",
    "  - [Describe the datasets](#toc1_3_)    \n",
    "- [Cyclists](#toc2_)    \n",
    "  - [Syntactic accuracy](#toc2_1_)    \n",
    "    - [Check that birth_year, weight and height are numeric](#toc2_1_1_)    \n",
    "    - [Check that the nationality is a valid country](#toc2_1_2_)    \n",
    "    - [Check that the urls follow the same format (lowercase, hyphen-separated, alphanumerical)](#toc2_1_3_)    \n",
    "  - [Semantic accuracy](#toc2_2_)    \n",
    "    - [Check that the weights and heights are possible values](#toc2_2_1_)    \n",
    "    - [Check that the BMI is reasonable (a professional cyclist most likely isn't obese, ie BMI > 30)](#toc2_2_2_)    \n",
    "    - [Check that the birth years make sense (not in the future or before 1868, when cyclism was established as a professional sport)](#toc2_2_3_)    \n",
    "- [Races](#toc3_)    \n",
    "  - [Syntactic accuracy](#toc3_1_)    \n",
    "    - [Check that the urls follow the same format (lowercase, hyphen-separated, alphanumerical)](#toc3_1_1_)    \n",
    "    - [Confirm the date column is a valid timestamp](#toc3_1_2_)    \n",
    "    - [Confirm position is a positive integer](#toc3_1_3_)    \n",
    "    - [Confirm fields are numeric](#toc3_1_4_)    \n",
    "    - [Confirm the cyclist team format is consistent (lowercase, alphanumeric + dots, words separated with hyphens)](#toc3_1_5_)    \n",
    "    - [Ensure there are no duplicate entries for the same race and cyclist combination.](#toc3_1_6_)    \n",
    "  - [Semantic accuracy](#toc3_2_)    \n",
    "    - [Make sure the delta is consistent with the position (delta increases with position)](#toc3_2_1_)    \n",
    "    - [Make sure the startlist_quality is realistic](#toc3_2_2_)    \n",
    "    - [Ensure the climb_total increases with the profile](#toc3_2_3_)    \n",
    "    - [Ensure that the average temperature makes sense](#toc3_2_4_)    \n",
    "\n",
    "<!-- vscode-jupyter-toc-config\n",
    "\tnumbering=false\n",
    "\tanchor=true\n",
    "\tflat=false\n",
    "\tminLevel=1\n",
    "\tmaxLevel=6\n",
    "\t/vscode-jupyter-toc-config -->\n",
    "<!-- THIS CELL WILL BE REPLACED ON TOC UPDATE. DO NOT WRITE YOUR TEXT IN THIS CELL -->"
   ]
  },
  {
   "cell_type": "markdown",
   "metadata": {},
   "source": [
    "# <a id='toc1_'></a>[Prepare the notebook](#toc0_)"
   ]
  },
  {
   "cell_type": "markdown",
   "metadata": {},
   "source": [
    "## <a id='toc1_1_'></a>[Import necessary libraries](#toc0_)"
   ]
  },
  {
   "cell_type": "code",
   "execution_count": null,
   "metadata": {},
   "outputs": [
    {
     "name": "stdout",
     "output_type": "stream",
     "text": [
      "Requirement already satisfied: pandas in c:\\users\\danie\\appdata\\local\\programs\\python\\python311\\lib\\site-packages (2.1.1)\n",
      "Requirement already satisfied: numpy>=1.23.2 in c:\\users\\danie\\appdata\\local\\programs\\python\\python311\\lib\\site-packages (from pandas) (1.25.2)\n",
      "Requirement already satisfied: python-dateutil>=2.8.2 in c:\\users\\danie\\appdata\\local\\programs\\python\\python311\\lib\\site-packages (from pandas) (2.8.2)\n",
      "Requirement already satisfied: pytz>=2020.1 in c:\\users\\danie\\appdata\\local\\programs\\python\\python311\\lib\\site-packages (from pandas) (2023.3.post1)\n",
      "Requirement already satisfied: tzdata>=2022.1 in c:\\users\\danie\\appdata\\local\\programs\\python\\python311\\lib\\site-packages (from pandas) (2023.3)\n",
      "Requirement already satisfied: six>=1.5 in c:\\users\\danie\\appdata\\local\\programs\\python\\python311\\lib\\site-packages (from python-dateutil>=2.8.2->pandas) (1.16.0)\n"
     ]
    },
    {
     "name": "stderr",
     "output_type": "stream",
     "text": [
      "\n",
      "[notice] A new release of pip is available: 23.2.1 -> 24.3.1\n",
      "[notice] To update, run: python.exe -m pip install --upgrade pip\n"
     ]
    }
   ],
   "source": [
    "!pip install pandas\n",
    "!pip install pycountry\n",
    "!pip install pycountry-convert"
   ]
  },
  {
   "cell_type": "code",
   "execution_count": 2,
   "metadata": {},
   "outputs": [],
   "source": [
    "import pandas as pd"
   ]
  },
  {
   "cell_type": "markdown",
   "metadata": {},
   "source": [
    "## <a id='toc1_2_'></a>[Import the datasets](#toc0_)"
   ]
  },
  {
   "cell_type": "code",
   "execution_count": 3,
   "metadata": {},
   "outputs": [],
   "source": [
    "# Load the dataset\n",
    "df_races = pd.read_csv('dataset/races.csv')\n",
    "df_cyclists = pd.read_csv('dataset/cyclists.csv')"
   ]
  },
  {
   "cell_type": "markdown",
   "metadata": {},
   "source": [
    "## <a id='toc1_3_'></a>[Describe the datasets](#toc0_)"
   ]
  },
  {
   "cell_type": "code",
   "execution_count": 4,
   "metadata": {},
   "outputs": [
    {
     "data": {
      "text/html": [
       "<div>\n",
       "<style scoped>\n",
       "    .dataframe tbody tr th:only-of-type {\n",
       "        vertical-align: middle;\n",
       "    }\n",
       "\n",
       "    .dataframe tbody tr th {\n",
       "        vertical-align: top;\n",
       "    }\n",
       "\n",
       "    .dataframe thead th {\n",
       "        text-align: right;\n",
       "    }\n",
       "</style>\n",
       "<table border=\"1\" class=\"dataframe\">\n",
       "  <thead>\n",
       "    <tr style=\"text-align: right;\">\n",
       "      <th></th>\n",
       "      <th>points</th>\n",
       "      <th>uci_points</th>\n",
       "      <th>length</th>\n",
       "      <th>climb_total</th>\n",
       "      <th>profile</th>\n",
       "      <th>startlist_quality</th>\n",
       "      <th>average_temperature</th>\n",
       "      <th>position</th>\n",
       "      <th>cyclist_age</th>\n",
       "      <th>delta</th>\n",
       "    </tr>\n",
       "  </thead>\n",
       "  <tbody>\n",
       "    <tr>\n",
       "      <th>count</th>\n",
       "      <td>589388.000000</td>\n",
       "      <td>251086.000000</td>\n",
       "      <td>589865.000000</td>\n",
       "      <td>442820.000000</td>\n",
       "      <td>441671.000000</td>\n",
       "      <td>589865.000000</td>\n",
       "      <td>29933.000000</td>\n",
       "      <td>589865.000000</td>\n",
       "      <td>589752.000000</td>\n",
       "      <td>589865.000000</td>\n",
       "    </tr>\n",
       "    <tr>\n",
       "      <th>mean</th>\n",
       "      <td>89.221635</td>\n",
       "      <td>74.601547</td>\n",
       "      <td>166776.180584</td>\n",
       "      <td>2330.469215</td>\n",
       "      <td>2.611611</td>\n",
       "      <td>1101.161178</td>\n",
       "      <td>21.731768</td>\n",
       "      <td>74.219491</td>\n",
       "      <td>28.486208</td>\n",
       "      <td>418.292794</td>\n",
       "    </tr>\n",
       "    <tr>\n",
       "      <th>std</th>\n",
       "      <td>54.435330</td>\n",
       "      <td>100.947962</td>\n",
       "      <td>64545.605664</td>\n",
       "      <td>1375.710722</td>\n",
       "      <td>1.491741</td>\n",
       "      <td>380.586928</td>\n",
       "      <td>5.884761</td>\n",
       "      <td>48.404023</td>\n",
       "      <td>3.855631</td>\n",
       "      <td>842.961596</td>\n",
       "    </tr>\n",
       "    <tr>\n",
       "      <th>min</th>\n",
       "      <td>18.000000</td>\n",
       "      <td>6.000000</td>\n",
       "      <td>1000.000000</td>\n",
       "      <td>2.000000</td>\n",
       "      <td>1.000000</td>\n",
       "      <td>115.000000</td>\n",
       "      <td>10.000000</td>\n",
       "      <td>0.000000</td>\n",
       "      <td>13.000000</td>\n",
       "      <td>-6906.000000</td>\n",
       "    </tr>\n",
       "    <tr>\n",
       "      <th>25%</th>\n",
       "      <td>50.000000</td>\n",
       "      <td>16.000000</td>\n",
       "      <td>152500.000000</td>\n",
       "      <td>1309.000000</td>\n",
       "      <td>1.000000</td>\n",
       "      <td>844.000000</td>\n",
       "      <td>17.000000</td>\n",
       "      <td>32.000000</td>\n",
       "      <td>26.000000</td>\n",
       "      <td>10.000000</td>\n",
       "    </tr>\n",
       "    <tr>\n",
       "      <th>50%</th>\n",
       "      <td>80.000000</td>\n",
       "      <td>60.000000</td>\n",
       "      <td>178200.000000</td>\n",
       "      <td>2255.000000</td>\n",
       "      <td>2.000000</td>\n",
       "      <td>988.000000</td>\n",
       "      <td>22.000000</td>\n",
       "      <td>70.000000</td>\n",
       "      <td>28.000000</td>\n",
       "      <td>156.000000</td>\n",
       "    </tr>\n",
       "    <tr>\n",
       "      <th>75%</th>\n",
       "      <td>100.000000</td>\n",
       "      <td>100.000000</td>\n",
       "      <td>203500.000000</td>\n",
       "      <td>3273.000000</td>\n",
       "      <td>4.000000</td>\n",
       "      <td>1309.000000</td>\n",
       "      <td>26.000000</td>\n",
       "      <td>112.000000</td>\n",
       "      <td>31.000000</td>\n",
       "      <td>624.000000</td>\n",
       "    </tr>\n",
       "    <tr>\n",
       "      <th>max</th>\n",
       "      <td>350.000000</td>\n",
       "      <td>800.000000</td>\n",
       "      <td>338000.000000</td>\n",
       "      <td>6974.000000</td>\n",
       "      <td>5.000000</td>\n",
       "      <td>2047.000000</td>\n",
       "      <td>36.000000</td>\n",
       "      <td>209.000000</td>\n",
       "      <td>56.000000</td>\n",
       "      <td>61547.000000</td>\n",
       "    </tr>\n",
       "  </tbody>\n",
       "</table>\n",
       "</div>"
      ],
      "text/plain": [
       "              points     uci_points         length    climb_total  \\\n",
       "count  589388.000000  251086.000000  589865.000000  442820.000000   \n",
       "mean       89.221635      74.601547  166776.180584    2330.469215   \n",
       "std        54.435330     100.947962   64545.605664    1375.710722   \n",
       "min        18.000000       6.000000    1000.000000       2.000000   \n",
       "25%        50.000000      16.000000  152500.000000    1309.000000   \n",
       "50%        80.000000      60.000000  178200.000000    2255.000000   \n",
       "75%       100.000000     100.000000  203500.000000    3273.000000   \n",
       "max       350.000000     800.000000  338000.000000    6974.000000   \n",
       "\n",
       "             profile  startlist_quality  average_temperature       position  \\\n",
       "count  441671.000000      589865.000000         29933.000000  589865.000000   \n",
       "mean        2.611611        1101.161178            21.731768      74.219491   \n",
       "std         1.491741         380.586928             5.884761      48.404023   \n",
       "min         1.000000         115.000000            10.000000       0.000000   \n",
       "25%         1.000000         844.000000            17.000000      32.000000   \n",
       "50%         2.000000         988.000000            22.000000      70.000000   \n",
       "75%         4.000000        1309.000000            26.000000     112.000000   \n",
       "max         5.000000        2047.000000            36.000000     209.000000   \n",
       "\n",
       "         cyclist_age          delta  \n",
       "count  589752.000000  589865.000000  \n",
       "mean       28.486208     418.292794  \n",
       "std         3.855631     842.961596  \n",
       "min        13.000000   -6906.000000  \n",
       "25%        26.000000      10.000000  \n",
       "50%        28.000000     156.000000  \n",
       "75%        31.000000     624.000000  \n",
       "max        56.000000   61547.000000  "
      ]
     },
     "execution_count": 4,
     "metadata": {},
     "output_type": "execute_result"
    }
   ],
   "source": [
    "df_races.describe()"
   ]
  },
  {
   "cell_type": "markdown",
   "metadata": {},
   "source": [
    "# <a id='toc2_'></a>[Cyclists](#toc0_)"
   ]
  },
  {
   "cell_type": "markdown",
   "metadata": {},
   "source": [
    "## <a id='toc2_1_'></a>[Syntactic accuracy](#toc0_)"
   ]
  },
  {
   "cell_type": "markdown",
   "metadata": {},
   "source": [
    "To check syntactic accuracy, we need to make sure an entry is in the domain."
   ]
  },
  {
   "cell_type": "markdown",
   "metadata": {},
   "source": [
    "### <a id='toc2_1_1_'></a>[Check that birth_year, weight and height are numeric](#toc0_)"
   ]
  },
  {
   "cell_type": "code",
   "execution_count": 5,
   "metadata": {},
   "outputs": [
    {
     "name": "stdout",
     "output_type": "stream",
     "text": [
      "      birth_year  weight  height\n",
      "0          False    True    True\n",
      "1          False   False   False\n",
      "2          False   False   False\n",
      "3          False   False   False\n",
      "4          False   False   False\n",
      "...          ...     ...     ...\n",
      "6129       False    True    True\n",
      "6130       False   False   False\n",
      "6131       False    True    True\n",
      "6132       False   False   False\n",
      "6133       False   False   False\n",
      "\n",
      "[6134 rows x 3 columns]\n"
     ]
    }
   ],
   "source": [
    "# Check to make sure all the values in the numeric fields are indeed numeric\n",
    "numeric_issues = df_cyclists[['birth_year', 'weight', 'height']].apply(lambda x: pd.to_numeric(x, errors='coerce')).isna()\n",
    "print(numeric_issues)"
   ]
  },
  {
   "cell_type": "markdown",
   "metadata": {},
   "source": [
    "### <a id='toc2_1_2_'></a>[Check that the nationality is a valid country](#toc0_)"
   ]
  },
  {
   "cell_type": "code",
   "execution_count": 6,
   "metadata": {},
   "outputs": [
    {
     "name": "stdout",
     "output_type": "stream",
     "text": [
      "               name nationality standardized_nationality  valid_nationality\n",
      "9     Scott  Davies         NaN                     None              False\n",
      "102   Primož  Čerin  Yugoslavia                     None              False\n",
      "6100   Kam-Po  Wong    Hongkong                     None              False\n"
     ]
    }
   ],
   "source": [
    "import pycountry_convert as pc\n",
    "import pycountry\n",
    "\n",
    "\n",
    "# Helper function to standardize country names\n",
    "def standardize_country_name(country_name):\n",
    "    if pd.isna(country_name):  # Check for NaN (missing) values\n",
    "        return None\n",
    "    try:\n",
    "        # Try to get the alpha-2 code from the name\n",
    "        country_code = pc.country_name_to_country_alpha2(country_name, cn_name_format=\"default\")\n",
    "        # Get the country name from the alpha-2 code\n",
    "        return pycountry.countries.get(alpha_2=country_code).name\n",
    "    except KeyError:\n",
    "        # Return None if no match is found\n",
    "        return None\n",
    "\n",
    "# Apply the standardization function and validate\n",
    "df_cyclists['standardized_nationality'] = df_cyclists['nationality'].apply(standardize_country_name)\n",
    "df_cyclists['valid_nationality'] = df_cyclists['standardized_nationality'].notna()\n",
    "\n",
    "# Filter and output records where valid_nationality is False\n",
    "invalid_nationality_records = df_cyclists[df_cyclists['valid_nationality'] == False]\n",
    "print(invalid_nationality_records[['name', 'nationality', 'standardized_nationality', 'valid_nationality']])\n"
   ]
  },
  {
   "cell_type": "markdown",
   "metadata": {},
   "source": [
    "### <a id='toc2_1_3_'></a>[Check that the urls follow the same format (lowercase, hyphen-separated, alphanumerical)](#toc0_)"
   ]
  },
  {
   "cell_type": "code",
   "execution_count": 7,
   "metadata": {},
   "outputs": [
    {
     "name": "stdout",
     "output_type": "stream",
     "text": [
      "Empty DataFrame\n",
      "Columns: [_url, name, birth_year, weight, height, nationality, standardized_nationality, valid_nationality, _url_format_issue]\n",
      "Index: []\n"
     ]
    }
   ],
   "source": [
    "df_cyclists['_url_format_issue'] = df_cyclists['_url'].str.match(r'^[a-z0-9-]+$') == False\n",
    "\n",
    "invalid_url_records = df_cyclists[df_cyclists['_url_format_issue'] == True]\n",
    "print(invalid_url_records)"
   ]
  },
  {
   "cell_type": "markdown",
   "metadata": {},
   "source": [
    "## <a id='toc2_2_'></a>[Semantic accuracy](#toc0_)"
   ]
  },
  {
   "cell_type": "markdown",
   "metadata": {},
   "source": [
    "### <a id='toc2_2_1_'></a>[Check that the weights and heights are possible values](#toc0_)\n",
    "\n",
    "The bounds used are:\n",
    "The tallest person ever (Robert Wadlow), at 272cm\n",
    "The shortest adult ever (Chandra Bahadur Dangi), at 54.6cm\n",
    "The heaviest person ever (Jon Brower Minnoch) at 635kg\n",
    "The lightest person ever (Lucia Zarate) at 2.1 kg"
   ]
  },
  {
   "cell_type": "code",
   "execution_count": 8,
   "metadata": {},
   "outputs": [
    {
     "name": "stdout",
     "output_type": "stream",
     "text": [
      "Empty DataFrame\n",
      "Columns: [_url, name, birth_year, weight, height, nationality, standardized_nationality, valid_nationality, _url_format_issue, weight_issue, height_issue]\n",
      "Index: []\n",
      "Empty DataFrame\n",
      "Columns: [_url, name, birth_year, weight, height, nationality, standardized_nationality, valid_nationality, _url_format_issue, weight_issue, height_issue]\n",
      "Index: []\n"
     ]
    }
   ],
   "source": [
    "df_cyclists['weight_issue'] = df_cyclists['weight'].notna() & ~df_cyclists['weight'].between(2.1, 635, inclusive='both')\n",
    "df_cyclists['height_issue'] = df_cyclists['height'].notna() & ~df_cyclists['height'].between(54.6, 272, inclusive='both')\n",
    "\n",
    "invalid_weight_records = df_cyclists[df_cyclists['weight_issue'] == True]\n",
    "invalid_height_records = df_cyclists[df_cyclists['height_issue'] == True]\n",
    "print(invalid_weight_records)   \n",
    "print(invalid_height_records)\n"
   ]
  },
  {
   "cell_type": "markdown",
   "metadata": {},
   "source": [
    "### <a id='toc2_2_2_'></a>[Check that the BMI is reasonable (a professional cyclist most likely isn't obese, ie BMI > 30)](#toc0_)"
   ]
  },
  {
   "cell_type": "code",
   "execution_count": 9,
   "metadata": {},
   "outputs": [
    {
     "name": "stdout",
     "output_type": "stream",
     "text": [
      "Empty DataFrame\n",
      "Columns: [_url, name, birth_year, weight, height, nationality, standardized_nationality, valid_nationality, _url_format_issue, weight_issue, height_issue, bmi, bmi_issue]\n",
      "Index: []\n"
     ]
    }
   ],
   "source": [
    "# bmi check. A BMI over 30 is considered obese and therefore unlikely that a professional athlete would have such a high BMI\n",
    "df_cyclists['bmi'] = df_cyclists['weight'] / ((df_cyclists['height'] / 100) ** 2)\n",
    "df_cyclists['bmi_issue'] = df_cyclists['bmi'].notna() & (~df_cyclists['bmi'].between(15, 30))\n",
    "\n",
    "invalid_bmi = df_cyclists[df_cyclists['bmi_issue'] == True]\n",
    "print(invalid_bmi)\n"
   ]
  },
  {
   "cell_type": "markdown",
   "metadata": {},
   "source": [
    "### <a id='toc2_2_3_'></a>[Check that the birth years make sense (not in the future or before 1868, when cyclism was established as a professional sport)](#toc0_)"
   ]
  },
  {
   "cell_type": "code",
   "execution_count": 10,
   "metadata": {},
   "outputs": [
    {
     "name": "stdout",
     "output_type": "stream",
     "text": [
      "Empty DataFrame\n",
      "Columns: [_url, name, birth_year, weight, height, nationality, standardized_nationality, valid_nationality, _url_format_issue, weight_issue, height_issue, bmi, bmi_issue, birth_year_issue]\n",
      "Index: []\n"
     ]
    }
   ],
   "source": [
    "current_year = 2024\n",
    "df_cyclists['birth_year_issue'] = df_cyclists['birth_year'].notna() & ~df_cyclists['birth_year'].between(1900, current_year)\n",
    "\n",
    "invalid_name_records = df_cyclists[df_cyclists['birth_year_issue'] == True]\n",
    "print(invalid_name_records)"
   ]
  },
  {
   "cell_type": "markdown",
   "metadata": {},
   "source": [
    "# <a id='toc3_'></a>[Races](#toc0_)"
   ]
  },
  {
   "cell_type": "markdown",
   "metadata": {},
   "source": [
    "## <a id='toc3_1_'></a>[Syntactic accuracy](#toc0_)"
   ]
  },
  {
   "cell_type": "markdown",
   "metadata": {},
   "source": [
    "### <a id='toc3_1_1_'></a>[Check that the urls follow the same format (lowercase, hyphen-separated, alphanumerical)](#toc0_)"
   ]
  },
  {
   "cell_type": "code",
   "execution_count": 11,
   "metadata": {},
   "outputs": [
    {
     "name": "stdout",
     "output_type": "stream",
     "text": [
      "Empty DataFrame\n",
      "Columns: [_url, name, points, uci_points, length, climb_total, profile, startlist_quality, average_temperature, date, position, cyclist, cyclist_age, is_tarmac, is_cobbled, is_gravel, cyclist_team, delta, _url_format_issue]\n",
      "Index: []\n"
     ]
    }
   ],
   "source": [
    "df_races['_url_format_issue'] = df_races['_url'].str.match(r'^[a-z0-9-/]+$') == False\n",
    "\n",
    "invalid_url_records = df_races[df_races['_url_format_issue'] == True]\n",
    "print(invalid_url_records)"
   ]
  },
  {
   "cell_type": "markdown",
   "metadata": {},
   "source": [
    "### <a id='toc3_1_2_'></a>[Confirm the date column is a valid timestamp](#toc0_)"
   ]
  },
  {
   "cell_type": "code",
   "execution_count": 12,
   "metadata": {},
   "outputs": [
    {
     "name": "stdout",
     "output_type": "stream",
     "text": [
      "Empty DataFrame\n",
      "Columns: [_url, name, points, uci_points, length, climb_total, profile, startlist_quality, average_temperature, date, position, cyclist, cyclist_age, is_tarmac, is_cobbled, is_gravel, cyclist_team, delta, _url_format_issue, date_format_issue]\n",
      "Index: []\n"
     ]
    }
   ],
   "source": [
    "df_races['date_format_issue'] = pd.to_datetime(df_races['date'], errors='coerce').isna()\n",
    "\n",
    "invalid_date_records = df_races[df_races['date_format_issue'] == True]\n",
    "print(invalid_date_records)"
   ]
  },
  {
   "cell_type": "markdown",
   "metadata": {},
   "source": [
    "### <a id='toc3_1_3_'></a>[Confirm position is a positive integer](#toc0_)"
   ]
  },
  {
   "cell_type": "code",
   "execution_count": 13,
   "metadata": {},
   "outputs": [
    {
     "name": "stdout",
     "output_type": "stream",
     "text": [
      "Empty DataFrame\n",
      "Columns: [_url, name, points, uci_points, length, climb_total, profile, startlist_quality, average_temperature, date, position, cyclist, cyclist_age, is_tarmac, is_cobbled, is_gravel, cyclist_team, delta, _url_format_issue, date_format_issue, position_issue]\n",
      "Index: []\n",
      "\n",
      "[0 rows x 21 columns]\n"
     ]
    }
   ],
   "source": [
    "df_races['position_issue'] = df_races['position'].apply(lambda x: isinstance(x, int) and x >= 0) == False\n",
    "\n",
    "invalid_position_records = df_races[df_races['position_issue'] == True]\n",
    "print(invalid_position_records)"
   ]
  },
  {
   "cell_type": "markdown",
   "metadata": {},
   "source": [
    "### <a id='toc3_1_4_'></a>[Confirm fields are numeric](#toc0_)"
   ]
  },
  {
   "cell_type": "code",
   "execution_count": 14,
   "metadata": {},
   "outputs": [
    {
     "name": "stdout",
     "output_type": "stream",
     "text": [
      "Empty DataFrame\n",
      "Columns: [_url, name, points, uci_points, length, climb_total, profile, startlist_quality, average_temperature, date, position, cyclist, cyclist_age, is_tarmac, is_cobbled, is_gravel, cyclist_team, delta, _url_format_issue, date_format_issue, position_issue, numeric_issue]\n",
      "Index: []\n",
      "\n",
      "[0 rows x 22 columns]\n"
     ]
    }
   ],
   "source": [
    "# List of fields to check\n",
    "numeric_fields = ['points', 'uci_points', 'length', 'climb_total', 'startlist_quality', 'average_temperature', 'delta']\n",
    "\n",
    "# Identify NaNs\n",
    "original_na = df_races[numeric_fields].isna()\n",
    "\n",
    "# Convert non-numeric values to NaN\n",
    "df_races[numeric_fields] = df_races[numeric_fields].apply(pd.to_numeric, errors='coerce')\n",
    "\n",
    "# Identify new NaNs created by non-numeric values\n",
    "numeric_issues = df_races[numeric_fields].isna() & ~original_na  # True where NaN was caused by non-numeric values\n",
    "\n",
    "# Adding a column to flag rows with any numeric issues\n",
    "df_races['numeric_issue'] = numeric_issues.any(axis=1)\n",
    "\n",
    "invalid_number_records = df_races[df_races['numeric_issue'] == True]\n",
    "print(invalid_number_records)"
   ]
  },
  {
   "cell_type": "markdown",
   "metadata": {},
   "source": [
    "### <a id='toc3_1_5_'></a>[Confirm the cyclist team format is consistent (lowercase, alphanumeric + dots, words separated with hyphens)](#toc0_)"
   ]
  },
  {
   "cell_type": "code",
   "execution_count": 15,
   "metadata": {},
   "outputs": [
    {
     "name": "stdout",
     "output_type": "stream",
     "text": [
      "Empty DataFrame\n",
      "Columns: [_url, name, points, uci_points, length, climb_total, profile, startlist_quality, average_temperature, date, position, cyclist, cyclist_age, is_tarmac, is_cobbled, is_gravel, cyclist_team, delta, _url_format_issue, date_format_issue, position_issue, numeric_issue, cyclist_team_format_issue]\n",
      "Index: []\n",
      "\n",
      "[0 rows x 23 columns]\n"
     ]
    }
   ],
   "source": [
    "df_races['cyclist_team_format_issue'] = (\n",
    "    df_races['cyclist_team'].notna() & ~df_races['cyclist_team'].str.match(r'^[a-z0-9.-]+$').fillna(False)\n",
    ")\n",
    "\n",
    "invalid_cyclist_team_records = df_races[df_races['cyclist_team_format_issue'] == True]\n",
    "print(invalid_cyclist_team_records)\n"
   ]
  },
  {
   "cell_type": "markdown",
   "metadata": {},
   "source": [
    "### <a id='toc3_1_6_'></a>[Ensure there are no duplicate entries for the same race and cyclist combination.](#toc0_)"
   ]
  },
  {
   "cell_type": "code",
   "execution_count": 16,
   "metadata": {},
   "outputs": [
    {
     "name": "stdout",
     "output_type": "stream",
     "text": [
      "Empty DataFrame\n",
      "Columns: [_url, name, points, uci_points, length, climb_total, profile, startlist_quality, average_temperature, date, position, cyclist, cyclist_age, is_tarmac, is_cobbled, is_gravel, cyclist_team, delta, _url_format_issue, date_format_issue, position_issue, numeric_issue, cyclist_team_format_issue, duplicate_issue]\n",
      "Index: []\n",
      "\n",
      "[0 rows x 24 columns]\n"
     ]
    }
   ],
   "source": [
    "df_races['duplicate_issue'] = df_races.duplicated(subset=['_url', 'position', 'cyclist'], keep=False)\n",
    "\n",
    "duplicates = df_races[df_races['duplicate_issue'] == True]\n",
    "print(duplicates)"
   ]
  },
  {
   "cell_type": "markdown",
   "metadata": {},
   "source": [
    "## <a id='toc3_2_'></a>[Semantic accuracy](#toc0_)"
   ]
  },
  {
   "cell_type": "markdown",
   "metadata": {},
   "source": [
    "### <a id='toc3_2_1_'></a>[Make sure the delta is consistent with the position (delta increases with position)](#toc0_)"
   ]
  },
  {
   "cell_type": "code",
   "execution_count": 17,
   "metadata": {},
   "outputs": [
    {
     "name": "stdout",
     "output_type": "stream",
     "text": [
      "                     name  points  uci_points    length  climb_total  profile  \\\n",
      "423        Tour de France   100.0       120.0  128000.0        781.0      1.0   \n",
      "423        Tour de France   100.0       120.0  128000.0        781.0      1.0   \n",
      "1908    Tirreno-Adriatico    50.0         NaN  181000.0          NaN      3.0   \n",
      "1908    Tirreno-Adriatico    50.0         NaN  181000.0          NaN      3.0   \n",
      "6970    Tirreno-Adriatico    50.0        60.0  167000.0        776.0      1.0   \n",
      "...                   ...     ...         ...       ...          ...      ...   \n",
      "589006     Tour de France   100.0       120.0  113000.0        713.0      1.0   \n",
      "589013     Tour de France   100.0       120.0  113000.0        713.0      1.0   \n",
      "589013     Tour de France   100.0       120.0  113000.0        713.0      1.0   \n",
      "589016     Tour de France   100.0       120.0  113000.0        713.0      1.0   \n",
      "589016     Tour de France   100.0       120.0  113000.0        713.0      1.0   \n",
      "\n",
      "        startlist_quality  average_temperature                 date  position  \\\n",
      "423                1699.0                  NaN  2019-07-28 03:06:38     151.0   \n",
      "423                1699.0                  NaN  2019-07-28 03:04:08     152.0   \n",
      "1908               1040.0                  NaN  2005-03-10 04:48:16     121.0   \n",
      "1908               1040.0                  NaN  2005-03-10 04:48:14     122.0   \n",
      "6970               1196.0                  NaN  2018-03-08 04:13:24     105.0   \n",
      "...                   ...                  ...                  ...       ...   \n",
      "589006             1758.0                  NaN  2016-07-24 02:45:52     159.0   \n",
      "589013             1758.0                  NaN  2016-07-24 02:43:08     167.0   \n",
      "589013             1758.0                  NaN  2016-07-24 02:47:17     166.0   \n",
      "589016             1758.0                  NaN  2016-07-24 02:47:40     169.0   \n",
      "589016             1758.0                  NaN  2016-07-24 02:43:08     170.0   \n",
      "\n",
      "        ...             cyclist_team  delta _url_format_issue  \\\n",
      "423     ...  kelme-costa-blanca-2000  150.0             False   \n",
      "423     ...    carrera-inoxpran-1985    0.0             False   \n",
      "1908    ...               atala-1985  160.0             False   \n",
      "1908    ...                      NaN  158.0             False   \n",
      "6970    ...       carlos-cycles-1975   60.0             False   \n",
      "...     ...                      ...    ...               ...   \n",
      "589006  ...              mexico-1986  164.0             False   \n",
      "589013  ...              norway-1987    0.0             False   \n",
      "589013  ...              norway-1987  249.0             False   \n",
      "589016  ...                      NaN  272.0             False   \n",
      "589016  ...              mexico-1986    0.0             False   \n",
      "\n",
      "       date_format_issue position_issue numeric_issue  \\\n",
      "423                False          False         False   \n",
      "423                False          False         False   \n",
      "1908               False          False         False   \n",
      "1908               False          False         False   \n",
      "6970               False          False         False   \n",
      "...                  ...            ...           ...   \n",
      "589006             False          False         False   \n",
      "589013             False          False         False   \n",
      "589013             False          False         False   \n",
      "589016             False          False         False   \n",
      "589016             False          False         False   \n",
      "\n",
      "        cyclist_team_format_issue duplicate_issue delta_issue  \\\n",
      "423                         False           False       False   \n",
      "423                         False           False        True   \n",
      "1908                        False           False       False   \n",
      "1908                        False           False        True   \n",
      "6970                        False           False       False   \n",
      "...                           ...             ...         ...   \n",
      "589006                      False           False       False   \n",
      "589013                      False           False        True   \n",
      "589013                      False           False       False   \n",
      "589016                      False           False       False   \n",
      "589016                      False           False        True   \n",
      "\n",
      "                                  _url  \n",
      "423                                NaN  \n",
      "423       tour-de-france/2019/stage-21  \n",
      "1908                               NaN  \n",
      "1908    tirreno-adriatico/2005/stage-2  \n",
      "6970                               NaN  \n",
      "...                                ...  \n",
      "589006                             NaN  \n",
      "589013    tour-de-france/2016/stage-21  \n",
      "589013                             NaN  \n",
      "589016                             NaN  \n",
      "589016    tour-de-france/2016/stage-21  \n",
      "\n",
      "[1648 rows x 25 columns]\n"
     ]
    }
   ],
   "source": [
    "# Create the 'delta_issue' column to flag issues. The way this works is by grouping the records by url,\n",
    "# then adding a \"delta_issue\" column which is true if the delta is not strictly increasing.\n",
    "df_races['delta_issue'] = (\n",
    "    df_races.groupby(['_url'])['delta']\n",
    "    .transform(lambda x: (x.shift() > x).fillna(False))\n",
    ")\n",
    "problematic_rows = df_races[df_races['delta_issue'] == True]\n",
    "\n",
    "# Next e'll retrieve the row before each problematic row within the same group\n",
    "# so that we can get some extra context\n",
    "previous_rows = (\n",
    "    df_races.groupby('_url')\n",
    "    .shift()\n",
    "    .loc[problematic_rows.index]\n",
    ")\n",
    "\n",
    "# Concatenate the problematic rows with their preceding rows for inspection\n",
    "combined_issues = pd.concat([previous_rows, problematic_rows]).sort_index()\n",
    "\n",
    "# Display the combined result\n",
    "print(combined_issues)\n"
   ]
  },
  {
   "cell_type": "markdown",
   "metadata": {},
   "source": [
    "### <a id='toc3_2_2_'></a>[Make sure the startlist_quality is realistic](#toc0_)\n",
    "\n",
    "According to procycliststats, the theoretical maximum limit of startlist_quality for a 150-person race is 2275 points (https://www.procyclingstats.com/calendar/uci/startlist-quality)"
   ]
  },
  {
   "cell_type": "code",
   "execution_count": 18,
   "metadata": {},
   "outputs": [
    {
     "name": "stdout",
     "output_type": "stream",
     "text": [
      "Empty DataFrame\n",
      "Columns: [_url, name, points, uci_points, length, climb_total, profile, startlist_quality, average_temperature, date, position, cyclist, cyclist_age, is_tarmac, is_cobbled, is_gravel, cyclist_team, delta, _url_format_issue, date_format_issue, position_issue, numeric_issue, cyclist_team_format_issue, duplicate_issue, delta_issue, startlist_quality_issue]\n",
      "Index: []\n",
      "\n",
      "[0 rows x 26 columns]\n"
     ]
    }
   ],
   "source": [
    "df_races['startlist_quality_issue'] = ~df_races['startlist_quality'].between(0, 2275, inclusive=\"both\").fillna(False)\n",
    "\n",
    "invalid_startlist_quality_records = df_races[df_races['startlist_quality_issue'] == True]\n",
    "print(invalid_startlist_quality_records)"
   ]
  },
  {
   "cell_type": "markdown",
   "metadata": {},
   "source": [
    "### <a id='toc3_2_3_'></a>[Ensure the climb_total increases with the profile](#toc0_)\n",
    "\n",
    "Given that the profile says how mountainous the stage's terrain is (the five profile values probably correspond to the 5 icons explained here: https://www.procyclingstats.com/info/profile-score-explained), we'd expect higher values of profile to have higher average climb_totals. This is indeed what we observe."
   ]
  },
  {
   "cell_type": "code",
   "execution_count": 19,
   "metadata": {},
   "outputs": [
    {
     "data": {
      "text/html": [
       "<div>\n",
       "<style scoped>\n",
       "    .dataframe tbody tr th:only-of-type {\n",
       "        vertical-align: middle;\n",
       "    }\n",
       "\n",
       "    .dataframe tbody tr th {\n",
       "        vertical-align: top;\n",
       "    }\n",
       "\n",
       "    .dataframe thead th {\n",
       "        text-align: right;\n",
       "    }\n",
       "</style>\n",
       "<table border=\"1\" class=\"dataframe\">\n",
       "  <thead>\n",
       "    <tr style=\"text-align: right;\">\n",
       "      <th></th>\n",
       "      <th>profile</th>\n",
       "      <th>climb_total</th>\n",
       "    </tr>\n",
       "  </thead>\n",
       "  <tbody>\n",
       "    <tr>\n",
       "      <th>0</th>\n",
       "      <td>1.0</td>\n",
       "      <td>1115.032447</td>\n",
       "    </tr>\n",
       "    <tr>\n",
       "      <th>1</th>\n",
       "      <td>2.0</td>\n",
       "      <td>2216.014574</td>\n",
       "    </tr>\n",
       "    <tr>\n",
       "      <th>2</th>\n",
       "      <td>3.0</td>\n",
       "      <td>2417.451732</td>\n",
       "    </tr>\n",
       "    <tr>\n",
       "      <th>3</th>\n",
       "      <td>4.0</td>\n",
       "      <td>3493.641104</td>\n",
       "    </tr>\n",
       "    <tr>\n",
       "      <th>4</th>\n",
       "      <td>5.0</td>\n",
       "      <td>3737.367327</td>\n",
       "    </tr>\n",
       "  </tbody>\n",
       "</table>\n",
       "</div>"
      ],
      "text/plain": [
       "   profile  climb_total\n",
       "0      1.0  1115.032447\n",
       "1      2.0  2216.014574\n",
       "2      3.0  2417.451732\n",
       "3      4.0  3493.641104\n",
       "4      5.0  3737.367327"
      ]
     },
     "execution_count": 19,
     "metadata": {},
     "output_type": "execute_result"
    }
   ],
   "source": [
    "# Calculate the average climb_total for each profile\n",
    "average_climb_total_per_profile = df_races.groupby('profile')['climb_total'].mean().reset_index()\n",
    "\n",
    "average_climb_total_per_profile"
   ]
  },
  {
   "cell_type": "markdown",
   "metadata": {},
   "source": [
    "### <a id='toc3_2_4_'></a>[Ensure that the average temperature makes sense](#toc0_)\n",
    "\n",
    "Given that the coldest bike race takes places in temperatures of -43c (https://road.cc/content/news/174123-whats-it-ride-43%C2%B0c-worlds-coldest-bike-race)\n",
    "And while I wasn't able to find the hottest race ever, there are records of stages having average temperatures of 40c: https://www.cyclingnews.com/features/the-heat-is-on-how-the-vuelta-a-espana-peloton-is-battling-the-first-weeks-intense-temperatures/, so we'll set 43c as the upper limit."
   ]
  },
  {
   "cell_type": "code",
   "execution_count": 20,
   "metadata": {},
   "outputs": [
    {
     "name": "stdout",
     "output_type": "stream",
     "text": [
      "Empty DataFrame\n",
      "Columns: [_url, name, points, uci_points, length, climb_total, profile, startlist_quality, average_temperature, date, position, cyclist, cyclist_age, is_tarmac, is_cobbled, is_gravel, cyclist_team, delta, _url_format_issue, date_format_issue, position_issue, numeric_issue, cyclist_team_format_issue, duplicate_issue, delta_issue, startlist_quality_issue, average_temperature_issue]\n",
      "Index: []\n",
      "\n",
      "[0 rows x 27 columns]\n"
     ]
    }
   ],
   "source": [
    "df_races['average_temperature_issue'] = ~df_races['average_temperature'].between(-43, 43, inclusive=\"both\").fillna(False)\n",
    "\n",
    "invalid_temperature_records = df_races[df_races['average_temperature'] == True]\n",
    "print(invalid_temperature_records)"
   ]
  }
 ],
 "metadata": {
  "kernelspec": {
   "display_name": "Python 3",
   "language": "python",
   "name": "python3"
  },
  "language_info": {
   "codemirror_mode": {
    "name": "ipython",
    "version": 3
   },
   "file_extension": ".py",
   "mimetype": "text/x-python",
   "name": "python",
   "nbconvert_exporter": "python",
   "pygments_lexer": "ipython3",
   "version": "3.11.5"
  }
 },
 "nbformat": 4,
 "nbformat_minor": 2
}
