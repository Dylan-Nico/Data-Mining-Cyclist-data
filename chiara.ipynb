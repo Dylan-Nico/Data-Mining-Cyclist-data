{
 "cells": [
  {
   "cell_type": "markdown",
   "metadata": {},
   "source": [
    "### Importazione librerie"
   ]
  },
  {
   "cell_type": "code",
   "execution_count": 270,
   "metadata": {},
   "outputs": [],
   "source": [
    "import pandas\n",
    "import numpy as np\n",
    "import matplotlib.pyplot as plt\n",
    "import seaborn\n",
    "from datasets import load_dataset\n",
    "import numpy\n",
    "from sklearn.impute import SimpleImputer\n",
    "from sklearn.impute import KNNImputer\n",
    "from sklearn.experimental import enable_iterative_imputer\n",
    "from sklearn.impute import IterativeImputer\n",
    "from scipy.stats import pearsonr\n",
    "from sklearn.linear_model import LinearRegression\n"
   ]
  },
  {
   "cell_type": "markdown",
   "metadata": {},
   "source": [
    "### Load datasets"
   ]
  },
  {
   "cell_type": "code",
   "execution_count": 271,
   "metadata": {},
   "outputs": [],
   "source": [
    "# Load the dataset\n",
    "dataset_cyclists = load_dataset('csv', data_files='dataset/cyclists.csv')\n",
    "dataset_races = load_dataset('csv', data_files='dataset/races.csv')\n",
    "\n",
    "# Convert to pandas DataFrames\n",
    "df_cyclists = dataset_cyclists['train'].to_pandas()\n",
    "df_races = dataset_races['train'].to_pandas()"
   ]
  },
  {
   "cell_type": "code",
   "execution_count": null,
   "metadata": {},
   "outputs": [],
   "source": [
    "# Display the first few rows of the cyclists dataset\n",
    "df_cyclists.head()"
   ]
  },
  {
   "cell_type": "code",
   "execution_count": null,
   "metadata": {},
   "outputs": [],
   "source": [
    "# Display the first few rows of races dataset\n",
    "df_races.head()"
   ]
  },
  {
   "cell_type": "markdown",
   "metadata": {},
   "source": [
    "### Info cyclist dataset"
   ]
  },
  {
   "cell_type": "code",
   "execution_count": null,
   "metadata": {},
   "outputs": [],
   "source": [
    "# Cyclists dataset type columns\n",
    "df_cyclists.dtypes"
   ]
  },
  {
   "cell_type": "code",
   "execution_count": null,
   "metadata": {},
   "outputs": [],
   "source": [
    "# Cyclists dataset info\n",
    "df_cyclists.info()"
   ]
  },
  {
   "cell_type": "code",
   "execution_count": null,
   "metadata": {},
   "outputs": [],
   "source": [
    "# Cyclists dataset statistic description (numerical columns)\n",
    "df_cyclists.describe()"
   ]
  },
  {
   "cell_type": "code",
   "execution_count": null,
   "metadata": {},
   "outputs": [],
   "source": [
    "# Cyclists dataset statistic description (categorical columns)\n",
    "df_cyclists.describe(include='object')"
   ]
  },
  {
   "cell_type": "code",
   "execution_count": null,
   "metadata": {},
   "outputs": [],
   "source": [
    "# Shape of the dataset\n",
    "df_cyclists.shape"
   ]
  },
  {
   "cell_type": "code",
   "execution_count": null,
   "metadata": {},
   "outputs": [],
   "source": [
    "# Number of unique values in each column\n",
    "df_cyclists.nunique()"
   ]
  },
  {
   "cell_type": "code",
   "execution_count": null,
   "metadata": {},
   "outputs": [],
   "source": [
    "# Number of values in each column\n",
    "df_cyclists.count()"
   ]
  },
  {
   "cell_type": "code",
   "execution_count": null,
   "metadata": {},
   "outputs": [],
   "source": [
    "# for each categorical column, the number of times each unique value appears in the column\n",
    "for col in df_cyclists.select_dtypes(include='object').columns:\n",
    "    print(df_cyclists[col].value_counts())"
   ]
  },
  {
   "cell_type": "code",
   "execution_count": null,
   "metadata": {},
   "outputs": [],
   "source": [
    "# Check for cyclists named Andrea Peron (for example) to see if there are any duplicates\n",
    "df_cyclists[df_cyclists['name'] == 'Andrea  Peron']"
   ]
  },
  {
   "cell_type": "code",
   "execution_count": null,
   "metadata": {},
   "outputs": [],
   "source": [
    "# for each numerical column, the number of times each unique value appears in the column\n",
    "for col in df_cyclists.select_dtypes(include='number').columns:\n",
    "    print(df_cyclists[col].value_counts())"
   ]
  },
  {
   "cell_type": "markdown",
   "metadata": {},
   "source": [
    "### Filter out duplicate records"
   ]
  },
  {
   "cell_type": "code",
   "execution_count": null,
   "metadata": {},
   "outputs": [],
   "source": [
    "# Extract duplicate rows\n",
    "dups = df_cyclists.duplicated()\n",
    "\n",
    "# Number of duplicate rows\n",
    "dups.sum()\n"
   ]
  },
  {
   "cell_type": "code",
   "execution_count": null,
   "metadata": {},
   "outputs": [],
   "source": [
    "# Extract duplicate rows\n",
    "dup_df = df_cyclists[df_cyclists.duplicated(keep=False)]\n",
    "\n",
    "# Display duplicate rows\n",
    "dup_df.head()"
   ]
  },
  {
   "cell_type": "code",
   "execution_count": 286,
   "metadata": {},
   "outputs": [],
   "source": [
    "# Drop duplicate rows\n",
    "df_cyclists = df_cyclists.drop_duplicates()"
   ]
  },
  {
   "cell_type": "markdown",
   "metadata": {},
   "source": [
    "### Missing values"
   ]
  },
  {
   "cell_type": "code",
   "execution_count": null,
   "metadata": {},
   "outputs": [],
   "source": [
    "# Check for missing values\n",
    "df_cyclists.isnull().sum()"
   ]
  },
  {
   "cell_type": "code",
   "execution_count": null,
   "metadata": {},
   "outputs": [],
   "source": [
    "# Extract rows with missing values\n",
    "df_cyclists[df_cyclists.isnull().any(axis=1)]"
   ]
  },
  {
   "cell_type": "code",
   "execution_count": null,
   "metadata": {},
   "outputs": [],
   "source": [
    "# Show the record with missing value in birth_year\n",
    "df_cyclists[df_cyclists['birth_year'].isnull()]"
   ]
  },
  {
   "cell_type": "code",
   "execution_count": null,
   "metadata": {},
   "outputs": [],
   "source": [
    "# show the record with missing values height\n",
    "df_cyclists[df_cyclists['height'].isnull()]"
   ]
  },
  {
   "cell_type": "code",
   "execution_count": null,
   "metadata": {},
   "outputs": [],
   "source": [
    "# show the record with missing values weight\n",
    "df_cyclists[df_cyclists['weight'].isnull()]"
   ]
  },
  {
   "cell_type": "code",
   "execution_count": null,
   "metadata": {},
   "outputs": [],
   "source": [
    "# Show the record with missing value in nationality\n",
    "df_cyclists[df_cyclists['nationality'].isna()]"
   ]
  },
  {
   "cell_type": "code",
   "execution_count": null,
   "metadata": {},
   "outputs": [],
   "source": [
    "# Show the record with missing value both in height and weight\n",
    "df_cyclists[(df_cyclists['height'].isnull()) & (df_cyclists['weight'].isnull())]"
   ]
  },
  {
   "cell_type": "code",
   "execution_count": 294,
   "metadata": {},
   "outputs": [],
   "source": [
    "# drop rows with missing values -> NON SO SE E' IL CASO forse solo per chi ha missing values in height e weight\n",
    "#df_cyclists = df_cyclists.dropna(subset=['height', 'weight'])\n",
    "\n",
    "# df_cyclists = df_cyclists.dropna()"
   ]
  },
  {
   "cell_type": "markdown",
   "metadata": {},
   "source": [
    "### Imputations"
   ]
  },
  {
   "cell_type": "code",
   "execution_count": 295,
   "metadata": {},
   "outputs": [],
   "source": [
    "# Sturges rule for approximately Normal distributions\n",
    "def sturges_bin_count(df_cyclists):\n",
    "    \"\"\"Calculate optimal number of bins based on Sturges' rule\"\"\"\n",
    "    return int(np.ceil(np.log2(len(df_cyclists)) + 1))\n",
    "# Freedman-Diaconis Rule is better for data with outliers and skewed distributions\n",
    "def freedman_diaconis_bin_count(data):\n",
    "    \"\"\"Calculate optimal number of bins based on Freedman-Diaconis rule\"\"\"\n",
    "    iqr = np.percentile(data, 75) - np.percentile(data, 25)\n",
    "    bin_width = 2 * iqr * len(data) ** (-1/3)\n",
    "    return int(np.ceil((data.max() - data.min()) / bin_width))\n",
    "\n",
    "#bins_1 = sturges_bin_count(df_cyclists[\"birth_year\"].dropna())\n",
    "#bins_2 = freedman_diaconis_bin_count(df_cyclists[\"birth_year\"].dropna())\n"
   ]
  },
  {
   "cell_type": "code",
   "execution_count": null,
   "metadata": {},
   "outputs": [],
   "source": [
    "# Plot histogram of birth year\n",
    "seaborn.displot(df_cyclists, \n",
    "                x=\"birth_year\", \n",
    "                kind=\"hist\",\n",
    "                row_order=\"desc\",\n",
    "                bins=15)"
   ]
  },
  {
   "cell_type": "code",
   "execution_count": null,
   "metadata": {},
   "outputs": [],
   "source": [
    "# Plot histogram of height\n",
    "seaborn.displot(df_cyclists, \n",
    "                x=\"height\", \n",
    "                kind=\"hist\",\n",
    "                row_order=\"desc\",\n",
    "                bins=15)"
   ]
  },
  {
   "cell_type": "code",
   "execution_count": null,
   "metadata": {},
   "outputs": [],
   "source": [
    "# Plot histogram of weight\n",
    "seaborn.displot(df_cyclists, \n",
    "                x=\"weight\", \n",
    "                kind=\"hist\",\n",
    "                row_order=\"desc\",\n",
    "                bins=15)"
   ]
  },
  {
   "cell_type": "code",
   "execution_count": null,
   "metadata": {},
   "outputs": [],
   "source": [
    "# Plot histogram of nationality\n",
    "g = seaborn.displot(df_cyclists, \n",
    "                x=\"nationality\", \n",
    "                kind=\"hist\",\n",
    "                row_order=\"desc\",\n",
    "                bins=len(df_cyclists['nationality'].unique()))\n",
    "plt.xticks(rotation=90)"
   ]
  },
  {
   "cell_type": "markdown",
   "metadata": {},
   "source": [
    "### Imputations on height and weight"
   ]
  },
  {
   "cell_type": "code",
   "execution_count": null,
   "metadata": {},
   "outputs": [],
   "source": [
    "df_cyclists.isnull().sum() # check for missing values, sum them up by column"
   ]
  },
  {
   "cell_type": "markdown",
   "metadata": {},
   "source": [
    "### Drop rows with missing values in the nationality column"
   ]
  },
  {
   "cell_type": "code",
   "execution_count": null,
   "metadata": {},
   "outputs": [],
   "source": [
    "df_cyclists = df_cyclists.dropna(subset=['nationality']) # drop rows with missing values in the nationality column\n",
    "\n",
    "df_cyclists.isnull().sum() # check for missing values, sum them up by column"
   ]
  },
  {
   "cell_type": "markdown",
   "metadata": {},
   "source": [
    "### Imputazione del peso in base all'altezza (e viceversa) - imputazione basata su gruppi"
   ]
  },
  {
   "cell_type": "code",
   "execution_count": null,
   "metadata": {},
   "outputs": [],
   "source": [
    "df_cyclists_filtered = df_cyclists.dropna(subset=[\"height\", \"weight\"], how='all')\n",
    "\n",
    "df_cyclists_filtered['height_group'] = pandas.cut(df_cyclists_filtered['height'], bins=5)\n",
    "\n",
    "group_means = df_cyclists_filtered.groupby('height_group')['weight'].mean()\n",
    "\n",
    "df_cyclists_filtered['weight'] = df_cyclists_filtered.apply(\n",
    "    lambda row: group_means[row['height_group']] if pandas.isnull(row['weight']) else row['weight'],\n",
    "    axis=1\n",
    ")\n",
    "\n",
    "df_cyclists.update(df_cyclists_filtered)\n"
   ]
  },
  {
   "cell_type": "code",
   "execution_count": null,
   "metadata": {},
   "outputs": [],
   "source": [
    "df_cyclists_filtered = df_cyclists.dropna(subset=[\"height\", \"weight\"], how='all')\n",
    "df_cyclists_filtered['weight_group'] = pandas.cut(df_cyclists_filtered['weight'], bins=5)\n",
    "\n",
    "group_means = df_cyclists_filtered.groupby('weight_group')['height'].mean()\n",
    "\n",
    "df_cyclists_filtered['height'] = df_cyclists_filtered.apply(\n",
    "    lambda row: group_means[row['weight_group']] if pandas.isnull(row['height']) else row['height'],\n",
    "    axis=1\n",
    ")\n",
    "\n",
    "df_cyclists.update(df_cyclists_filtered)\n",
    "\n",
    "df_cyclists.isnull().sum()"
   ]
  },
  {
   "cell_type": "code",
   "execution_count": null,
   "metadata": {},
   "outputs": [],
   "source": [
    "seaborn.displot(df_cyclists,\n",
    "                x=\"weight\",\n",
    "                kind=\"hist\",\n",
    "                row_order=\"desc\",\n",
    "                bins=15)"
   ]
  },
  {
   "cell_type": "code",
   "execution_count": null,
   "metadata": {},
   "outputs": [],
   "source": [
    "seaborn.displot(df_cyclists,\n",
    "                x=\"height\",\n",
    "                kind=\"hist\",\n",
    "                row_order=\"desc\",\n",
    "                bins=15)"
   ]
  },
  {
   "cell_type": "code",
   "execution_count": null,
   "metadata": {},
   "outputs": [],
   "source": [
    "correlation, _ = pearsonr(df_cyclists['height'].dropna(), df_cyclists['weight'].dropna())\n",
    "print(f'Correlazione tra altezza e peso: {correlation}')"
   ]
  },
  {
   "cell_type": "code",
   "execution_count": null,
   "metadata": {},
   "outputs": [],
   "source": [
    "seaborn.scatterplot(x='height', y='weight', data=df_cyclists)\n",
    "plt.title('Scatter plot di altezza vs peso')\n",
    "plt.show()"
   ]
  },
  {
   "cell_type": "markdown",
   "metadata": {},
   "source": [
    "### Imputazione con valori casuali basati sulla distribuzione per i record con sia peso che altezza a NaN "
   ]
  },
  {
   "cell_type": "code",
   "execution_count": 308,
   "metadata": {},
   "outputs": [],
   "source": [
    "both_missing = df_cyclists[df_cyclists[['height', 'weight']].isna().all(axis=1)]\n",
    "\n",
    "random_heights = np.random.choice(df_cyclists['height'].dropna(), size=len(both_missing))\n",
    "random_weights = np.random.choice(df_cyclists['weight'].dropna(), size=len(both_missing))\n",
    "\n",
    "df_cyclists.loc[both_missing.index, 'height'] = random_heights\n",
    "df_cyclists.loc[both_missing.index, 'weight'] = random_weights"
   ]
  },
  {
   "cell_type": "code",
   "execution_count": null,
   "metadata": {},
   "outputs": [],
   "source": [
    "seaborn.displot(df_cyclists,\n",
    "                x=\"weight\",\n",
    "                kind=\"hist\",\n",
    "                row_order=\"desc\",\n",
    "                bins=15)"
   ]
  },
  {
   "cell_type": "code",
   "execution_count": null,
   "metadata": {},
   "outputs": [],
   "source": [
    "seaborn.displot(df_cyclists,\n",
    "                x=\"height\",\n",
    "                kind=\"hist\",\n",
    "                row_order=\"desc\",\n",
    "                bins=15)"
   ]
  },
  {
   "cell_type": "code",
   "execution_count": null,
   "metadata": {},
   "outputs": [],
   "source": [
    "df_cyclists.isnull().sum()"
   ]
  },
  {
   "cell_type": "markdown",
   "metadata": {},
   "source": [
    "### KNN imputation for birth_year column"
   ]
  },
  {
   "cell_type": "code",
   "execution_count": 312,
   "metadata": {},
   "outputs": [],
   "source": [
    "from sklearn.preprocessing import LabelEncoder\n",
    "\n",
    "le = LabelEncoder()\n",
    "df_cyclists['nationality'] = le.fit_transform(df_cyclists['nationality'].astype(str))\n",
    "\n",
    "df_impute = df_cyclists.copy()\n",
    "columns_for_imputation = ['height', 'weight', 'nationality', 'birth_year']\n",
    "df_impute = df_impute[columns_for_imputation]\n",
    "\n",
    "imputer = KNNImputer(n_neighbors=5)\n",
    "df_imputed = imputer.fit_transform(df_impute)\n",
    "\n",
    "df_cyclists['birth_year'] = df_imputed[:, 3]"
   ]
  },
  {
   "cell_type": "code",
   "execution_count": null,
   "metadata": {},
   "outputs": [],
   "source": [
    "df_cyclists.isnull().sum()"
   ]
  },
  {
   "cell_type": "code",
   "execution_count": null,
   "metadata": {},
   "outputs": [],
   "source": [
    "seaborn.displot(df_cyclists, \n",
    "                x=\"birth_year\", \n",
    "                kind=\"hist\",\n",
    "                row_order=\"desc\",\n",
    "                bins=15)"
   ]
  },
  {
   "cell_type": "markdown",
   "metadata": {},
   "source": [
    "### KNN imputations varying K on height and weight"
   ]
  },
  {
   "cell_type": "code",
   "execution_count": null,
   "metadata": {},
   "outputs": [],
   "source": [
    "dataset_cyclists_2 = load_dataset('csv', data_files='dataset/cyclists.csv')\n",
    "df_cyclists_2 = dataset_cyclists_2['train'].to_pandas()\n",
    "\n",
    "df_cyclists_2.isnull().sum()\n"
   ]
  },
  {
   "cell_type": "code",
   "execution_count": 316,
   "metadata": {},
   "outputs": [],
   "source": [
    "df_cyclists_2['nationality'] = le.fit_transform(df_cyclists_2['nationality'].astype(str))\n",
    "\n",
    "columns_for_imputation = ['height', 'weight', 'nationality', 'birth_year']\n",
    "df_impute = df_cyclists_2[columns_for_imputation]\n",
    "\n",
    "\n",
    "imputer = KNNImputer(n_neighbors=30)\n",
    "df_imputed = imputer.fit_transform(df_impute)\n",
    "\n",
    "df_cyclists_2['height'] = df_imputed[:, 0]\n",
    "df_cyclists_2['weight'] = df_imputed[:, 1]\n",
    "df_cyclists_2['nationality'] = df_imputed[:, 2]\n",
    "df_cyclists_2['birth_year'] = df_imputed[:, 3]"
   ]
  },
  {
   "cell_type": "code",
   "execution_count": null,
   "metadata": {},
   "outputs": [],
   "source": [
    "seaborn.displot(df_cyclists_2, \n",
    "                x=\"weight\", \n",
    "                kind=\"hist\",\n",
    "                row_order=\"desc\",\n",
    "                bins=15)"
   ]
  },
  {
   "cell_type": "code",
   "execution_count": null,
   "metadata": {},
   "outputs": [],
   "source": [
    "seaborn.displot(df_cyclists_2, \n",
    "                x=\"weight\", \n",
    "                kind=\"hist\",\n",
    "                row_order=\"desc\",\n",
    "                bins=15)"
   ]
  },
  {
   "cell_type": "code",
   "execution_count": null,
   "metadata": {},
   "outputs": [],
   "source": [
    "seaborn.displot(df_cyclists_2, \n",
    "                x=\"nationality\", \n",
    "                kind=\"hist\",\n",
    "                row_order=\"desc\",\n",
    "                bins=15)"
   ]
  },
  {
   "cell_type": "code",
   "execution_count": null,
   "metadata": {},
   "outputs": [],
   "source": [
    "seaborn.displot(df_cyclists_2, \n",
    "                x=\"birth_year\", \n",
    "                kind=\"hist\",\n",
    "                row_order=\"desc\",\n",
    "                bins=15)"
   ]
  },
  {
   "cell_type": "code",
   "execution_count": null,
   "metadata": {},
   "outputs": [],
   "source": [
    "df_cyclists_2.isnull().sum()"
   ]
  }
 ],
 "metadata": {
  "kernelspec": {
   "display_name": "venv",
   "language": "python",
   "name": "python3"
  },
  "language_info": {
   "codemirror_mode": {
    "name": "ipython",
    "version": 3
   },
   "file_extension": ".py",
   "mimetype": "text/x-python",
   "name": "python",
   "nbconvert_exporter": "python",
   "pygments_lexer": "ipython3",
   "version": "3.10.12"
  }
 },
 "nbformat": 4,
 "nbformat_minor": 2
}
