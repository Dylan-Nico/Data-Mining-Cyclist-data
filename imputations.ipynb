{
 "cells": [
  {
   "cell_type": "markdown",
   "metadata": {},
   "source": [
    "## Libraries and datasets"
   ]
  },
  {
   "cell_type": "code",
   "execution_count": null,
   "metadata": {},
   "outputs": [],
   "source": [
    "import pandas as pd\n",
    "import numpy as np\n",
    "import matplotlib.pyplot as plt\n",
    "import seaborn\n",
    "from sklearn.preprocessing import LabelEncoder\n",
    "from sklearn.preprocessing import PowerTransformer\n",
    "from unidecode import unidecode\n",
    "from sklearn.metrics import mean_squared_error\n",
    "from sklearn.impute import IterativeImputer\n",
    "from sklearn.preprocessing import StandardScaler\n",
    "from datasets import load_dataset\n",
    "from sklearn.impute import IterativeImputer, SimpleImputer\n",
    "from sklearn.neighbors import KNeighborsRegressor\n",
    "from scipy.stats import ks_2samp"
   ]
  },
  {
   "cell_type": "code",
   "execution_count": 84,
   "metadata": {},
   "outputs": [],
   "source": [
    "dataset_cyclists = load_dataset('csv', data_files='dataset/cyclists.csv')\n",
    "dataset_races = load_dataset('csv', data_files='dataset/races.csv')\n",
    "\n",
    "df_cyclists = dataset_cyclists['train'].to_pandas()\n",
    "df_races = dataset_races['train'].to_pandas()"
   ]
  },
  {
   "attachments": {},
   "cell_type": "markdown",
   "metadata": {},
   "source": [
    "## Cyclists"
   ]
  },
  {
   "cell_type": "code",
   "execution_count": 85,
   "metadata": {},
   "outputs": [
    {
     "data": {
      "text/html": [
       "<div>\n",
       "<style scoped>\n",
       "    .dataframe tbody tr th:only-of-type {\n",
       "        vertical-align: middle;\n",
       "    }\n",
       "\n",
       "    .dataframe tbody tr th {\n",
       "        vertical-align: top;\n",
       "    }\n",
       "\n",
       "    .dataframe thead th {\n",
       "        text-align: right;\n",
       "    }\n",
       "</style>\n",
       "<table border=\"1\" class=\"dataframe\">\n",
       "  <thead>\n",
       "    <tr style=\"text-align: right;\">\n",
       "      <th></th>\n",
       "      <th>_url</th>\n",
       "      <th>name</th>\n",
       "      <th>birth_year</th>\n",
       "      <th>weight</th>\n",
       "      <th>height</th>\n",
       "      <th>nationality</th>\n",
       "    </tr>\n",
       "  </thead>\n",
       "  <tbody>\n",
       "    <tr>\n",
       "      <th>0</th>\n",
       "      <td>bruno-surra</td>\n",
       "      <td>Bruno  Surra</td>\n",
       "      <td>1964.0</td>\n",
       "      <td>NaN</td>\n",
       "      <td>NaN</td>\n",
       "      <td>Italy</td>\n",
       "    </tr>\n",
       "    <tr>\n",
       "      <th>1</th>\n",
       "      <td>gerard-rue</td>\n",
       "      <td>Gérard  Rué</td>\n",
       "      <td>1965.0</td>\n",
       "      <td>74.0</td>\n",
       "      <td>182.0</td>\n",
       "      <td>France</td>\n",
       "    </tr>\n",
       "    <tr>\n",
       "      <th>2</th>\n",
       "      <td>jan-maas</td>\n",
       "      <td>Jan  Maas</td>\n",
       "      <td>1996.0</td>\n",
       "      <td>69.0</td>\n",
       "      <td>189.0</td>\n",
       "      <td>Netherlands</td>\n",
       "    </tr>\n",
       "    <tr>\n",
       "      <th>3</th>\n",
       "      <td>nathan-van-hooydonck</td>\n",
       "      <td>Nathan Van Hooydonck</td>\n",
       "      <td>1995.0</td>\n",
       "      <td>78.0</td>\n",
       "      <td>192.0</td>\n",
       "      <td>Belgium</td>\n",
       "    </tr>\n",
       "    <tr>\n",
       "      <th>4</th>\n",
       "      <td>jose-felix-parra</td>\n",
       "      <td>José Félix  Parra</td>\n",
       "      <td>1997.0</td>\n",
       "      <td>55.0</td>\n",
       "      <td>171.0</td>\n",
       "      <td>Spain</td>\n",
       "    </tr>\n",
       "  </tbody>\n",
       "</table>\n",
       "</div>"
      ],
      "text/plain": [
       "                   _url                  name  birth_year  weight  height  \\\n",
       "0           bruno-surra          Bruno  Surra      1964.0     NaN     NaN   \n",
       "1            gerard-rue           Gérard  Rué      1965.0    74.0   182.0   \n",
       "2              jan-maas             Jan  Maas      1996.0    69.0   189.0   \n",
       "3  nathan-van-hooydonck  Nathan Van Hooydonck      1995.0    78.0   192.0   \n",
       "4      jose-felix-parra     José Félix  Parra      1997.0    55.0   171.0   \n",
       "\n",
       "   nationality  \n",
       "0        Italy  \n",
       "1       France  \n",
       "2  Netherlands  \n",
       "3      Belgium  \n",
       "4        Spain  "
      ]
     },
     "execution_count": 85,
     "metadata": {},
     "output_type": "execute_result"
    }
   ],
   "source": [
    "df_cyclists.head()"
   ]
  },
  {
   "attachments": {},
   "cell_type": "markdown",
   "metadata": {},
   "source": [
    "Check for duplicates names --> we searched, and they actually are different person with same name but also different nationality"
   ]
  },
  {
   "cell_type": "markdown",
   "metadata": {},
   "source": [
    "### Defining Kolmogorov-Smirnov Test to compare the distribution before and after the imputations"
   ]
  },
  {
   "cell_type": "code",
   "execution_count": 86,
   "metadata": {},
   "outputs": [],
   "source": [
    "def test_before_after_distribution(before, after):\n",
    "    statistic, p_value = ks_2samp(before, after)\n",
    "\n",
    "    # Print test results\n",
    "    print(f\"\\nKS Test: Statistic = {statistic}, p-value = {p_value}\")\n",
    "\n",
    "    if statistic < 0.05:\n",
    "        print(\"Very small difference in distribution, the imputed data closely matches the original distribution.\")\n",
    "    elif 0.05 <= statistic < 0.1:\n",
    "        print(\"Minor difference in distribution, the imputed data is similar to the original distribution with slight deviations.\")\n",
    "    elif 0.1 <= statistic < 0.2:\n",
    "        print(\"Moderate difference in distribution, the imputed data shows some noticeable deviations from the original distribution.\")\n",
    "    elif 0.2 <= statistic < 0.5:\n",
    "        print(\"Significant difference in distribution, the imputed data may not fully preserve the original distribution.\")\n",
    "    else:\n",
    "        print(\"Large difference in distribution, the imputed data differs substantially from the original distribution.\")"
   ]
  },
  {
   "cell_type": "markdown",
   "metadata": {},
   "source": [
    "Interpretation\n",
    "Statistic (0.0167): The KS statistic is a measure of the maximum difference between the cumulative distributions of the two samples (before and after imputation). Here, the statistic is small (0.0167), suggesting only a slight difference in shape between the two distributions.\n",
    "\n",
    "P-value (7.42e-62): This extremely low p-value indicates that even this small difference is statistically significant. This could be probably due to large sample size"
   ]
  },
  {
   "attachments": {},
   "cell_type": "markdown",
   "metadata": {},
   "source": [
    "### Pre processing needed for cyclists "
   ]
  },
  {
   "attachments": {},
   "cell_type": "markdown",
   "metadata": {},
   "source": [
    "#### Scott-davies has no info, so just delete him from cyclist (also in races he is not relevant)"
   ]
  },
  {
   "cell_type": "code",
   "execution_count": 87,
   "metadata": {},
   "outputs": [
    {
     "data": {
      "text/html": [
       "<div>\n",
       "<style scoped>\n",
       "    .dataframe tbody tr th:only-of-type {\n",
       "        vertical-align: middle;\n",
       "    }\n",
       "\n",
       "    .dataframe tbody tr th {\n",
       "        vertical-align: top;\n",
       "    }\n",
       "\n",
       "    .dataframe thead th {\n",
       "        text-align: right;\n",
       "    }\n",
       "</style>\n",
       "<table border=\"1\" class=\"dataframe\">\n",
       "  <thead>\n",
       "    <tr style=\"text-align: right;\">\n",
       "      <th></th>\n",
       "      <th>_url</th>\n",
       "      <th>name</th>\n",
       "      <th>birth_year</th>\n",
       "      <th>weight</th>\n",
       "      <th>height</th>\n",
       "      <th>nationality</th>\n",
       "    </tr>\n",
       "  </thead>\n",
       "  <tbody>\n",
       "    <tr>\n",
       "      <th>9</th>\n",
       "      <td>scott-davies</td>\n",
       "      <td>Scott  Davies</td>\n",
       "      <td>NaN</td>\n",
       "      <td>NaN</td>\n",
       "      <td>NaN</td>\n",
       "      <td>None</td>\n",
       "    </tr>\n",
       "  </tbody>\n",
       "</table>\n",
       "</div>"
      ],
      "text/plain": [
       "           _url           name  birth_year  weight  height nationality\n",
       "9  scott-davies  Scott  Davies         NaN     NaN     NaN        None"
      ]
     },
     "execution_count": 87,
     "metadata": {},
     "output_type": "execute_result"
    }
   ],
   "source": [
    "# Check information about scott-davies in the other dataset to put some value in\n",
    "df_cyclists[df_cyclists[\"_url\"] == \"scott-davies\"] # --> No info"
   ]
  },
  {
   "cell_type": "code",
   "execution_count": 88,
   "metadata": {},
   "outputs": [],
   "source": [
    "# Delete scott-davies row\n",
    "df_cyclists = df_cyclists[df_cyclists[\"_url\"] != \"scott-davies\"]"
   ]
  },
  {
   "cell_type": "markdown",
   "metadata": {},
   "source": [
    "### Count of missing values"
   ]
  },
  {
   "cell_type": "code",
   "execution_count": 89,
   "metadata": {},
   "outputs": [
    {
     "data": {
      "text/plain": [
       "_url              0\n",
       "name              0\n",
       "birth_year       12\n",
       "weight         3055\n",
       "height         2990\n",
       "nationality       0\n",
       "dtype: int64"
      ]
     },
     "execution_count": 89,
     "metadata": {},
     "output_type": "execute_result"
    }
   ],
   "source": [
    "df_cyclists.isnull().sum()"
   ]
  },
  {
   "attachments": {},
   "cell_type": "markdown",
   "metadata": {},
   "source": [
    "### Birth_year"
   ]
  },
  {
   "cell_type": "code",
   "execution_count": 90,
   "metadata": {},
   "outputs": [
    {
     "data": {
      "image/png": "[encoded data removed]",
      "text/plain": [
       "<Figure size 640x480 with 1 Axes>"
      ]
     },
     "metadata": {},
     "output_type": "display_data"
    }
   ],
   "source": [
    "\n",
    "birth_year_before_imputation = df_cyclists['birth_year'].copy()\n",
    "\n",
    "seaborn.kdeplot(df_cyclists[\"birth_year\"], fill=True, label=\"birth_year\")\n",
    "plt.show()\n",
    "\n"
   ]
  },
  {
   "cell_type": "code",
   "execution_count": 91,
   "metadata": {},
   "outputs": [
    {
     "data": {
      "text/plain": [
       "0"
      ]
     },
     "execution_count": 91,
     "metadata": {},
     "output_type": "execute_result"
    }
   ],
   "source": [
    "imputer = SimpleImputer(strategy='mean')\n",
    "imputer.fit((df_cyclists[[\"birth_year\"]]))\n",
    "df_cyclists[\"birth_year\"] = imputer.transform(df_cyclists[[\"birth_year\"]]).squeeze()\n",
    "\n",
    "\n",
    "df_cyclists[\"birth_year\"].isnull().sum()\n"
   ]
  },
  {
   "cell_type": "code",
   "execution_count": 92,
   "metadata": {},
   "outputs": [
    {
     "data": {
      "image/png": "[encoded data removed]",
      "text/plain": [
       "<Figure size 640x480 with 1 Axes>"
      ]
     },
     "metadata": {},
     "output_type": "display_data"
    }
   ],
   "source": [
    "seaborn.kdeplot(df_cyclists[\"birth_year\"], fill=True, label=\"birth_year\")\n",
    "plt.show()"
   ]
  },
  {
   "cell_type": "code",
   "execution_count": 93,
   "metadata": {},
   "outputs": [
    {
     "name": "stdout",
     "output_type": "stream",
     "text": [
      "\n",
      "KS Test: Statistic = 0.0009794328426410664, p-value = 1.0\n",
      "Very small difference in distribution, the imputed data closely matches the original distribution.\n"
     ]
    }
   ],
   "source": [
    "birth_year_after_imputation = df_cyclists['birth_year'].copy() \n",
    "\n",
    "test_before_after_distribution(birth_year_before_imputation.dropna(), birth_year_after_imputation)\n"
   ]
  },
  {
   "attachments": {},
   "cell_type": "markdown",
   "metadata": {},
   "source": [
    "### Weight and height"
   ]
  },
  {
   "cell_type": "code",
   "execution_count": 94,
   "metadata": {},
   "outputs": [],
   "source": [
    "weight_before_imputation = df_cyclists['weight'].copy()\n",
    "height_before_imputation = df_cyclists['height'].copy()"
   ]
  },
  {
   "cell_type": "code",
   "execution_count": null,
   "metadata": {},
   "outputs": [],
   "source": [
    "# Plot weight distribution\n",
    "seaborn.kdeplot(df_cyclists[\"weight\"], fill=True, label=\"weight\")\n",
    "plt.show()"
   ]
  },
  {
   "cell_type": "code",
   "execution_count": 96,
   "metadata": {},
   "outputs": [
    {
     "data": {
      "text/plain": [
       "<seaborn.axisgrid.FacetGrid at 0x7fdef816ebc0>"
      ]
     },
     "execution_count": 96,
     "metadata": {},
     "output_type": "execute_result"
    },
    {
     "data": {
      "image/png": "[encoded data removed]",
      "text/plain": [
       "<Figure size 500x500 with 1 Axes>"
      ]
     },
     "metadata": {},
     "output_type": "display_data"
    }
   ],
   "source": [
    "# weight\n",
    "seaborn.displot(df_cyclists,\n",
    "                x=\"weight\",\n",
    "                kind=\"hist\",\n",
    "                row_order=\"desc\",\n",
    "                bins=14)"
   ]
  },
  {
   "cell_type": "code",
   "execution_count": 97,
   "metadata": {},
   "outputs": [
    {
     "data": {
      "image/png": "[encoded data removed]",
      "text/plain": [
       "<Figure size 640x480 with 1 Axes>"
      ]
     },
     "metadata": {},
     "output_type": "display_data"
    }
   ],
   "source": [
    "# Plot height distribution\n",
    "seaborn.kdeplot(df_cyclists[\"height\"], fill=True, label=\"height\")\n",
    "plt.show()"
   ]
  },
  {
   "cell_type": "code",
   "execution_count": 98,
   "metadata": {},
   "outputs": [
    {
     "data": {
      "text/plain": [
       "<seaborn.axisgrid.FacetGrid at 0x7fdee6905030>"
      ]
     },
     "execution_count": 98,
     "metadata": {},
     "output_type": "execute_result"
    },
    {
     "data": {
      "image/png": "[encoded data removed]",
      "text/plain": [
       "<Figure size 500x500 with 1 Axes>"
      ]
     },
     "metadata": {},
     "output_type": "display_data"
    }
   ],
   "source": [
    "# height\n",
    "seaborn.displot(df_cyclists,\n",
    "                x=\"height\",\n",
    "                kind=\"hist\",\n",
    "                row_order=\"desc\",\n",
    "                bins=14)"
   ]
  },
  {
   "cell_type": "code",
   "execution_count": 99,
   "metadata": {},
   "outputs": [
    {
     "name": "stdout",
     "output_type": "stream",
     "text": [
      "Shape of original DataFrame: (6133, 6)\n",
      "Shape of imputed DataFrame: (6133, 3)\n",
      "\n",
      "Imputed DataFrame:\n",
      "          weight      height                     _url\n",
      "0     70.057068  187.223027              bruno-surra\n",
      "1     74.000000  182.000000               gerard-rue\n",
      "2     69.000000  189.000000                 jan-maas\n",
      "3     78.000000  192.000000     nathan-van-hooydonck\n",
      "4     55.000000  171.000000         jose-felix-parra\n",
      "...         ...         ...                      ...\n",
      "6128  72.105507  187.435327  juan-jose-martinez-diaz\n",
      "6129  75.000000  188.000000           inigo-elosegui\n",
      "6130  58.906714  167.861711           paolo-alberati\n",
      "6131  58.000000  170.000000        jackson-rodriguez\n",
      "6132  75.000000  186.000000             ward-vanhoof\n",
      "\n",
      "[6133 rows x 3 columns]\n",
      "Updated DataFrame with Imputed Values:\n",
      "                          _url                  name  birth_year     weight  \\\n",
      "0                 bruno-surra          Bruno  Surra      1964.0  70.057068   \n",
      "1                  gerard-rue           Gérard  Rué      1965.0  74.000000   \n",
      "2                    jan-maas             Jan  Maas      1996.0  69.000000   \n",
      "3        nathan-van-hooydonck  Nathan Van Hooydonck      1995.0  78.000000   \n",
      "4            jose-felix-parra     José Félix  Parra      1997.0  55.000000   \n",
      "...                       ...                   ...         ...        ...   \n",
      "6128  juan-jose-martinez-diaz   Juan José  Martínez      1966.0  72.105507   \n",
      "6129           inigo-elosegui       Iñigo  Elosegui      1998.0  75.000000   \n",
      "6130           paolo-alberati       Paolo  Alberati      1973.0  58.906714   \n",
      "6131        jackson-rodriguez    Jackson  Rodríguez      1985.0  58.000000   \n",
      "6132             ward-vanhoof         Ward  Vanhoof      1999.0  75.000000   \n",
      "\n",
      "          height  nationality  \n",
      "0     187.223027        Italy  \n",
      "1     182.000000       France  \n",
      "2     189.000000  Netherlands  \n",
      "3     192.000000      Belgium  \n",
      "4     171.000000        Spain  \n",
      "...          ...          ...  \n",
      "6128  187.435327        Spain  \n",
      "6129  188.000000        Spain  \n",
      "6130  167.861711        Italy  \n",
      "6131  170.000000    Venezuela  \n",
      "6132  186.000000      Belgium  \n",
      "\n",
      "[6133 rows x 6 columns]\n"
     ]
    }
   ],
   "source": [
    "# Keep the _url in the imputation dataset to preserve the reference\n",
    "df_cyclists_impute_scaling = df_cyclists[['height', 'weight', '_url']].copy()\n",
    "\n",
    "print(\"Shape of original DataFrame:\", df_cyclists.shape)\n",
    "print(\"Shape of imputed DataFrame:\", df_cyclists_impute_scaling.shape)\n",
    "\n",
    "# Normalize/Scale only weight and height (not _url)\n",
    "scaler = StandardScaler()\n",
    "df_cyclists_impute_scaling[['weight', 'height']] = scaler.fit_transform(df_cyclists_impute_scaling[['weight', 'height']])\n",
    "\n",
    "# Initialize Iterative Imputer (Bayesian Ridge for imputation)\n",
    "iterative_imputer = IterativeImputer(\n",
    "    estimator=BayesianRidge(),\n",
    "    random_state=0,\n",
    "    max_iter=100,\n",
    "    sample_posterior=True\n",
    ")\n",
    "\n",
    "# Fit the imputer and transform the DataFrame (excluding '_url' from the imputation)\n",
    "imputed_values = iterative_imputer.fit_transform(df_cyclists_impute_scaling[['weight', 'height']])\n",
    "\n",
    "# Revert scaling for the imputed values\n",
    "df_imputed_scaling = pd.DataFrame(\n",
    "    scaler.inverse_transform(imputed_values),  \n",
    "    columns=['weight', 'height']\n",
    ")\n",
    "\n",
    "# Add back the _url column to the imputed DataFrame (preserve cyclist id)\n",
    "df_imputed_scaling['_url'] = df_cyclists_impute_scaling['_url'].values\n",
    "\n",
    "# Now you have df_imputed_scaling with _url, weight, and height\n",
    "print(\"\\nImputed DataFrame:\\n\", df_imputed_scaling)\n",
    "\n",
    "# Merge the imputed values back into the original dataset using _url as the key\n",
    "df_cyclists = df_cyclists.merge(\n",
    "    df_imputed_scaling[['weight', 'height', '_url']], \n",
    "    on='_url', \n",
    "    how='left', \n",
    "    suffixes=('', '_imputed')\n",
    ")\n",
    "\n",
    "# Replace original columns with the imputed values where available\n",
    "df_cyclists['weight'] = df_cyclists['weight_imputed'].fillna(df_cyclists['weight'])\n",
    "df_cyclists['height'] = df_cyclists['height_imputed'].fillna(df_cyclists['height'])\n",
    "\n",
    "# Drop the temporary '_imputed' columns\n",
    "df_cyclists.drop(columns=['weight_imputed', 'height_imputed'], inplace=True)\n",
    "\n",
    "weight_after_imputation = df_cyclists['weight'].copy()\n",
    "height_after_imputation = df_cyclists['height'].copy()\n",
    "\n",
    "# Now df_cyclists has the updated weight and height columns\n",
    "print(\"Updated DataFrame with Imputed Values:\\n\", df_cyclists)"
   ]
  },
  {
   "attachments": {},
   "cell_type": "markdown",
   "metadata": {},
   "source": [
    "Plot distributions after imputing"
   ]
  },
  {
   "cell_type": "code",
   "execution_count": 100,
   "metadata": {},
   "outputs": [
    {
     "data": {
      "image/png": "[encoded data removed]",
      "text/plain": [
       "<Figure size 596.875x500 with 1 Axes>"
      ]
     },
     "metadata": {},
     "output_type": "display_data"
    }
   ],
   "source": [
    "# Visualize the distributions of imputed height and weight\n",
    "df_long = pd.melt(df_cyclists, value_vars=['height', 'weight'], var_name='attribute', value_name='value')\n",
    "\n",
    "seaborn.displot(df_long, x='value', hue='attribute', kind='kde', fill=True, common_norm=False)\n",
    "plt.title('Distribution of Imputed Height and Weight Values')\n",
    "plt.show()"
   ]
  },
  {
   "cell_type": "code",
   "execution_count": 101,
   "metadata": {},
   "outputs": [
    {
     "name": "stdout",
     "output_type": "stream",
     "text": [
      "\n",
      "KS Test: Statistic = 0.03005084287676877, p-value = 0.04808327779022059\n",
      "Very small difference in distribution, the imputed data closely matches the original distribution.\n"
     ]
    }
   ],
   "source": [
    "test_before_after_distribution(weight_before_imputation.dropna(), weight_after_imputation)"
   ]
  },
  {
   "cell_type": "code",
   "execution_count": 102,
   "metadata": {},
   "outputs": [
    {
     "data": {
      "text/plain": [
       "_url           0\n",
       "name           0\n",
       "birth_year     0\n",
       "weight         0\n",
       "height         0\n",
       "nationality    0\n",
       "dtype: int64"
      ]
     },
     "execution_count": 102,
     "metadata": {},
     "output_type": "execute_result"
    }
   ],
   "source": [
    "df_cyclists.isnull().sum()"
   ]
  },
  {
   "attachments": {},
   "cell_type": "markdown",
   "metadata": {},
   "source": [
    "## Races"
   ]
  },
  {
   "cell_type": "code",
   "execution_count": 103,
   "metadata": {},
   "outputs": [
    {
     "data": {
      "text/html": [
       "<div>\n",
       "<style scoped>\n",
       "    .dataframe tbody tr th:only-of-type {\n",
       "        vertical-align: middle;\n",
       "    }\n",
       "\n",
       "    .dataframe tbody tr th {\n",
       "        vertical-align: top;\n",
       "    }\n",
       "\n",
       "    .dataframe thead th {\n",
       "        text-align: right;\n",
       "    }\n",
       "</style>\n",
       "<table border=\"1\" class=\"dataframe\">\n",
       "  <thead>\n",
       "    <tr style=\"text-align: right;\">\n",
       "      <th></th>\n",
       "      <th>_url</th>\n",
       "      <th>name</th>\n",
       "      <th>points</th>\n",
       "      <th>uci_points</th>\n",
       "      <th>length</th>\n",
       "      <th>climb_total</th>\n",
       "      <th>profile</th>\n",
       "      <th>startlist_quality</th>\n",
       "      <th>average_temperature</th>\n",
       "      <th>date</th>\n",
       "      <th>position</th>\n",
       "      <th>cyclist</th>\n",
       "      <th>cyclist_age</th>\n",
       "      <th>is_tarmac</th>\n",
       "      <th>is_cobbled</th>\n",
       "      <th>is_gravel</th>\n",
       "      <th>cyclist_team</th>\n",
       "      <th>delta</th>\n",
       "    </tr>\n",
       "  </thead>\n",
       "  <tbody>\n",
       "    <tr>\n",
       "      <th>0</th>\n",
       "      <td>tour-de-france/1978/stage-6</td>\n",
       "      <td>Tour de France</td>\n",
       "      <td>100.0</td>\n",
       "      <td>NaN</td>\n",
       "      <td>162000.0</td>\n",
       "      <td>1101.0</td>\n",
       "      <td>1.0</td>\n",
       "      <td>1241</td>\n",
       "      <td>NaN</td>\n",
       "      <td>1978-07-05 04:02:24</td>\n",
       "      <td>0</td>\n",
       "      <td>sean-kelly</td>\n",
       "      <td>22.0</td>\n",
       "      <td>True</td>\n",
       "      <td>False</td>\n",
       "      <td>False</td>\n",
       "      <td>vini-ricordi-pinarello-sidermec-1986</td>\n",
       "      <td>0.0</td>\n",
       "    </tr>\n",
       "    <tr>\n",
       "      <th>1</th>\n",
       "      <td>tour-de-france/1978/stage-6</td>\n",
       "      <td>Tour de France</td>\n",
       "      <td>100.0</td>\n",
       "      <td>NaN</td>\n",
       "      <td>162000.0</td>\n",
       "      <td>1101.0</td>\n",
       "      <td>1.0</td>\n",
       "      <td>1241</td>\n",
       "      <td>NaN</td>\n",
       "      <td>1978-07-05 04:02:24</td>\n",
       "      <td>1</td>\n",
       "      <td>gerrie-knetemann</td>\n",
       "      <td>27.0</td>\n",
       "      <td>True</td>\n",
       "      <td>False</td>\n",
       "      <td>False</td>\n",
       "      <td>norway-1987</td>\n",
       "      <td>0.0</td>\n",
       "    </tr>\n",
       "    <tr>\n",
       "      <th>2</th>\n",
       "      <td>tour-de-france/1978/stage-6</td>\n",
       "      <td>Tour de France</td>\n",
       "      <td>100.0</td>\n",
       "      <td>NaN</td>\n",
       "      <td>162000.0</td>\n",
       "      <td>1101.0</td>\n",
       "      <td>1.0</td>\n",
       "      <td>1241</td>\n",
       "      <td>NaN</td>\n",
       "      <td>1978-07-05 04:02:24</td>\n",
       "      <td>2</td>\n",
       "      <td>rene-bittinger</td>\n",
       "      <td>24.0</td>\n",
       "      <td>True</td>\n",
       "      <td>False</td>\n",
       "      <td>False</td>\n",
       "      <td>None</td>\n",
       "      <td>0.0</td>\n",
       "    </tr>\n",
       "    <tr>\n",
       "      <th>3</th>\n",
       "      <td>tour-de-france/1978/stage-6</td>\n",
       "      <td>Tour de France</td>\n",
       "      <td>100.0</td>\n",
       "      <td>NaN</td>\n",
       "      <td>162000.0</td>\n",
       "      <td>1101.0</td>\n",
       "      <td>1.0</td>\n",
       "      <td>1241</td>\n",
       "      <td>NaN</td>\n",
       "      <td>1978-07-05 04:02:24</td>\n",
       "      <td>3</td>\n",
       "      <td>joseph-bruyere</td>\n",
       "      <td>30.0</td>\n",
       "      <td>True</td>\n",
       "      <td>False</td>\n",
       "      <td>False</td>\n",
       "      <td>navigare-blue-storm-1993</td>\n",
       "      <td>0.0</td>\n",
       "    </tr>\n",
       "    <tr>\n",
       "      <th>4</th>\n",
       "      <td>tour-de-france/1978/stage-6</td>\n",
       "      <td>Tour de France</td>\n",
       "      <td>100.0</td>\n",
       "      <td>NaN</td>\n",
       "      <td>162000.0</td>\n",
       "      <td>1101.0</td>\n",
       "      <td>1.0</td>\n",
       "      <td>1241</td>\n",
       "      <td>NaN</td>\n",
       "      <td>1978-07-05 04:02:24</td>\n",
       "      <td>4</td>\n",
       "      <td>sven-ake-nilsson</td>\n",
       "      <td>27.0</td>\n",
       "      <td>True</td>\n",
       "      <td>False</td>\n",
       "      <td>False</td>\n",
       "      <td>spain-1991</td>\n",
       "      <td>0.0</td>\n",
       "    </tr>\n",
       "  </tbody>\n",
       "</table>\n",
       "</div>"
      ],
      "text/plain": [
       "                          _url            name  points  uci_points    length  \\\n",
       "0  tour-de-france/1978/stage-6  Tour de France   100.0         NaN  162000.0   \n",
       "1  tour-de-france/1978/stage-6  Tour de France   100.0         NaN  162000.0   \n",
       "2  tour-de-france/1978/stage-6  Tour de France   100.0         NaN  162000.0   \n",
       "3  tour-de-france/1978/stage-6  Tour de France   100.0         NaN  162000.0   \n",
       "4  tour-de-france/1978/stage-6  Tour de France   100.0         NaN  162000.0   \n",
       "\n",
       "   climb_total  profile  startlist_quality  average_temperature  \\\n",
       "0       1101.0      1.0               1241                  NaN   \n",
       "1       1101.0      1.0               1241                  NaN   \n",
       "2       1101.0      1.0               1241                  NaN   \n",
       "3       1101.0      1.0               1241                  NaN   \n",
       "4       1101.0      1.0               1241                  NaN   \n",
       "\n",
       "                  date  position           cyclist  cyclist_age  is_tarmac  \\\n",
       "0  1978-07-05 04:02:24         0        sean-kelly         22.0       True   \n",
       "1  1978-07-05 04:02:24         1  gerrie-knetemann         27.0       True   \n",
       "2  1978-07-05 04:02:24         2    rene-bittinger         24.0       True   \n",
       "3  1978-07-05 04:02:24         3    joseph-bruyere         30.0       True   \n",
       "4  1978-07-05 04:02:24         4  sven-ake-nilsson         27.0       True   \n",
       "\n",
       "   is_cobbled  is_gravel                          cyclist_team  delta  \n",
       "0       False      False  vini-ricordi-pinarello-sidermec-1986    0.0  \n",
       "1       False      False                           norway-1987    0.0  \n",
       "2       False      False                                  None    0.0  \n",
       "3       False      False              navigare-blue-storm-1993    0.0  \n",
       "4       False      False                            spain-1991    0.0  "
      ]
     },
     "execution_count": 103,
     "metadata": {},
     "output_type": "execute_result"
    }
   ],
   "source": [
    "df_races.head()"
   ]
  },
  {
   "attachments": {},
   "cell_type": "markdown",
   "metadata": {},
   "source": [
    "### Missing values"
   ]
  },
  {
   "cell_type": "code",
   "execution_count": 104,
   "metadata": {},
   "outputs": [
    {
     "data": {
      "text/plain": [
       "_url                        0\n",
       "name                        0\n",
       "points                    477\n",
       "uci_points             338779\n",
       "length                      0\n",
       "climb_total            147045\n",
       "profile                148194\n",
       "startlist_quality           0\n",
       "average_temperature    559932\n",
       "date                        0\n",
       "position                    0\n",
       "cyclist                     0\n",
       "cyclist_age               113\n",
       "is_tarmac                   0\n",
       "is_cobbled                  0\n",
       "is_gravel                   0\n",
       "cyclist_team           159161\n",
       "delta                       0\n",
       "dtype: int64"
      ]
     },
     "execution_count": 104,
     "metadata": {},
     "output_type": "execute_result"
    }
   ],
   "source": [
    "# check missing values\n",
    "df_races.isnull().sum()"
   ]
  },
  {
   "cell_type": "code",
   "execution_count": 105,
   "metadata": {},
   "outputs": [
    {
     "data": {
      "text/plain": [
       "_url                    0.000000\n",
       "name                    0.000000\n",
       "points                  0.080866\n",
       "uci_points             57.433311\n",
       "length                  0.000000\n",
       "climb_total            24.928585\n",
       "profile                25.123376\n",
       "startlist_quality       0.000000\n",
       "average_temperature    94.925449\n",
       "date                    0.000000\n",
       "position                0.000000\n",
       "cyclist                 0.000000\n",
       "cyclist_age             0.019157\n",
       "is_tarmac               0.000000\n",
       "is_cobbled              0.000000\n",
       "is_gravel               0.000000\n",
       "cyclist_team           26.982615\n",
       "delta                   0.000000\n",
       "Name: percent_missing, dtype: float64"
      ]
     },
     "execution_count": 105,
     "metadata": {},
     "output_type": "execute_result"
    }
   ],
   "source": [
    "percent_missing = df_races.isnull().sum() * 100 / len(df_races) # compute the percentage of missing values\n",
    "missing_value_df = pd.DataFrame({'column_name': df_races.columns,\n",
    "                                 'percent_missing': percent_missing})\n",
    "\n",
    "missing_value_df['percent_missing']"
   ]
  },
  {
   "attachments": {},
   "cell_type": "markdown",
   "metadata": {},
   "source": [
    "### Average Temperature\n",
    "There are too much missing values --> just delete it"
   ]
  },
  {
   "cell_type": "code",
   "execution_count": 106,
   "metadata": {},
   "outputs": [
    {
     "data": {
      "text/plain": [
       "_url                      0\n",
       "name                      0\n",
       "points                  477\n",
       "uci_points           338779\n",
       "length                    0\n",
       "climb_total          147045\n",
       "profile              148194\n",
       "startlist_quality         0\n",
       "date                      0\n",
       "position                  0\n",
       "cyclist                   0\n",
       "cyclist_age             113\n",
       "is_tarmac                 0\n",
       "is_cobbled                0\n",
       "is_gravel                 0\n",
       "cyclist_team         159161\n",
       "delta                     0\n",
       "dtype: int64"
      ]
     },
     "execution_count": 106,
     "metadata": {},
     "output_type": "execute_result"
    }
   ],
   "source": [
    "# Delete the 'average_temperature' column\n",
    "df_races = df_races.drop(columns=['average_temperature'])\n",
    "df_races.isnull().sum()"
   ]
  },
  {
   "attachments": {},
   "cell_type": "markdown",
   "metadata": {},
   "source": [
    "### Date"
   ]
  },
  {
   "attachments": {},
   "cell_type": "markdown",
   "metadata": {},
   "source": [
    "Delete noise of timestamp and leave year/month/day. Plus create a new column with only the year of the race (useful for imputation later)"
   ]
  },
  {
   "cell_type": "code",
   "execution_count": 107,
   "metadata": {},
   "outputs": [],
   "source": [
    "df_races['date'] = df_races['date'].str.split(' ').str[0]\n",
    "df_races['date'] = pd.to_datetime(df_races['date'], format='%Y-%m-%d')\n",
    "\n",
    "# new column year\n",
    "df_races['year'] = df_races['date'].dt.year"
   ]
  },
  {
   "attachments": {},
   "cell_type": "markdown",
   "metadata": {},
   "source": [
    "### Name"
   ]
  },
  {
   "attachments": {},
   "cell_type": "markdown",
   "metadata": {},
   "source": [
    "same url, but different names nomenclature. Also the ME prefix --> there are no different races (ME and not ME) in the same year... So just replace with original name"
   ]
  },
  {
   "cell_type": "code",
   "execution_count": 108,
   "metadata": {},
   "outputs": [
    {
     "data": {
      "text/plain": [
       "name\n",
       "Amstel Gold Race                       4349\n",
       "Clasica Ciclista San Sebastian         3884\n",
       "Clásica Ciclista San Sebastian           84\n",
       "Clásica Ciclista San Sebastián          236\n",
       "Clásica San Sebastián                    52\n",
       "                                      ...  \n",
       "Vuelta Ciclista al País Vasco          6529\n",
       "Vuelta a España                       89222\n",
       "Vuelta al País Vasco                   7206\n",
       "World Championships - Road Race        1611\n",
       "World Championships ME - Road Race     2306\n",
       "Name: count, Length: 61, dtype: int64"
      ]
     },
     "execution_count": 108,
     "metadata": {},
     "output_type": "execute_result"
    }
   ],
   "source": [
    "df_races[df_races['name'].notnull()].groupby(by='name', observed=True)['name'].value_counts()"
   ]
  },
  {
   "cell_type": "code",
   "execution_count": 109,
   "metadata": {},
   "outputs": [
    {
     "data": {
      "text/plain": [
       "61"
      ]
     },
     "execution_count": 109,
     "metadata": {},
     "output_type": "execute_result"
    }
   ],
   "source": [
    "len(df_races['name'].unique())"
   ]
  },
  {
   "cell_type": "code",
   "execution_count": 110,
   "metadata": {},
   "outputs": [
    {
     "data": {
      "text/plain": [
       "0.0"
      ]
     },
     "execution_count": 110,
     "metadata": {},
     "output_type": "execute_result"
    }
   ],
   "source": [
    "# check if there are two different rafes (ME and not ME) in the same year --> NO\n",
    "\n",
    "tmp_df = tmp_df = pd.DataFrame({\n",
    "    'name': df_races['name'],\n",
    "    'year': df_races['date'].dt.year,\n",
    "    'general_name': df_races['name'].apply(lambda x: x.split('ME')[0].strip()),\n",
    "})\n",
    "\n",
    "n_name = tmp_df.groupby(by=['general_name', 'year'], observed=True)['name'].nunique()\n",
    "\n",
    "n_name_gt1 = n_name[n_name > 1]\n",
    "round(len(n_name_gt1) / len(n_name) * 100, 2)"
   ]
  },
  {
   "cell_type": "code",
   "execution_count": 111,
   "metadata": {},
   "outputs": [],
   "source": [
    "df_races['name'] = df_races['name'].apply(unidecode)\n",
    "df_races['name'] = df_races['name'].replace(to_replace={'Clasica Ciclista San Sebastian':'Clasica San Sebastian',\n",
    "                                                      'Donostia San Sebastian Klasikoa':'Clasica San Sebastian',\n",
    "                                                         'Criterium du Dauphine Libere':'Criterium du Dauphine',\n",
    "                                                         'Gran Camino':'O Gran Camino',\n",
    "                                                         'La Vuelta ciclista a Espana':'Vuelta a Espana',\n",
    "                                                         'Dwars door Belgie / A travers la Belgique':'Dwars door Vlaanderen',\n",
    "                                                         'Dwars door Vlaanderen - A travers la Flandre ME':'Dwars door Vlaanderen ME',\n",
    "                                                         'Dwars door Vlaanderen / A travers la Flandre':'Dwars door Vlaanderen',\n",
    "                                                         'Dwars door Vlaanderen / A travers la Flandre ME':'Dwars door Vlaanderen ME',\n",
    "                                                         'E3 BinckBank Classic':'E3 Saxo Bank Classic',\n",
    "                                                         'E3 Harelbeke':'E3 Saxo Bank Classic',\n",
    "                                                         'E3 Prijs Vlaanderen':'E3 Saxo Bank Classic',\n",
    "                                                         'E3 Prijs Vlaanderen - Harelbeke':'E3 Saxo Bank Classic',\n",
    "                                                         'E3 Saxo Classic':'E3 Saxo Bank Classic',\n",
    "                                                         'E3-Prijs Harelbeke':'E3 Saxo Bank Classic',\n",
    "                                                         'Record Bank E3 Harelbeke':'E3 Saxo Bank Classic',\n",
    "                                                         'Giro di Lombardia':'Il Lombardia',\n",
    "                                                         'Liege - Bastogne - Liege':'Liege-Bastogne-Liege',\n",
    "                                                         'Monte Paschi Eroica':'Strade Bianche',\n",
    "                                                         'Montepaschi Strade Bianche - Eroica Toscana':'Strade Bianche',\n",
    "                                                         'Omloop Het Volk':'Omloop Nieuwsblad',\n",
    "                                                         'Omloop Het Nieuwsblad ME':'Omloop Nieuwsblad ME',\n",
    "                                                         'Omloop Het Volk ME':'Omloop Nieuwsblad ME',\n",
    "                                                         'Paris - Roubaix':'Paris-Roubaix',\n",
    "                                                         'Ronde van Vlaanderen - Tour des Flandres ME':'Ronde van Vlaanderen ME',\n",
    "                                                         'Ronde van Vlaanderen / Tour des Flandres':'Ronde van Vlaanderen',\n",
    "                                                         'Ronde van Vlaanderen / Tour des Flandres ME':'Ronde van Vlaanderen ME',\n",
    "                                                         'Volta a Catalunya':'Volta Ciclista a Catalunya',\n",
    "                                                         'Vuelta Ciclista al Pais Vasco':'Vuelta al Pais Vasco',\n",
    "                                                         })\n",
    "\n",
    "df_races['name'] = df_races['name'].replace(to_replace={\n",
    "                                                         'Dwars door Vlaanderen ME':'Dwars door Vlaanderen',\n",
    "                                                         'Omloop Nieuwsblad ME':'Omloop Nieuwsblad',\n",
    "                                                         'Ronde van Vlaanderen ME':'Ronde van Vlaanderen',\n",
    "                                                         'World Championships ME - Road Race':'World Championships - Road Race'\n",
    "                                                         })"
   ]
  },
  {
   "attachments": {},
   "cell_type": "markdown",
   "metadata": {},
   "source": [
    "### Cyclist age"
   ]
  },
  {
   "cell_type": "code",
   "execution_count": 112,
   "metadata": {},
   "outputs": [],
   "source": [
    "dataset_races_copy = load_dataset('csv', data_files='dataset/races.csv')\n",
    "\n",
    "df_races_copy = dataset_races_copy['train'].to_pandas()"
   ]
  },
  {
   "cell_type": "code",
   "execution_count": 113,
   "metadata": {},
   "outputs": [],
   "source": [
    "age_before_imputation = df_races_copy['cyclist_age'].copy()"
   ]
  },
  {
   "cell_type": "code",
   "execution_count": null,
   "metadata": {},
   "outputs": [
    {
     "data": {
      "image/png": "[encoded data removed]",
      "text/plain": [
       "<Figure size 640x480 with 1 Axes>"
      ]
     },
     "metadata": {},
     "output_type": "display_data"
    }
   ],
   "source": [
    "# Kernel Density Estimation\n",
    "seaborn.kdeplot(df_races[\"cyclist_age\"], fill=True, label=\"cyclist_age\")\n",
    "plt.show()"
   ]
  },
  {
   "attachments": {},
   "cell_type": "markdown",
   "metadata": {},
   "source": [
    "Since one cyclists can run multiple races, for matching we have to remove duplicates"
   ]
  },
  {
   "cell_type": "code",
   "execution_count": 115,
   "metadata": {},
   "outputs": [
    {
     "name": "stdout",
     "output_type": "stream",
     "text": [
      "6133\n",
      "6095\n"
     ]
    },
    {
     "data": {
      "text/plain": [
       "6094"
      ]
     },
     "execution_count": 115,
     "metadata": {},
     "output_type": "execute_result"
    }
   ],
   "source": [
    "df_cyclists_clean = df_cyclists.drop_duplicates(subset=['_url'])\n",
    "df_races_clean = df_races.drop_duplicates(subset=['cyclist'])\n",
    "\n",
    "# Print counts after removing duplicates\n",
    "print(df_cyclists_clean[\"_url\"].count())\n",
    "print(df_races_clean[\"cyclist\"].count())\n",
    "\n",
    "# Merge the two DataFrames based on matches between '_url' and 'cyclist'\n",
    "matches = df_cyclists_clean.merge(df_races_clean, left_on='_url', right_on='cyclist', how='inner')\n",
    "\n",
    "# Count the number of unique matches\n",
    "number_of_matches = len(matches)\n",
    "number_of_matches"
   ]
  },
  {
   "cell_type": "code",
   "execution_count": 116,
   "metadata": {},
   "outputs": [
    {
     "data": {
      "text/html": [
       "<div>\n",
       "<style scoped>\n",
       "    .dataframe tbody tr th:only-of-type {\n",
       "        vertical-align: middle;\n",
       "    }\n",
       "\n",
       "    .dataframe tbody tr th {\n",
       "        vertical-align: top;\n",
       "    }\n",
       "\n",
       "    .dataframe thead th {\n",
       "        text-align: right;\n",
       "    }\n",
       "</style>\n",
       "<table border=\"1\" class=\"dataframe\">\n",
       "  <thead>\n",
       "    <tr style=\"text-align: right;\">\n",
       "      <th></th>\n",
       "      <th>_url_x</th>\n",
       "      <th>name_x</th>\n",
       "      <th>birth_year</th>\n",
       "      <th>weight</th>\n",
       "      <th>height</th>\n",
       "      <th>nationality</th>\n",
       "      <th>_url_y</th>\n",
       "      <th>name_y</th>\n",
       "      <th>points</th>\n",
       "      <th>uci_points</th>\n",
       "      <th>...</th>\n",
       "      <th>date</th>\n",
       "      <th>position</th>\n",
       "      <th>cyclist</th>\n",
       "      <th>cyclist_age</th>\n",
       "      <th>is_tarmac</th>\n",
       "      <th>is_cobbled</th>\n",
       "      <th>is_gravel</th>\n",
       "      <th>cyclist_team</th>\n",
       "      <th>delta</th>\n",
       "      <th>year</th>\n",
       "    </tr>\n",
       "  </thead>\n",
       "  <tbody>\n",
       "    <tr>\n",
       "      <th>0</th>\n",
       "      <td>bruno-surra</td>\n",
       "      <td>Bruno  Surra</td>\n",
       "      <td>1964.0</td>\n",
       "      <td>70.057068</td>\n",
       "      <td>187.223027</td>\n",
       "      <td>Italy</td>\n",
       "      <td>vuelta-a-espana/1989/stage-1</td>\n",
       "      <td>Vuelta a Espana</td>\n",
       "      <td>80.0</td>\n",
       "      <td>NaN</td>\n",
       "      <td>...</td>\n",
       "      <td>1989-04-24</td>\n",
       "      <td>110</td>\n",
       "      <td>bruno-surra</td>\n",
       "      <td>25.0</td>\n",
       "      <td>True</td>\n",
       "      <td>False</td>\n",
       "      <td>False</td>\n",
       "      <td>None</td>\n",
       "      <td>15.0</td>\n",
       "      <td>1989</td>\n",
       "    </tr>\n",
       "    <tr>\n",
       "      <th>1</th>\n",
       "      <td>gerard-rue</td>\n",
       "      <td>Gérard  Rué</td>\n",
       "      <td>1965.0</td>\n",
       "      <td>74.000000</td>\n",
       "      <td>182.000000</td>\n",
       "      <td>France</td>\n",
       "      <td>tour-de-france/1997/stage-2</td>\n",
       "      <td>Tour de France</td>\n",
       "      <td>100.0</td>\n",
       "      <td>NaN</td>\n",
       "      <td>...</td>\n",
       "      <td>1997-07-07</td>\n",
       "      <td>132</td>\n",
       "      <td>gerard-rue</td>\n",
       "      <td>32.0</td>\n",
       "      <td>True</td>\n",
       "      <td>False</td>\n",
       "      <td>False</td>\n",
       "      <td>denmark-1991</td>\n",
       "      <td>0.0</td>\n",
       "      <td>1997</td>\n",
       "    </tr>\n",
       "    <tr>\n",
       "      <th>2</th>\n",
       "      <td>jan-maas</td>\n",
       "      <td>Jan  Maas</td>\n",
       "      <td>1996.0</td>\n",
       "      <td>69.000000</td>\n",
       "      <td>189.000000</td>\n",
       "      <td>Netherlands</td>\n",
       "      <td>amstel-gold-race/2022/result</td>\n",
       "      <td>Amstel Gold Race</td>\n",
       "      <td>225.0</td>\n",
       "      <td>500.0</td>\n",
       "      <td>...</td>\n",
       "      <td>2022-04-10</td>\n",
       "      <td>39</td>\n",
       "      <td>jan-maas</td>\n",
       "      <td>26.0</td>\n",
       "      <td>False</td>\n",
       "      <td>False</td>\n",
       "      <td>False</td>\n",
       "      <td>munck-beck-s-1975</td>\n",
       "      <td>386.0</td>\n",
       "      <td>2022</td>\n",
       "    </tr>\n",
       "    <tr>\n",
       "      <th>3</th>\n",
       "      <td>nathan-van-hooydonck</td>\n",
       "      <td>Nathan Van Hooydonck</td>\n",
       "      <td>1995.0</td>\n",
       "      <td>78.000000</td>\n",
       "      <td>192.000000</td>\n",
       "      <td>Belgium</td>\n",
       "      <td>tour-de-france/2022/stage-9</td>\n",
       "      <td>Tour de France</td>\n",
       "      <td>100.0</td>\n",
       "      <td>120.0</td>\n",
       "      <td>...</td>\n",
       "      <td>2022-07-10</td>\n",
       "      <td>102</td>\n",
       "      <td>nathan-van-hooydonck</td>\n",
       "      <td>27.0</td>\n",
       "      <td>True</td>\n",
       "      <td>False</td>\n",
       "      <td>False</td>\n",
       "      <td>colombia-selle-italia-2002</td>\n",
       "      <td>1655.0</td>\n",
       "      <td>2022</td>\n",
       "    </tr>\n",
       "    <tr>\n",
       "      <th>4</th>\n",
       "      <td>jose-felix-parra</td>\n",
       "      <td>José Félix  Parra</td>\n",
       "      <td>1997.0</td>\n",
       "      <td>55.000000</td>\n",
       "      <td>171.000000</td>\n",
       "      <td>Spain</td>\n",
       "      <td>volta-a-catalunya/2022/stage-3</td>\n",
       "      <td>Volta Ciclista a Catalunya</td>\n",
       "      <td>50.0</td>\n",
       "      <td>50.0</td>\n",
       "      <td>...</td>\n",
       "      <td>2022-03-23</td>\n",
       "      <td>28</td>\n",
       "      <td>jose-felix-parra</td>\n",
       "      <td>25.0</td>\n",
       "      <td>True</td>\n",
       "      <td>False</td>\n",
       "      <td>False</td>\n",
       "      <td>spain-1970</td>\n",
       "      <td>17.0</td>\n",
       "      <td>2022</td>\n",
       "    </tr>\n",
       "  </tbody>\n",
       "</table>\n",
       "<p>5 rows × 24 columns</p>\n",
       "</div>"
      ],
      "text/plain": [
       "                 _url_x                name_x  birth_year     weight  \\\n",
       "0           bruno-surra          Bruno  Surra      1964.0  70.057068   \n",
       "1            gerard-rue           Gérard  Rué      1965.0  74.000000   \n",
       "2              jan-maas             Jan  Maas      1996.0  69.000000   \n",
       "3  nathan-van-hooydonck  Nathan Van Hooydonck      1995.0  78.000000   \n",
       "4      jose-felix-parra     José Félix  Parra      1997.0  55.000000   \n",
       "\n",
       "       height  nationality                          _url_y  \\\n",
       "0  187.223027        Italy    vuelta-a-espana/1989/stage-1   \n",
       "1  182.000000       France     tour-de-france/1997/stage-2   \n",
       "2  189.000000  Netherlands    amstel-gold-race/2022/result   \n",
       "3  192.000000      Belgium     tour-de-france/2022/stage-9   \n",
       "4  171.000000        Spain  volta-a-catalunya/2022/stage-3   \n",
       "\n",
       "                       name_y  points  uci_points  ...       date  position  \\\n",
       "0             Vuelta a Espana    80.0         NaN  ... 1989-04-24       110   \n",
       "1              Tour de France   100.0         NaN  ... 1997-07-07       132   \n",
       "2            Amstel Gold Race   225.0       500.0  ... 2022-04-10        39   \n",
       "3              Tour de France   100.0       120.0  ... 2022-07-10       102   \n",
       "4  Volta Ciclista a Catalunya    50.0        50.0  ... 2022-03-23        28   \n",
       "\n",
       "                cyclist  cyclist_age is_tarmac  is_cobbled is_gravel  \\\n",
       "0           bruno-surra         25.0      True       False     False   \n",
       "1            gerard-rue         32.0      True       False     False   \n",
       "2              jan-maas         26.0     False       False     False   \n",
       "3  nathan-van-hooydonck         27.0      True       False     False   \n",
       "4      jose-felix-parra         25.0      True       False     False   \n",
       "\n",
       "                 cyclist_team   delta  year  \n",
       "0                        None    15.0  1989  \n",
       "1                denmark-1991     0.0  1997  \n",
       "2           munck-beck-s-1975   386.0  2022  \n",
       "3  colombia-selle-italia-2002  1655.0  2022  \n",
       "4                  spain-1970    17.0  2022  \n",
       "\n",
       "[5 rows x 24 columns]"
      ]
     },
     "execution_count": 116,
     "metadata": {},
     "output_type": "execute_result"
    }
   ],
   "source": [
    "matches.head()"
   ]
  },
  {
   "cell_type": "code",
   "execution_count": 117,
   "metadata": {},
   "outputs": [
    {
     "data": {
      "text/plain": [
       "_url_x                  0\n",
       "name_x                  0\n",
       "birth_year              0\n",
       "weight                  0\n",
       "height                  0\n",
       "nationality             0\n",
       "_url_y                  0\n",
       "name_y                  0\n",
       "points                  0\n",
       "uci_points           4227\n",
       "length                  0\n",
       "climb_total          2784\n",
       "profile              2799\n",
       "startlist_quality       0\n",
       "date                    0\n",
       "position                0\n",
       "cyclist                 0\n",
       "cyclist_age            12\n",
       "is_tarmac               0\n",
       "is_cobbled              0\n",
       "is_gravel               0\n",
       "cyclist_team         3389\n",
       "delta                   0\n",
       "year                    0\n",
       "dtype: int64"
      ]
     },
     "execution_count": 117,
     "metadata": {},
     "output_type": "execute_result"
    }
   ],
   "source": [
    "# check missing values\n",
    "matches.isnull().sum()"
   ]
  },
  {
   "attachments": {},
   "cell_type": "markdown",
   "metadata": {},
   "source": [
    "Check for cyclists that has made more than one race --> useful for later because of duplicates"
   ]
  },
  {
   "cell_type": "code",
   "execution_count": 118,
   "metadata": {},
   "outputs": [
    {
     "name": "stdout",
     "output_type": "stream",
     "text": [
      "               cyclist  race_count\n",
      "0      alexandr-osipov          13\n",
      "1       antonio-zanini           2\n",
      "7     nicolai-kosyakov          11\n",
      "9         scott-davies          52\n",
      "10  sergei-jermachenko          14\n",
      "12    vladimir-malakov          14\n",
      "Total missing cyclist_age values: 113\n"
     ]
    }
   ],
   "source": [
    "# Step 1: Identify rows with missing cyclist_age in df_races\n",
    "df_missing_age = df_races[df_races[\"cyclist_age\"].isnull()]\n",
    "\n",
    "# Step 2: Group by cyclist and count the number of races (rows) for each cyclist with missing age\n",
    "duplicate_cyclists = df_missing_age.groupby(\"cyclist\").size().reset_index(name=\"race_count\")\n",
    "\n",
    "# Step 3: Filter for cyclists who have more than one race with a missing age\n",
    "duplicate_cyclists = duplicate_cyclists[duplicate_cyclists[\"race_count\"] > 1]\n",
    "\n",
    "# Display cyclists with more than one missing cyclist_age entry\n",
    "print(duplicate_cyclists)\n",
    "\n",
    "\n",
    "# Check total count of missing cyclist_age values in df_races\n",
    "missing_count = df_races[\"cyclist_age\"].isnull().sum()\n",
    "print(\"Total missing cyclist_age values:\", missing_count)"
   ]
  },
  {
   "attachments": {},
   "cell_type": "markdown",
   "metadata": {},
   "source": [
    "We can manually impute 13 missing values for cyclist_age since we have the year of the race and the nationality of the cyclist"
   ]
  },
  {
   "cell_type": "code",
   "execution_count": 119,
   "metadata": {},
   "outputs": [],
   "source": [
    "# Extract race year from the url\n",
    "matches[\"_year\"] = matches[\"_url_y\"].str.extract(r'/(\\d{4})/').astype(int)\n",
    "\n",
    "# Convert birth_year to integer\n",
    "matches[\"birth_year\"] = matches[\"birth_year\"].astype(int)\n",
    "\n",
    "# Compute cyclist_age where it is null\n",
    "matches[\"cyclist_age\"] = np.where(\n",
    "    matches[\"cyclist_age\"].isnull(),\n",
    "    matches[\"_year\"] - matches[\"birth_year\"],\n",
    "    matches[\"cyclist_age\"]\n",
    ")\n",
    "\n",
    "# Identify the subset of cyclists with missing cyclist_age in df_races\n",
    "# We'll filter out cyclists with missing cyclist_age in df_races\n",
    "df_missing_age = df_races[df_races[\"cyclist_age\"].isnull()]\n",
    "\n",
    "# Filter only the cyclists from matches that are common with df_races and have missing ages\n",
    "# 'cyclist' column is used to match both datasets\n",
    "matches_with_missing_age = matches[matches[\"cyclist\"].isin(df_missing_age[\"cyclist\"])]\n",
    "\n",
    "# Update df_races with the imputed cyclist_age values for only the matched cyclists\n",
    "# We will do this based on the 'cyclist' column\n",
    "df_races.loc[df_races[\"cyclist\"].isin(matches_with_missing_age[\"cyclist\"]), \"cyclist_age\"] = \\\n",
    "    df_races[\"cyclist\"].map(matches_with_missing_age.set_index(\"cyclist\")[\"cyclist_age\"])"
   ]
  },
  {
   "cell_type": "code",
   "execution_count": 120,
   "metadata": {},
   "outputs": [
    {
     "data": {
      "text/plain": [
       "_url                      0\n",
       "name                      0\n",
       "points                  477\n",
       "uci_points           338779\n",
       "length                    0\n",
       "climb_total          147045\n",
       "profile              148194\n",
       "startlist_quality         0\n",
       "date                      0\n",
       "position                  0\n",
       "cyclist                   0\n",
       "cyclist_age              52\n",
       "is_tarmac                 0\n",
       "is_cobbled                0\n",
       "is_gravel                 0\n",
       "cyclist_team         159161\n",
       "delta                     0\n",
       "year                      0\n",
       "dtype: int64"
      ]
     },
     "execution_count": 120,
     "metadata": {},
     "output_type": "execute_result"
    }
   ],
   "source": [
    "# check missing values\n",
    "df_races.isnull().sum()"
   ]
  },
  {
   "attachments": {},
   "cell_type": "markdown",
   "metadata": {},
   "source": [
    "#### Check which cyclist have no age yet  --> only scott-davies who is not present on the other datasets because we deleted him (all NaN values)"
   ]
  },
  {
   "cell_type": "code",
   "execution_count": 121,
   "metadata": {},
   "outputs": [
    {
     "data": {
      "text/html": [
       "<div>\n",
       "<style scoped>\n",
       "    .dataframe tbody tr th:only-of-type {\n",
       "        vertical-align: middle;\n",
       "    }\n",
       "\n",
       "    .dataframe tbody tr th {\n",
       "        vertical-align: top;\n",
       "    }\n",
       "\n",
       "    .dataframe thead th {\n",
       "        text-align: right;\n",
       "    }\n",
       "</style>\n",
       "<table border=\"1\" class=\"dataframe\">\n",
       "  <thead>\n",
       "    <tr style=\"text-align: right;\">\n",
       "      <th></th>\n",
       "      <th>_url</th>\n",
       "      <th>name</th>\n",
       "      <th>points</th>\n",
       "      <th>uci_points</th>\n",
       "      <th>length</th>\n",
       "      <th>climb_total</th>\n",
       "      <th>profile</th>\n",
       "      <th>startlist_quality</th>\n",
       "      <th>date</th>\n",
       "      <th>position</th>\n",
       "      <th>cyclist</th>\n",
       "      <th>cyclist_age</th>\n",
       "      <th>is_tarmac</th>\n",
       "      <th>is_cobbled</th>\n",
       "      <th>is_gravel</th>\n",
       "      <th>cyclist_team</th>\n",
       "      <th>delta</th>\n",
       "      <th>year</th>\n",
       "    </tr>\n",
       "  </thead>\n",
       "  <tbody>\n",
       "    <tr>\n",
       "      <th>2063</th>\n",
       "      <td>giro-d-italia/2019/stage-14</td>\n",
       "      <td>Giro d'Italia</td>\n",
       "      <td>80.0</td>\n",
       "      <td>100.0</td>\n",
       "      <td>131000.0</td>\n",
       "      <td>4187.0</td>\n",
       "      <td>4.0</td>\n",
       "      <td>896</td>\n",
       "      <td>2019-05-25</td>\n",
       "      <td>99</td>\n",
       "      <td>scott-davies</td>\n",
       "      <td>NaN</td>\n",
       "      <td>True</td>\n",
       "      <td>False</td>\n",
       "      <td>False</td>\n",
       "      <td>team-giant-shimano-2014</td>\n",
       "      <td>1752.0</td>\n",
       "      <td>2019</td>\n",
       "    </tr>\n",
       "    <tr>\n",
       "      <th>6495</th>\n",
       "      <td>vuelta-a-espana/2020/stage-7</td>\n",
       "      <td>Vuelta a Espana</td>\n",
       "      <td>80.0</td>\n",
       "      <td>100.0</td>\n",
       "      <td>159700.0</td>\n",
       "      <td>2657.0</td>\n",
       "      <td>2.0</td>\n",
       "      <td>692</td>\n",
       "      <td>2020-10-27</td>\n",
       "      <td>124</td>\n",
       "      <td>scott-davies</td>\n",
       "      <td>NaN</td>\n",
       "      <td>True</td>\n",
       "      <td>False</td>\n",
       "      <td>False</td>\n",
       "      <td>carrera-inoxpran-1985</td>\n",
       "      <td>1018.0</td>\n",
       "      <td>2020</td>\n",
       "    </tr>\n",
       "    <tr>\n",
       "      <th>12865</th>\n",
       "      <td>amstel-gold-race/2018/result</td>\n",
       "      <td>Amstel Gold Race</td>\n",
       "      <td>225.0</td>\n",
       "      <td>500.0</td>\n",
       "      <td>263000.0</td>\n",
       "      <td>3496.0</td>\n",
       "      <td>2.0</td>\n",
       "      <td>1139</td>\n",
       "      <td>2018-04-15</td>\n",
       "      <td>96</td>\n",
       "      <td>scott-davies</td>\n",
       "      <td>NaN</td>\n",
       "      <td>False</td>\n",
       "      <td>False</td>\n",
       "      <td>False</td>\n",
       "      <td>liquigas-2007</td>\n",
       "      <td>290.0</td>\n",
       "      <td>2018</td>\n",
       "    </tr>\n",
       "    <tr>\n",
       "      <th>12972</th>\n",
       "      <td>vuelta-a-espana/2020/stage-11</td>\n",
       "      <td>Vuelta a Espana</td>\n",
       "      <td>80.0</td>\n",
       "      <td>100.0</td>\n",
       "      <td>170000.0</td>\n",
       "      <td>5098.0</td>\n",
       "      <td>5.0</td>\n",
       "      <td>692</td>\n",
       "      <td>2020-10-31</td>\n",
       "      <td>100</td>\n",
       "      <td>scott-davies</td>\n",
       "      <td>NaN</td>\n",
       "      <td>True</td>\n",
       "      <td>False</td>\n",
       "      <td>False</td>\n",
       "      <td>carrera-inoxpran-1985</td>\n",
       "      <td>1937.0</td>\n",
       "      <td>2020</td>\n",
       "    </tr>\n",
       "    <tr>\n",
       "      <th>13349</th>\n",
       "      <td>paris-nice/2019/stage-3</td>\n",
       "      <td>Paris - Nice</td>\n",
       "      <td>50.0</td>\n",
       "      <td>60.0</td>\n",
       "      <td>200000.0</td>\n",
       "      <td>896.0</td>\n",
       "      <td>1.0</td>\n",
       "      <td>1099</td>\n",
       "      <td>2019-03-12</td>\n",
       "      <td>50</td>\n",
       "      <td>scott-davies</td>\n",
       "      <td>NaN</td>\n",
       "      <td>True</td>\n",
       "      <td>False</td>\n",
       "      <td>False</td>\n",
       "      <td>team-giant-shimano-2014</td>\n",
       "      <td>0.0</td>\n",
       "      <td>2019</td>\n",
       "    </tr>\n",
       "    <tr>\n",
       "      <th>23038</th>\n",
       "      <td>giro-d-italia/2019/stage-16</td>\n",
       "      <td>Giro d'Italia</td>\n",
       "      <td>80.0</td>\n",
       "      <td>100.0</td>\n",
       "      <td>194000.0</td>\n",
       "      <td>5207.0</td>\n",
       "      <td>4.0</td>\n",
       "      <td>896</td>\n",
       "      <td>2019-05-28</td>\n",
       "      <td>71</td>\n",
       "      <td>scott-davies</td>\n",
       "      <td>NaN</td>\n",
       "      <td>True</td>\n",
       "      <td>False</td>\n",
       "      <td>False</td>\n",
       "      <td>team-giant-shimano-2014</td>\n",
       "      <td>1344.0</td>\n",
       "      <td>2019</td>\n",
       "    </tr>\n",
       "    <tr>\n",
       "      <th>60389</th>\n",
       "      <td>vuelta-a-espana/2020/stage-4</td>\n",
       "      <td>Vuelta a Espana</td>\n",
       "      <td>80.0</td>\n",
       "      <td>100.0</td>\n",
       "      <td>191700.0</td>\n",
       "      <td>1160.0</td>\n",
       "      <td>1.0</td>\n",
       "      <td>692</td>\n",
       "      <td>2020-10-23</td>\n",
       "      <td>134</td>\n",
       "      <td>scott-davies</td>\n",
       "      <td>NaN</td>\n",
       "      <td>True</td>\n",
       "      <td>False</td>\n",
       "      <td>False</td>\n",
       "      <td>carrera-inoxpran-1985</td>\n",
       "      <td>42.0</td>\n",
       "      <td>2020</td>\n",
       "    </tr>\n",
       "    <tr>\n",
       "      <th>68791</th>\n",
       "      <td>giro-d-italia/2019/stage-9</td>\n",
       "      <td>Giro d'Italia</td>\n",
       "      <td>80.0</td>\n",
       "      <td>100.0</td>\n",
       "      <td>34800.0</td>\n",
       "      <td>723.0</td>\n",
       "      <td>3.0</td>\n",
       "      <td>896</td>\n",
       "      <td>2019-05-19</td>\n",
       "      <td>18</td>\n",
       "      <td>scott-davies</td>\n",
       "      <td>NaN</td>\n",
       "      <td>True</td>\n",
       "      <td>False</td>\n",
       "      <td>False</td>\n",
       "      <td>team-giant-shimano-2014</td>\n",
       "      <td>157.0</td>\n",
       "      <td>2019</td>\n",
       "    </tr>\n",
       "    <tr>\n",
       "      <th>75497</th>\n",
       "      <td>giro-d-italia/2019/stage-18</td>\n",
       "      <td>Giro d'Italia</td>\n",
       "      <td>80.0</td>\n",
       "      <td>100.0</td>\n",
       "      <td>222000.0</td>\n",
       "      <td>1478.0</td>\n",
       "      <td>2.0</td>\n",
       "      <td>896</td>\n",
       "      <td>2019-05-30</td>\n",
       "      <td>138</td>\n",
       "      <td>scott-davies</td>\n",
       "      <td>NaN</td>\n",
       "      <td>True</td>\n",
       "      <td>False</td>\n",
       "      <td>False</td>\n",
       "      <td>team-giant-shimano-2014</td>\n",
       "      <td>500.0</td>\n",
       "      <td>2019</td>\n",
       "    </tr>\n",
       "    <tr>\n",
       "      <th>132853</th>\n",
       "      <td>paris-nice/2019/stage-1</td>\n",
       "      <td>Paris - Nice</td>\n",
       "      <td>50.0</td>\n",
       "      <td>60.0</td>\n",
       "      <td>138500.0</td>\n",
       "      <td>1107.0</td>\n",
       "      <td>1.0</td>\n",
       "      <td>1099</td>\n",
       "      <td>2019-03-10</td>\n",
       "      <td>131</td>\n",
       "      <td>scott-davies</td>\n",
       "      <td>NaN</td>\n",
       "      <td>True</td>\n",
       "      <td>False</td>\n",
       "      <td>False</td>\n",
       "      <td>team-giant-shimano-2014</td>\n",
       "      <td>162.0</td>\n",
       "      <td>2019</td>\n",
       "    </tr>\n",
       "    <tr>\n",
       "      <th>155617</th>\n",
       "      <td>giro-d-italia/2019/stage-5</td>\n",
       "      <td>Giro d'Italia</td>\n",
       "      <td>80.0</td>\n",
       "      <td>100.0</td>\n",
       "      <td>140000.0</td>\n",
       "      <td>2056.0</td>\n",
       "      <td>2.0</td>\n",
       "      <td>896</td>\n",
       "      <td>2019-05-15</td>\n",
       "      <td>143</td>\n",
       "      <td>scott-davies</td>\n",
       "      <td>NaN</td>\n",
       "      <td>True</td>\n",
       "      <td>False</td>\n",
       "      <td>False</td>\n",
       "      <td>team-giant-shimano-2014</td>\n",
       "      <td>0.0</td>\n",
       "      <td>2019</td>\n",
       "    </tr>\n",
       "    <tr>\n",
       "      <th>171862</th>\n",
       "      <td>giro-d-italia/2019/stage-3</td>\n",
       "      <td>Giro d'Italia</td>\n",
       "      <td>80.0</td>\n",
       "      <td>100.0</td>\n",
       "      <td>220000.0</td>\n",
       "      <td>1790.0</td>\n",
       "      <td>2.0</td>\n",
       "      <td>896</td>\n",
       "      <td>2019-05-13</td>\n",
       "      <td>83</td>\n",
       "      <td>scott-davies</td>\n",
       "      <td>NaN</td>\n",
       "      <td>True</td>\n",
       "      <td>False</td>\n",
       "      <td>False</td>\n",
       "      <td>team-giant-shimano-2014</td>\n",
       "      <td>46.0</td>\n",
       "      <td>2019</td>\n",
       "    </tr>\n",
       "    <tr>\n",
       "      <th>174217</th>\n",
       "      <td>giro-d-italia/2019/stage-13</td>\n",
       "      <td>Giro d'Italia</td>\n",
       "      <td>80.0</td>\n",
       "      <td>100.0</td>\n",
       "      <td>196000.0</td>\n",
       "      <td>5187.0</td>\n",
       "      <td>5.0</td>\n",
       "      <td>896</td>\n",
       "      <td>2019-05-24</td>\n",
       "      <td>96</td>\n",
       "      <td>scott-davies</td>\n",
       "      <td>NaN</td>\n",
       "      <td>True</td>\n",
       "      <td>False</td>\n",
       "      <td>False</td>\n",
       "      <td>team-giant-shimano-2014</td>\n",
       "      <td>2031.0</td>\n",
       "      <td>2019</td>\n",
       "    </tr>\n",
       "    <tr>\n",
       "      <th>180506</th>\n",
       "      <td>giro-d-italia/2019/stage-6</td>\n",
       "      <td>Giro d'Italia</td>\n",
       "      <td>80.0</td>\n",
       "      <td>100.0</td>\n",
       "      <td>238000.0</td>\n",
       "      <td>2881.0</td>\n",
       "      <td>2.0</td>\n",
       "      <td>896</td>\n",
       "      <td>2019-05-16</td>\n",
       "      <td>148</td>\n",
       "      <td>scott-davies</td>\n",
       "      <td>NaN</td>\n",
       "      <td>True</td>\n",
       "      <td>False</td>\n",
       "      <td>False</td>\n",
       "      <td>team-giant-shimano-2014</td>\n",
       "      <td>1388.0</td>\n",
       "      <td>2019</td>\n",
       "    </tr>\n",
       "    <tr>\n",
       "      <th>189206</th>\n",
       "      <td>vuelta-a-espana/2020/stage-18</td>\n",
       "      <td>Vuelta a Espana</td>\n",
       "      <td>80.0</td>\n",
       "      <td>100.0</td>\n",
       "      <td>139600.0</td>\n",
       "      <td>1492.0</td>\n",
       "      <td>2.0</td>\n",
       "      <td>692</td>\n",
       "      <td>2020-11-08</td>\n",
       "      <td>87</td>\n",
       "      <td>scott-davies</td>\n",
       "      <td>NaN</td>\n",
       "      <td>True</td>\n",
       "      <td>False</td>\n",
       "      <td>False</td>\n",
       "      <td>carrera-inoxpran-1985</td>\n",
       "      <td>36.0</td>\n",
       "      <td>2020</td>\n",
       "    </tr>\n",
       "    <tr>\n",
       "      <th>197959</th>\n",
       "      <td>giro-d-italia/2019/stage-8</td>\n",
       "      <td>Giro d'Italia</td>\n",
       "      <td>80.0</td>\n",
       "      <td>100.0</td>\n",
       "      <td>239000.0</td>\n",
       "      <td>1998.0</td>\n",
       "      <td>2.0</td>\n",
       "      <td>896</td>\n",
       "      <td>2019-05-18</td>\n",
       "      <td>148</td>\n",
       "      <td>scott-davies</td>\n",
       "      <td>NaN</td>\n",
       "      <td>True</td>\n",
       "      <td>False</td>\n",
       "      <td>False</td>\n",
       "      <td>team-giant-shimano-2014</td>\n",
       "      <td>713.0</td>\n",
       "      <td>2019</td>\n",
       "    </tr>\n",
       "    <tr>\n",
       "      <th>217090</th>\n",
       "      <td>giro-d-italia/2019/stage-10</td>\n",
       "      <td>Giro d'Italia</td>\n",
       "      <td>80.0</td>\n",
       "      <td>100.0</td>\n",
       "      <td>145000.0</td>\n",
       "      <td>160.0</td>\n",
       "      <td>1.0</td>\n",
       "      <td>896</td>\n",
       "      <td>2019-05-21</td>\n",
       "      <td>147</td>\n",
       "      <td>scott-davies</td>\n",
       "      <td>NaN</td>\n",
       "      <td>True</td>\n",
       "      <td>False</td>\n",
       "      <td>False</td>\n",
       "      <td>team-giant-shimano-2014</td>\n",
       "      <td>216.0</td>\n",
       "      <td>2019</td>\n",
       "    </tr>\n",
       "    <tr>\n",
       "      <th>217425</th>\n",
       "      <td>vuelta-a-espana/2020/stage-5</td>\n",
       "      <td>Vuelta a Espana</td>\n",
       "      <td>80.0</td>\n",
       "      <td>100.0</td>\n",
       "      <td>184400.0</td>\n",
       "      <td>3407.0</td>\n",
       "      <td>3.0</td>\n",
       "      <td>692</td>\n",
       "      <td>2020-10-24</td>\n",
       "      <td>120</td>\n",
       "      <td>scott-davies</td>\n",
       "      <td>NaN</td>\n",
       "      <td>True</td>\n",
       "      <td>False</td>\n",
       "      <td>False</td>\n",
       "      <td>carrera-inoxpran-1985</td>\n",
       "      <td>769.0</td>\n",
       "      <td>2020</td>\n",
       "    </tr>\n",
       "    <tr>\n",
       "      <th>273299</th>\n",
       "      <td>paris-nice/2019/stage-5</td>\n",
       "      <td>Paris - Nice</td>\n",
       "      <td>50.0</td>\n",
       "      <td>60.0</td>\n",
       "      <td>25500.0</td>\n",
       "      <td>157.0</td>\n",
       "      <td>1.0</td>\n",
       "      <td>1099</td>\n",
       "      <td>2019-03-14</td>\n",
       "      <td>26</td>\n",
       "      <td>scott-davies</td>\n",
       "      <td>NaN</td>\n",
       "      <td>True</td>\n",
       "      <td>False</td>\n",
       "      <td>False</td>\n",
       "      <td>team-giant-shimano-2014</td>\n",
       "      <td>73.0</td>\n",
       "      <td>2019</td>\n",
       "    </tr>\n",
       "    <tr>\n",
       "      <th>277402</th>\n",
       "      <td>giro-d-italia/2019/stage-12</td>\n",
       "      <td>Giro d'Italia</td>\n",
       "      <td>80.0</td>\n",
       "      <td>100.0</td>\n",
       "      <td>158000.0</td>\n",
       "      <td>1918.0</td>\n",
       "      <td>4.0</td>\n",
       "      <td>896</td>\n",
       "      <td>2019-05-23</td>\n",
       "      <td>111</td>\n",
       "      <td>scott-davies</td>\n",
       "      <td>NaN</td>\n",
       "      <td>True</td>\n",
       "      <td>False</td>\n",
       "      <td>False</td>\n",
       "      <td>team-giant-shimano-2014</td>\n",
       "      <td>1202.0</td>\n",
       "      <td>2019</td>\n",
       "    </tr>\n",
       "    <tr>\n",
       "      <th>283649</th>\n",
       "      <td>tour-de-suisse/2018/stage-5</td>\n",
       "      <td>Tour de Suisse</td>\n",
       "      <td>50.0</td>\n",
       "      <td>60.0</td>\n",
       "      <td>155000.0</td>\n",
       "      <td>2668.0</td>\n",
       "      <td>5.0</td>\n",
       "      <td>956</td>\n",
       "      <td>2018-06-13</td>\n",
       "      <td>72</td>\n",
       "      <td>scott-davies</td>\n",
       "      <td>NaN</td>\n",
       "      <td>True</td>\n",
       "      <td>False</td>\n",
       "      <td>False</td>\n",
       "      <td>liquigas-2007</td>\n",
       "      <td>1116.0</td>\n",
       "      <td>2018</td>\n",
       "    </tr>\n",
       "    <tr>\n",
       "      <th>292037</th>\n",
       "      <td>giro-d-italia/2019/stage-2</td>\n",
       "      <td>Giro d'Italia</td>\n",
       "      <td>80.0</td>\n",
       "      <td>100.0</td>\n",
       "      <td>205000.0</td>\n",
       "      <td>2242.0</td>\n",
       "      <td>2.0</td>\n",
       "      <td>896</td>\n",
       "      <td>2019-05-12</td>\n",
       "      <td>157</td>\n",
       "      <td>scott-davies</td>\n",
       "      <td>NaN</td>\n",
       "      <td>True</td>\n",
       "      <td>False</td>\n",
       "      <td>False</td>\n",
       "      <td>team-giant-shimano-2014</td>\n",
       "      <td>730.0</td>\n",
       "      <td>2019</td>\n",
       "    </tr>\n",
       "    <tr>\n",
       "      <th>324670</th>\n",
       "      <td>vuelta-a-espana/2020/stage-9</td>\n",
       "      <td>Vuelta a Espana</td>\n",
       "      <td>80.0</td>\n",
       "      <td>100.0</td>\n",
       "      <td>157700.0</td>\n",
       "      <td>1163.0</td>\n",
       "      <td>1.0</td>\n",
       "      <td>692</td>\n",
       "      <td>2020-10-29</td>\n",
       "      <td>127</td>\n",
       "      <td>scott-davies</td>\n",
       "      <td>NaN</td>\n",
       "      <td>True</td>\n",
       "      <td>False</td>\n",
       "      <td>False</td>\n",
       "      <td>carrera-inoxpran-1985</td>\n",
       "      <td>110.0</td>\n",
       "      <td>2020</td>\n",
       "    </tr>\n",
       "    <tr>\n",
       "      <th>329037</th>\n",
       "      <td>vuelta-a-espana/2020/stage-2</td>\n",
       "      <td>Vuelta a Espana</td>\n",
       "      <td>80.0</td>\n",
       "      <td>100.0</td>\n",
       "      <td>151600.0</td>\n",
       "      <td>2435.0</td>\n",
       "      <td>4.0</td>\n",
       "      <td>692</td>\n",
       "      <td>2020-10-21</td>\n",
       "      <td>63</td>\n",
       "      <td>scott-davies</td>\n",
       "      <td>NaN</td>\n",
       "      <td>True</td>\n",
       "      <td>False</td>\n",
       "      <td>False</td>\n",
       "      <td>carrera-inoxpran-1985</td>\n",
       "      <td>926.0</td>\n",
       "      <td>2020</td>\n",
       "    </tr>\n",
       "    <tr>\n",
       "      <th>332435</th>\n",
       "      <td>vuelta-a-espana/2020/stage-12</td>\n",
       "      <td>Vuelta a Espana</td>\n",
       "      <td>80.0</td>\n",
       "      <td>100.0</td>\n",
       "      <td>109400.0</td>\n",
       "      <td>3125.0</td>\n",
       "      <td>5.0</td>\n",
       "      <td>692</td>\n",
       "      <td>2020-11-01</td>\n",
       "      <td>74</td>\n",
       "      <td>scott-davies</td>\n",
       "      <td>NaN</td>\n",
       "      <td>True</td>\n",
       "      <td>False</td>\n",
       "      <td>False</td>\n",
       "      <td>carrera-inoxpran-1985</td>\n",
       "      <td>1549.0</td>\n",
       "      <td>2020</td>\n",
       "    </tr>\n",
       "    <tr>\n",
       "      <th>353917</th>\n",
       "      <td>vuelta-a-espana/2020/stage-3</td>\n",
       "      <td>Vuelta a Espana</td>\n",
       "      <td>80.0</td>\n",
       "      <td>100.0</td>\n",
       "      <td>166100.0</td>\n",
       "      <td>2779.0</td>\n",
       "      <td>5.0</td>\n",
       "      <td>692</td>\n",
       "      <td>2020-10-22</td>\n",
       "      <td>107</td>\n",
       "      <td>scott-davies</td>\n",
       "      <td>NaN</td>\n",
       "      <td>True</td>\n",
       "      <td>False</td>\n",
       "      <td>False</td>\n",
       "      <td>carrera-inoxpran-1985</td>\n",
       "      <td>674.0</td>\n",
       "      <td>2020</td>\n",
       "    </tr>\n",
       "    <tr>\n",
       "      <th>357302</th>\n",
       "      <td>vuelta-a-espana/2020/stage-16</td>\n",
       "      <td>Vuelta a Espana</td>\n",
       "      <td>80.0</td>\n",
       "      <td>100.0</td>\n",
       "      <td>162000.0</td>\n",
       "      <td>2762.0</td>\n",
       "      <td>2.0</td>\n",
       "      <td>692</td>\n",
       "      <td>2020-11-06</td>\n",
       "      <td>79</td>\n",
       "      <td>scott-davies</td>\n",
       "      <td>NaN</td>\n",
       "      <td>True</td>\n",
       "      <td>False</td>\n",
       "      <td>False</td>\n",
       "      <td>carrera-inoxpran-1985</td>\n",
       "      <td>793.0</td>\n",
       "      <td>2020</td>\n",
       "    </tr>\n",
       "    <tr>\n",
       "      <th>392873</th>\n",
       "      <td>giro-d-italia/2019/stage-19</td>\n",
       "      <td>Giro d'Italia</td>\n",
       "      <td>80.0</td>\n",
       "      <td>100.0</td>\n",
       "      <td>151000.0</td>\n",
       "      <td>3169.0</td>\n",
       "      <td>5.0</td>\n",
       "      <td>896</td>\n",
       "      <td>2019-05-31</td>\n",
       "      <td>94</td>\n",
       "      <td>scott-davies</td>\n",
       "      <td>NaN</td>\n",
       "      <td>True</td>\n",
       "      <td>False</td>\n",
       "      <td>False</td>\n",
       "      <td>team-giant-shimano-2014</td>\n",
       "      <td>1110.0</td>\n",
       "      <td>2019</td>\n",
       "    </tr>\n",
       "    <tr>\n",
       "      <th>404577</th>\n",
       "      <td>vuelta-a-espana/2020/stage-14</td>\n",
       "      <td>Vuelta a Espana</td>\n",
       "      <td>80.0</td>\n",
       "      <td>100.0</td>\n",
       "      <td>204700.0</td>\n",
       "      <td>3057.0</td>\n",
       "      <td>3.0</td>\n",
       "      <td>692</td>\n",
       "      <td>2020-11-04</td>\n",
       "      <td>133</td>\n",
       "      <td>scott-davies</td>\n",
       "      <td>NaN</td>\n",
       "      <td>True</td>\n",
       "      <td>False</td>\n",
       "      <td>False</td>\n",
       "      <td>carrera-inoxpran-1985</td>\n",
       "      <td>687.0</td>\n",
       "      <td>2020</td>\n",
       "    </tr>\n",
       "    <tr>\n",
       "      <th>405815</th>\n",
       "      <td>vuelta-a-espana/2020/stage-6</td>\n",
       "      <td>Vuelta a Espana</td>\n",
       "      <td>80.0</td>\n",
       "      <td>100.0</td>\n",
       "      <td>146400.0</td>\n",
       "      <td>3020.0</td>\n",
       "      <td>5.0</td>\n",
       "      <td>692</td>\n",
       "      <td>2020-10-25</td>\n",
       "      <td>111</td>\n",
       "      <td>scott-davies</td>\n",
       "      <td>NaN</td>\n",
       "      <td>True</td>\n",
       "      <td>False</td>\n",
       "      <td>False</td>\n",
       "      <td>carrera-inoxpran-1985</td>\n",
       "      <td>1031.0</td>\n",
       "      <td>2020</td>\n",
       "    </tr>\n",
       "    <tr>\n",
       "      <th>408819</th>\n",
       "      <td>giro-d-italia/2019/stage-1</td>\n",
       "      <td>Giro d'Italia</td>\n",
       "      <td>80.0</td>\n",
       "      <td>100.0</td>\n",
       "      <td>8000.0</td>\n",
       "      <td>291.0</td>\n",
       "      <td>3.0</td>\n",
       "      <td>896</td>\n",
       "      <td>2019-05-11</td>\n",
       "      <td>42</td>\n",
       "      <td>scott-davies</td>\n",
       "      <td>NaN</td>\n",
       "      <td>True</td>\n",
       "      <td>False</td>\n",
       "      <td>False</td>\n",
       "      <td>team-giant-shimano-2014</td>\n",
       "      <td>74.0</td>\n",
       "      <td>2019</td>\n",
       "    </tr>\n",
       "    <tr>\n",
       "      <th>412521</th>\n",
       "      <td>paris-nice/2019/stage-6</td>\n",
       "      <td>Paris - Nice</td>\n",
       "      <td>50.0</td>\n",
       "      <td>60.0</td>\n",
       "      <td>176500.0</td>\n",
       "      <td>2029.0</td>\n",
       "      <td>4.0</td>\n",
       "      <td>1099</td>\n",
       "      <td>2019-03-15</td>\n",
       "      <td>60</td>\n",
       "      <td>scott-davies</td>\n",
       "      <td>NaN</td>\n",
       "      <td>True</td>\n",
       "      <td>False</td>\n",
       "      <td>False</td>\n",
       "      <td>team-giant-shimano-2014</td>\n",
       "      <td>341.0</td>\n",
       "      <td>2019</td>\n",
       "    </tr>\n",
       "    <tr>\n",
       "      <th>416419</th>\n",
       "      <td>paris-nice/2019/stage-7</td>\n",
       "      <td>Paris - Nice</td>\n",
       "      <td>50.0</td>\n",
       "      <td>60.0</td>\n",
       "      <td>181500.0</td>\n",
       "      <td>4332.0</td>\n",
       "      <td>5.0</td>\n",
       "      <td>1099</td>\n",
       "      <td>2019-03-16</td>\n",
       "      <td>47</td>\n",
       "      <td>scott-davies</td>\n",
       "      <td>NaN</td>\n",
       "      <td>True</td>\n",
       "      <td>False</td>\n",
       "      <td>False</td>\n",
       "      <td>team-giant-shimano-2014</td>\n",
       "      <td>749.0</td>\n",
       "      <td>2019</td>\n",
       "    </tr>\n",
       "    <tr>\n",
       "      <th>421587</th>\n",
       "      <td>vuelta-a-espana/2020/stage-13</td>\n",
       "      <td>Vuelta a Espana</td>\n",
       "      <td>80.0</td>\n",
       "      <td>100.0</td>\n",
       "      <td>33700.0</td>\n",
       "      <td>536.0</td>\n",
       "      <td>3.0</td>\n",
       "      <td>692</td>\n",
       "      <td>2020-11-03</td>\n",
       "      <td>31</td>\n",
       "      <td>scott-davies</td>\n",
       "      <td>NaN</td>\n",
       "      <td>True</td>\n",
       "      <td>False</td>\n",
       "      <td>False</td>\n",
       "      <td>carrera-inoxpran-1985</td>\n",
       "      <td>162.0</td>\n",
       "      <td>2020</td>\n",
       "    </tr>\n",
       "    <tr>\n",
       "      <th>422259</th>\n",
       "      <td>giro-d-italia/2019/stage-20</td>\n",
       "      <td>Giro d'Italia</td>\n",
       "      <td>80.0</td>\n",
       "      <td>100.0</td>\n",
       "      <td>194000.0</td>\n",
       "      <td>5754.0</td>\n",
       "      <td>5.0</td>\n",
       "      <td>896</td>\n",
       "      <td>2019-06-01</td>\n",
       "      <td>106</td>\n",
       "      <td>scott-davies</td>\n",
       "      <td>NaN</td>\n",
       "      <td>True</td>\n",
       "      <td>False</td>\n",
       "      <td>False</td>\n",
       "      <td>team-giant-shimano-2014</td>\n",
       "      <td>2446.0</td>\n",
       "      <td>2019</td>\n",
       "    </tr>\n",
       "    <tr>\n",
       "      <th>422762</th>\n",
       "      <td>tour-de-suisse/2018/stage-3</td>\n",
       "      <td>Tour de Suisse</td>\n",
       "      <td>50.0</td>\n",
       "      <td>60.0</td>\n",
       "      <td>182000.0</td>\n",
       "      <td>2260.0</td>\n",
       "      <td>2.0</td>\n",
       "      <td>956</td>\n",
       "      <td>2018-06-11</td>\n",
       "      <td>87</td>\n",
       "      <td>scott-davies</td>\n",
       "      <td>NaN</td>\n",
       "      <td>True</td>\n",
       "      <td>False</td>\n",
       "      <td>False</td>\n",
       "      <td>liquigas-2007</td>\n",
       "      <td>131.0</td>\n",
       "      <td>2018</td>\n",
       "    </tr>\n",
       "    <tr>\n",
       "      <th>428445</th>\n",
       "      <td>tour-de-suisse/2018/stage-2</td>\n",
       "      <td>Tour de Suisse</td>\n",
       "      <td>50.0</td>\n",
       "      <td>60.0</td>\n",
       "      <td>155000.0</td>\n",
       "      <td>1817.0</td>\n",
       "      <td>2.0</td>\n",
       "      <td>956</td>\n",
       "      <td>2018-06-10</td>\n",
       "      <td>59</td>\n",
       "      <td>scott-davies</td>\n",
       "      <td>NaN</td>\n",
       "      <td>True</td>\n",
       "      <td>False</td>\n",
       "      <td>False</td>\n",
       "      <td>liquigas-2007</td>\n",
       "      <td>0.0</td>\n",
       "      <td>2018</td>\n",
       "    </tr>\n",
       "    <tr>\n",
       "      <th>428837</th>\n",
       "      <td>giro-d-italia/2019/stage-4</td>\n",
       "      <td>Giro d'Italia</td>\n",
       "      <td>80.0</td>\n",
       "      <td>100.0</td>\n",
       "      <td>235000.0</td>\n",
       "      <td>2995.0</td>\n",
       "      <td>3.0</td>\n",
       "      <td>896</td>\n",
       "      <td>2019-05-14</td>\n",
       "      <td>156</td>\n",
       "      <td>scott-davies</td>\n",
       "      <td>NaN</td>\n",
       "      <td>True</td>\n",
       "      <td>False</td>\n",
       "      <td>False</td>\n",
       "      <td>team-giant-shimano-2014</td>\n",
       "      <td>772.0</td>\n",
       "      <td>2019</td>\n",
       "    </tr>\n",
       "    <tr>\n",
       "      <th>456303</th>\n",
       "      <td>paris-nice/2019/stage-8</td>\n",
       "      <td>Paris - Nice</td>\n",
       "      <td>50.0</td>\n",
       "      <td>60.0</td>\n",
       "      <td>110000.0</td>\n",
       "      <td>2165.0</td>\n",
       "      <td>4.0</td>\n",
       "      <td>1099</td>\n",
       "      <td>2019-03-17</td>\n",
       "      <td>100</td>\n",
       "      <td>scott-davies</td>\n",
       "      <td>NaN</td>\n",
       "      <td>True</td>\n",
       "      <td>False</td>\n",
       "      <td>False</td>\n",
       "      <td>team-giant-shimano-2014</td>\n",
       "      <td>1000.0</td>\n",
       "      <td>2019</td>\n",
       "    </tr>\n",
       "    <tr>\n",
       "      <th>462363</th>\n",
       "      <td>paris-nice/2019/stage-4</td>\n",
       "      <td>Paris - Nice</td>\n",
       "      <td>50.0</td>\n",
       "      <td>60.0</td>\n",
       "      <td>212000.0</td>\n",
       "      <td>2969.0</td>\n",
       "      <td>2.0</td>\n",
       "      <td>1099</td>\n",
       "      <td>2019-03-13</td>\n",
       "      <td>64</td>\n",
       "      <td>scott-davies</td>\n",
       "      <td>NaN</td>\n",
       "      <td>True</td>\n",
       "      <td>False</td>\n",
       "      <td>False</td>\n",
       "      <td>team-giant-shimano-2014</td>\n",
       "      <td>415.0</td>\n",
       "      <td>2019</td>\n",
       "    </tr>\n",
       "    <tr>\n",
       "      <th>467602</th>\n",
       "      <td>paris-nice/2019/stage-2</td>\n",
       "      <td>Paris - Nice</td>\n",
       "      <td>50.0</td>\n",
       "      <td>60.0</td>\n",
       "      <td>163500.0</td>\n",
       "      <td>753.0</td>\n",
       "      <td>1.0</td>\n",
       "      <td>1099</td>\n",
       "      <td>2019-03-11</td>\n",
       "      <td>54</td>\n",
       "      <td>scott-davies</td>\n",
       "      <td>NaN</td>\n",
       "      <td>True</td>\n",
       "      <td>False</td>\n",
       "      <td>False</td>\n",
       "      <td>team-giant-shimano-2014</td>\n",
       "      <td>79.0</td>\n",
       "      <td>2019</td>\n",
       "    </tr>\n",
       "    <tr>\n",
       "      <th>469315</th>\n",
       "      <td>vuelta-a-espana/2020/stage-15</td>\n",
       "      <td>Vuelta a Espana</td>\n",
       "      <td>80.0</td>\n",
       "      <td>100.0</td>\n",
       "      <td>230800.0</td>\n",
       "      <td>4448.0</td>\n",
       "      <td>2.0</td>\n",
       "      <td>692</td>\n",
       "      <td>2020-11-05</td>\n",
       "      <td>128</td>\n",
       "      <td>scott-davies</td>\n",
       "      <td>NaN</td>\n",
       "      <td>True</td>\n",
       "      <td>False</td>\n",
       "      <td>False</td>\n",
       "      <td>carrera-inoxpran-1985</td>\n",
       "      <td>835.0</td>\n",
       "      <td>2020</td>\n",
       "    </tr>\n",
       "    <tr>\n",
       "      <th>472449</th>\n",
       "      <td>vuelta-a-espana/2020/stage-10</td>\n",
       "      <td>Vuelta a Espana</td>\n",
       "      <td>80.0</td>\n",
       "      <td>100.0</td>\n",
       "      <td>185000.0</td>\n",
       "      <td>2302.0</td>\n",
       "      <td>3.0</td>\n",
       "      <td>692</td>\n",
       "      <td>2020-10-30</td>\n",
       "      <td>53</td>\n",
       "      <td>scott-davies</td>\n",
       "      <td>NaN</td>\n",
       "      <td>True</td>\n",
       "      <td>False</td>\n",
       "      <td>False</td>\n",
       "      <td>carrera-inoxpran-1985</td>\n",
       "      <td>32.0</td>\n",
       "      <td>2020</td>\n",
       "    </tr>\n",
       "    <tr>\n",
       "      <th>499538</th>\n",
       "      <td>vuelta-a-espana/2020/stage-17</td>\n",
       "      <td>Vuelta a Espana</td>\n",
       "      <td>80.0</td>\n",
       "      <td>100.0</td>\n",
       "      <td>178200.0</td>\n",
       "      <td>4365.0</td>\n",
       "      <td>5.0</td>\n",
       "      <td>692</td>\n",
       "      <td>2020-11-07</td>\n",
       "      <td>92</td>\n",
       "      <td>scott-davies</td>\n",
       "      <td>NaN</td>\n",
       "      <td>True</td>\n",
       "      <td>False</td>\n",
       "      <td>False</td>\n",
       "      <td>carrera-inoxpran-1985</td>\n",
       "      <td>2011.0</td>\n",
       "      <td>2020</td>\n",
       "    </tr>\n",
       "    <tr>\n",
       "      <th>501068</th>\n",
       "      <td>giro-d-italia/2019/stage-17</td>\n",
       "      <td>Giro d'Italia</td>\n",
       "      <td>80.0</td>\n",
       "      <td>100.0</td>\n",
       "      <td>181000.0</td>\n",
       "      <td>3482.0</td>\n",
       "      <td>5.0</td>\n",
       "      <td>896</td>\n",
       "      <td>2019-05-29</td>\n",
       "      <td>96</td>\n",
       "      <td>scott-davies</td>\n",
       "      <td>NaN</td>\n",
       "      <td>True</td>\n",
       "      <td>False</td>\n",
       "      <td>False</td>\n",
       "      <td>team-giant-shimano-2014</td>\n",
       "      <td>1468.0</td>\n",
       "      <td>2019</td>\n",
       "    </tr>\n",
       "    <tr>\n",
       "      <th>503971</th>\n",
       "      <td>giro-d-italia/2019/stage-7</td>\n",
       "      <td>Giro d'Italia</td>\n",
       "      <td>80.0</td>\n",
       "      <td>100.0</td>\n",
       "      <td>185000.0</td>\n",
       "      <td>2626.0</td>\n",
       "      <td>2.0</td>\n",
       "      <td>896</td>\n",
       "      <td>2019-05-17</td>\n",
       "      <td>135</td>\n",
       "      <td>scott-davies</td>\n",
       "      <td>NaN</td>\n",
       "      <td>True</td>\n",
       "      <td>False</td>\n",
       "      <td>False</td>\n",
       "      <td>team-giant-shimano-2014</td>\n",
       "      <td>1086.0</td>\n",
       "      <td>2019</td>\n",
       "    </tr>\n",
       "    <tr>\n",
       "      <th>511387</th>\n",
       "      <td>tour-de-suisse/2018/stage-4</td>\n",
       "      <td>Tour de Suisse</td>\n",
       "      <td>50.0</td>\n",
       "      <td>60.0</td>\n",
       "      <td>189000.0</td>\n",
       "      <td>2467.0</td>\n",
       "      <td>5.0</td>\n",
       "      <td>956</td>\n",
       "      <td>2018-06-12</td>\n",
       "      <td>58</td>\n",
       "      <td>scott-davies</td>\n",
       "      <td>NaN</td>\n",
       "      <td>True</td>\n",
       "      <td>False</td>\n",
       "      <td>False</td>\n",
       "      <td>liquigas-2007</td>\n",
       "      <td>8.0</td>\n",
       "      <td>2018</td>\n",
       "    </tr>\n",
       "    <tr>\n",
       "      <th>535955</th>\n",
       "      <td>giro-d-italia/2019/stage-15</td>\n",
       "      <td>Giro d'Italia</td>\n",
       "      <td>80.0</td>\n",
       "      <td>100.0</td>\n",
       "      <td>232000.0</td>\n",
       "      <td>3122.0</td>\n",
       "      <td>3.0</td>\n",
       "      <td>896</td>\n",
       "      <td>2019-05-26</td>\n",
       "      <td>83</td>\n",
       "      <td>scott-davies</td>\n",
       "      <td>NaN</td>\n",
       "      <td>True</td>\n",
       "      <td>False</td>\n",
       "      <td>False</td>\n",
       "      <td>team-giant-shimano-2014</td>\n",
       "      <td>1905.0</td>\n",
       "      <td>2019</td>\n",
       "    </tr>\n",
       "    <tr>\n",
       "      <th>538467</th>\n",
       "      <td>giro-d-italia/2019/stage-11</td>\n",
       "      <td>Giro d'Italia</td>\n",
       "      <td>80.0</td>\n",
       "      <td>100.0</td>\n",
       "      <td>221000.0</td>\n",
       "      <td>476.0</td>\n",
       "      <td>1.0</td>\n",
       "      <td>896</td>\n",
       "      <td>2019-05-22</td>\n",
       "      <td>156</td>\n",
       "      <td>scott-davies</td>\n",
       "      <td>NaN</td>\n",
       "      <td>True</td>\n",
       "      <td>False</td>\n",
       "      <td>False</td>\n",
       "      <td>team-giant-shimano-2014</td>\n",
       "      <td>198.0</td>\n",
       "      <td>2019</td>\n",
       "    </tr>\n",
       "    <tr>\n",
       "      <th>547471</th>\n",
       "      <td>vuelta-a-espana/2020/stage-8</td>\n",
       "      <td>Vuelta a Espana</td>\n",
       "      <td>80.0</td>\n",
       "      <td>100.0</td>\n",
       "      <td>164000.0</td>\n",
       "      <td>3021.0</td>\n",
       "      <td>5.0</td>\n",
       "      <td>692</td>\n",
       "      <td>2020-10-28</td>\n",
       "      <td>90</td>\n",
       "      <td>scott-davies</td>\n",
       "      <td>NaN</td>\n",
       "      <td>True</td>\n",
       "      <td>False</td>\n",
       "      <td>False</td>\n",
       "      <td>carrera-inoxpran-1985</td>\n",
       "      <td>1153.0</td>\n",
       "      <td>2020</td>\n",
       "    </tr>\n",
       "    <tr>\n",
       "      <th>560444</th>\n",
       "      <td>vuelta-a-espana/2020/stage-1</td>\n",
       "      <td>Vuelta a Espana</td>\n",
       "      <td>80.0</td>\n",
       "      <td>100.0</td>\n",
       "      <td>173000.0</td>\n",
       "      <td>2975.0</td>\n",
       "      <td>2.0</td>\n",
       "      <td>692</td>\n",
       "      <td>2020-10-20</td>\n",
       "      <td>109</td>\n",
       "      <td>scott-davies</td>\n",
       "      <td>NaN</td>\n",
       "      <td>True</td>\n",
       "      <td>False</td>\n",
       "      <td>False</td>\n",
       "      <td>carrera-inoxpran-1985</td>\n",
       "      <td>920.0</td>\n",
       "      <td>2020</td>\n",
       "    </tr>\n",
       "    <tr>\n",
       "      <th>580851</th>\n",
       "      <td>giro-d-italia/2019/stage-21</td>\n",
       "      <td>Giro d'Italia</td>\n",
       "      <td>80.0</td>\n",
       "      <td>100.0</td>\n",
       "      <td>17000.0</td>\n",
       "      <td>297.0</td>\n",
       "      <td>2.0</td>\n",
       "      <td>896</td>\n",
       "      <td>2019-06-02</td>\n",
       "      <td>39</td>\n",
       "      <td>scott-davies</td>\n",
       "      <td>NaN</td>\n",
       "      <td>True</td>\n",
       "      <td>False</td>\n",
       "      <td>False</td>\n",
       "      <td>team-giant-shimano-2014</td>\n",
       "      <td>78.0</td>\n",
       "      <td>2019</td>\n",
       "    </tr>\n",
       "  </tbody>\n",
       "</table>\n",
       "</div>"
      ],
      "text/plain": [
       "                                 _url              name  points  uci_points  \\\n",
       "2063      giro-d-italia/2019/stage-14     Giro d'Italia    80.0       100.0   \n",
       "6495     vuelta-a-espana/2020/stage-7   Vuelta a Espana    80.0       100.0   \n",
       "12865    amstel-gold-race/2018/result  Amstel Gold Race   225.0       500.0   \n",
       "12972   vuelta-a-espana/2020/stage-11   Vuelta a Espana    80.0       100.0   \n",
       "13349         paris-nice/2019/stage-3      Paris - Nice    50.0        60.0   \n",
       "23038     giro-d-italia/2019/stage-16     Giro d'Italia    80.0       100.0   \n",
       "60389    vuelta-a-espana/2020/stage-4   Vuelta a Espana    80.0       100.0   \n",
       "68791      giro-d-italia/2019/stage-9     Giro d'Italia    80.0       100.0   \n",
       "75497     giro-d-italia/2019/stage-18     Giro d'Italia    80.0       100.0   \n",
       "132853        paris-nice/2019/stage-1      Paris - Nice    50.0        60.0   \n",
       "155617     giro-d-italia/2019/stage-5     Giro d'Italia    80.0       100.0   \n",
       "171862     giro-d-italia/2019/stage-3     Giro d'Italia    80.0       100.0   \n",
       "174217    giro-d-italia/2019/stage-13     Giro d'Italia    80.0       100.0   \n",
       "180506     giro-d-italia/2019/stage-6     Giro d'Italia    80.0       100.0   \n",
       "189206  vuelta-a-espana/2020/stage-18   Vuelta a Espana    80.0       100.0   \n",
       "197959     giro-d-italia/2019/stage-8     Giro d'Italia    80.0       100.0   \n",
       "217090    giro-d-italia/2019/stage-10     Giro d'Italia    80.0       100.0   \n",
       "217425   vuelta-a-espana/2020/stage-5   Vuelta a Espana    80.0       100.0   \n",
       "273299        paris-nice/2019/stage-5      Paris - Nice    50.0        60.0   \n",
       "277402    giro-d-italia/2019/stage-12     Giro d'Italia    80.0       100.0   \n",
       "283649    tour-de-suisse/2018/stage-5    Tour de Suisse    50.0        60.0   \n",
       "292037     giro-d-italia/2019/stage-2     Giro d'Italia    80.0       100.0   \n",
       "324670   vuelta-a-espana/2020/stage-9   Vuelta a Espana    80.0       100.0   \n",
       "329037   vuelta-a-espana/2020/stage-2   Vuelta a Espana    80.0       100.0   \n",
       "332435  vuelta-a-espana/2020/stage-12   Vuelta a Espana    80.0       100.0   \n",
       "353917   vuelta-a-espana/2020/stage-3   Vuelta a Espana    80.0       100.0   \n",
       "357302  vuelta-a-espana/2020/stage-16   Vuelta a Espana    80.0       100.0   \n",
       "392873    giro-d-italia/2019/stage-19     Giro d'Italia    80.0       100.0   \n",
       "404577  vuelta-a-espana/2020/stage-14   Vuelta a Espana    80.0       100.0   \n",
       "405815   vuelta-a-espana/2020/stage-6   Vuelta a Espana    80.0       100.0   \n",
       "408819     giro-d-italia/2019/stage-1     Giro d'Italia    80.0       100.0   \n",
       "412521        paris-nice/2019/stage-6      Paris - Nice    50.0        60.0   \n",
       "416419        paris-nice/2019/stage-7      Paris - Nice    50.0        60.0   \n",
       "421587  vuelta-a-espana/2020/stage-13   Vuelta a Espana    80.0       100.0   \n",
       "422259    giro-d-italia/2019/stage-20     Giro d'Italia    80.0       100.0   \n",
       "422762    tour-de-suisse/2018/stage-3    Tour de Suisse    50.0        60.0   \n",
       "428445    tour-de-suisse/2018/stage-2    Tour de Suisse    50.0        60.0   \n",
       "428837     giro-d-italia/2019/stage-4     Giro d'Italia    80.0       100.0   \n",
       "456303        paris-nice/2019/stage-8      Paris - Nice    50.0        60.0   \n",
       "462363        paris-nice/2019/stage-4      Paris - Nice    50.0        60.0   \n",
       "467602        paris-nice/2019/stage-2      Paris - Nice    50.0        60.0   \n",
       "469315  vuelta-a-espana/2020/stage-15   Vuelta a Espana    80.0       100.0   \n",
       "472449  vuelta-a-espana/2020/stage-10   Vuelta a Espana    80.0       100.0   \n",
       "499538  vuelta-a-espana/2020/stage-17   Vuelta a Espana    80.0       100.0   \n",
       "501068    giro-d-italia/2019/stage-17     Giro d'Italia    80.0       100.0   \n",
       "503971     giro-d-italia/2019/stage-7     Giro d'Italia    80.0       100.0   \n",
       "511387    tour-de-suisse/2018/stage-4    Tour de Suisse    50.0        60.0   \n",
       "535955    giro-d-italia/2019/stage-15     Giro d'Italia    80.0       100.0   \n",
       "538467    giro-d-italia/2019/stage-11     Giro d'Italia    80.0       100.0   \n",
       "547471   vuelta-a-espana/2020/stage-8   Vuelta a Espana    80.0       100.0   \n",
       "560444   vuelta-a-espana/2020/stage-1   Vuelta a Espana    80.0       100.0   \n",
       "580851    giro-d-italia/2019/stage-21     Giro d'Italia    80.0       100.0   \n",
       "\n",
       "          length  climb_total  profile  startlist_quality       date  \\\n",
       "2063    131000.0       4187.0      4.0                896 2019-05-25   \n",
       "6495    159700.0       2657.0      2.0                692 2020-10-27   \n",
       "12865   263000.0       3496.0      2.0               1139 2018-04-15   \n",
       "12972   170000.0       5098.0      5.0                692 2020-10-31   \n",
       "13349   200000.0        896.0      1.0               1099 2019-03-12   \n",
       "23038   194000.0       5207.0      4.0                896 2019-05-28   \n",
       "60389   191700.0       1160.0      1.0                692 2020-10-23   \n",
       "68791    34800.0        723.0      3.0                896 2019-05-19   \n",
       "75497   222000.0       1478.0      2.0                896 2019-05-30   \n",
       "132853  138500.0       1107.0      1.0               1099 2019-03-10   \n",
       "155617  140000.0       2056.0      2.0                896 2019-05-15   \n",
       "171862  220000.0       1790.0      2.0                896 2019-05-13   \n",
       "174217  196000.0       5187.0      5.0                896 2019-05-24   \n",
       "180506  238000.0       2881.0      2.0                896 2019-05-16   \n",
       "189206  139600.0       1492.0      2.0                692 2020-11-08   \n",
       "197959  239000.0       1998.0      2.0                896 2019-05-18   \n",
       "217090  145000.0        160.0      1.0                896 2019-05-21   \n",
       "217425  184400.0       3407.0      3.0                692 2020-10-24   \n",
       "273299   25500.0        157.0      1.0               1099 2019-03-14   \n",
       "277402  158000.0       1918.0      4.0                896 2019-05-23   \n",
       "283649  155000.0       2668.0      5.0                956 2018-06-13   \n",
       "292037  205000.0       2242.0      2.0                896 2019-05-12   \n",
       "324670  157700.0       1163.0      1.0                692 2020-10-29   \n",
       "329037  151600.0       2435.0      4.0                692 2020-10-21   \n",
       "332435  109400.0       3125.0      5.0                692 2020-11-01   \n",
       "353917  166100.0       2779.0      5.0                692 2020-10-22   \n",
       "357302  162000.0       2762.0      2.0                692 2020-11-06   \n",
       "392873  151000.0       3169.0      5.0                896 2019-05-31   \n",
       "404577  204700.0       3057.0      3.0                692 2020-11-04   \n",
       "405815  146400.0       3020.0      5.0                692 2020-10-25   \n",
       "408819    8000.0        291.0      3.0                896 2019-05-11   \n",
       "412521  176500.0       2029.0      4.0               1099 2019-03-15   \n",
       "416419  181500.0       4332.0      5.0               1099 2019-03-16   \n",
       "421587   33700.0        536.0      3.0                692 2020-11-03   \n",
       "422259  194000.0       5754.0      5.0                896 2019-06-01   \n",
       "422762  182000.0       2260.0      2.0                956 2018-06-11   \n",
       "428445  155000.0       1817.0      2.0                956 2018-06-10   \n",
       "428837  235000.0       2995.0      3.0                896 2019-05-14   \n",
       "456303  110000.0       2165.0      4.0               1099 2019-03-17   \n",
       "462363  212000.0       2969.0      2.0               1099 2019-03-13   \n",
       "467602  163500.0        753.0      1.0               1099 2019-03-11   \n",
       "469315  230800.0       4448.0      2.0                692 2020-11-05   \n",
       "472449  185000.0       2302.0      3.0                692 2020-10-30   \n",
       "499538  178200.0       4365.0      5.0                692 2020-11-07   \n",
       "501068  181000.0       3482.0      5.0                896 2019-05-29   \n",
       "503971  185000.0       2626.0      2.0                896 2019-05-17   \n",
       "511387  189000.0       2467.0      5.0                956 2018-06-12   \n",
       "535955  232000.0       3122.0      3.0                896 2019-05-26   \n",
       "538467  221000.0        476.0      1.0                896 2019-05-22   \n",
       "547471  164000.0       3021.0      5.0                692 2020-10-28   \n",
       "560444  173000.0       2975.0      2.0                692 2020-10-20   \n",
       "580851   17000.0        297.0      2.0                896 2019-06-02   \n",
       "\n",
       "        position       cyclist  cyclist_age  is_tarmac  is_cobbled  is_gravel  \\\n",
       "2063          99  scott-davies          NaN       True       False      False   \n",
       "6495         124  scott-davies          NaN       True       False      False   \n",
       "12865         96  scott-davies          NaN      False       False      False   \n",
       "12972        100  scott-davies          NaN       True       False      False   \n",
       "13349         50  scott-davies          NaN       True       False      False   \n",
       "23038         71  scott-davies          NaN       True       False      False   \n",
       "60389        134  scott-davies          NaN       True       False      False   \n",
       "68791         18  scott-davies          NaN       True       False      False   \n",
       "75497        138  scott-davies          NaN       True       False      False   \n",
       "132853       131  scott-davies          NaN       True       False      False   \n",
       "155617       143  scott-davies          NaN       True       False      False   \n",
       "171862        83  scott-davies          NaN       True       False      False   \n",
       "174217        96  scott-davies          NaN       True       False      False   \n",
       "180506       148  scott-davies          NaN       True       False      False   \n",
       "189206        87  scott-davies          NaN       True       False      False   \n",
       "197959       148  scott-davies          NaN       True       False      False   \n",
       "217090       147  scott-davies          NaN       True       False      False   \n",
       "217425       120  scott-davies          NaN       True       False      False   \n",
       "273299        26  scott-davies          NaN       True       False      False   \n",
       "277402       111  scott-davies          NaN       True       False      False   \n",
       "283649        72  scott-davies          NaN       True       False      False   \n",
       "292037       157  scott-davies          NaN       True       False      False   \n",
       "324670       127  scott-davies          NaN       True       False      False   \n",
       "329037        63  scott-davies          NaN       True       False      False   \n",
       "332435        74  scott-davies          NaN       True       False      False   \n",
       "353917       107  scott-davies          NaN       True       False      False   \n",
       "357302        79  scott-davies          NaN       True       False      False   \n",
       "392873        94  scott-davies          NaN       True       False      False   \n",
       "404577       133  scott-davies          NaN       True       False      False   \n",
       "405815       111  scott-davies          NaN       True       False      False   \n",
       "408819        42  scott-davies          NaN       True       False      False   \n",
       "412521        60  scott-davies          NaN       True       False      False   \n",
       "416419        47  scott-davies          NaN       True       False      False   \n",
       "421587        31  scott-davies          NaN       True       False      False   \n",
       "422259       106  scott-davies          NaN       True       False      False   \n",
       "422762        87  scott-davies          NaN       True       False      False   \n",
       "428445        59  scott-davies          NaN       True       False      False   \n",
       "428837       156  scott-davies          NaN       True       False      False   \n",
       "456303       100  scott-davies          NaN       True       False      False   \n",
       "462363        64  scott-davies          NaN       True       False      False   \n",
       "467602        54  scott-davies          NaN       True       False      False   \n",
       "469315       128  scott-davies          NaN       True       False      False   \n",
       "472449        53  scott-davies          NaN       True       False      False   \n",
       "499538        92  scott-davies          NaN       True       False      False   \n",
       "501068        96  scott-davies          NaN       True       False      False   \n",
       "503971       135  scott-davies          NaN       True       False      False   \n",
       "511387        58  scott-davies          NaN       True       False      False   \n",
       "535955        83  scott-davies          NaN       True       False      False   \n",
       "538467       156  scott-davies          NaN       True       False      False   \n",
       "547471        90  scott-davies          NaN       True       False      False   \n",
       "560444       109  scott-davies          NaN       True       False      False   \n",
       "580851        39  scott-davies          NaN       True       False      False   \n",
       "\n",
       "                   cyclist_team   delta  year  \n",
       "2063    team-giant-shimano-2014  1752.0  2019  \n",
       "6495      carrera-inoxpran-1985  1018.0  2020  \n",
       "12865             liquigas-2007   290.0  2018  \n",
       "12972     carrera-inoxpran-1985  1937.0  2020  \n",
       "13349   team-giant-shimano-2014     0.0  2019  \n",
       "23038   team-giant-shimano-2014  1344.0  2019  \n",
       "60389     carrera-inoxpran-1985    42.0  2020  \n",
       "68791   team-giant-shimano-2014   157.0  2019  \n",
       "75497   team-giant-shimano-2014   500.0  2019  \n",
       "132853  team-giant-shimano-2014   162.0  2019  \n",
       "155617  team-giant-shimano-2014     0.0  2019  \n",
       "171862  team-giant-shimano-2014    46.0  2019  \n",
       "174217  team-giant-shimano-2014  2031.0  2019  \n",
       "180506  team-giant-shimano-2014  1388.0  2019  \n",
       "189206    carrera-inoxpran-1985    36.0  2020  \n",
       "197959  team-giant-shimano-2014   713.0  2019  \n",
       "217090  team-giant-shimano-2014   216.0  2019  \n",
       "217425    carrera-inoxpran-1985   769.0  2020  \n",
       "273299  team-giant-shimano-2014    73.0  2019  \n",
       "277402  team-giant-shimano-2014  1202.0  2019  \n",
       "283649            liquigas-2007  1116.0  2018  \n",
       "292037  team-giant-shimano-2014   730.0  2019  \n",
       "324670    carrera-inoxpran-1985   110.0  2020  \n",
       "329037    carrera-inoxpran-1985   926.0  2020  \n",
       "332435    carrera-inoxpran-1985  1549.0  2020  \n",
       "353917    carrera-inoxpran-1985   674.0  2020  \n",
       "357302    carrera-inoxpran-1985   793.0  2020  \n",
       "392873  team-giant-shimano-2014  1110.0  2019  \n",
       "404577    carrera-inoxpran-1985   687.0  2020  \n",
       "405815    carrera-inoxpran-1985  1031.0  2020  \n",
       "408819  team-giant-shimano-2014    74.0  2019  \n",
       "412521  team-giant-shimano-2014   341.0  2019  \n",
       "416419  team-giant-shimano-2014   749.0  2019  \n",
       "421587    carrera-inoxpran-1985   162.0  2020  \n",
       "422259  team-giant-shimano-2014  2446.0  2019  \n",
       "422762            liquigas-2007   131.0  2018  \n",
       "428445            liquigas-2007     0.0  2018  \n",
       "428837  team-giant-shimano-2014   772.0  2019  \n",
       "456303  team-giant-shimano-2014  1000.0  2019  \n",
       "462363  team-giant-shimano-2014   415.0  2019  \n",
       "467602  team-giant-shimano-2014    79.0  2019  \n",
       "469315    carrera-inoxpran-1985   835.0  2020  \n",
       "472449    carrera-inoxpran-1985    32.0  2020  \n",
       "499538    carrera-inoxpran-1985  2011.0  2020  \n",
       "501068  team-giant-shimano-2014  1468.0  2019  \n",
       "503971  team-giant-shimano-2014  1086.0  2019  \n",
       "511387            liquigas-2007     8.0  2018  \n",
       "535955  team-giant-shimano-2014  1905.0  2019  \n",
       "538467  team-giant-shimano-2014   198.0  2019  \n",
       "547471    carrera-inoxpran-1985  1153.0  2020  \n",
       "560444    carrera-inoxpran-1985   920.0  2020  \n",
       "580851  team-giant-shimano-2014    78.0  2019  "
      ]
     },
     "execution_count": 121,
     "metadata": {},
     "output_type": "execute_result"
    }
   ],
   "source": [
    "# Check which cyclist have no age yet \n",
    "cyclists_with_no_age_yet = df_races[df_races[\"cyclist_age\"].isnull()]\n",
    "cyclists_with_no_age_yet"
   ]
  },
  {
   "attachments": {},
   "cell_type": "markdown",
   "metadata": {},
   "source": [
    "#### So... delete all 52 null values since they refer only to sott-davies for which we have no info"
   ]
  },
  {
   "cell_type": "code",
   "execution_count": 122,
   "metadata": {},
   "outputs": [],
   "source": [
    "# delete 52 null values since they refer only to sott-davies for which we have no info\n",
    "df_races = df_races[~df_races['cyclist'].isin(cyclists_with_no_age_yet['cyclist'])].copy()\n",
    "\n",
    "age_after_imputation = df_races['cyclist_age'].copy()"
   ]
  },
  {
   "cell_type": "code",
   "execution_count": 123,
   "metadata": {},
   "outputs": [
    {
     "name": "stdout",
     "output_type": "stream",
     "text": [
      "\n",
      "KS Test: Statistic = 9.582254068141172e-05, p-value = 1.0\n",
      "Very small difference in distribution, the imputed data closely matches the original distribution.\n"
     ]
    }
   ],
   "source": [
    "test_before_after_distribution(age_before_imputation.dropna(), age_after_imputation)"
   ]
  },
  {
   "attachments": {},
   "cell_type": "markdown",
   "metadata": {},
   "source": [
    "### Compute optimal number of bins"
   ]
  },
  {
   "cell_type": "code",
   "execution_count": 124,
   "metadata": {},
   "outputs": [
    {
     "name": "stdout",
     "output_type": "stream",
     "text": [
      "Recommended number of bins: 21\n",
      "Recommended number of bins: 378\n"
     ]
    }
   ],
   "source": [
    "# Sturges rule for approximately Normal distributions\n",
    "def sturges_bin_count(df_races):\n",
    "    \"\"\"Calculate optimal number of bins based on Sturges' rule\"\"\"\n",
    "    return int(np.ceil(np.log2(len(df_races)) + 1))\n",
    "\n",
    "bins = sturges_bin_count(df_races[\"cyclist_age\"])\n",
    "print(f\"Recommended number of bins: {bins}\")\n",
    "\n",
    "# Freedman-Diaconis Rule is better for data with outliers and skewed distributions\n",
    "def freedman_diaconis_bin_count(data):\n",
    "    \"\"\"Calculate optimal number of bins based on Freedman-Diaconis rule\"\"\"\n",
    "    iqr = np.percentile(data, 75) - np.percentile(data, 25)\n",
    "    bin_width = 2 * iqr * len(data) ** (-1/3)\n",
    "    return int(np.ceil((data.max() - data.min()) / bin_width))\n",
    "\n",
    "bins = freedman_diaconis_bin_count(df_races[\"cyclist_age\"])\n",
    "print(f\"Recommended number of bins: {bins}\")"
   ]
  },
  {
   "cell_type": "code",
   "execution_count": 125,
   "metadata": {},
   "outputs": [
    {
     "data": {
      "text/plain": [
       "<seaborn.axisgrid.FacetGrid at 0x7fdee74ea560>"
      ]
     },
     "execution_count": 125,
     "metadata": {},
     "output_type": "execute_result"
    },
    {
     "data": {
      "image/png": "[encoded data removed]",
      "text/plain": [
       "<Figure size 500x500 with 1 Axes>"
      ]
     },
     "metadata": {},
     "output_type": "display_data"
    }
   ],
   "source": [
    "# birht year\n",
    "seaborn.displot(df_races,\n",
    "                x=\"cyclist_age\",\n",
    "                kind=\"hist\",\n",
    "                row_order=\"desc\",\n",
    "                bins=378)"
   ]
  },
  {
   "cell_type": "code",
   "execution_count": 126,
   "metadata": {},
   "outputs": [
    {
     "data": {
      "text/plain": [
       "_url                      0\n",
       "name                      0\n",
       "points                  477\n",
       "uci_points           338779\n",
       "length                    0\n",
       "climb_total          147045\n",
       "profile              148194\n",
       "startlist_quality         0\n",
       "date                      0\n",
       "position                  0\n",
       "cyclist                   0\n",
       "cyclist_age               0\n",
       "is_tarmac                 0\n",
       "is_cobbled                0\n",
       "is_gravel                 0\n",
       "cyclist_team         159161\n",
       "delta                     0\n",
       "year                      0\n",
       "dtype: int64"
      ]
     },
     "execution_count": 126,
     "metadata": {},
     "output_type": "execute_result"
    }
   ],
   "source": [
    "df_races.isnull().sum() # zero missing value for age"
   ]
  },
  {
   "attachments": {},
   "cell_type": "markdown",
   "metadata": {},
   "source": [
    "### Impute climb total and profile together using race characteristics (race length, race type)."
   ]
  },
  {
   "attachments": {},
   "cell_type": "markdown",
   "metadata": {},
   "source": [
    "See distributions first"
   ]
  },
  {
   "cell_type": "code",
   "execution_count": 129,
   "metadata": {},
   "outputs": [
    {
     "data": {
      "image/png": "[encoded data removed]",
      "text/plain": [
       "<Figure size 640x480 with 1 Axes>"
      ]
     },
     "metadata": {},
     "output_type": "display_data"
    }
   ],
   "source": [
    "# Kernel Density Estimation\n",
    "seaborn.kdeplot(df_races[\"climb_total\"], fill=True, label=\"climb_total\")\n",
    "plt.show()"
   ]
  },
  {
   "cell_type": "code",
   "execution_count": 130,
   "metadata": {},
   "outputs": [
    {
     "data": {
      "text/plain": [
       "<seaborn.axisgrid.FacetGrid at 0x7fdec8a1f730>"
      ]
     },
     "execution_count": 130,
     "metadata": {},
     "output_type": "execute_result"
    },
    {
     "data": {
      "image/png": "[encoded data removed]",
      "text/plain": [
       "<Figure size 500x500 with 1 Axes>"
      ]
     },
     "metadata": {},
     "output_type": "display_data"
    }
   ],
   "source": [
    "seaborn.displot(df_races,\n",
    "                x=\"climb_total\",\n",
    "                kind=\"hist\",\n",
    "                row_order=\"desc\",\n",
    "                bins=30)"
   ]
  },
  {
   "cell_type": "code",
   "execution_count": 131,
   "metadata": {},
   "outputs": [
    {
     "data": {
      "text/plain": [
       "<seaborn.axisgrid.FacetGrid at 0x7fdee5d23880>"
      ]
     },
     "execution_count": 131,
     "metadata": {},
     "output_type": "execute_result"
    },
    {
     "data": {
      "image/png": "[encoded data removed]",
      "text/plain": [
       "<Figure size 500x500 with 1 Axes>"
      ]
     },
     "metadata": {},
     "output_type": "display_data"
    }
   ],
   "source": [
    "seaborn.displot(df_races,\n",
    "                x=\"profile\",\n",
    "                kind=\"hist\",\n",
    "                row_order=\"desc\",\n",
    "                bins=10)"
   ]
  },
  {
   "cell_type": "code",
   "execution_count": 134,
   "metadata": {},
   "outputs": [],
   "source": [
    "# compute for test differences after imputation\n",
    "climb_total_before_imputation = df_races['climb_total'].dropna().copy() "
   ]
  },
  {
   "attachments": {},
   "cell_type": "markdown",
   "metadata": {},
   "source": [
    "#### Reduce Skeweness"
   ]
  },
  {
   "cell_type": "code",
   "execution_count": 135,
   "metadata": {},
   "outputs": [
    {
     "data": {
      "text/plain": [
       "<seaborn.axisgrid.FacetGrid at 0x7fdee5c573a0>"
      ]
     },
     "execution_count": 135,
     "metadata": {},
     "output_type": "execute_result"
    },
    {
     "data": {
      "image/png": "[encoded data removed]",
      "text/plain": [
       "<Figure size 500x500 with 1 Axes>"
      ]
     },
     "metadata": {},
     "output_type": "display_data"
    }
   ],
   "source": [
    "# Apply Yeo-Johnson transformation to reduce skeweness --> OKAY\n",
    "pt = PowerTransformer(method='yeo-johnson')\n",
    "df_races['climb_total'] = pt.fit_transform(df_races[['climb_total']])\n",
    "\n",
    "#bins = sturges_bin_count(df_races[\"climb_total\"])\n",
    "seaborn.displot(df_races,\n",
    "            x=\"climb_total\",\n",
    "            kind=\"hist\",\n",
    "            row_order=\"desc\",\n",
    "            bins=30)"
   ]
  },
  {
   "attachments": {},
   "cell_type": "markdown",
   "metadata": {},
   "source": [
    "#### IterativeImputer with KNNRegressor"
   ]
  },
  {
   "cell_type": "code",
   "execution_count": 136,
   "metadata": {},
   "outputs": [
    {
     "name": "stdout",
     "output_type": "stream",
     "text": [
      "   climb_total  profile\n",
      "0    -0.823488      1.0\n",
      "1    -0.823488      1.0\n",
      "2    -0.823488      1.0\n",
      "3    -0.823488      1.0\n",
      "4    -0.823488      1.0\n"
     ]
    },
    {
     "data": {
      "image/png": "[encoded data removed]",
      "text/plain": [
       "<Figure size 500x500 with 1 Axes>"
      ]
     },
     "metadata": {},
     "output_type": "display_data"
    },
    {
     "data": {
      "image/png": "[encoded data removed]",
      "text/plain": [
       "<Figure size 500x500 with 1 Axes>"
      ]
     },
     "metadata": {},
     "output_type": "display_data"
    }
   ],
   "source": [
    "# Scale \n",
    "scaler = StandardScaler()\n",
    "df_races[['climb_total', 'profile', 'length']] = scaler.fit_transform(df_races[['climb_total', 'profile', 'length']])\n",
    "\n",
    "iterative_imputer = IterativeImputer(\n",
    "    estimator=KNeighborsRegressor(n_neighbors=3), # 3 is empirical, watching the distr after imputation\n",
    "    random_state=0,\n",
    "    max_iter=100,\n",
    "    sample_posterior=False\n",
    ")\n",
    "\n",
    "df_races[['climb_total', 'profile', 'length']] = iterative_imputer.fit_transform(df_races[['climb_total', 'profile', 'length']])\n",
    "\n",
    "# Inverse the standardization for 'climb_total' and 'profile'\n",
    "df_races[['climb_total', 'profile', 'length']] = scaler.inverse_transform(df_races[['climb_total', 'profile', 'length']])\n",
    "\n",
    "# Inverse the Yeo-Johnson transformation on 'climb_total'\n",
    "df_races['climb_total'] = pt.inverse_transform(df_races[['climb_total']])\n",
    "\n",
    "# Visualize the distributions of imputed 'climb_total' values\n",
    "#bins = sturges_bin_count(df_races[\"climb_total\"])\n",
    "#print(bins)\n",
    "seaborn.displot(df_races, x=\"climb_total\", kind=\"hist\", bins=30)\n",
    "\n",
    "# Visualize the distributions of imputed 'profile' values\n",
    "#bins_profile = sturges_bin_count(df_races[\"profile\"])\n",
    "seaborn.displot(df_races, x=\"profile\", kind=\"hist\", bins=10)\n",
    "\n",
    "# Display the updated DataFrame with both imputed columns\n",
    "print(df_races[['climb_total', 'profile']].head())\n"
   ]
  },
  {
   "cell_type": "code",
   "execution_count": null,
   "metadata": {},
   "outputs": [
    {
     "name": "stdout",
     "output_type": "stream",
     "text": [
      "\n",
      "KS Test: Statistic = 0.017918387885883402, p-value = 5.756696952611725e-71\n",
      "Very small difference in distribution, the imputed data closely matches the original distribution.\n"
     ]
    }
   ],
   "source": [
    "climb_total_after_imputation = df_races['climb_total']\n",
    "\n",
    "test_before_after_distribution(climb_total_before_imputation, climb_total_after_imputation)"
   ]
  },
  {
   "cell_type": "code",
   "execution_count": 138,
   "metadata": {},
   "outputs": [
    {
     "data": {
      "text/plain": [
       "_url                      0\n",
       "name                      0\n",
       "points                  477\n",
       "uci_points           338779\n",
       "length                    0\n",
       "climb_total               0\n",
       "profile                   0\n",
       "startlist_quality         0\n",
       "date                      0\n",
       "position                  0\n",
       "cyclist                   0\n",
       "cyclist_age               0\n",
       "is_tarmac                 0\n",
       "is_cobbled                0\n",
       "is_gravel                 0\n",
       "cyclist_team         159161\n",
       "delta                     0\n",
       "year                      0\n",
       "dtype: int64"
      ]
     },
     "execution_count": 138,
     "metadata": {},
     "output_type": "execute_result"
    }
   ],
   "source": [
    "df_races.isnull().sum()"
   ]
  },
  {
   "attachments": {},
   "cell_type": "markdown",
   "metadata": {},
   "source": [
    "### Points "
   ]
  },
  {
   "attachments": {},
   "cell_type": "markdown",
   "metadata": {},
   "source": [
    "Points depends on the stage and the year, not on the name and the year. In different years, there are equal races with different points --> so we checked if this could depend from the stage (_url) --> YES"
   ]
  },
  {
   "cell_type": "code",
   "execution_count": 139,
   "metadata": {},
   "outputs": [
    {
     "data": {
      "text/plain": [
       "year  name                 \n",
       "1999  Tour de France           2\n",
       "2000  Tour de France           2\n",
       "2001  Tour de France           2\n",
       "2002  Giro d'Italia            2\n",
       "      Tour de France           2\n",
       "2003  Tour de France           2\n",
       "2004  Tour de France           2\n",
       "      Vuelta a Espana          2\n",
       "2005  Criterium du Dauphine    2\n",
       "      Giro d'Italia            2\n",
       "      Tour de France           3\n",
       "      Tour de Suisse           2\n",
       "      Vuelta a Espana          2\n",
       "2006  Criterium du Dauphine    3\n",
       "      Giro d'Italia            2\n",
       "      Tirreno-Adriatico        2\n",
       "      Tour de Suisse           2\n",
       "2008  Paris - Nice             2\n",
       "      Tirreno-Adriatico        2\n",
       "2009  Giro d'Italia            3\n",
       "Name: points, dtype: int64"
      ]
     },
     "execution_count": 139,
     "metadata": {},
     "output_type": "execute_result"
    }
   ],
   "source": [
    "# check if points depends by year and name\n",
    "tmp_df = tmp_df = pd.DataFrame({\n",
    "    '_url': df_races['_url'],\n",
    "    'name': df_races['name'],\n",
    "    'year': df_races['date'].dt.year,\n",
    "    'points': df_races['points'],\n",
    "    'uci_points': df_races['uci_points']\n",
    "})\n",
    "\n",
    "n_points = tmp_df.groupby(['year', 'name'])['points'].nunique()\n",
    "n_points = n_points[n_points > 1]\n",
    "n_points"
   ]
  },
  {
   "cell_type": "code",
   "execution_count": 140,
   "metadata": {},
   "outputs": [
    {
     "data": {
      "text/plain": [
       "Series([], Name: points, dtype: int64)"
      ]
     },
     "execution_count": 140,
     "metadata": {},
     "output_type": "execute_result"
    }
   ],
   "source": [
    "# check if points depends on stage and year\n",
    "n_points = tmp_df.groupby(['name', '_url'])['points'].nunique()\n",
    "n_points = n_points[n_points > 1]\n",
    "n_points"
   ]
  },
  {
   "cell_type": "code",
   "execution_count": null,
   "metadata": {},
   "outputs": [],
   "source": [
    "# Compute for testing after imputation\n",
    "points_before_imputation = df_races['points'].dropna().copy()"
   ]
  },
  {
   "cell_type": "code",
   "execution_count": 142,
   "metadata": {},
   "outputs": [
    {
     "data": {
      "image/png": "[encoded data removed]",
      "text/plain": [
       "<Figure size 640x480 with 1 Axes>"
      ]
     },
     "metadata": {},
     "output_type": "display_data"
    }
   ],
   "source": [
    "# Kernel Density Estimation\n",
    "seaborn.kdeplot(df_races[\"points\"], fill=True, label=\"points\")\n",
    "plt.show()"
   ]
  },
  {
   "cell_type": "code",
   "execution_count": 143,
   "metadata": {},
   "outputs": [
    {
     "data": {
      "text/plain": [
       "<seaborn.axisgrid.FacetGrid at 0x7fdee65e7fa0>"
      ]
     },
     "execution_count": 143,
     "metadata": {},
     "output_type": "execute_result"
    },
    {
     "data": {
      "image/png": "[encoded data removed]",
      "text/plain": [
       "<Figure size 500x500 with 1 Axes>"
      ]
     },
     "metadata": {},
     "output_type": "display_data"
    }
   ],
   "source": [
    "seaborn.displot(df_races,\n",
    "            x=\"points\",\n",
    "            kind=\"hist\",\n",
    "            row_order=\"desc\",\n",
    "            bins=15)"
   ]
  },
  {
   "attachments": {},
   "cell_type": "markdown",
   "metadata": {},
   "source": [
    "Visual Inspection by Race Type or Category:\n",
    "Since the distribution of points might vary significantly depending on factors like the race type, UCI points, and startlist quality, you should break down the data by these categories and examine how the imputed values behave within each subgroup. You can:\n",
    "* Plot histograms or density plots of the points within each race type or profile (e.g., flat, mountainous, high mountains) before and after imputation.\n",
    "    * If the imputation is reasonable, the general shape of the distribution within each subgroup should remain similar, with the imputed values filling gaps without significantly changing the overall patterns.\n"
   ]
  },
  {
   "cell_type": "code",
   "execution_count": 144,
   "metadata": {},
   "outputs": [
    {
     "data": {
      "text/plain": [
       "18.0"
      ]
     },
     "execution_count": 144,
     "metadata": {},
     "output_type": "execute_result"
    }
   ],
   "source": [
    "# Get minimum value of points to set on iterative imputer\n",
    "min_point = df_races[\"points\"].min()\n",
    "min_point"
   ]
  },
  {
   "cell_type": "code",
   "execution_count": 145,
   "metadata": {},
   "outputs": [
    {
     "data": {
      "image/png": "[encoded data removed]",
      "text/plain": [
       "<Figure size 640x480 with 1 Axes>"
      ]
     },
     "metadata": {},
     "output_type": "display_data"
    }
   ],
   "source": [
    "# Plot points distribution by race type (before imputation)\n",
    "seaborn.histplot(data=df_races[df_races['points'].notnull()], x='points', hue='profile', kde=True)\n",
    "plt.title(\"Distribution of Points by Race Profile (Before Imputation)\")\n",
    "plt.show()"
   ]
  },
  {
   "attachments": {},
   "cell_type": "markdown",
   "metadata": {},
   "source": [
    "Key Insights:\n",
    "\n",
    "Distinct Point Clusters: Points seem to be distributed in specific clusters, with high counts around common point values (like 50, 100, 250). This suggests that points are often assigned in a standardized or tiered way, possibly based on the race type or prestige.\n",
    "\n",
    "Race Profile Overlap: The different profiles (1.0 to 5.0) have significant overlap in point assignments. This means that, while some races may differ in difficulty or profile, they still frequently assign similar points.\n",
    "\n",
    "High Peaks Around Standard Point Values: The peaks at specific values (like 50 and 100) are pronounced, showing that many races, regardless of profile, frequently assign these point values."
   ]
  },
  {
   "cell_type": "code",
   "execution_count": 146,
   "metadata": {},
   "outputs": [
    {
     "data": {
      "image/png": "[encoded data removed]",
      "text/plain": [
       "<Figure size 1000x800 with 2 Axes>"
      ]
     },
     "metadata": {},
     "output_type": "display_data"
    }
   ],
   "source": [
    "# check correlation before \n",
    "# Large shifts in correlation after imputation could indicate that the imputed values \n",
    "# deviate from the underlying relationships that exist in the data.\n",
    "df_correlation = df_races[['uci_points', 'points', 'startlist_quality', 'profile']].copy()\n",
    "corr_before = df_correlation[df_correlation['points'].notnull()].corr()\n",
    "\n",
    "# Plot the correlation matrix as a heatmap\n",
    "plt.figure(figsize=(10, 8))\n",
    "seaborn.heatmap(corr_before, annot=True, cmap='coolwarm', vmin=-1, vmax=1, fmt=\".2f\")\n",
    "plt.title(\"Correlation Matrix before imputation\")\n",
    "plt.show()"
   ]
  },
  {
   "attachments": {},
   "cell_type": "markdown",
   "metadata": {},
   "source": [
    "#### BayesianRidge"
   ]
  },
  {
   "cell_type": "code",
   "execution_count": null,
   "metadata": {},
   "outputs": [],
   "source": [
    "# Encode url with categorical encoding\n",
    "label_encoder = LabelEncoder()\n",
    "df_races['_url'] = label_encoder.fit_transform(df_races['_url'])\n",
    "\n",
    "# Scale the data\n",
    "scaler = StandardScaler()\n",
    "df_races[['points', 'year']] = scaler.fit_transform(df_races[['points', 'year']])\n",
    "\n",
    "columns_to_impute = ['points', '_url', 'year']\n",
    "\n",
    "# Create a copy of the DataFrame for imputation while retaining all rows\n",
    "df_no_nan = df_races.copy()\n",
    "\n",
    "# Artificially mask some known values for testing\n",
    "# Select non-null values to mask\n",
    "known_points = df_no_nan['points'].notna()\n",
    "points_non_null = df_no_nan.loc[known_points, 'points'].copy()\n",
    "mask_fraction = 0.2  # Percentage of points to mask\n",
    "mask_size = int(mask_fraction * len(points_non_null))\n",
    "mask_indices = np.random.choice(points_non_null.index, mask_size, replace=False)\n",
    "\n",
    "# Store the original values for error calculation\n",
    "original_values = df_no_nan.loc[mask_indices, 'points'].copy()\n",
    "\n",
    "# Mask the selected points\n",
    "df_no_nan.loc[mask_indices, 'points'] = np.nan\n",
    "\n",
    "\n",
    "# Define parameter grids\n",
    "# Test different hyperparameter values for Bayesian Ridge\n",
    "alpha_values = [1e-7, 1e-6, 1e-5, 1e-4] # regularization\n",
    "max_iter_values = [50, 100, 200, 300]  # Maximum number of iterations\n",
    "tol_values = [1e-4, 1e-3, 1e-2]  # Tolerance levels for convergence\n",
    "\n",
    "# Dictionary to store errors for each parameter combination\n",
    "errors = {}\n",
    "\n",
    "# Iterate over all combinations of max_iter, tol, alpha_1, and alpha_2\n",
    "for max_iter in max_iter_values:\n",
    "    for tol in tol_values:\n",
    "        for alpha_1 in alpha_values:\n",
    "            for alpha_2 in alpha_values:\n",
    "                # Initialize the IterativeImputer with BayesianRidge and current hyperparameters\n",
    "                imputer = IterativeImputer(\n",
    "                    estimator=BayesianRidge(max_iter=max_iter, tol=tol, alpha_1=alpha_1, alpha_2=alpha_2),\n",
    "                    random_state=0,\n",
    "                    min_value=min_point,\n",
    "                    sample_posterior=True\n",
    "                )\n",
    "                \n",
    "                # Fit and transform only on the copy with artificially masked values\n",
    "                imputed_data = imputer.fit_transform(df_no_nan[columns_to_impute])\n",
    "                df_imputed = pd.DataFrame(imputed_data, columns=columns_to_impute, index=df_no_nan.index)\n",
    "                \n",
    "                # Calculate error only on the masked points using the original values\n",
    "                error = mean_squared_error(original_values, df_imputed.loc[mask_indices, 'points'])\n",
    "                errors[(max_iter, tol, alpha_1, alpha_2)] = error\n",
    "\n",
    "# Select the optimal parameters based on minimum error\n",
    "optimal_params = min(errors, key=errors.get)\n",
    "optimal_max_iter, optimal_tol, optimal_alpha_1, optimal_alpha_2 = optimal_params\n",
    "\n",
    "# Display optimal parameters and associated error\n",
    "print(f\"Optimal parameters:\")\n",
    "print(f\"max_iter={optimal_max_iter}, tol={optimal_tol}, alpha_1={optimal_alpha_1}, alpha_2={optimal_alpha_2}\")\n",
    "print(f\"Minimum error: {errors[optimal_params]}\")\n",
    "\n",
    "# Perform final imputation on the original DataFrame with the selected parameters\n",
    "final_imputer = IterativeImputer(\n",
    "    estimator=BayesianRidge(max_iter=optimal_max_iter, tol=optimal_tol, alpha_1=optimal_alpha_1, alpha_2=optimal_alpha_2),\n",
    "    random_state=0,\n",
    "    min_value=min_point,\n",
    "    sample_posterior=True\n",
    ")\n",
    "\n",
    "# Fit and transform the original DataFrame, which includes real missing values\n",
    "df_races[columns_to_impute] = final_imputer.fit_transform(df_races[columns_to_impute])\n",
    "\n",
    "# Inverse the standardization\n",
    "df_races[['points', 'year']] = scaler.inverse_transform(df_races[['points', 'year']])\n",
    "\n",
    "df_races['_url'] = df_races['_url'].round().astype(int)\n",
    "\n",
    "# Inverse label encoding\n",
    "df_races['_url'] = label_encoder.inverse_transform(df_races['_url'])\n",
    "\n",
    "# Output the optimal parameters and final imputed DataFrame\n",
    "print(f\"Final imputation complete with optimal parameters.\")"
   ]
  },
  {
   "attachments": {},
   "cell_type": "markdown",
   "metadata": {},
   "source": [
    "The points are very few with respect to the total, so also this method results in roughly the same result"
   ]
  },
  {
   "cell_type": "code",
   "execution_count": null,
   "metadata": {},
   "outputs": [],
   "source": [
    "seaborn.displot(df_races,\n",
    "            x=\"points\",\n",
    "            kind=\"hist\",\n",
    "            row_order=\"desc\",\n",
    "            bins=30)"
   ]
  },
  {
   "cell_type": "code",
   "execution_count": null,
   "metadata": {},
   "outputs": [],
   "source": [
    "# Plot points distribution by race type (after imputation)\n",
    "seaborn.histplot(data=df_races[df_races['points'].notnull()], x='points', hue='profile', kde=True)\n",
    "plt.title(\"Distribution of Points by Race Profile (After Imputation)\")\n",
    "plt.show()"
   ]
  },
  {
   "cell_type": "code",
   "execution_count": null,
   "metadata": {},
   "outputs": [],
   "source": [
    "# check correlation after\n",
    "df_correlation_after = df_races[['uci_points', 'points', 'startlist_quality', 'profile', 'position']].copy()\n",
    "corr_after = df_correlation_after[df_correlation_after['points'].notnull()].corr()\n",
    "\n",
    "# Plot the correlation matrix as a heatmap\n",
    "plt.figure(figsize=(10, 8))\n",
    "seaborn.heatmap(corr_after, annot=True, cmap='coolwarm', vmin=-1, vmax=1, fmt=\".2f\")\n",
    "plt.title(\"Correlation Matrix after imputation\")\n",
    "plt.show()"
   ]
  },
  {
   "cell_type": "code",
   "execution_count": null,
   "metadata": {},
   "outputs": [],
   "source": [
    "# Kolmogorov-Smirnov Test\n",
    "\n",
    "points_after_imputation = df_races['points']\n",
    "\n",
    "test_before_after_distribution(points_before_imputation, points_after_imputation)"
   ]
  },
  {
   "attachments": {},
   "cell_type": "markdown",
   "metadata": {},
   "source": [
    "Probably 477 missing points on about 500000 yelds a p value of 1, since visually thee distribution is preserved"
   ]
  },
  {
   "cell_type": "code",
   "execution_count": null,
   "metadata": {},
   "outputs": [],
   "source": [
    "df_races.isnull().sum()"
   ]
  },
  {
   "attachments": {},
   "cell_type": "markdown",
   "metadata": {},
   "source": [
    "### UCI Points\n",
    "We can now use points in the imputations since they have no more missing values left -> they are higly correlated so it makes sense"
   ]
  },
  {
   "cell_type": "code",
   "execution_count": null,
   "metadata": {},
   "outputs": [],
   "source": [
    "# Kernel Density Estimation UCI POINTS\n",
    "seaborn.kdeplot(df_races[\"uci_points\"], fill=True, label=\"uci_points\")\n",
    "plt.show()"
   ]
  },
  {
   "cell_type": "code",
   "execution_count": null,
   "metadata": {},
   "outputs": [],
   "source": [
    "seaborn.displot(df_races,\n",
    "            x=\"uci_points\",\n",
    "            kind=\"hist\",\n",
    "            row_order=\"desc\",\n",
    "            bins=15)"
   ]
  },
  {
   "cell_type": "code",
   "execution_count": null,
   "metadata": {},
   "outputs": [],
   "source": [
    "# Compute for testing after imputation\n",
    "uci_points_before_imputation = df_races['uci_points'].dropna().copy()\n",
    "\n",
    "# look at general statistics to compare\n",
    "original_stats = df_races[df_races['uci_points'].notnull()]['uci_points'].describe()\n",
    "original_stats"
   ]
  },
  {
   "attachments": {},
   "cell_type": "markdown",
   "metadata": {},
   "source": [
    "#### Select best K and impute KNNRegressor"
   ]
  },
  {
   "cell_type": "code",
   "execution_count": null,
   "metadata": {},
   "outputs": [],
   "source": [
    "# Scale the data\n",
    "scaler = StandardScaler()\n",
    "columns_to_scale = ['uci_points', 'points', 'startlist_quality', 'profile'] # use also points in the imputation\n",
    "df_races[columns_to_scale] = scaler.fit_transform(df_races[columns_to_scale])\n",
    "\n",
    "# Create a copy of the DataFrame for imputation while retaining all rows\n",
    "df_no_nan = df_races.copy()\n",
    "\n",
    "# Artificially mask some known values for testing\n",
    "# Select non-null values to mask\n",
    "known_points = df_no_nan['uci_points'].notna()\n",
    "points_non_null = df_no_nan.loc[known_points, 'uci_points'].copy()\n",
    "mask_fraction = 0.2  # Percentage of uci_points to mask\n",
    "mask_size = int(mask_fraction * len(points_non_null))\n",
    "mask_indices = np.random.choice(points_non_null.index, mask_size, replace=False)\n",
    "\n",
    "# Store the original values for error calculation\n",
    "original_values = df_no_nan.loc[mask_indices, 'uci_points'].copy()\n",
    "\n",
    "# Mask the selected uci_points\n",
    "df_no_nan.loc[mask_indices, 'uci_points'] = np.nan\n",
    "\n",
    "# Test different k values for the imputer\n",
    "k_values = [3,5,7,15,20]\n",
    "weights_options = ['uniform', 'distance'] \n",
    "algorithms = ['auto', 'ball_tree', 'kd_tree', 'brute']\n",
    "\n",
    "errors = {}\n",
    "\n",
    "for k in k_values:\n",
    "    for weight in weights_options:\n",
    "        for algo in algorithms:\n",
    "            # Initialize the imputer with the current k, weights, and algorithm\n",
    "            imputer = IterativeImputer(\n",
    "                estimator=KNeighborsRegressor(n_neighbors=k, weights=weight, algorithm=algo),\n",
    "                random_state=0,\n",
    "                max_iter=100\n",
    "            )\n",
    "            \n",
    "            # Fit and transform only on the copy with artificially masked values\n",
    "            imputed_data = imputer.fit_transform(df_no_nan[columns_to_scale])\n",
    "            df_imputed = pd.DataFrame(imputed_data, columns=columns_to_scale, index=df_no_nan.index)\n",
    "            \n",
    "            # Calculate error only on the masked points using the original values\n",
    "            error = mean_squared_error(original_values, df_imputed.loc[mask_indices, 'uci_points'])\n",
    "            errors[(k, weight, algo)] = error\n",
    "\n",
    "# Select the optimal parameters based on minimum error\n",
    "optimal_params = min(errors, key=errors.get)\n",
    "optimal_k, optimal_weight, optimal_algo = optimal_params\n",
    "\n",
    "# Perform final imputation on the original DataFrame with the selected k\n",
    "final_imputer = IterativeImputer(\n",
    "    estimator=KNeighborsRegressor(n_neighbors=optimal_k, weights=optimal_weight, algorithm=optimal_algo),\n",
    "    random_state=0,\n",
    "    max_iter=100\n",
    ")\n",
    "\n",
    "# Fit and transform the original DataFrame, which includes real missing values\n",
    "df_races[columns_to_scale] = final_imputer.fit_transform(df_races[columns_to_scale])\n",
    "\n",
    "# Inverse the standardization\n",
    "df_races[columns_to_scale] = scaler.inverse_transform(df_races[columns_to_scale])\n",
    "\n",
    "# Output the optimal k and final imputed DataFrame\n",
    "print(f\"Optimal k: {optimal_k}, Optimal weights: '{optimal_weight}', Optimal algorithm: '{optimal_algo}'\")\n"
   ]
  },
  {
   "cell_type": "code",
   "execution_count": null,
   "metadata": {},
   "outputs": [],
   "source": [
    "seaborn.displot(df_races,\n",
    "            x=\"uci_points\",\n",
    "            kind=\"hist\",\n",
    "            row_order=\"desc\",\n",
    "            bins=15)"
   ]
  },
  {
   "cell_type": "code",
   "execution_count": null,
   "metadata": {},
   "outputs": [],
   "source": [
    "# check stats after imputation (outlier induce error on max min maybe ??)\n",
    "imputed_stats = df_races['uci_points'].describe()\n",
    "imputed_stats"
   ]
  },
  {
   "cell_type": "code",
   "execution_count": null,
   "metadata": {},
   "outputs": [],
   "source": [
    "# Kolmogorov-Smirnov Test\n",
    "\n",
    "uci_points_after_imputation = df_races['uci_points']\n",
    "\n",
    "test_before_after_distribution(uci_points_before_imputation, uci_points_after_imputation)"
   ]
  },
  {
   "attachments": {},
   "cell_type": "markdown",
   "metadata": {},
   "source": [
    "A p value of 0 could be justyfied with large sample size and missing value counts (about 70% over the total). So the difference in the actual distribution are not too much, but the statistics obviously sufferf major change because we addes some more values"
   ]
  },
  {
   "cell_type": "code",
   "execution_count": null,
   "metadata": {},
   "outputs": [],
   "source": [
    "df_races.isnull().sum()"
   ]
  },
  {
   "attachments": {},
   "cell_type": "markdown",
   "metadata": {},
   "source": [
    "### Cyclist team"
   ]
  },
  {
   "attachments": {},
   "cell_type": "markdown",
   "metadata": {},
   "source": [
    "To impute the missing cyclist_team attribute, the following features can be most helpful for prediction:\n",
    "\n",
    "Name: Certain teams might specialize in specific races or are more likely to be represented in certain high-prestige races (e.g., Tour de France).\n",
    "Points and Alternative Points: High-point races may attract specific teams with a strong track record or history in those races.\n",
    "Total Meters Climbed and Race Profile: Teams often have rosters built for specific types of races (e.g., flat vs. mountainous); some teams are known for having climbers while others specialize in flat stages.\n",
    "Is_X: Certain teams have cyclists skilled in specific race types (e.g., gravel races).\n",
    "Startlist Quality: This indicates the general level of competition, which could correlate with specific high-ranking teams present in more competitive races."
   ]
  },
  {
   "cell_type": "code",
   "execution_count": null,
   "metadata": {},
   "outputs": [],
   "source": [
    "df_races[\"cyclist_team\"].describe()"
   ]
  },
  {
   "cell_type": "code",
   "execution_count": null,
   "metadata": {},
   "outputs": [],
   "source": [
    "# Calculate distribution before imputation\n",
    "before_imputation_dist = df_races['cyclist_team'].value_counts(normalize=True)\n",
    "\n",
    "# Compute for testing after imputation\n",
    "cyclist_team_before_imputation = df_races['cyclist_team'].dropna().copy()"
   ]
  },
  {
   "cell_type": "code",
   "execution_count": null,
   "metadata": {},
   "outputs": [],
   "source": [
    "plt.figure(figsize=(12, 6))\n",
    "plt.subplot(1, 2, 1)\n",
    "before_imputation_dist.plot(kind='bar', color='skyblue')\n",
    "plt.title(\"Distribution Before Imputation\")\n",
    "plt.ylabel(\"Frequency\")"
   ]
  },
  {
   "attachments": {},
   "cell_type": "markdown",
   "metadata": {},
   "source": [
    "#### Set values to Nan because of string poblem"
   ]
  },
  {
   "cell_type": "code",
   "execution_count": null,
   "metadata": {},
   "outputs": [],
   "source": [
    "df_races[[\"cyclist_team\"]].head() # NaN calues are set to --> None\n",
    "# convert them\n",
    "df_races[\"cyclist_team\"] = df_races[\"cyclist_team\"].replace({None: np.nan})"
   ]
  },
  {
   "cell_type": "code",
   "execution_count": null,
   "metadata": {},
   "outputs": [],
   "source": [
    "df_races[\"cyclist_team\"]"
   ]
  },
  {
   "attachments": {},
   "cell_type": "markdown",
   "metadata": {},
   "source": [
    "#### Random imputing based on original distribution (Best)\n",
    "If teams have Team A = 60%, Team B = 30%, Team C = 10% --> For each missing value in cyclist_team, the random imputer would Assign Team A 60% of the time, Team B 30% of the time, Team C 10% of the time."
   ]
  },
  {
   "cell_type": "code",
   "execution_count": null,
   "metadata": {},
   "outputs": [],
   "source": [
    "# Get the value counts of the original non-missing values in cyclist_team\n",
    "original_distribution = df_races['cyclist_team'].value_counts(normalize=True)\n",
    "\n",
    "# Fill missing values by sampling from the original distribution\n",
    "df_races['cyclist_team'] = df_races['cyclist_team'].apply(\n",
    "    lambda x: np.random.choice(original_distribution.index, p=original_distribution.values) if pd.isnull(x) else x\n",
    ")"
   ]
  },
  {
   "cell_type": "code",
   "execution_count": null,
   "metadata": {},
   "outputs": [],
   "source": [
    "df_races.isnull().sum()"
   ]
  },
  {
   "cell_type": "code",
   "execution_count": null,
   "metadata": {},
   "outputs": [],
   "source": [
    "# Calculate distribution after imputation\n",
    "after_imputation_dist = df_races['cyclist_team'].value_counts(normalize=True)\n",
    "\n",
    "plt.figure(figsize=(12, 6))\n",
    "plt.subplot(1, 2, 1)\n",
    "after_imputation_dist.plot(kind='bar', color='skyblue')\n",
    "plt.title(\"Distribution After Imputation\")\n",
    "plt.ylabel(\"Frequency\")"
   ]
  },
  {
   "cell_type": "code",
   "execution_count": null,
   "metadata": {},
   "outputs": [],
   "source": [
    "cyclist_team_after_imputation = df_races['cyclist_team']\n",
    "\n",
    "test_before_after_distribution(cyclist_team_before_imputation, cyclist_team_after_imputation)   "
   ]
  },
  {
   "attachments": {},
   "cell_type": "markdown",
   "metadata": {},
   "source": [
    "## Saving dataframes without missing values"
   ]
  },
  {
   "cell_type": "code",
   "execution_count": null,
   "metadata": {},
   "outputs": [],
   "source": [
    "# Races\n",
    "#df_races.to_csv('df_races_no_missing.csv', index=False)\n",
    "\n",
    "# Cyclists\n",
    "#df_cyclists.to_csv('df_cyclists_no_missing.csv', index=False)"
   ]
  }
 ],
 "metadata": {
  "kernelspec": {
   "display_name": "Python 3",
   "language": "python",
   "name": "python3"
  },
  "language_info": {
   "codemirror_mode": {
    "name": "ipython",
    "version": 3
   },
   "file_extension": ".py",
   "mimetype": "text/x-python",
   "name": "python",
   "nbconvert_exporter": "python",
   "pygments_lexer": "ipython3",
   "version": "3.10.12"
  },
  "orig_nbformat": 4
 },
 "nbformat": 4,
 "nbformat_minor": 2
}
