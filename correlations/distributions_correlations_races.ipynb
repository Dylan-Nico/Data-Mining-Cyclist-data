{
 "cells": [
  {
   "cell_type": "markdown",
   "metadata": {},
   "source": [
    "### Importazione librerie e caricamento dataset"
   ]
  },
  {
   "cell_type": "code",
   "execution_count": 6,
   "metadata": {},
   "outputs": [],
   "source": [
    "import pandas as pd\n",
    "import seaborn as sns\n",
    "import matplotlib.pyplot as plt\n",
    "from sklearn.preprocessing import MinMaxScaler, StandardScaler"
   ]
  },
  {
   "cell_type": "code",
   "execution_count": null,
   "metadata": {},
   "outputs": [
    {
     "name": "stdout",
     "output_type": "stream",
     "text": [
      "\n",
      "Valori duplicati:\n",
      " 0\n",
      "\n",
      "Valori mancanti:\n",
      " _url                 0\n",
      "name                 0\n",
      "points               0\n",
      "uci_points           0\n",
      "length               0\n",
      "climb_total          0\n",
      "profile              0\n",
      "startlist_quality    0\n",
      "date                 0\n",
      "position             0\n",
      "cyclist              0\n",
      "cyclist_age          0\n",
      "is_tarmac            0\n",
      "is_cobbled           0\n",
      "is_gravel            0\n",
      "delta                0\n",
      "dtype: int64\n"
     ]
    }
   ],
   "source": [
    "df = pd.read_csv('../dataset/races_no_missing.csv')\n",
    "\n",
    "# pulizia dati\n",
    "\n",
    "print(\"\\nValori duplicati:\\n\", df.duplicated().sum())\n",
    "\n",
    "df = df.drop(columns=['cyclist_team'])\n",
    "\n",
    "# Numero missing values\n",
    "print(\"\\nValori mancanti:\\n\", df.isnull().sum())\n"
   ]
  },
  {
   "cell_type": "markdown",
   "metadata": {},
   "source": [
    "### Informazioni statistiche di base"
   ]
  },
  {
   "cell_type": "code",
   "execution_count": 9,
   "metadata": {},
   "outputs": [
    {
     "data": {
      "text/html": [
       "<div>\n",
       "<style scoped>\n",
       "    .dataframe tbody tr th:only-of-type {\n",
       "        vertical-align: middle;\n",
       "    }\n",
       "\n",
       "    .dataframe tbody tr th {\n",
       "        vertical-align: top;\n",
       "    }\n",
       "\n",
       "    .dataframe thead th {\n",
       "        text-align: right;\n",
       "    }\n",
       "</style>\n",
       "<table border=\"1\" class=\"dataframe\">\n",
       "  <thead>\n",
       "    <tr style=\"text-align: right;\">\n",
       "      <th></th>\n",
       "      <th>points</th>\n",
       "      <th>uci_points</th>\n",
       "      <th>length</th>\n",
       "      <th>climb_total</th>\n",
       "      <th>profile</th>\n",
       "      <th>startlist_quality</th>\n",
       "      <th>position</th>\n",
       "      <th>cyclist_age</th>\n",
       "      <th>delta</th>\n",
       "    </tr>\n",
       "  </thead>\n",
       "  <tbody>\n",
       "    <tr>\n",
       "      <th>count</th>\n",
       "      <td>589813.000000</td>\n",
       "      <td>589813.000000</td>\n",
       "      <td>589813.000000</td>\n",
       "      <td>589813.000000</td>\n",
       "      <td>589813.000000</td>\n",
       "      <td>589813.000000</td>\n",
       "      <td>589813.000000</td>\n",
       "      <td>589813.000000</td>\n",
       "      <td>589813.000000</td>\n",
       "    </tr>\n",
       "    <tr>\n",
       "      <th>mean</th>\n",
       "      <td>89.224427</td>\n",
       "      <td>90.017187</td>\n",
       "      <td>166776.292588</td>\n",
       "      <td>2298.614790</td>\n",
       "      <td>2.555159</td>\n",
       "      <td>1101.181919</td>\n",
       "      <td>74.217672</td>\n",
       "      <td>28.484552</td>\n",
       "      <td>418.264796</td>\n",
       "    </tr>\n",
       "    <tr>\n",
       "      <th>std</th>\n",
       "      <td>54.436091</td>\n",
       "      <td>124.261699</td>\n",
       "      <td>64546.251640</td>\n",
       "      <td>1365.431706</td>\n",
       "      <td>1.468140</td>\n",
       "      <td>380.594833</td>\n",
       "      <td>48.404528</td>\n",
       "      <td>3.859066</td>\n",
       "      <td>842.971505</td>\n",
       "    </tr>\n",
       "    <tr>\n",
       "      <th>min</th>\n",
       "      <td>-59.911402</td>\n",
       "      <td>6.000000</td>\n",
       "      <td>1000.000000</td>\n",
       "      <td>2.000000</td>\n",
       "      <td>1.000000</td>\n",
       "      <td>115.000000</td>\n",
       "      <td>0.000000</td>\n",
       "      <td>11.000000</td>\n",
       "      <td>-6906.000000</td>\n",
       "    </tr>\n",
       "    <tr>\n",
       "      <th>25%</th>\n",
       "      <td>50.000000</td>\n",
       "      <td>16.000000</td>\n",
       "      <td>152500.000000</td>\n",
       "      <td>1280.000000</td>\n",
       "      <td>1.000000</td>\n",
       "      <td>844.000000</td>\n",
       "      <td>32.000000</td>\n",
       "      <td>26.000000</td>\n",
       "      <td>10.000000</td>\n",
       "    </tr>\n",
       "    <tr>\n",
       "      <th>50%</th>\n",
       "      <td>80.000000</td>\n",
       "      <td>60.000000</td>\n",
       "      <td>178200.000000</td>\n",
       "      <td>2240.000000</td>\n",
       "      <td>2.000000</td>\n",
       "      <td>988.000000</td>\n",
       "      <td>70.000000</td>\n",
       "      <td>28.000000</td>\n",
       "      <td>156.000000</td>\n",
       "    </tr>\n",
       "    <tr>\n",
       "      <th>75%</th>\n",
       "      <td>100.000000</td>\n",
       "      <td>100.000000</td>\n",
       "      <td>203500.000000</td>\n",
       "      <td>3263.000000</td>\n",
       "      <td>4.000000</td>\n",
       "      <td>1309.000000</td>\n",
       "      <td>112.000000</td>\n",
       "      <td>31.000000</td>\n",
       "      <td>624.000000</td>\n",
       "    </tr>\n",
       "    <tr>\n",
       "      <th>max</th>\n",
       "      <td>350.000000</td>\n",
       "      <td>800.000000</td>\n",
       "      <td>338000.000000</td>\n",
       "      <td>6974.000000</td>\n",
       "      <td>5.000000</td>\n",
       "      <td>2047.000000</td>\n",
       "      <td>209.000000</td>\n",
       "      <td>56.000000</td>\n",
       "      <td>61547.000000</td>\n",
       "    </tr>\n",
       "  </tbody>\n",
       "</table>\n",
       "</div>"
      ],
      "text/plain": [
       "              points     uci_points         length    climb_total  \\\n",
       "count  589813.000000  589813.000000  589813.000000  589813.000000   \n",
       "mean       89.224427      90.017187  166776.292588    2298.614790   \n",
       "std        54.436091     124.261699   64546.251640    1365.431706   \n",
       "min       -59.911402       6.000000    1000.000000       2.000000   \n",
       "25%        50.000000      16.000000  152500.000000    1280.000000   \n",
       "50%        80.000000      60.000000  178200.000000    2240.000000   \n",
       "75%       100.000000     100.000000  203500.000000    3263.000000   \n",
       "max       350.000000     800.000000  338000.000000    6974.000000   \n",
       "\n",
       "             profile  startlist_quality       position    cyclist_age  \\\n",
       "count  589813.000000      589813.000000  589813.000000  589813.000000   \n",
       "mean        2.555159        1101.181919      74.217672      28.484552   \n",
       "std         1.468140         380.594833      48.404528       3.859066   \n",
       "min         1.000000         115.000000       0.000000      11.000000   \n",
       "25%         1.000000         844.000000      32.000000      26.000000   \n",
       "50%         2.000000         988.000000      70.000000      28.000000   \n",
       "75%         4.000000        1309.000000     112.000000      31.000000   \n",
       "max         5.000000        2047.000000     209.000000      56.000000   \n",
       "\n",
       "               delta  \n",
       "count  589813.000000  \n",
       "mean      418.264796  \n",
       "std       842.971505  \n",
       "min     -6906.000000  \n",
       "25%        10.000000  \n",
       "50%       156.000000  \n",
       "75%       624.000000  \n",
       "max     61547.000000  "
      ]
     },
     "execution_count": 9,
     "metadata": {},
     "output_type": "execute_result"
    }
   ],
   "source": [
    "df.describe()"
   ]
  },
  {
   "cell_type": "code",
   "execution_count": null,
   "metadata": {},
   "outputs": [
    {
     "name": "stdout",
     "output_type": "stream",
     "text": [
      "Colonne con valori negativi:\n",
      "points    True\n",
      "delta     True\n",
      "dtype: bool\n"
     ]
    }
   ],
   "source": [
    "# Verifica se ci sono valori negativi in ogni colonna\n",
    "negative_values = df.select_dtypes(include=['number']).lt(0).any()\n",
    "print(\"Colonne con valori negativi:\")\n",
    "print(negative_values[negative_values])\n",
    "\n",
    "df_missing = pd.read_csv('../dataset/races.csv')\n",
    "negative_values = df_missing.select_dtypes(include=['number']).lt(0).any()\n",
    "print(\"Colonne con valori negativi:\")\n",
    "print(negative_values[negative_values])"
   ]
  },
  {
   "cell_type": "markdown",
   "metadata": {},
   "source": [
    "### Distribuzione variabili numeriche"
   ]
  },
  {
   "cell_type": "code",
   "execution_count": null,
   "metadata": {},
   "outputs": [],
   "source": [
    "numeric_columns = df.select_dtypes(include='number').columns\n",
    "for col in numeric_columns:\n",
    "    plt.figure(figsize=(8, 6))\n",
    "    sns.histplot(df[col], kde=True, bins=30)\n",
    "    plt.title(f'Distribuzione di {col}')\n",
    "    plt.show()\n"
   ]
  },
  {
   "cell_type": "markdown",
   "metadata": {},
   "source": [
    "### Distribuzione variabili categoriche"
   ]
  },
  {
   "cell_type": "code",
   "execution_count": null,
   "metadata": {},
   "outputs": [],
   "source": [
    "categorical_columns = df.select_dtypes(include='object').columns\n",
    "for col in categorical_columns:\n",
    "    plt.figure(figsize=(8, 6))\n",
    "    sns.countplot(data=df, x=col)\n",
    "    plt.title(f'Distribuzione delle categorie in {col}')\n",
    "    plt.xticks(rotation=45)\n",
    "    plt.show()"
   ]
  },
  {
   "cell_type": "markdown",
   "metadata": {},
   "source": [
    "### Normalizzazione"
   ]
  },
  {
   "cell_type": "code",
   "execution_count": null,
   "metadata": {},
   "outputs": [],
   "source": [
    "scaler = MinMaxScaler()\n",
    "numeric_columns = df.select_dtypes(include='number').columns\n",
    "normalized_df = pd.DataFrame(scaler.fit_transform(df[numeric_columns]), columns=numeric_columns)\n",
    "print(\"DataFrame Normalizzato:\")\n",
    "print(normalized_df)"
   ]
  },
  {
   "cell_type": "markdown",
   "metadata": {},
   "source": [
    "### Nuove distribuzioni"
   ]
  },
  {
   "cell_type": "code",
   "execution_count": null,
   "metadata": {},
   "outputs": [],
   "source": [
    "numeric_columns = normalized_df.select_dtypes(include='number').columns\n",
    "for col in numeric_columns:\n",
    "    plt.figure(figsize=(8, 6))\n",
    "    sns.histplot(normalized_df[col], kde=True, bins=30)\n",
    "    plt.title(f'Distribuzione di {col}')\n",
    "    plt.show()"
   ]
  },
  {
   "cell_type": "markdown",
   "metadata": {},
   "source": [
    "### Standardizzazione"
   ]
  },
  {
   "cell_type": "code",
   "execution_count": null,
   "metadata": {},
   "outputs": [],
   "source": [
    "scaler = StandardScaler()\n",
    "numeric_columns = df.select_dtypes(include='number').columns\n",
    "standardized_df = pd.DataFrame(scaler.fit_transform(df[numeric_columns]), columns=numeric_columns)\n",
    "print(\"\\nDataFrame Standardizzato:\")\n",
    "print(standardized_df)"
   ]
  },
  {
   "cell_type": "markdown",
   "metadata": {},
   "source": [
    "### Nuove distribuzioni"
   ]
  },
  {
   "cell_type": "code",
   "execution_count": null,
   "metadata": {},
   "outputs": [],
   "source": [
    "numeric_columns = standardized_df.select_dtypes(include='number').columns\n",
    "for col in numeric_columns:\n",
    "    plt.figure(figsize=(8, 6))\n",
    "    sns.histplot(standardized_df[col], kde=True, bins=30)\n",
    "    plt.title(f'Distribuzione di {col}')\n",
    "    plt.show()"
   ]
  },
  {
   "cell_type": "markdown",
   "metadata": {},
   "source": [
    "### Correlazioni tra variabili numeriche"
   ]
  },
  {
   "cell_type": "code",
   "execution_count": null,
   "metadata": {},
   "outputs": [],
   "source": [
    "plt.figure(figsize=(12, 8))\n",
    "corr_matrix = df[numeric_columns].corr()\n",
    "sns.heatmap(corr_matrix, annot=True, cmap='coolwarm')\n",
    "plt.title('Matrice di Correlazione')\n",
    "plt.show()"
   ]
  },
  {
   "cell_type": "code",
   "execution_count": null,
   "metadata": {},
   "outputs": [],
   "source": [
    "methods = ['pearson', 'spearman', 'kendall']\n",
    "for method in methods:\n",
    "    correlation_matrix = df[numeric_columns].corr(method=method)\n",
    "    \n",
    "    plt.figure(figsize=(12, 8))\n",
    "    sns.heatmap(correlation_matrix, annot=True, cmap='coolwarm', linewidths=0.5, fmt='.2f')\n",
    "    plt.title(f'Heatmap delle correlazioni ({method.capitalize()})')\n",
    "    plt.show()"
   ]
  },
  {
   "cell_type": "markdown",
   "metadata": {},
   "source": [
    "### Pair plot (relazioni tra variabili numeriche)"
   ]
  },
  {
   "cell_type": "code",
   "execution_count": null,
   "metadata": {},
   "outputs": [],
   "source": [
    "sns.pairplot(df[numeric_columns])\n",
    "plt.show()"
   ]
  },
  {
   "cell_type": "markdown",
   "metadata": {},
   "source": [
    "### Alcune relazioni fra features"
   ]
  },
  {
   "cell_type": "code",
   "execution_count": null,
   "metadata": {},
   "outputs": [],
   "source": [
    "# Relazione tra età dei ciclisti e posizioni in gara\n",
    "plt.figure(figsize=(10, 6))\n",
    "sns.scatterplot(data=df, x='cyclist_age', y='position')\n",
    "plt.title('Relazione tra età dei ciclisti e posizioni in gara')\n",
    "plt.xlabel('Età del ciclista')\n",
    "plt.ylabel('Posizione in gara')\n",
    "plt.show()"
   ]
  },
  {
   "cell_type": "code",
   "execution_count": null,
   "metadata": {},
   "outputs": [],
   "source": [
    "# Impatto del team di appartenenza sulla performance dei ciclisti\n",
    "plt.figure(figsize=(12, 8))\n",
    "sns.boxplot(data=df, x='cyclist_team', y='position')\n",
    "plt.title('Impatto del team di appartenenza sulla performance dei ciclisti')\n",
    "plt.xlabel('Team del ciclista')\n",
    "plt.ylabel('Posizione in gara')\n",
    "plt.xticks(rotation=90)\n",
    "plt.show()"
   ]
  },
  {
   "cell_type": "code",
   "execution_count": null,
   "metadata": {},
   "outputs": [],
   "source": [
    "# Impatto delle diverse superfici sui tempi di gara e posizioni finali\n",
    "surface_columns = ['is_tarmac', 'is_cobbled', 'is_gravel']\n",
    "for surface in surface_columns:\n",
    "    if surface in df.columns:\n",
    "        plt.figure(figsize=(10, 6))\n",
    "        sns.boxplot(data=df, x=surface, y='position')\n",
    "        plt.title(f'Impatto della superficie {surface} sui tempi di gara e posizioni finali')\n",
    "        plt.xlabel(surface)\n",
    "        plt.ylabel('Posizione in gara')\n",
    "        plt.show()"
   ]
  },
  {
   "cell_type": "code",
   "execution_count": null,
   "metadata": {},
   "outputs": [],
   "source": [
    "# Analisi delle Prestazioni per Età\n",
    "age_bins = [18, 25, 30, 35, 40, 50]\n",
    "df['age_group'] = pd.cut(df['cyclist_age'], bins=age_bins)\n",
    "\n",
    "plt.figure(figsize=(10, 6))\n",
    "sns.boxplot(data=df, x='age_group', y='position')\n",
    "plt.title('Prestazioni per fasce d\\'età')\n",
    "plt.xlabel('Fascia d\\'età')\n",
    "plt.ylabel('Posizione in gara')\n",
    "plt.show()\n"
   ]
  }
 ],
 "metadata": {
  "kernelspec": {
   "display_name": "Python 3",
   "language": "python",
   "name": "python3"
  },
  "language_info": {
   "codemirror_mode": {
    "name": "ipython",
    "version": 3
   },
   "file_extension": ".py",
   "mimetype": "text/x-python",
   "name": "python",
   "nbconvert_exporter": "python",
   "pygments_lexer": "ipython3",
   "version": "3.10.12"
  }
 },
 "nbformat": 4,
 "nbformat_minor": 2
}
